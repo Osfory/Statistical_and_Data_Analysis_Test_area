{
 "cells": [
  {
   "cell_type": "markdown",
   "metadata": {},
   "source": [
    "# Practical Statistics for Data Scientists (Python)\n",
    "# Chapter 1. Exploratory Data Analysis"
   ]
  },
  {
   "cell_type": "markdown",
   "metadata": {},
   "source": [
    "Import required Python packages."
   ]
  },
  {
   "cell_type": "code",
   "execution_count": 1,
   "metadata": {},
   "outputs": [
    {
     "name": "stdout",
     "output_type": "stream",
     "text": [
      "Imports Done!\n"
     ]
    }
   ],
   "source": [
    "%matplotlib inline\n",
    "\n",
    "from pathlib import Path\n",
    "\n",
    "import pandas as pd\n",
    "import numpy as np\n",
    "import scipy.stats as st\n",
    "from scipy import stats\n",
    "from statsmodels import robust\n",
    "import statsmodels.api as sm\n",
    "import statsmodels.formula.api as smf\n",
    "from statsmodels.stats import power\n",
    "import wquantiles\n",
    "\n",
    "import seaborn as sns\n",
    "import matplotlib.pylab as plt\n",
    "\n",
    "print(\"Imports Done!\")"
   ]
  },
  {
   "cell_type": "markdown",
   "metadata": {},
   "source": [
    "Define paths to data sets. If you don't keep your data in the same directory as the code, adapt the path names."
   ]
  },
  {
   "cell_type": "code",
   "execution_count": null,
   "metadata": {},
   "outputs": [],
   "source": [
    "DATA = \"~/PycharmProjects/Datasets/\"\n",
    "mtcar_path = DATA + \"mtcars.csv\"\n",
    "mtcar = pd.read_csv(mtcar_path)"
   ]
  },
  {
   "cell_type": "code",
   "execution_count": null,
   "metadata": {},
   "outputs": [],
   "source": [
    "mtcar.head()"
   ]
  },
  {
   "cell_type": "code",
   "execution_count": null,
   "metadata": {},
   "outputs": [],
   "source": [
    "mtcar.shape"
   ]
  },
  {
   "cell_type": "code",
   "execution_count": null,
   "metadata": {},
   "outputs": [],
   "source": [
    "mtcar.describe()"
   ]
  },
  {
   "cell_type": "code",
   "execution_count": null,
   "metadata": {},
   "outputs": [],
   "source": [
    "mtcar_df = mtcar.copy()"
   ]
  },
  {
   "cell_type": "code",
   "execution_count": null,
   "metadata": {},
   "outputs": [],
   "source": [
    "mtcar_df = mtcar_df.rename(columns={\"Unnamed: 0\" : \"Car Model\"})"
   ]
  },
  {
   "cell_type": "code",
   "execution_count": null,
   "metadata": {},
   "outputs": [],
   "source": [
    "mtcar_df[\"vs\"] = mtcar_df[\"vs\"].replace({0 : \"V\", 1 : \"S\"})"
   ]
  },
  {
   "cell_type": "code",
   "execution_count": null,
   "metadata": {},
   "outputs": [],
   "source": [
    "mtcar_df[\"am\"] = mtcar_df[\"am\"].replace({0 : \"Auto\", 1 : \"Manual\"})"
   ]
  },
  {
   "cell_type": "code",
   "execution_count": null,
   "metadata": {},
   "outputs": [],
   "source": [
    "result = mtcar_df[\"qsec\"][(mtcar_df[\"cyl\"] != 3) & (mtcar_df[\"mpg\"] > 20)].mean()\n",
    "result"
   ]
  },
  {
   "cell_type": "code",
   "execution_count": null,
   "metadata": {},
   "outputs": [],
   "source": [
    "mtcar_df.groupby([\"vs\", \"am\"]).agg({\"hp\" : \"mean\"})"
   ]
  },
  {
   "cell_type": "code",
   "execution_count": null,
   "metadata": {},
   "outputs": [],
   "source": [
    "mtcar_df.groupby(\"am\").agg(\"median\")"
   ]
  },
  {
   "cell_type": "code",
   "execution_count": null,
   "metadata": {},
   "outputs": [],
   "source": [
    "mtcar_df.groupby(\"am\").agg(\"median\")"
   ]
  },
  {
   "cell_type": "code",
   "execution_count": null,
   "metadata": {},
   "outputs": [],
   "source": [
    "mtcar_df.groupby([\"am\", \"vs\"]).agg(\"std\").iloc[:,[0,2]]"
   ]
  },
  {
   "cell_type": "code",
   "execution_count": null,
   "metadata": {},
   "outputs": [],
   "source": [
    "my_stats = mtcar_df.groupby([\"am\", \"vs\"]).agg(\"std\").iloc[:,[0,2]]"
   ]
  },
  {
   "cell_type": "code",
   "execution_count": null,
   "metadata": {},
   "outputs": [],
   "source": [
    "descriptions_stat = mtcar_df.groupby([\"am\"]).agg(\"std\").loc[:, [\"hp\", \"disp\"]]\n",
    "descriptions_stat"
   ]
  },
  {
   "cell_type": "code",
   "execution_count": null,
   "metadata": {},
   "outputs": [],
   "source": [
    "round(mtcar_df.groupby([\"am\", \"vs\"]).agg({\"qsec\" : [\"count\", \"min\", \"max\", \"mean\", \"std\", \"sem\"]}), 2)"
   ]
  },
  {
   "cell_type": "code",
   "execution_count": null,
   "metadata": {},
   "outputs": [],
   "source": [
    "mtcar_df.isna().sum()"
   ]
  },
  {
   "cell_type": "markdown",
   "metadata": {},
   "source": [
    "Dealing with NA "
   ]
  },
  {
   "cell_type": "code",
   "execution_count": null,
   "metadata": {},
   "outputs": [],
   "source": [
    "# mtcar_df.head(15)"
   ]
  },
  {
   "cell_type": "code",
   "execution_count": null,
   "metadata": {},
   "outputs": [],
   "source": [
    "# mtcar_df[\"mpg\"].mean()"
   ]
  },
  {
   "cell_type": "code",
   "execution_count": null,
   "metadata": {},
   "outputs": [],
   "source": [
    "# mtcar_df[\"mpg\"].iloc[1:10] = None"
   ]
  },
  {
   "cell_type": "code",
   "execution_count": null,
   "metadata": {},
   "outputs": [],
   "source": [
    "# mtcar_df.head(15)"
   ]
  },
  {
   "cell_type": "code",
   "execution_count": null,
   "metadata": {},
   "outputs": [],
   "source": [
    "# mtcar_df[\"mpg\"].mean()"
   ]
  },
  {
   "cell_type": "code",
   "execution_count": null,
   "metadata": {},
   "outputs": [],
   "source": [
    "sns.histplot(mtcar_df[\"mpg\"])"
   ]
  },
  {
   "cell_type": "code",
   "execution_count": null,
   "metadata": {},
   "outputs": [],
   "source": [
    "ax = sns.boxplot(x=\"am\", y=\"mpg\", data=mtcar_df)"
   ]
  },
  {
   "cell_type": "code",
   "execution_count": null,
   "metadata": {},
   "outputs": [],
   "source": [
    "sns.scatterplot(data=mtcar_df, x=\"mpg\", y=\"hp\", hue=\"vs\", size= \"qsec\")"
   ]
  },
  {
   "cell_type": "code",
   "execution_count": null,
   "metadata": {},
   "outputs": [],
   "source": [
    "sns.scatterplot(data=mtcar_df, x=\"mpg\", y=\"disp\", hue=\"hp\")"
   ]
  },
  {
   "cell_type": "code",
   "execution_count": null,
   "metadata": {},
   "outputs": [],
   "source": [
    "sns.displot(data=mtcar_df, x=\"mpg\", hue=\"am\", kde=True)"
   ]
  },
  {
   "cell_type": "code",
   "execution_count": null,
   "metadata": {},
   "outputs": [],
   "source": [
    "mtcar_df.head()"
   ]
  },
  {
   "cell_type": "code",
   "execution_count": null,
   "metadata": {},
   "outputs": [],
   "source": [
    "d = mtcar_df.groupby([\"vs\", \"am\"])[\"am\"].count().unstack()\n",
    "d"
   ]
  },
  {
   "cell_type": "code",
   "execution_count": null,
   "metadata": {},
   "outputs": [],
   "source": [
    "p_value = st.fisher_exact(d)[1]"
   ]
  },
  {
   "cell_type": "markdown",
   "metadata": {},
   "source": [
    "### NEW DATASET"
   ]
  },
  {
   "cell_type": "code",
   "execution_count": 2,
   "metadata": {},
   "outputs": [
    {
     "data": {
      "text/html": [
       "<div>\n",
       "<style scoped>\n",
       "    .dataframe tbody tr th:only-of-type {\n",
       "        vertical-align: middle;\n",
       "    }\n",
       "\n",
       "    .dataframe tbody tr th {\n",
       "        vertical-align: top;\n",
       "    }\n",
       "\n",
       "    .dataframe thead th {\n",
       "        text-align: right;\n",
       "    }\n",
       "</style>\n",
       "<table border=\"1\" class=\"dataframe\">\n",
       "  <thead>\n",
       "    <tr style=\"text-align: right;\">\n",
       "      <th></th>\n",
       "      <th>V1</th>\n",
       "      <th>V2</th>\n",
       "      <th>V3</th>\n",
       "    </tr>\n",
       "  </thead>\n",
       "  <tbody>\n",
       "    <tr>\n",
       "      <th>0</th>\n",
       "      <td>C</td>\n",
       "      <td>A</td>\n",
       "      <td>C</td>\n",
       "    </tr>\n",
       "    <tr>\n",
       "      <th>1</th>\n",
       "      <td>G</td>\n",
       "      <td>G</td>\n",
       "      <td>A</td>\n",
       "    </tr>\n",
       "    <tr>\n",
       "      <th>2</th>\n",
       "      <td>C</td>\n",
       "      <td>C</td>\n",
       "      <td>C</td>\n",
       "    </tr>\n",
       "    <tr>\n",
       "      <th>3</th>\n",
       "      <td>T</td>\n",
       "      <td>T</td>\n",
       "      <td>A</td>\n",
       "    </tr>\n",
       "    <tr>\n",
       "      <th>4</th>\n",
       "      <td>G</td>\n",
       "      <td>T</td>\n",
       "      <td>A</td>\n",
       "    </tr>\n",
       "  </tbody>\n",
       "</table>\n",
       "</div>"
      ],
      "text/plain": [
       "  V1 V2 V3\n",
       "0  C  A  C\n",
       "1  G  G  A\n",
       "2  C  C  C\n",
       "3  T  T  A\n",
       "4  G  T  A"
      ]
     },
     "execution_count": 2,
     "metadata": {},
     "output_type": "execute_result"
    }
   ],
   "source": [
    "nucleotides = pd.read_csv(\"https://stepic.org/media/attachments/course/524/test_data.csv\")\n",
    "nucleotides.head()"
   ]
  },
  {
   "cell_type": "code",
   "execution_count": 3,
   "metadata": {},
   "outputs": [
    {
     "data": {
      "text/html": [
       "<div>\n",
       "<style scoped>\n",
       "    .dataframe tbody tr th:only-of-type {\n",
       "        vertical-align: middle;\n",
       "    }\n",
       "\n",
       "    .dataframe tbody tr th {\n",
       "        vertical-align: top;\n",
       "    }\n",
       "\n",
       "    .dataframe thead th {\n",
       "        text-align: right;\n",
       "    }\n",
       "</style>\n",
       "<table border=\"1\" class=\"dataframe\">\n",
       "  <thead>\n",
       "    <tr style=\"text-align: right;\">\n",
       "      <th></th>\n",
       "      <th>V1</th>\n",
       "      <th>V2</th>\n",
       "      <th>V3</th>\n",
       "    </tr>\n",
       "  </thead>\n",
       "  <tbody>\n",
       "    <tr>\n",
       "      <th>count</th>\n",
       "      <td>30</td>\n",
       "      <td>30</td>\n",
       "      <td>30</td>\n",
       "    </tr>\n",
       "    <tr>\n",
       "      <th>unique</th>\n",
       "      <td>4</td>\n",
       "      <td>4</td>\n",
       "      <td>4</td>\n",
       "    </tr>\n",
       "    <tr>\n",
       "      <th>top</th>\n",
       "      <td>G</td>\n",
       "      <td>G</td>\n",
       "      <td>A</td>\n",
       "    </tr>\n",
       "    <tr>\n",
       "      <th>freq</th>\n",
       "      <td>10</td>\n",
       "      <td>10</td>\n",
       "      <td>11</td>\n",
       "    </tr>\n",
       "  </tbody>\n",
       "</table>\n",
       "</div>"
      ],
      "text/plain": [
       "        V1  V2  V3\n",
       "count   30  30  30\n",
       "unique   4   4   4\n",
       "top      G   G   A\n",
       "freq    10  10  11"
      ]
     },
     "execution_count": 3,
     "metadata": {},
     "output_type": "execute_result"
    }
   ],
   "source": [
    "nucleotides.describe()"
   ]
  },
  {
   "cell_type": "code",
   "execution_count": 4,
   "metadata": {},
   "outputs": [
    {
     "data": {
      "text/plain": [
       "[G    10\n",
       " T     7\n",
       " C     7\n",
       " A     6\n",
       " Name: V1, dtype: int64,\n",
       " G    10\n",
       " C     9\n",
       " A     6\n",
       " T     5\n",
       " Name: V2, dtype: int64,\n",
       " A    11\n",
       " T     9\n",
       " G     6\n",
       " C     4\n",
       " Name: V3, dtype: int64]"
      ]
     },
     "execution_count": 4,
     "metadata": {},
     "output_type": "execute_result"
    }
   ],
   "source": [
    "v1_vc = nucleotides[\"V1\"].value_counts()\n",
    "v2_vc = nucleotides[\"V2\"].value_counts()\n",
    "v3_vc = nucleotides[\"V3\"].value_counts()\n",
    "[v1_vc, v2_vc, v3_vc]"
   ]
  },
  {
   "cell_type": "code",
   "execution_count": null,
   "metadata": {},
   "outputs": [],
   "source": []
  },
  {
   "cell_type": "code",
   "execution_count": 12,
   "metadata": {},
   "outputs": [
    {
     "data": {
      "text/plain": [
       "Power_divergenceResult(statistic=1.2, pvalue=0.753004311656458)"
      ]
     },
     "execution_count": 12,
     "metadata": {},
     "output_type": "execute_result"
    }
   ],
   "source": [
    "st.chisquare(v1_vc)"
   ]
  },
  {
   "cell_type": "code",
   "execution_count": null,
   "metadata": {},
   "outputs": [],
   "source": []
  },
  {
   "cell_type": "code",
   "execution_count": null,
   "metadata": {},
   "outputs": [],
   "source": []
  },
  {
   "cell_type": "code",
   "execution_count": null,
   "metadata": {},
   "outputs": [],
   "source": []
  },
  {
   "cell_type": "code",
   "execution_count": null,
   "metadata": {},
   "outputs": [],
   "source": []
  },
  {
   "cell_type": "code",
   "execution_count": null,
   "metadata": {},
   "outputs": [],
   "source": []
  },
  {
   "cell_type": "code",
   "execution_count": null,
   "metadata": {},
   "outputs": [],
   "source": [
    "# import pandas as pd\n",
    "# import scipy.stats as st\n",
    "\n",
    "# def smart_test(x: pd.DataFrame) -> list: \n",
    "#     \"\"\" Performing a Fisher exact test on input contingency table \n",
    "#         if at least one cell contains less than 5 observations. \n",
    "#         Else performing a one-way Chi-square test.\n",
    "    \n",
    "#     Parameters\n",
    "#     ----------\n",
    "#     x: pd.DataFrame\n",
    "#         Input pd.DataFrame with some numeric data.\n",
    "    \n",
    "#     Returns\n",
    "#     -------\n",
    "#         Returns p-value if performing a Fisher exact test. \n",
    "#         If performing a one-way chi-square test returns:\n",
    "#         chi-square test statistic, p-value of the test and degrees of freedom.\n",
    "#     \"\"\"\n",
    "\n",
    "#     return st.fisher_exact(x)[1] if (x < 5).any().any() else [*st.chi2_contingency(x)[0:3]]\n",
    "\n",
    "# # Примеры датафреймов для проведения тестов:\n",
    "# df_1 = pd.DataFrame([[12, 7], [6, 7]])\n",
    "# df_2 = pd.DataFrame([[8, 6], [2, 4]])\n",
    "\n",
    "# # Пример запуска функции с тестовым датафреймом:\n",
    "# smart_test(df_1)"
   ]
  },
  {
   "cell_type": "code",
   "execution_count": null,
   "metadata": {},
   "outputs": [],
   "source": [
    "# pd.pivot_table(data=df_1, columns=df_1.columns)"
   ]
  },
  {
   "cell_type": "code",
   "execution_count": null,
   "metadata": {},
   "outputs": [],
   "source": [
    "# Пытки-попытки!\n",
    "# df_3 = pd.DataFrame([[1, 1, 1, 0, 0, 0, 0, 0, 0, 0, 0, 0, 0, 0, 0, 0, 0, 1, 1, 1, 0, 0, 0, 0, 0, 1, 1, 1, 1, 1, 1, 1], \n",
    "#                      [0, 0, 1, 1, 0, 1, 0, 1, 1, 1, 1, 0, 0, 0, 0, 0, 0, 1, 1, 1, 1, 0, 0, 0, 0, 1, 0, 1, 0, 0, 0, 1]]).T\n",
    "\n",
    "# # df_3\n",
    "# pd.pivot_table(data=df_3, values=df_3.columns)"
   ]
  },
  {
   "cell_type": "code",
   "execution_count": null,
   "metadata": {},
   "outputs": [],
   "source": [
    "# # Примеры датафреймов для проведения тестов:\n",
    "# df_1 = pd.DataFrame([[12, 7], [6, 7]])\n",
    "# df_2 = pd.DataFrame([[8, 6], [2, 4]])\n",
    "\n",
    "# # Пример запуска функции с тестовым датафреймом:\n",
    "# smart_test(df_1)"
   ]
  },
  {
   "cell_type": "code",
   "execution_count": null,
   "metadata": {},
   "outputs": [],
   "source": [
    "# help(smart_test)"
   ]
  },
  {
   "cell_type": "code",
   "execution_count": null,
   "metadata": {},
   "outputs": [],
   "source": [
    "# Предполагается, что Вы уже скачали необходимый датасет и знаете путь до него\n",
    "# import pandas as pd\n",
    "# import scipy.stats\n",
    "\n",
    "# mtcar_path = PATH_TO_DATA + \"mtcars.csv\"\n",
    "# mtcar = pd.read_csv(mtcar_path)\n",
    "# d = mtcar.groupby([\"vs\", \"am\"])[\"am\"].count().unstack()\n",
    "# p_value = scipy.stats.fisher_exact(d)[1]"
   ]
  },
  {
   "cell_type": "code",
   "execution_count": null,
   "metadata": {},
   "outputs": [],
   "source": []
  },
  {
   "cell_type": "markdown",
   "metadata": {},
   "source": [
    "### NEW DATASET "
   ]
  },
  {
   "cell_type": "code",
   "execution_count": null,
   "metadata": {},
   "outputs": [],
   "source": [
    "DATA = \"~/PycharmProjects/Datasets/\"\n",
    "airquality_path = DATA + \"airquality.csv\"\n",
    "airquality = pd.read_csv(airquality_path)"
   ]
  },
  {
   "cell_type": "code",
   "execution_count": null,
   "metadata": {},
   "outputs": [],
   "source": [
    "airquality = airquality.drop(\"Unnamed: 0\", axis=1)"
   ]
  },
  {
   "cell_type": "code",
   "execution_count": null,
   "metadata": {},
   "outputs": [],
   "source": [
    "airquality.head(10)"
   ]
  },
  {
   "cell_type": "code",
   "execution_count": null,
   "metadata": {},
   "outputs": [],
   "source": [
    "airquality_df = airquality.copy()"
   ]
  },
  {
   "cell_type": "code",
   "execution_count": null,
   "metadata": {},
   "outputs": [],
   "source": [
    "airquality_df.loc[airquality_df.Month >= 7]\n",
    "# ИЛИ\n",
    "airquality_df.query(\"Month >= 7\")"
   ]
  },
  {
   "cell_type": "code",
   "execution_count": null,
   "metadata": {},
   "outputs": [],
   "source": [
    "aq_ss = airquality_df.query(\"Month >= 7\")"
   ]
  },
  {
   "cell_type": "code",
   "execution_count": null,
   "metadata": {},
   "outputs": [],
   "source": [
    "aq_ss.groupby(\"Month\").agg({\"Ozone\" : \"count\"})\n",
    "# ИЛИ \n",
    "# airquality_df.query(\"Month >= 7\").groupby(\"Month\").agg({\"Ozone\" : \"count\"})"
   ]
  },
  {
   "cell_type": "code",
   "execution_count": null,
   "metadata": {},
   "outputs": [],
   "source": [
    "sns.boxplot(x=\"Month\", y=\"Ozone\", data=airquality_df)"
   ]
  },
  {
   "cell_type": "markdown",
   "metadata": {},
   "source": [
    "### NEW DATASET"
   ]
  },
  {
   "cell_type": "code",
   "execution_count": null,
   "metadata": {},
   "outputs": [],
   "source": [
    "DATA = \"~/PycharmProjects/Datasets/\"\n",
    "iris_path = DATA + \"iris.csv\"\n",
    "iris = pd.read_csv(iris_path, index_col=0)"
   ]
  },
  {
   "cell_type": "code",
   "execution_count": null,
   "metadata": {},
   "outputs": [],
   "source": [
    "iris.head(10)"
   ]
  },
  {
   "cell_type": "code",
   "execution_count": null,
   "metadata": {},
   "outputs": [],
   "source": [
    "iris.describe()"
   ]
  },
  {
   "cell_type": "code",
   "execution_count": null,
   "metadata": {},
   "outputs": [],
   "source": [
    "iris.agg(\"std\")"
   ]
  },
  {
   "cell_type": "code",
   "execution_count": null,
   "metadata": {},
   "outputs": [],
   "source": [
    "iris[iris.Species == \"virginica\"].median().sort_values(ascending=False)"
   ]
  },
  {
   "cell_type": "code",
   "execution_count": null,
   "metadata": {},
   "outputs": [],
   "source": [
    "sns.displot(data=iris, x=\"Sepal.Length\", hue=\"Species\", multiple=\"stack\")"
   ]
  },
  {
   "cell_type": "code",
   "execution_count": null,
   "metadata": {},
   "outputs": [],
   "source": [
    "iris_df = iris[iris.Species != \"setosa\"]"
   ]
  },
  {
   "cell_type": "code",
   "execution_count": null,
   "metadata": {},
   "outputs": [],
   "source": [
    "sns.histplot(iris_df, x=\"Sepal.Length\", kde=True, hue=\"Species\")"
   ]
  },
  {
   "cell_type": "code",
   "execution_count": null,
   "metadata": {},
   "outputs": [],
   "source": [
    "g = sns.FacetGrid(iris_df, col=\"Species\")\n",
    "g.map(sns.histplot, \"Sepal.Length\", kde=True, bins=5)\n",
    "g.add_legend()"
   ]
  },
  {
   "cell_type": "markdown",
   "metadata": {},
   "source": [
    "https://seaborn.pydata.org/generated/seaborn.FacetGrid.html#seaborn.FacetGrid - IMBA"
   ]
  },
  {
   "cell_type": "code",
   "execution_count": null,
   "metadata": {},
   "outputs": [],
   "source": [
    "sns.histplot(iris_df, x=\"Sepal.Length\", hue=\"Species\", element=\"poly\") "
   ]
  },
  {
   "cell_type": "code",
   "execution_count": null,
   "metadata": {},
   "outputs": [],
   "source": [
    "sns.displot(iris_df, x=\"Sepal.Length\", hue=\"Species\", kind=\"kde\")"
   ]
  },
  {
   "cell_type": "code",
   "execution_count": null,
   "metadata": {},
   "outputs": [],
   "source": [
    "sns.kdeplot(data=iris_df, x=\"Sepal.Length\", hue=\"Species\", fill=True, common_norm=False, alpha=.5, linewidth=1)"
   ]
  },
  {
   "cell_type": "code",
   "execution_count": null,
   "metadata": {},
   "outputs": [],
   "source": [
    "sns.set_theme(style=\"darkgrid\")\n",
    "sns.boxplot(y=\"Sepal.Length\", x=\"Species\", data=iris_df)"
   ]
  },
  {
   "cell_type": "code",
   "execution_count": null,
   "metadata": {},
   "outputs": [],
   "source": [
    "# Perform the Shapiro-Wilk test for normality.\n",
    "shapiro_test = stats.shapiro(iris_df[\"Sepal.Length\"])\n",
    "shapiro_test"
   ]
  },
  {
   "cell_type": "code",
   "execution_count": null,
   "metadata": {},
   "outputs": [],
   "source": [
    "shapiro_test_1 = stats.shapiro(iris_df[iris_df.Species == \"versicolor\"][\"Sepal.Length\"])\n",
    "shapiro_test_2 = stats.shapiro(iris_df[iris_df.Species == \"virginica\"][\"Sepal.Length\"])\n",
    "[shapiro_test_1, shapiro_test_2]"
   ]
  },
  {
   "cell_type": "code",
   "execution_count": null,
   "metadata": {},
   "outputs": [],
   "source": [
    "# Perform Bartlett’s test for equal variances.\n",
    "# Гомогенность дисперсии проверяем, короче.\n",
    "stat, p = st.bartlett(iris_df[iris_df.Species == \"virginica\"][\"Sepal.Length\"], \n",
    "                               iris_df[iris_df.Species == \"versicolor\"][\"Sepal.Length\"])\n",
    "print(\"The test statistic is {}. \\nThe p-value of the test is {}.\".format(stat, p))"
   ]
  },
  {
   "cell_type": "code",
   "execution_count": null,
   "metadata": {},
   "outputs": [],
   "source": [
    "# Calculate the T-test for the means of two independent samples of scores.\n",
    "t_test = st.ttest_ind(iris_df[iris_df.Species == \"virginica\"][\"Sepal.Length\"], \n",
    "                               iris_df[iris_df.Species == \"versicolor\"][\"Sepal.Length\"]) #, equal_var=True\n",
    "t_test"
   ]
  },
  {
   "cell_type": "code",
   "execution_count": null,
   "metadata": {},
   "outputs": [],
   "source": [
    "# Проверяем гипотезу о том, что среднее значение длины чашелистика в генеральной совокупности (датасете) равно 8.\n",
    "# Для этого используем одновыборочный Т-тест. \n",
    "t_test = st.ttest_1samp(iris_df[\"Sepal.Length\"], 8) \n",
    "t_test"
   ]
  },
  {
   "cell_type": "markdown",
   "metadata": {},
   "source": [
    "Как и следовало ожидать - нет, среднее значение \"Sepal.Length\" не равно 8."
   ]
  },
  {
   "cell_type": "code",
   "execution_count": null,
   "metadata": {},
   "outputs": [],
   "source": [
    "import numpy as np\n",
    "import scipy.stats\n",
    "\n",
    "# Самописная фукнция с просторов интернета, которая вычисляет доверительный интервал. Полезно!\n",
    "def mean_confidence_interval(data, confidence=0.95):\n",
    "    a = 1.0 * np.array(data)\n",
    "    n = len(a)\n",
    "    m, se = np.mean(a), scipy.stats.sem(a)\n",
    "    h = se * scipy.stats.t.ppf((1 + confidence) / 2., n-1)\n",
    "    return m, m-h, m+h"
   ]
  },
  {
   "cell_type": "code",
   "execution_count": null,
   "metadata": {},
   "outputs": [],
   "source": [
    "mean_confidence_interval(iris_df[\"Sepal.Length\"])"
   ]
  },
  {
   "cell_type": "code",
   "execution_count": null,
   "metadata": {},
   "outputs": [],
   "source": [
    "# Расчёт доверительных интервалов\n",
    "import numpy as np, scipy.stats as st\n",
    "\n",
    "a = iris_df[iris_df.Species == \"versicolor\"][\"Sepal.Length\"]\n",
    "b = iris_df[iris_df.Species == \"virginica\"][\"Sepal.Length\"]\n",
    "\n",
    "print(st.t.interval(0.95, len(a)-1, loc=np.mean(a), scale=st.sem(a)),\n",
    "      st.t.interval(0.95, len(b)-1, loc=np.mean(b), scale=st.sem(b)))\n",
    "# https://docs.scipy.org/doc/scipy/reference/generated/scipy.stats.t.html?highlight=scipy%20stats%20t#scipy.stats.t"
   ]
  },
  {
   "cell_type": "code",
   "execution_count": null,
   "metadata": {},
   "outputs": [],
   "source": [
    "print(mean_confidence_interval(a),\n",
    "      mean_confidence_interval(b))"
   ]
  },
  {
   "cell_type": "markdown",
   "metadata": {},
   "source": [
    "Вывод - самописная функция повторяет метод .interval из библиотеки scipy.\n",
    "\n",
    "Отлично!"
   ]
  },
  {
   "cell_type": "code",
   "execution_count": null,
   "metadata": {},
   "outputs": [],
   "source": [
    "print(a.quantile([0.05, 0.95]), \"\\n\\n\",\n",
    "      b.quantile([0.05, 0.95]))\n",
    "print(\"\\n\\n\")\n",
    "print(iris_df[\"Sepal.Length\"].quantile([0.05, 0.95]))"
   ]
  },
  {
   "cell_type": "markdown",
   "metadata": {},
   "source": [
    "Итого - метод квантиль какой-то странный. Что-то тут не так, очевидно. Лучше его не использовать. \n",
    "\n",
    "Надо бы разобраться, почему такая разница."
   ]
  },
  {
   "cell_type": "code",
   "execution_count": null,
   "metadata": {},
   "outputs": [],
   "source": [
    "fig, ax = plt.subplots(figsize=(4, 4))\n",
    "\n",
    "stats.probplot(iris_df[\"Sepal.Length\"], plot=ax)\n",
    "\n",
    "plt.tight_layout()\n",
    "plt.show()"
   ]
  },
  {
   "cell_type": "code",
   "execution_count": null,
   "metadata": {},
   "outputs": [],
   "source": [
    "# Парный Т-тест\n",
    "pt_test = scipy.stats.ttest_rel(iris_df[\"Sepal.Length\"], iris_df[\"Sepal.Width\"])\n",
    "pt_test"
   ]
  },
  {
   "cell_type": "markdown",
   "metadata": {},
   "source": [
    "Для визуализации \"планок погрешностей\" можно использовать:\n",
    "\n",
    "- matplotlib, а именно matplotlib.pyplot.errorbar: https://matplotlib.org/3.1.1/api/_as_gen/matplotlib.pyplot.errorbar.html\n",
    "\n",
    "- seaborn.pointplot: https://seaborn.pydata.org/generated/seaborn.pointplot.html"
   ]
  },
  {
   "cell_type": "code",
   "execution_count": null,
   "metadata": {},
   "outputs": [],
   "source": [
    "iris_df.Species.unique()"
   ]
  },
  {
   "cell_type": "code",
   "execution_count": null,
   "metadata": {},
   "outputs": [],
   "source": [
    "a = iris_df[iris_df.Species == \"versicolor\"][\"Sepal.Length\"].mean()\n",
    "a"
   ]
  },
  {
   "cell_type": "code",
   "execution_count": null,
   "metadata": {},
   "outputs": [],
   "source": [
    "# Хехе, получилось!\n",
    "a_origin = iris_df[iris_df.Species == \"versicolor\"][\"Sepal.Length\"]\n",
    "a = iris_df[iris_df.Species == \"versicolor\"][\"Sepal.Length\"].mean()\n",
    "b_origin = iris_df[iris_df.Species == \"virginica\"][\"Sepal.Length\"]\n",
    "b = iris_df[iris_df.Species == \"virginica\"][\"Sepal.Length\"].mean()\n",
    "\n",
    "plt.errorbar(x=iris_df.Species.unique(), y=[a, b], \n",
    "             yerr=[a-st.t.interval(0.95, len(a_origin)-1, loc=np.mean(a_origin), scale=st.sem(a_origin)), \n",
    "                  b-st.t.interval(0.95, len(b_origin)-1, loc=np.mean(b_origin), scale=st.sem(b_origin))],\n",
    "             data=iris_df, fmt=\"o\", markersize=8, capsize=10) # fmt=\"-o\", \"--o\", \".k\""
   ]
  },
  {
   "cell_type": "code",
   "execution_count": null,
   "metadata": {},
   "outputs": [],
   "source": [
    "sns.set_theme(style=\"darkgrid\")\n",
    "ax = sns.pointplot(x=\"Species\", y=\"Sepal.Length\", data=iris_df, join=False, capsize=.1)"
   ]
  },
  {
   "cell_type": "code",
   "execution_count": null,
   "metadata": {},
   "outputs": [],
   "source": [
    "# Непараметрический тест на нормальность (Манна-Уитни), в англоязычной литературе - Уилкоксона\n",
    "wtest = scipy.stats.wilcoxon(iris_df[iris_df.Species == \"virginica\"][\"Sepal.Length\"], \n",
    "                            iris_df[iris_df.Species == \"versicolor\"][\"Sepal.Length\"])\n",
    "print(wtest)\n",
    "mw_test = scipy.stats.mannwhitneyu(iris_df[iris_df.Species == \"virginica\"][\"Sepal.Length\"], \n",
    "                                   iris_df[iris_df.Species == \"versicolor\"][\"Sepal.Length\"])\n",
    "print(mw_test)\n",
    "# Получается, что реализации этих тестов различаются в R и Python. Подробности по ссылке:\n",
    "# https://stackoverflow.com/questions/33579785/difference-between-wilcoxon-test-in-r-and-python\n",
    "# Вывод - Можно использовать и Python, но если p-value различаются, то лучше полагаться на R.\n",
    "# Однако, немаловажно отметить, что тест Бартлетта и Т-тест совпадают. "
   ]
  },
  {
   "cell_type": "code",
   "execution_count": null,
   "metadata": {},
   "outputs": [],
   "source": [
    "model_iris = smf.ols('iris[\"Sepal.Width\"] ~ Species', data=iris).fit()\n",
    "model_iris.summary() if str(input()) == \"1\" else print(model_iris.summary())"
   ]
  },
  {
   "cell_type": "code",
   "execution_count": null,
   "metadata": {},
   "outputs": [],
   "source": [
    "aov_table_iris = sm.stats.anova_lm(model_iris)\n",
    "aov_table_iris"
   ]
  },
  {
   "cell_type": "code",
   "execution_count": null,
   "metadata": {},
   "outputs": [],
   "source": [
    "tukey_test_result_iris = sm.stats.multicomp.pairwise_tukeyhsd(endog=iris[\"Sepal.Width\"], groups=iris[\"Species\"])\n",
    "print(tukey_test_result_iris)"
   ]
  },
  {
   "cell_type": "code",
   "execution_count": null,
   "metadata": {},
   "outputs": [],
   "source": []
  },
  {
   "cell_type": "code",
   "execution_count": null,
   "metadata": {},
   "outputs": [],
   "source": []
  },
  {
   "cell_type": "code",
   "execution_count": null,
   "metadata": {},
   "outputs": [],
   "source": []
  },
  {
   "cell_type": "code",
   "execution_count": null,
   "metadata": {},
   "outputs": [],
   "source": [
    "# import seaborn as sns\n",
    "# import statsmodels.api as sm\n",
    "\n",
    "# iris = sns.load_dataset(\"iris\")\n",
    "# tukey_test_result_iris = sm.stats.multicomp.pairwise_tukeyhsd(endog=iris.sepal_width, groups=iris.species)\n",
    "# print(tukey_test_result_iris)"
   ]
  },
  {
   "cell_type": "code",
   "execution_count": null,
   "metadata": {},
   "outputs": [],
   "source": [
    "# DATA =  \"~/Downloads/\"\n",
    "# path = DATA + \"dataset_11504_15 (1).txt\"\n",
    "# df = pd.read_csv(path, sep=\" \", header=None)\n",
    "# df.columns = [\"V1\", \"V2\"]\n",
    "# df.head()"
   ]
  },
  {
   "cell_type": "code",
   "execution_count": null,
   "metadata": {},
   "outputs": [],
   "source": [
    "# stat, p = scipy.stats.bartlett(df[df.V2 == 1][\"V1\"], \n",
    "#                                df[df.V2 == 2][\"V1\"])\n",
    "# print(\"The test statistic is {}. \\nThe p-value of the test is {}.\".format(stat, p))"
   ]
  },
  {
   "cell_type": "code",
   "execution_count": null,
   "metadata": {},
   "outputs": [],
   "source": [
    "# wtest = scipy.stats.wilcoxon(df[df.V2 == 1][\"V1\"], \n",
    "#                              df[df.V2 == 2][\"V1\"], mode='approx')\n",
    "# wtest"
   ]
  },
  {
   "cell_type": "code",
   "execution_count": null,
   "metadata": {},
   "outputs": [],
   "source": [
    "# scipy.stats.wilcoxon(df[df.V2 == 1][\"V1\"], df[df.V2 == 2][\"V1\"])[1]"
   ]
  },
  {
   "cell_type": "code",
   "execution_count": null,
   "metadata": {},
   "outputs": [],
   "source": [
    "# # Предполагается, что Вы уже скачали необходимый датасет и знаете путь до него\n",
    "# import pandas as pd\n",
    "# import scipy.stats\n",
    "\n",
    "# DATA =  \"~/Downloads/\"\n",
    "# path = DATA + \"dataset_11504_15.txt\"\n",
    "# df = pd.read_csv(path, sep=\" \", header=None)\n",
    "# df.columns = [\"V1\", \"V2\"]\n",
    "# print(scipy.stats.wilcoxon(df[df.V2 == 1][\"V1\"], df[df.V2 == 2][\"V1\"])[1]) if (scipy.stats.bartlett(df[df.V2 == 1][\"V1\"], df[df.V2 == 2][\"V1\"])[1] < 0.05) else print(scipy.stats.ttest_ind(df[df.V2 == 1][\"V1\"], df[df.V2 == 2][\"V1\"])[1])"
   ]
  },
  {
   "cell_type": "code",
   "execution_count": null,
   "metadata": {},
   "outputs": [],
   "source": [
    "# # Предполагается, что Вы уже скачали необходимый датасет и знаете путь до него\n",
    "# import pandas as pd\n",
    "# import scipy.stats\n",
    "\n",
    "# DATA =  \"~/Downloads/\"\n",
    "# path = DATA + \"dataset_11504_16.txt\"\n",
    "# df = pd.read_csv(path, sep=\" \", header=None)\n",
    "# df.columns = [\"V1\", \"V2\"]\n",
    "# print(\"{} {} {}\".format(df.V1.mean(),df.V2.mean(),scipy.stats.ttest_ind(df.V1, df.V2)[1])) if (scipy.stats.ttest_ind(df.V1, df.V2)[1] < 0.05) else print(\"The difference is not significant\")"
   ]
  },
  {
   "cell_type": "markdown",
   "metadata": {},
   "source": [
    "### NEW DATASET"
   ]
  },
  {
   "cell_type": "code",
   "execution_count": null,
   "metadata": {},
   "outputs": [],
   "source": [
    "DATA = \"~/PycharmProjects/Datasets/\"\n",
    "tooth_path = DATA + \"ToothGrowth.csv\"\n",
    "toothgrowth = pd.read_csv(tooth_path, index_col=0)"
   ]
  },
  {
   "cell_type": "code",
   "execution_count": null,
   "metadata": {},
   "outputs": [],
   "source": [
    "toothgrowth.head(10)"
   ]
  },
  {
   "cell_type": "code",
   "execution_count": null,
   "metadata": {},
   "outputs": [],
   "source": [
    "toothgrowth.shape"
   ]
  },
  {
   "cell_type": "code",
   "execution_count": null,
   "metadata": {},
   "outputs": [],
   "source": [
    "toothgrowth.describe()"
   ]
  },
  {
   "cell_type": "code",
   "execution_count": null,
   "metadata": {},
   "outputs": [],
   "source": [
    "subset_oj = toothgrowth[(toothgrowth.supp == \"OJ\") & (toothgrowth.dose == 0.5)]\n",
    "subset_vc = toothgrowth[(toothgrowth.supp == \"VC\") & (toothgrowth.dose == 2.0)]"
   ]
  },
  {
   "cell_type": "code",
   "execution_count": null,
   "metadata": {},
   "outputs": [],
   "source": [
    "t_test = st.ttest_ind(subset_oj.len, subset_vc.len) \n",
    "t_test.statistic"
   ]
  },
  {
   "cell_type": "code",
   "execution_count": null,
   "metadata": {},
   "outputs": [],
   "source": [
    "sns.set_theme(style=\"darkgrid\")\n",
    "ax = sns.pointplot(x=\"dose\", y=\"len\", hue=\"supp\", data=toothgrowth, join=True, capsize=.1, dodge=True)"
   ]
  },
  {
   "cell_type": "code",
   "execution_count": null,
   "metadata": {},
   "outputs": [],
   "source": [
    "# # Предполагается, что Вы уже скачали необходимый датасет и знаете путь до него\n",
    "# import pandas as pd\n",
    "# import scipy.stats\n",
    "\n",
    "# tooth_path = PATH_TO_DATA + \"ToothGrowth.csv\"\n",
    "# toothgrowth = pd.read_csv(tooth_path, index_col=0)\n",
    "# t_test = scipy.stats.ttest_ind(toothgrowth[(toothgrowth.supp == \"OJ\") & (toothgrowth.dose == 0.5)].len, \n",
    "#                                toothgrowth[(toothgrowth.supp == \"VC\") & (toothgrowth.dose == 2.0)].len) \n",
    "# print(t_test.statistic)"
   ]
  },
  {
   "cell_type": "code",
   "execution_count": null,
   "metadata": {},
   "outputs": [],
   "source": [
    "# # Предполагается, что Вы уже скачали необходимый датасет и знаете путь до него\n",
    "# import pandas as pd\n",
    "# import seaborn as sns\n",
    "# tooth_path = PATH_TO_DATA + \"ToothGrowth.csv\"\n",
    "# toothgrowth = pd.read_csv(tooth_path, index_col=0)\n",
    "# sns.set_theme(style=\"darkgrid\")\n",
    "# ax = sns.pointplot(x=\"dose\", y=\"len\", hue=\"supp\", data=toothgrowth, join=True, capsize=.1, dodge=True)"
   ]
  },
  {
   "cell_type": "markdown",
   "metadata": {},
   "source": [
    "### NEW DATASET"
   ]
  },
  {
   "cell_type": "code",
   "execution_count": null,
   "metadata": {},
   "outputs": [],
   "source": [
    "DATA = \"~/PycharmProjects/Datasets/\"\n",
    "lec_path = DATA + \"lekarstva.csv\"\n",
    "lekarstva = pd.read_csv(lec_path, index_col=0)"
   ]
  },
  {
   "cell_type": "code",
   "execution_count": null,
   "metadata": {},
   "outputs": [],
   "source": [
    "print(lekarstva.shape)\n",
    "lekarstva.head()"
   ]
  },
  {
   "cell_type": "code",
   "execution_count": null,
   "metadata": {},
   "outputs": [],
   "source": [
    "lekarstva.describe()"
   ]
  },
  {
   "cell_type": "code",
   "execution_count": null,
   "metadata": {},
   "outputs": [],
   "source": [
    "lec_pair_t_test = scipy.stats.ttest_rel(lekarstva.Pressure_after, lekarstva.Pressure_before) \n",
    "lec_pair_t_test.statistic"
   ]
  },
  {
   "cell_type": "code",
   "execution_count": null,
   "metadata": {},
   "outputs": [],
   "source": [
    "# # Предполагается, что Вы уже скачали необходимый датасет и знаете путь до него\n",
    "# import pandas as pd\n",
    "# import scipy.stats\n",
    "\n",
    "# lec_path = PATH_TO_DATA + \"lekarstva.csv\"\n",
    "# lekarstva = pd.read_csv(lec_path, index_col=0)\n",
    "# lec_pair_t_test = scipy.stats.ttest_rel(lekarstva.Pressure_before, lekarstva.Pressure_after) \n",
    "# print(lec_pair_t_test.statistic)"
   ]
  },
  {
   "cell_type": "code",
   "execution_count": null,
   "metadata": {},
   "outputs": [],
   "source": []
  },
  {
   "cell_type": "code",
   "execution_count": null,
   "metadata": {},
   "outputs": [],
   "source": []
  },
  {
   "cell_type": "markdown",
   "metadata": {},
   "source": [
    "## NEW CHAPTER AND NEW DATASET"
   ]
  },
  {
   "cell_type": "code",
   "execution_count": null,
   "metadata": {},
   "outputs": [],
   "source": [
    "DATA = \"~/PycharmProjects/Datasets/\"\n",
    "grants_path = DATA + \"grants.csv\"\n",
    "grants = pd.read_csv(grants_path)"
   ]
  },
  {
   "cell_type": "code",
   "execution_count": null,
   "metadata": {},
   "outputs": [],
   "source": [
    "grants.head()"
   ]
  },
  {
   "cell_type": "code",
   "execution_count": null,
   "metadata": {},
   "outputs": [],
   "source": [
    "grants.shape"
   ]
  },
  {
   "cell_type": "code",
   "execution_count": null,
   "metadata": {},
   "outputs": [],
   "source": [
    "grants.isna().sum()"
   ]
  },
  {
   "cell_type": "code",
   "execution_count": null,
   "metadata": {},
   "outputs": [],
   "source": [
    "grants.describe()"
   ]
  },
  {
   "cell_type": "code",
   "execution_count": null,
   "metadata": {},
   "outputs": [],
   "source": [
    "grants_df = grants.copy()"
   ]
  },
  {
   "cell_type": "code",
   "execution_count": null,
   "metadata": {},
   "outputs": [],
   "source": [
    "grants_df[\"status\"] = grants_df[\"status\"].replace({0 : \"Not funded\", 1 : \"Funded\"})"
   ]
  },
  {
   "cell_type": "code",
   "execution_count": null,
   "metadata": {},
   "outputs": [],
   "source": [
    "grants_df[\"status\"].unique()"
   ]
  },
  {
   "cell_type": "code",
   "execution_count": null,
   "metadata": {},
   "outputs": [],
   "source": [
    "grants_df.head(3)"
   ]
  },
  {
   "cell_type": "code",
   "execution_count": null,
   "metadata": {},
   "outputs": [],
   "source": [
    "table_1 = pd.pivot_table(grants_df, index=\"status\", values=\"field\", aggfunc=\"count\")\n",
    "table_1"
   ]
  },
  {
   "cell_type": "code",
   "execution_count": null,
   "metadata": {},
   "outputs": [],
   "source": [
    "table_2 = pd.pivot_table(grants_df, index=[\"field\"], columns=[\"status\"], aggfunc=\"count\")\n",
    "table_2"
   ]
  },
  {
   "cell_type": "code",
   "execution_count": null,
   "metadata": {},
   "outputs": [],
   "source": [
    "# Неудачные попытки\n",
    "# -----------------------------\n",
    "# grants_df.groupby([\"field\", \"status\"]).agg({\"status\" : \"count\"}).unstack()\n",
    "# -----------------------------\n",
    "# table_2 = grants_df.pivot_table(index=\"status\", columns=[\"field\"], aggfunc=\"count\")\n",
    "# table_2"
   ]
  },
  {
   "cell_type": "code",
   "execution_count": null,
   "metadata": {},
   "outputs": [],
   "source": [
    "dist = grants_df.groupby([\"field\", \"status\"])[\"status\"].count().unstack()\n",
    "dist"
   ]
  },
  {
   "cell_type": "code",
   "execution_count": null,
   "metadata": {},
   "outputs": [],
   "source": [
    "# Binom test\n",
    "p_value_1 = scipy.stats.binom_test(table_1)\n",
    "p_value_1"
   ]
  },
  {
   "cell_type": "code",
   "execution_count": null,
   "metadata": {},
   "outputs": [],
   "source": [
    "# ChiSquare test\n",
    "cs_res_1 = scipy.stats.chisquare(table_1)\n",
    "print(cs_res_1)\n",
    "print(\"The chi-squared test statistic is {}; \\nThe p-value of the test is {}.\".format(cs_res_1[0], cs_res_1[1]))"
   ]
  },
  {
   "cell_type": "code",
   "execution_count": null,
   "metadata": {},
   "outputs": [],
   "source": [
    "cs_res_2 = scipy.stats.chisquare(dist.T)\n",
    "cs_res_2"
   ]
  },
  {
   "cell_type": "code",
   "execution_count": null,
   "metadata": {},
   "outputs": [],
   "source": []
  },
  {
   "cell_type": "code",
   "execution_count": null,
   "metadata": {},
   "outputs": [],
   "source": []
  },
  {
   "cell_type": "code",
   "execution_count": null,
   "metadata": {},
   "outputs": [],
   "source": []
  },
  {
   "cell_type": "code",
   "execution_count": null,
   "metadata": {},
   "outputs": [],
   "source": []
  },
  {
   "cell_type": "code",
   "execution_count": null,
   "metadata": {},
   "outputs": [],
   "source": []
  },
  {
   "cell_type": "markdown",
   "metadata": {},
   "source": [
    "### New Dataset"
   ]
  },
  {
   "cell_type": "code",
   "execution_count": null,
   "metadata": {},
   "outputs": [],
   "source": [
    "DATA = \"~/PycharmProjects/Datasets/\"\n",
    "hec_path = DATA + \"HairEyeColor.csv\"\n",
    "hec = pd.read_csv(hec_path)"
   ]
  },
  {
   "cell_type": "code",
   "execution_count": null,
   "metadata": {},
   "outputs": [],
   "source": [
    "hec = hec.drop(\"Unnamed: 0\", axis=1)"
   ]
  },
  {
   "cell_type": "code",
   "execution_count": null,
   "metadata": {},
   "outputs": [],
   "source": [
    "hec.head()"
   ]
  },
  {
   "cell_type": "code",
   "execution_count": null,
   "metadata": {},
   "outputs": [],
   "source": [
    "hec_fem = hec[hec.Sex == \"Female\"]\n",
    "hec_fem"
   ]
  },
  {
   "cell_type": "code",
   "execution_count": null,
   "metadata": {},
   "outputs": [],
   "source": [
    "# Неудачные попытки\n",
    "# sns.histplot(data=hec_fem, x=\"Hair\", y=\"Freq\")"
   ]
  },
  {
   "cell_type": "code",
   "execution_count": null,
   "metadata": {},
   "outputs": [],
   "source": [
    "sns.catplot(data=hec_fem, x=\"Hair\", y=\"Freq\", hue=\"Eye\", kind=\"bar\")"
   ]
  },
  {
   "cell_type": "code",
   "execution_count": null,
   "metadata": {},
   "outputs": [],
   "source": [
    "# Как сделать хорошо и правильно? - Посмотри туториалы.\n",
    "# titanic = sns.load_dataset(\"titanic\")\n",
    "# sns.catplot(x=\"sex\", y=\"survived\", hue=\"class\", kind=\"bar\", data=titanic)"
   ]
  },
  {
   "cell_type": "code",
   "execution_count": null,
   "metadata": {},
   "outputs": [],
   "source": [
    "hec_fem[hec_fem.Hair == \"Brown\"].iloc[:,[1, 3]]"
   ]
  },
  {
   "cell_type": "code",
   "execution_count": null,
   "metadata": {},
   "outputs": [],
   "source": [
    "brown_haired_ladies = hec_fem[hec_fem.Hair == \"Brown\"].iloc[:,[1, 3]].set_index(\"Eye\")\n",
    "brown_haired_ladies"
   ]
  },
  {
   "cell_type": "code",
   "execution_count": null,
   "metadata": {},
   "outputs": [],
   "source": [
    "cs_res_3 = scipy.stats.chisquare(brown_haired_ladies)\n",
    "print(cs_res_3)\n",
    "print(\"The chi-squared test statistic is {}; \\nThe p-value of the test is {}.\".format(cs_res_3[0], cs_res_3[1]))"
   ]
  },
  {
   "cell_type": "code",
   "execution_count": null,
   "metadata": {},
   "outputs": [],
   "source": [
    "DATA = \"~/PycharmProjects/Datasets/\"\n",
    "hec_path = DATA + \"HairEyeColor.csv\"\n",
    "hec = pd.read_csv(hec_path, index_col=0)\n",
    "brown_haired_ladies = hec.query(\"Sex == 'Female' and Hair == 'Brown'\").iloc[:,[1, 3]].set_index(\"Eye\")\n",
    "chisquare_result = scipy.stats.chisquare(brown_haired_ladies)\n",
    "print(\"The chi-squared test statistic is {}; \\nThe p-value of the test is {}.\".format(chisquare_result[0], chisquare_result[1]))"
   ]
  },
  {
   "cell_type": "code",
   "execution_count": null,
   "metadata": {},
   "outputs": [],
   "source": []
  },
  {
   "cell_type": "code",
   "execution_count": null,
   "metadata": {},
   "outputs": [],
   "source": []
  },
  {
   "cell_type": "code",
   "execution_count": null,
   "metadata": {},
   "outputs": [],
   "source": []
  },
  {
   "cell_type": "code",
   "execution_count": null,
   "metadata": {},
   "outputs": [],
   "source": []
  },
  {
   "cell_type": "code",
   "execution_count": null,
   "metadata": {},
   "outputs": [],
   "source": []
  },
  {
   "cell_type": "markdown",
   "metadata": {},
   "source": [
    "### New Dataset"
   ]
  },
  {
   "cell_type": "code",
   "execution_count": null,
   "metadata": {},
   "outputs": [],
   "source": [
    "diamonds = sns.load_dataset('diamonds')\n",
    "diamonds.head()"
   ]
  },
  {
   "cell_type": "code",
   "execution_count": null,
   "metadata": {},
   "outputs": [],
   "source": [
    "diamonds = diamonds.sort_values(by=['color', 'cut'])"
   ]
  },
  {
   "cell_type": "code",
   "execution_count": null,
   "metadata": {},
   "outputs": [],
   "source": [
    "sns.histplot(data=diamonds, x=\"color\", hue=\"cut\", multiple=\"dodge\", shrink=.8)"
   ]
  },
  {
   "cell_type": "code",
   "execution_count": null,
   "metadata": {},
   "outputs": [],
   "source": [
    "# import seaborn as sns\n",
    "\n",
    "# diamonds = sns.load_dataset('diamonds')\n",
    "# diamonds = diamonds.sort_values(by=['color', 'cut'])\n",
    "# sns.histplot(data=diamonds, x=\"color\", hue=\"cut\", multiple=\"dodge\", shrink=.7)"
   ]
  },
  {
   "cell_type": "code",
   "execution_count": null,
   "metadata": {},
   "outputs": [],
   "source": [
    "diamonds = sns.load_dataset('diamonds')\n",
    "diamonds = pd.DataFrame(diamonds)\n",
    "# d = diamonds.groupby(['cut', 'color']).agg({\"color\" : \"count\"}).unstack()\n",
    "d = diamonds.groupby(['cut', 'color'])['cut'].count().unstack()\n",
    "print(d.shape)\n",
    "d"
   ]
  },
  {
   "cell_type": "code",
   "execution_count": null,
   "metadata": {},
   "outputs": [],
   "source": [
    "# НЕПРАВИЛЬНО!\n",
    "\n",
    "# chisquare_result = scipy.stats.chisquare(d, axis=None)\n",
    "# chisquare_result\n",
    "# -------------------------------------------------------------\n",
    "# ПРАВИЛЬНО!\n",
    "chisquare_result = st.chi2_contingency(d)\n",
    "chisquare_result"
   ]
  },
  {
   "cell_type": "code",
   "execution_count": null,
   "metadata": {},
   "outputs": [],
   "source": [
    "# # Предполагается, что Вы уже скачали необходимый датасет и знаете путь до него\n",
    "# import pandas as pd\n",
    "# import scipy.stats\n",
    "# import seaborn as sns\n",
    "\n",
    "# diamonds = sns.load_dataset('diamonds')\n",
    "# diamonds = pd.DataFrame(diamonds)\n",
    "# d = diamonds.groupby(['cut', 'color'])['cut'].count().unstack()\n",
    "# chisquare_result = scipy.stats.chi2_contingency(d)\n",
    "# chisquare_result"
   ]
  },
  {
   "cell_type": "code",
   "execution_count": null,
   "metadata": {},
   "outputs": [],
   "source": [
    "# table_diamonds = pd.pivot_table(diamonds, index=[\"cut\"], columns=[\"color\"], aggfunc=\"count\")\n",
    "# table_diamonds"
   ]
  },
  {
   "cell_type": "code",
   "execution_count": null,
   "metadata": {},
   "outputs": [],
   "source": [
    "diamonds[\"factor_price\"] = np.where(diamonds['price'] >= diamonds.price.mean(), 1, 0)\n",
    "diamonds[\"factor_carat\"] = np.where(diamonds['carat'] >= diamonds.carat.mean(), 1, 0)"
   ]
  },
  {
   "cell_type": "code",
   "execution_count": null,
   "metadata": {},
   "outputs": [],
   "source": [
    "d = diamonds.groupby(['factor_carat', 'factor_price'])['factor_price'].count().unstack()\n",
    "d"
   ]
  },
  {
   "cell_type": "code",
   "execution_count": null,
   "metadata": {},
   "outputs": [],
   "source": [
    "chisquare_result = st.chi2_contingency(d)\n",
    "chisquare_result[0]"
   ]
  },
  {
   "cell_type": "code",
   "execution_count": null,
   "metadata": {},
   "outputs": [],
   "source": [
    "# # Предполагается, что Вы уже скачали необходимый датасет и знаете путь до него\n",
    "# import pandas as pd\n",
    "# import numpy as np\n",
    "# import scipy.stats\n",
    "# import seaborn as sns\n",
    "\n",
    "# diamonds = sns.load_dataset('diamonds')\n",
    "# diamonds = pd.DataFrame(diamonds)\n",
    "# diamonds[\"factor_price\"] = np.where(diamonds['price'] >= diamonds.price.mean(), 1, 0)\n",
    "# diamonds[\"factor_carat\"] = np.where(diamonds['carat'] >= diamonds.carat.mean(), 1, 0)\n",
    "# d = diamonds.groupby(['factor_carat', 'factor_price'])['factor_price'].count().unstack()\n",
    "# chisquare_result = scipy.stats.chi2_contingency(d)\n",
    "# chisquare_result[0]"
   ]
  },
  {
   "cell_type": "markdown",
   "metadata": {},
   "source": [
    "### Game: Megafon and N+1\n",
    "#### https://nplus1.ru/material/2020/10/27/megafon"
   ]
  },
  {
   "cell_type": "code",
   "execution_count": null,
   "metadata": {},
   "outputs": [],
   "source": [
    "import re"
   ]
  },
  {
   "cell_type": "code",
   "execution_count": null,
   "metadata": {},
   "outputs": [],
   "source": [
    "PATH_TO_DATA = \"~/Downloads/Megafon_and_Nplus1_Game/\"\n",
    "game_df_1 = pd.read_csv(PATH_TO_DATA + \"first.csv\", sep=\";\", header=None)\n",
    "game_df_1.head(10)"
   ]
  },
  {
   "cell_type": "code",
   "execution_count": null,
   "metadata": {},
   "outputs": [],
   "source": [
    "game_df_1.columns = [\"transaction_id\", \"company_name\", \"transaction_amount\", \"comment\"]\n",
    "game_df_1"
   ]
  },
  {
   "cell_type": "code",
   "execution_count": null,
   "metadata": {},
   "outputs": [],
   "source": [
    "type(game_df_1.iloc[:,1])"
   ]
  },
  {
   "cell_type": "code",
   "execution_count": null,
   "metadata": {},
   "outputs": [],
   "source": [
    "game_df_1[game_df_1.iloc[:,1].str.contains(r'([a-z|0-9]{8})(-[a-z|0-9]{4}){3}(-[a-z|0-9]{12})', regex=True)]"
   ]
  },
  {
   "cell_type": "code",
   "execution_count": null,
   "metadata": {},
   "outputs": [],
   "source": [
    "# PATH_TO_DATA = \"~/Downloads/Megafon_and_Nplus1_Game/\"\n",
    "\n",
    "game_df_2 = pd.read_csv(PATH_TO_DATA + \"dva.csv\", sep=\";\", verbose=True)\n",
    "game_df_2.head(10)"
   ]
  },
  {
   "cell_type": "markdown",
   "metadata": {},
   "source": [
    "# NEW CHAPTER\n",
    "# ANOVA"
   ]
  },
  {
   "cell_type": "markdown",
   "metadata": {},
   "source": [
    "Он же - дисперсионный анализ: однофакторный и многофакторный."
   ]
  },
  {
   "cell_type": "code",
   "execution_count": null,
   "metadata": {},
   "outputs": [],
   "source": [
    "import sys\n",
    "\n",
    "from scipy import stats\n",
    "import statsmodels.api as sm\n",
    "import statsmodels.formula.api as smf\n",
    "from statsmodels.stats import power"
   ]
  },
  {
   "cell_type": "code",
   "execution_count": null,
   "metadata": {},
   "outputs": [],
   "source": [
    "DATA = \"~/PycharmProjects/Datasets/\"\n",
    "shops_path = DATA + \"shops.csv\"\n",
    "shops = pd.read_csv(shops_path, index_col=0)\n",
    "shops.head()"
   ]
  },
  {
   "cell_type": "code",
   "execution_count": null,
   "metadata": {},
   "outputs": [],
   "source": [
    "shops.index.unique()"
   ]
  },
  {
   "cell_type": "code",
   "execution_count": null,
   "metadata": {},
   "outputs": [],
   "source": [
    "sns.set_theme(style=\"darkgrid\")\n",
    "g = sns.catplot(x=\"origin\", y=\"price\", data=shops, kind=\"box\")"
   ]
  },
  {
   "cell_type": "code",
   "execution_count": null,
   "metadata": {},
   "outputs": [],
   "source": [
    "model = smf.ols('price ~ origin', data=shops).fit()\n",
    "model.summary() if str(input()) == \"1\" else print(model.summary())"
   ]
  },
  {
   "cell_type": "code",
   "execution_count": null,
   "metadata": {},
   "outputs": [],
   "source": [
    "aov_table = sm.stats.anova_lm(model)\n",
    "aov_table"
   ]
  },
  {
   "cell_type": "code",
   "execution_count": null,
   "metadata": {},
   "outputs": [],
   "source": [
    "model_2 = smf.ols('price ~ origin + store', data=shops).fit()\n",
    "model_2.summary() if str(input()) == \"1\" else print(model_2.summary())"
   ]
  },
  {
   "cell_type": "code",
   "execution_count": null,
   "metadata": {},
   "outputs": [],
   "source": [
    "aov_table_2 = sm.stats.anova_lm(model_2)\n",
    "aov_table_2"
   ]
  },
  {
   "cell_type": "code",
   "execution_count": null,
   "metadata": {},
   "outputs": [],
   "source": [
    "sns.set_theme(style=\"darkgrid\")\n",
    "ax = sns.pointplot(x=\"store\", y=\"price\", hue=\"origin\", data=shops, join=True, capsize=.1, dodge=True)"
   ]
  },
  {
   "cell_type": "code",
   "execution_count": null,
   "metadata": {},
   "outputs": [],
   "source": [
    "model_3 = smf.ols('price ~ origin + store + origin:store', data=shops).fit() # same result: 'price ~ origin * store' \n",
    "model_3.summary() if str(input()) == \"1\" else print(model_3.summary())"
   ]
  },
  {
   "cell_type": "code",
   "execution_count": null,
   "metadata": {},
   "outputs": [],
   "source": [
    "aov_table_3 = sm.stats.anova_lm(model_3)\n",
    "aov_table_3"
   ]
  },
  {
   "cell_type": "code",
   "execution_count": null,
   "metadata": {},
   "outputs": [],
   "source": [
    "sns.set_theme(style=\"darkgrid\")\n",
    "g = sns.catplot(x=shops.index, y=\"price\", data=shops, kind=\"box\")"
   ]
  },
  {
   "cell_type": "code",
   "execution_count": null,
   "metadata": {},
   "outputs": [],
   "source": [
    "model_4 = smf.ols('price ~ shops.index', data=shops).fit() \n",
    "model_4.summary() if str(input()) == \"1\" else print(model_4.summary())"
   ]
  },
  {
   "cell_type": "code",
   "execution_count": null,
   "metadata": {},
   "outputs": [],
   "source": [
    "aov_table_4 = sm.stats.anova_lm(model_4)\n",
    "aov_table_4"
   ]
  },
  {
   "cell_type": "code",
   "execution_count": null,
   "metadata": {},
   "outputs": [],
   "source": [
    "# Не работает. По причине того, что индекс имеет текстовый формат. Пришлось перезагружать датасет с другим индексом.\n",
    "# tukey_test_result = sm.stats.multicomp.pairwise_tukeyhsd(endog=shops.index.unique(), groups=\"price\")"
   ]
  },
  {
   "cell_type": "code",
   "execution_count": null,
   "metadata": {},
   "outputs": [],
   "source": [
    "DATA = \"~/PycharmProjects/Datasets/\"\n",
    "shops_path = DATA + \"shops.csv\"\n",
    "shops_2 = pd.read_csv(shops_path)\n",
    "shops_2.head()"
   ]
  },
  {
   "cell_type": "code",
   "execution_count": null,
   "metadata": {},
   "outputs": [],
   "source": [
    "tukey_test_result_shops = sm.stats.multicomp.pairwise_tukeyhsd(endog=shops_2[\"price\"], groups=shops_2[\"food\"])\n",
    "print(tukey_test_result_shops)"
   ]
  },
  {
   "cell_type": "code",
   "execution_count": null,
   "metadata": {},
   "outputs": [],
   "source": [
    "# tukey_test_result_shops"
   ]
  },
  {
   "cell_type": "code",
   "execution_count": null,
   "metadata": {},
   "outputs": [],
   "source": []
  },
  {
   "cell_type": "code",
   "execution_count": null,
   "metadata": {},
   "outputs": [],
   "source": []
  },
  {
   "cell_type": "code",
   "execution_count": null,
   "metadata": {},
   "outputs": [],
   "source": []
  },
  {
   "cell_type": "markdown",
   "metadata": {},
   "source": [
    "### NEW DATASET"
   ]
  },
  {
   "cell_type": "code",
   "execution_count": null,
   "metadata": {},
   "outputs": [],
   "source": [
    "DATA = \"~/PycharmProjects/Datasets/\"\n",
    "npk_path = DATA + \"npk.csv\"\n",
    "npk = pd.read_csv(npk_path, index_col=0)\n",
    "npk = npk.rename(columns={\"yield\" : \"growth\"})\n",
    "npk.head()"
   ]
  },
  {
   "cell_type": "code",
   "execution_count": null,
   "metadata": {},
   "outputs": [],
   "source": [
    "model_npk = smf.ols('growth ~ N * P', data=npk).fit()\n",
    "model_npk.summary() if str(input()) == \"1\" else print(model_npk.summary())"
   ]
  },
  {
   "cell_type": "code",
   "execution_count": null,
   "metadata": {},
   "outputs": [],
   "source": [
    "aov_table_npk = sm.stats.anova_lm(model_npk)\n",
    "aov_table_npk.unstack()[\"PR(>F)\"][\"N:P\"]"
   ]
  },
  {
   "cell_type": "code",
   "execution_count": null,
   "metadata": {},
   "outputs": [],
   "source": [
    "# # Предполагается, что Вы уже скачали необходимый датасет и знаете путь до него\n",
    "# import pandas as pd\n",
    "# import statsmodels.api as sm\n",
    "# import statsmodels.formula.api as smf\n",
    "\n",
    "# DATA = \"~/PycharmProjects/Datasets/\"\n",
    "# npk_path = DATA + \"npk.csv\"\n",
    "# npk = pd.read_csv(npk_path, index_col=0)\n",
    "# npk = npk.rename(columns={\"yield\" : \"growth\"}) # Пришлось переименовать столбец, иначе функция из библиотеки statsmodels.formula.api \"спотыкается\" о формулу\n",
    "# model_npk = smf.ols('growth ~ N * P', data=npk).fit()\n",
    "# aov_table_npk = sm.stats.anova_lm(model_npk)\n",
    "# aov_table_npk.unstack()[\"PR(>F)\"][\"N:P\"]"
   ]
  },
  {
   "cell_type": "code",
   "execution_count": null,
   "metadata": {},
   "outputs": [],
   "source": [
    "model_npk_2 = smf.ols('growth ~ N + P + K', data=npk).fit()\n",
    "model_npk_2.summary() if str(input()) == \"1\" else print(model_npk_2.summary())"
   ]
  },
  {
   "cell_type": "code",
   "execution_count": null,
   "metadata": {},
   "outputs": [],
   "source": [
    "aov_table_npk_2 = sm.stats.anova_lm(model_npk_2)\n",
    "aov_table_npk_2.unstack()[\"PR(>F)\"]"
   ]
  },
  {
   "cell_type": "code",
   "execution_count": null,
   "metadata": {},
   "outputs": [],
   "source": [
    "# # Предполагается, что Вы уже скачали необходимый датасет и знаете путь до него\n",
    "# import pandas as pd\n",
    "# import statsmodels.api as sm\n",
    "# import statsmodels.formula.api as smf\n",
    "\n",
    "# DATA = \"~/PycharmProjects/Datasets/\"\n",
    "# npk_path = DATA + \"npk.csv\"\n",
    "# npk = pd.read_csv(npk_path, index_col=0)\n",
    "# npk = npk.rename(columns={\"yield\" : \"growth\"})\n",
    "# model_npk_2 = smf.ols('growth ~ N + P + K', data=npk).fit()\n",
    "# aov_table_npk_2 = sm.stats.anova_lm(model_npk_2)\n",
    "# aov_table_npk_2.unstack()[\"PR(>F)\"]"
   ]
  },
  {
   "cell_type": "markdown",
   "metadata": {},
   "source": [
    "### NEW DATASET"
   ]
  },
  {
   "cell_type": "code",
   "execution_count": null,
   "metadata": {},
   "outputs": [],
   "source": [
    "DATA = \"~/PycharmProjects/Datasets/\"\n",
    "therapy_path = DATA + \"therapy_data.csv\"\n",
    "therapy = pd.read_csv(therapy_path)\n",
    "therapy.head()"
   ]
  },
  {
   "cell_type": "code",
   "execution_count": null,
   "metadata": {},
   "outputs": [],
   "source": [
    "model_therapy = smf.ols('well_being ~ therapy', data=therapy).fit()\n",
    "model_therapy.summary() if str(input()) == \"1\" else print(model_therapy.summary())"
   ]
  },
  {
   "cell_type": "code",
   "execution_count": null,
   "metadata": {},
   "outputs": [],
   "source": [
    "aov_table_therapy = sm.stats.anova_lm(model_therapy)\n",
    "aov_table_therapy"
   ]
  },
  {
   "cell_type": "markdown",
   "metadata": {},
   "source": [
    "#### Оказывается, что на данный момент в statsmodels не реализована ANOVA с повторными наблюдениями! \n",
    "\n",
    "https://www.statsmodels.org/stable/generated/statsmodels.stats.anova.AnovaRM.html#statsmodels.stats.anova.AnovaRM\n",
    "\n",
    "Точнее класс-то есть, а реализации нет. Обидно до слёз! (нет)\n",
    "\n",
    "Придётся использовать что-то другое, либо извращаться с имеющимися формулами."
   ]
  },
  {
   "cell_type": "code",
   "execution_count": null,
   "metadata": {},
   "outputs": [],
   "source": [
    "# Не тот тип взаимодействия\n",
    "model_therapy_2 = smf.ols('well_being ~ therapy + subject:therapy', data=therapy).fit() \n",
    "model_therapy_2.summary() if str(input()) == \"1\" else print(model_therapy_2.summary())"
   ]
  },
  {
   "cell_type": "markdown",
   "metadata": {},
   "source": [
    "Вариант-затычка из statsmodels:"
   ]
  },
  {
   "cell_type": "code",
   "execution_count": null,
   "metadata": {},
   "outputs": [],
   "source": [
    "# Уже ближе к правде, но всё равно не совсем то. \n",
    "# model_therapy_2 = smf.ols('well_being ~ therapy + C(subject)*C(therapy)', data=therapy).fit() \n",
    "# aov_table_therapy_2 = sm.stats.anova_lm(model_therapy_2)\n",
    "# aov_table_therapy_2 "
   ]
  },
  {
   "cell_type": "code",
   "execution_count": null,
   "metadata": {},
   "outputs": [],
   "source": [
    "# Совсем не то!\n",
    "# model_therapy_2 = smf.ols('well_being ~ subject*therapy', data=therapy).fit() \n",
    "# aov_table_therapy_2 = sm.stats.anova_lm(model_therapy_2)\n",
    "# aov_table_therapy_2 "
   ]
  },
  {
   "cell_type": "code",
   "execution_count": null,
   "metadata": {},
   "outputs": [],
   "source": [
    "# АГА, ПОЛУЧИЛОСЬ! \n",
    "model_therapy_2 = smf.ols('well_being ~ C(subject)*C(therapy)', data=therapy).fit() \n",
    "aov_table_therapy_2 = sm.stats.anova_lm(model_therapy_2)\n",
    "aov_table_therapy_2 "
   ]
  },
  {
   "cell_type": "markdown",
   "metadata": {},
   "source": [
    "В данном случае учитывается ошибка, связанная с испытуемым, а именно то, что каждая терапия проводилась с КАЖДЫМ испытуемым (каждый испытуемый проходил все 3 вида психотерапии)."
   ]
  },
  {
   "cell_type": "markdown",
   "metadata": {},
   "source": [
    "Не стоит путать формулы! Необходимо обратить внимание, что формулы разные!"
   ]
  },
  {
   "cell_type": "markdown",
   "metadata": {},
   "source": [
    "### Методом научного тыка и с помощью игр с формулами удалось добиться нужного результата! \n",
    "Решительная победа! "
   ]
  },
  {
   "cell_type": "markdown",
   "metadata": {},
   "source": [
    "#### А почему бы не попробовать пакет, в котором реализована ANOVA с повторными измерениями? \n",
    "Беглый гуглинг помог найти вот такое вот: \n",
    "- https://stackoverflow.com/questions/56744225/which-statsmodels-anova-model-for-within-and-between-subjects-design\n",
    "-https://stackoverflow.com/questions/22534836/two-way-repeated-measures-anova-python-function\n",
    "\n",
    "Ну, раз уж рекомендуют, то почему бы не попробовать? \n",
    "- https://pypi.org/project/pingouin/\n",
    "- https://pingouin-stats.org/index.html"
   ]
  },
  {
   "cell_type": "code",
   "execution_count": null,
   "metadata": {},
   "outputs": [],
   "source": [
    "# therapy.head()"
   ]
  },
  {
   "cell_type": "code",
   "execution_count": null,
   "metadata": {},
   "outputs": [],
   "source": [
    "# import pingouin as pg\n",
    "\n",
    "# aov_1 = pg.rm_anova(dv='well_being', within=['therapy', 'price'], subject=\"subject\", data=therapy, detailed=True)\n",
    "# aov_2 = pg.rm_anova(dv='well_being', within=['therapy', 'subject'], subject=\"sex\", data=therapy, detailed=True)\n",
    "# aov_3 = pg.rm_anova(dv='well_being', within=['price', 'subject'], subject=\"sex\", data=therapy, detailed=True)\n",
    "# aov_4 = pg.rm_anova(dv='well_being', within=['price', 'sex'], subject=\"subject\", data=therapy, detailed=True)\n",
    "# Не работает с 3+ переменными. Прикольно. \n",
    "# Значит, использовать эту штуку незачем, хотя и работает неплохо с 2-мя переменными."
   ]
  },
  {
   "cell_type": "code",
   "execution_count": null,
   "metadata": {},
   "outputs": [],
   "source": [
    "# pd.concat([aov_1, aov_2, aov_3, aov_4])"
   ]
  },
  {
   "cell_type": "code",
   "execution_count": null,
   "metadata": {},
   "outputs": [],
   "source": [
    "# import statsmodels\n",
    "\n",
    "# print(statsmodels.stats.anova.AnovaRM(therapy, 'well_being', \"subject\", within=['therapy', 'price']).fit())"
   ]
  },
  {
   "cell_type": "markdown",
   "metadata": {},
   "source": [
    "Да уж, работает всё это дело непойми как. Печально, видимо всё же придётся использовать R."
   ]
  },
  {
   "cell_type": "markdown",
   "metadata": {},
   "source": [
    "### Вывод - пакет pingouin потенциально интересный, надо бы с ним поиграться и посмотреть на результаты. \n",
    "\n",
    "### Но пока что statsmodels хватает для исследований, несмотря на отсутствие некоторых фич."
   ]
  },
  {
   "cell_type": "code",
   "execution_count": null,
   "metadata": {},
   "outputs": [],
   "source": [
    "model_therapy_3 = smf.ols('well_being ~ therapy * price', data=therapy).fit() \n",
    "aov_table_therapy_3 = sm.stats.anova_lm(model_therapy_3)\n",
    "aov_table_therapy_3 "
   ]
  },
  {
   "cell_type": "code",
   "execution_count": null,
   "metadata": {},
   "outputs": [],
   "source": [
    "sns.set_theme(style=\"darkgrid\")\n",
    "g = sns.catplot(x=\"price\", y=\"well_being\", data=therapy, kind=\"box\")"
   ]
  },
  {
   "cell_type": "markdown",
   "metadata": {},
   "source": [
    "Больше платишь - лучше самочувствие, лол.\n",
    "\n",
    "А теперь учтём дисперсию, связанную с испытуемым!"
   ]
  },
  {
   "cell_type": "code",
   "execution_count": null,
   "metadata": {},
   "outputs": [],
   "source": [
    "# Отлично, работает!\n",
    "model_therapy_4 = smf.ols('well_being ~ C(subject)*C(price) + C(therapy)*C(price) + C(subject)*C(therapy)', \n",
    "                          data=therapy).fit() \n",
    "aov_table_therapy_4 = sm.stats.anova_lm(model_therapy_4)\n",
    "aov_table_therapy_4 "
   ]
  },
  {
   "cell_type": "code",
   "execution_count": null,
   "metadata": {},
   "outputs": [],
   "source": [
    "# Красиво, но неинформативно\n",
    "sns.set_theme(style=\"darkgrid\")\n",
    "g = sns.catplot(x=\"price\", y=\"well_being\", hue=\"subject\", data=therapy, kind=\"box\")"
   ]
  },
  {
   "cell_type": "code",
   "execution_count": null,
   "metadata": {},
   "outputs": [],
   "source": [
    "# А вот так намного лучше!\n",
    "sns.set_theme(style=\"darkgrid\")\n",
    "g = sns.catplot(x=\"price\", y=\"well_being\", col=\"subject\", data=therapy, kind=\"box\")"
   ]
  },
  {
   "cell_type": "code",
   "execution_count": null,
   "metadata": {},
   "outputs": [],
   "source": [
    "sns.set_theme(style=\"darkgrid\")\n",
    "g = sns.catplot(x=\"price\", y=\"well_being\", col=\"sex\", hue=\"subject\", data=therapy, kind=\"box\")"
   ]
  },
  {
   "cell_type": "code",
   "execution_count": null,
   "metadata": {},
   "outputs": [],
   "source": [
    "model_therapy_5 = smf.ols('well_being ~ therapy * price * sex', data=therapy).fit() \n",
    "aov_table_therapy_5 = sm.stats.anova_lm(model_therapy_5)\n",
    "aov_table_therapy_5 "
   ]
  },
  {
   "cell_type": "code",
   "execution_count": null,
   "metadata": {},
   "outputs": [],
   "source": [
    "# model_therapy_6 = smf.ols('well_being ~ C(sex)*C(therapy)*C(price)', \n",
    "#                           data=therapy).fit() # Почти то, что нужно!\n",
    "model_therapy_6 = smf.ols('well_being ~ (sex*price*therapy)', \n",
    "                          data=therapy).fit() \n",
    "aov_table_therapy_6 = sm.stats.anova_lm(model_therapy_6)\n",
    "aov_table_therapy_6\n",
    "# Пока всё ещё не получилось"
   ]
  },
  {
   "cell_type": "code",
   "execution_count": null,
   "metadata": {},
   "outputs": [],
   "source": [
    "therapy.head()"
   ]
  },
  {
   "cell_type": "code",
   "execution_count": null,
   "metadata": {},
   "outputs": [],
   "source": [
    "# А может вот это сработает?\n",
    "import pingouin as pg\n",
    "\n",
    "# aov = pg.rm_anova(dv='well_being', within=['therapy', 'subject'], data=therapy, detailed=True)\n",
    "# aov"
   ]
  },
  {
   "cell_type": "markdown",
   "metadata": {},
   "source": [
    "### NEW DATASET"
   ]
  },
  {
   "cell_type": "code",
   "execution_count": null,
   "metadata": {},
   "outputs": [],
   "source": [
    "DATA = \"~/PycharmProjects/Datasets/\"\n",
    "pills_path = DATA + \"Pillulkin.csv\"\n",
    "pills = pd.read_csv(pills_path)\n",
    "pills.head()"
   ]
  },
  {
   "cell_type": "code",
   "execution_count": null,
   "metadata": {},
   "outputs": [],
   "source": [
    "model_pills = smf.ols('temperature ~ C(pill)*C(patient)', data=pills).fit() \n",
    "aov_table_pills = sm.stats.anova_lm(model_pills)\n",
    "aov_table_pills"
   ]
  },
  {
   "cell_type": "code",
   "execution_count": null,
   "metadata": {},
   "outputs": [],
   "source": [
    "model_pills_2 = smf.ols('temperature ~ C(pill)*C(patient) + C(pill)*C(doctor) + C(patient)*C(doctor)', data=pills).fit() \n",
    "aov_table_pills_2 = sm.stats.anova_lm(model_pills_2)\n",
    "aov_table_pills_2.loc[[\"C(pill):C(doctor)\"], \"F\"]"
   ]
  },
  {
   "cell_type": "code",
   "execution_count": null,
   "metadata": {},
   "outputs": [],
   "source": [
    "# import pandas as pd\n",
    "# import statsmodels.api as sm\n",
    "# import statsmodels.formula.api as smf\n",
    "\n",
    "# pills = pd.read_csv(\"https://stepic.org/media/attachments/lesson/11505/Pillulkin.csv\")\n",
    "# model_pills = smf.ols('temperature ~ C(pill)*C(patient)', data=pills).fit() \n",
    "# aov_table_pills = sm.stats.anova_lm(model_pills)\n",
    "# print(aov_table_pills[\"PR(>F)\"])"
   ]
  },
  {
   "cell_type": "code",
   "execution_count": null,
   "metadata": {},
   "outputs": [],
   "source": [
    "# import pandas as pd\n",
    "# import statsmodels.api as sm\n",
    "# import statsmodels.formula.api as smf\n",
    "\n",
    "# pills = pd.read_csv(\"https://stepic.org/media/attachments/lesson/11505/Pillulkin.csv\")\n",
    "# model_pills = smf.ols('temperature ~ C(pill)*C(patient) + C(pill)*C(doctor) + C(patient)*C(doctor)', data=pills).fit() \n",
    "# aov_table_pills = sm.stats.anova_lm(model_pills)\n",
    "# aov_table_pills.loc[[\"C(pill):C(doctor)\"], \"F\"]"
   ]
  },
  {
   "cell_type": "code",
   "execution_count": null,
   "metadata": {},
   "outputs": [],
   "source": []
  }
 ],
 "metadata": {
  "kernelspec": {
   "display_name": "Python 3",
   "language": "python",
   "name": "python3"
  },
  "language_info": {
   "codemirror_mode": {
    "name": "ipython",
    "version": 3
   },
   "file_extension": ".py",
   "mimetype": "text/x-python",
   "name": "python",
   "nbconvert_exporter": "python",
   "pygments_lexer": "ipython3",
   "version": "3.8.5"
  }
 },
 "nbformat": 4,
 "nbformat_minor": 4
}
