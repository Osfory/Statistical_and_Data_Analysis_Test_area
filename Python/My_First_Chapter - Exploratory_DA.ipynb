{
 "cells": [
  {
   "cell_type": "markdown",
   "metadata": {},
   "source": [
    "# Practical Statistics for Data Scientists (Python)\n",
    "# Chapter 1. Exploratory Data Analysis"
   ]
  },
  {
   "cell_type": "markdown",
   "metadata": {},
   "source": [
    "Import required Python packages."
   ]
  },
  {
   "cell_type": "code",
   "execution_count": 1,
   "metadata": {},
   "outputs": [
    {
     "name": "stdout",
     "output_type": "stream",
     "text": [
      "Imports Done!\n"
     ]
    }
   ],
   "source": [
    "%matplotlib inline\n",
    "\n",
    "from pathlib import Path\n",
    "\n",
    "import pandas as pd\n",
    "import numpy as np\n",
    "import scipy.stats\n",
    "import scipy.stats\n",
    "from scipy.stats import trim_mean\n",
    "from scipy import stats\n",
    "from statsmodels import robust\n",
    "import wquantiles\n",
    "\n",
    "import seaborn as sns\n",
    "import matplotlib.pylab as plt\n",
    "\n",
    "print(\"Imports Done!\")"
   ]
  },
  {
   "cell_type": "markdown",
   "metadata": {},
   "source": [
    "Define paths to data sets. If you don't keep your data in the same directory as the code, adapt the path names."
   ]
  },
  {
   "cell_type": "code",
   "execution_count": 2,
   "metadata": {},
   "outputs": [],
   "source": [
    "DATA = \"~/PycharmProjects/Datasets/\"\n",
    "mtcar_path = DATA + \"mtcars.csv\"\n",
    "mtcar = pd.read_csv(mtcar_path)"
   ]
  },
  {
   "cell_type": "code",
   "execution_count": 3,
   "metadata": {},
   "outputs": [
    {
     "data": {
      "text/html": [
       "<div>\n",
       "<style scoped>\n",
       "    .dataframe tbody tr th:only-of-type {\n",
       "        vertical-align: middle;\n",
       "    }\n",
       "\n",
       "    .dataframe tbody tr th {\n",
       "        vertical-align: top;\n",
       "    }\n",
       "\n",
       "    .dataframe thead th {\n",
       "        text-align: right;\n",
       "    }\n",
       "</style>\n",
       "<table border=\"1\" class=\"dataframe\">\n",
       "  <thead>\n",
       "    <tr style=\"text-align: right;\">\n",
       "      <th></th>\n",
       "      <th>Unnamed: 0</th>\n",
       "      <th>mpg</th>\n",
       "      <th>cyl</th>\n",
       "      <th>disp</th>\n",
       "      <th>hp</th>\n",
       "      <th>drat</th>\n",
       "      <th>wt</th>\n",
       "      <th>qsec</th>\n",
       "      <th>vs</th>\n",
       "      <th>am</th>\n",
       "      <th>gear</th>\n",
       "      <th>carb</th>\n",
       "    </tr>\n",
       "  </thead>\n",
       "  <tbody>\n",
       "    <tr>\n",
       "      <th>0</th>\n",
       "      <td>Mazda RX4</td>\n",
       "      <td>21.0</td>\n",
       "      <td>6</td>\n",
       "      <td>160.0</td>\n",
       "      <td>110</td>\n",
       "      <td>3.90</td>\n",
       "      <td>2.620</td>\n",
       "      <td>16.46</td>\n",
       "      <td>0</td>\n",
       "      <td>1</td>\n",
       "      <td>4</td>\n",
       "      <td>4</td>\n",
       "    </tr>\n",
       "    <tr>\n",
       "      <th>1</th>\n",
       "      <td>Mazda RX4 Wag</td>\n",
       "      <td>21.0</td>\n",
       "      <td>6</td>\n",
       "      <td>160.0</td>\n",
       "      <td>110</td>\n",
       "      <td>3.90</td>\n",
       "      <td>2.875</td>\n",
       "      <td>17.02</td>\n",
       "      <td>0</td>\n",
       "      <td>1</td>\n",
       "      <td>4</td>\n",
       "      <td>4</td>\n",
       "    </tr>\n",
       "    <tr>\n",
       "      <th>2</th>\n",
       "      <td>Datsun 710</td>\n",
       "      <td>22.8</td>\n",
       "      <td>4</td>\n",
       "      <td>108.0</td>\n",
       "      <td>93</td>\n",
       "      <td>3.85</td>\n",
       "      <td>2.320</td>\n",
       "      <td>18.61</td>\n",
       "      <td>1</td>\n",
       "      <td>1</td>\n",
       "      <td>4</td>\n",
       "      <td>1</td>\n",
       "    </tr>\n",
       "    <tr>\n",
       "      <th>3</th>\n",
       "      <td>Hornet 4 Drive</td>\n",
       "      <td>21.4</td>\n",
       "      <td>6</td>\n",
       "      <td>258.0</td>\n",
       "      <td>110</td>\n",
       "      <td>3.08</td>\n",
       "      <td>3.215</td>\n",
       "      <td>19.44</td>\n",
       "      <td>1</td>\n",
       "      <td>0</td>\n",
       "      <td>3</td>\n",
       "      <td>1</td>\n",
       "    </tr>\n",
       "    <tr>\n",
       "      <th>4</th>\n",
       "      <td>Hornet Sportabout</td>\n",
       "      <td>18.7</td>\n",
       "      <td>8</td>\n",
       "      <td>360.0</td>\n",
       "      <td>175</td>\n",
       "      <td>3.15</td>\n",
       "      <td>3.440</td>\n",
       "      <td>17.02</td>\n",
       "      <td>0</td>\n",
       "      <td>0</td>\n",
       "      <td>3</td>\n",
       "      <td>2</td>\n",
       "    </tr>\n",
       "  </tbody>\n",
       "</table>\n",
       "</div>"
      ],
      "text/plain": [
       "          Unnamed: 0   mpg  cyl   disp   hp  drat     wt   qsec  vs  am  gear  \\\n",
       "0          Mazda RX4  21.0    6  160.0  110  3.90  2.620  16.46   0   1     4   \n",
       "1      Mazda RX4 Wag  21.0    6  160.0  110  3.90  2.875  17.02   0   1     4   \n",
       "2         Datsun 710  22.8    4  108.0   93  3.85  2.320  18.61   1   1     4   \n",
       "3     Hornet 4 Drive  21.4    6  258.0  110  3.08  3.215  19.44   1   0     3   \n",
       "4  Hornet Sportabout  18.7    8  360.0  175  3.15  3.440  17.02   0   0     3   \n",
       "\n",
       "   carb  \n",
       "0     4  \n",
       "1     4  \n",
       "2     1  \n",
       "3     1  \n",
       "4     2  "
      ]
     },
     "execution_count": 3,
     "metadata": {},
     "output_type": "execute_result"
    }
   ],
   "source": [
    "mtcar.head()"
   ]
  },
  {
   "cell_type": "code",
   "execution_count": 4,
   "metadata": {},
   "outputs": [
    {
     "data": {
      "text/plain": [
       "(32, 12)"
      ]
     },
     "execution_count": 4,
     "metadata": {},
     "output_type": "execute_result"
    }
   ],
   "source": [
    "mtcar.shape"
   ]
  },
  {
   "cell_type": "code",
   "execution_count": 5,
   "metadata": {},
   "outputs": [
    {
     "data": {
      "text/html": [
       "<div>\n",
       "<style scoped>\n",
       "    .dataframe tbody tr th:only-of-type {\n",
       "        vertical-align: middle;\n",
       "    }\n",
       "\n",
       "    .dataframe tbody tr th {\n",
       "        vertical-align: top;\n",
       "    }\n",
       "\n",
       "    .dataframe thead th {\n",
       "        text-align: right;\n",
       "    }\n",
       "</style>\n",
       "<table border=\"1\" class=\"dataframe\">\n",
       "  <thead>\n",
       "    <tr style=\"text-align: right;\">\n",
       "      <th></th>\n",
       "      <th>mpg</th>\n",
       "      <th>cyl</th>\n",
       "      <th>disp</th>\n",
       "      <th>hp</th>\n",
       "      <th>drat</th>\n",
       "      <th>wt</th>\n",
       "      <th>qsec</th>\n",
       "      <th>vs</th>\n",
       "      <th>am</th>\n",
       "      <th>gear</th>\n",
       "      <th>carb</th>\n",
       "    </tr>\n",
       "  </thead>\n",
       "  <tbody>\n",
       "    <tr>\n",
       "      <th>count</th>\n",
       "      <td>32.000000</td>\n",
       "      <td>32.000000</td>\n",
       "      <td>32.000000</td>\n",
       "      <td>32.000000</td>\n",
       "      <td>32.000000</td>\n",
       "      <td>32.000000</td>\n",
       "      <td>32.000000</td>\n",
       "      <td>32.000000</td>\n",
       "      <td>32.000000</td>\n",
       "      <td>32.000000</td>\n",
       "      <td>32.0000</td>\n",
       "    </tr>\n",
       "    <tr>\n",
       "      <th>mean</th>\n",
       "      <td>20.090625</td>\n",
       "      <td>6.187500</td>\n",
       "      <td>230.721875</td>\n",
       "      <td>146.687500</td>\n",
       "      <td>3.596563</td>\n",
       "      <td>3.217250</td>\n",
       "      <td>17.848750</td>\n",
       "      <td>0.437500</td>\n",
       "      <td>0.406250</td>\n",
       "      <td>3.687500</td>\n",
       "      <td>2.8125</td>\n",
       "    </tr>\n",
       "    <tr>\n",
       "      <th>std</th>\n",
       "      <td>6.026948</td>\n",
       "      <td>1.785922</td>\n",
       "      <td>123.938694</td>\n",
       "      <td>68.562868</td>\n",
       "      <td>0.534679</td>\n",
       "      <td>0.978457</td>\n",
       "      <td>1.786943</td>\n",
       "      <td>0.504016</td>\n",
       "      <td>0.498991</td>\n",
       "      <td>0.737804</td>\n",
       "      <td>1.6152</td>\n",
       "    </tr>\n",
       "    <tr>\n",
       "      <th>min</th>\n",
       "      <td>10.400000</td>\n",
       "      <td>4.000000</td>\n",
       "      <td>71.100000</td>\n",
       "      <td>52.000000</td>\n",
       "      <td>2.760000</td>\n",
       "      <td>1.513000</td>\n",
       "      <td>14.500000</td>\n",
       "      <td>0.000000</td>\n",
       "      <td>0.000000</td>\n",
       "      <td>3.000000</td>\n",
       "      <td>1.0000</td>\n",
       "    </tr>\n",
       "    <tr>\n",
       "      <th>25%</th>\n",
       "      <td>15.425000</td>\n",
       "      <td>4.000000</td>\n",
       "      <td>120.825000</td>\n",
       "      <td>96.500000</td>\n",
       "      <td>3.080000</td>\n",
       "      <td>2.581250</td>\n",
       "      <td>16.892500</td>\n",
       "      <td>0.000000</td>\n",
       "      <td>0.000000</td>\n",
       "      <td>3.000000</td>\n",
       "      <td>2.0000</td>\n",
       "    </tr>\n",
       "    <tr>\n",
       "      <th>50%</th>\n",
       "      <td>19.200000</td>\n",
       "      <td>6.000000</td>\n",
       "      <td>196.300000</td>\n",
       "      <td>123.000000</td>\n",
       "      <td>3.695000</td>\n",
       "      <td>3.325000</td>\n",
       "      <td>17.710000</td>\n",
       "      <td>0.000000</td>\n",
       "      <td>0.000000</td>\n",
       "      <td>4.000000</td>\n",
       "      <td>2.0000</td>\n",
       "    </tr>\n",
       "    <tr>\n",
       "      <th>75%</th>\n",
       "      <td>22.800000</td>\n",
       "      <td>8.000000</td>\n",
       "      <td>326.000000</td>\n",
       "      <td>180.000000</td>\n",
       "      <td>3.920000</td>\n",
       "      <td>3.610000</td>\n",
       "      <td>18.900000</td>\n",
       "      <td>1.000000</td>\n",
       "      <td>1.000000</td>\n",
       "      <td>4.000000</td>\n",
       "      <td>4.0000</td>\n",
       "    </tr>\n",
       "    <tr>\n",
       "      <th>max</th>\n",
       "      <td>33.900000</td>\n",
       "      <td>8.000000</td>\n",
       "      <td>472.000000</td>\n",
       "      <td>335.000000</td>\n",
       "      <td>4.930000</td>\n",
       "      <td>5.424000</td>\n",
       "      <td>22.900000</td>\n",
       "      <td>1.000000</td>\n",
       "      <td>1.000000</td>\n",
       "      <td>5.000000</td>\n",
       "      <td>8.0000</td>\n",
       "    </tr>\n",
       "  </tbody>\n",
       "</table>\n",
       "</div>"
      ],
      "text/plain": [
       "             mpg        cyl        disp          hp       drat         wt  \\\n",
       "count  32.000000  32.000000   32.000000   32.000000  32.000000  32.000000   \n",
       "mean   20.090625   6.187500  230.721875  146.687500   3.596563   3.217250   \n",
       "std     6.026948   1.785922  123.938694   68.562868   0.534679   0.978457   \n",
       "min    10.400000   4.000000   71.100000   52.000000   2.760000   1.513000   \n",
       "25%    15.425000   4.000000  120.825000   96.500000   3.080000   2.581250   \n",
       "50%    19.200000   6.000000  196.300000  123.000000   3.695000   3.325000   \n",
       "75%    22.800000   8.000000  326.000000  180.000000   3.920000   3.610000   \n",
       "max    33.900000   8.000000  472.000000  335.000000   4.930000   5.424000   \n",
       "\n",
       "            qsec         vs         am       gear     carb  \n",
       "count  32.000000  32.000000  32.000000  32.000000  32.0000  \n",
       "mean   17.848750   0.437500   0.406250   3.687500   2.8125  \n",
       "std     1.786943   0.504016   0.498991   0.737804   1.6152  \n",
       "min    14.500000   0.000000   0.000000   3.000000   1.0000  \n",
       "25%    16.892500   0.000000   0.000000   3.000000   2.0000  \n",
       "50%    17.710000   0.000000   0.000000   4.000000   2.0000  \n",
       "75%    18.900000   1.000000   1.000000   4.000000   4.0000  \n",
       "max    22.900000   1.000000   1.000000   5.000000   8.0000  "
      ]
     },
     "execution_count": 5,
     "metadata": {},
     "output_type": "execute_result"
    }
   ],
   "source": [
    "mtcar.describe()"
   ]
  },
  {
   "cell_type": "code",
   "execution_count": 6,
   "metadata": {},
   "outputs": [],
   "source": [
    "mtcar_df = mtcar.copy()"
   ]
  },
  {
   "cell_type": "code",
   "execution_count": 7,
   "metadata": {},
   "outputs": [],
   "source": [
    "mtcar_df = mtcar_df.rename(columns={\"Unnamed: 0\" : \"Car Model\"})"
   ]
  },
  {
   "cell_type": "code",
   "execution_count": 8,
   "metadata": {},
   "outputs": [],
   "source": [
    "mtcar_df[\"vs\"] = mtcar_df[\"vs\"].replace({0 : \"V\", 1 : \"S\"})"
   ]
  },
  {
   "cell_type": "code",
   "execution_count": 9,
   "metadata": {},
   "outputs": [],
   "source": [
    "mtcar_df[\"am\"] = mtcar_df[\"am\"].replace({0 : \"Auto\", 1 : \"Manual\"})"
   ]
  },
  {
   "cell_type": "code",
   "execution_count": 10,
   "metadata": {},
   "outputs": [
    {
     "data": {
      "text/plain": [
       "18.81642857142857"
      ]
     },
     "execution_count": 10,
     "metadata": {},
     "output_type": "execute_result"
    }
   ],
   "source": [
    "result = mtcar_df[\"qsec\"][(mtcar_df[\"cyl\"] != 3) & (mtcar_df[\"mpg\"] > 20)].mean()\n",
    "result"
   ]
  },
  {
   "cell_type": "code",
   "execution_count": 11,
   "metadata": {},
   "outputs": [
    {
     "data": {
      "text/html": [
       "<div>\n",
       "<style scoped>\n",
       "    .dataframe tbody tr th:only-of-type {\n",
       "        vertical-align: middle;\n",
       "    }\n",
       "\n",
       "    .dataframe tbody tr th {\n",
       "        vertical-align: top;\n",
       "    }\n",
       "\n",
       "    .dataframe thead th {\n",
       "        text-align: right;\n",
       "    }\n",
       "</style>\n",
       "<table border=\"1\" class=\"dataframe\">\n",
       "  <thead>\n",
       "    <tr style=\"text-align: right;\">\n",
       "      <th></th>\n",
       "      <th></th>\n",
       "      <th>hp</th>\n",
       "    </tr>\n",
       "    <tr>\n",
       "      <th>vs</th>\n",
       "      <th>am</th>\n",
       "      <th></th>\n",
       "    </tr>\n",
       "  </thead>\n",
       "  <tbody>\n",
       "    <tr>\n",
       "      <th rowspan=\"2\" valign=\"top\">S</th>\n",
       "      <th>Auto</th>\n",
       "      <td>102.142857</td>\n",
       "    </tr>\n",
       "    <tr>\n",
       "      <th>Manual</th>\n",
       "      <td>80.571429</td>\n",
       "    </tr>\n",
       "    <tr>\n",
       "      <th rowspan=\"2\" valign=\"top\">V</th>\n",
       "      <th>Auto</th>\n",
       "      <td>194.166667</td>\n",
       "    </tr>\n",
       "    <tr>\n",
       "      <th>Manual</th>\n",
       "      <td>180.833333</td>\n",
       "    </tr>\n",
       "  </tbody>\n",
       "</table>\n",
       "</div>"
      ],
      "text/plain": [
       "                   hp\n",
       "vs am                \n",
       "S  Auto    102.142857\n",
       "   Manual   80.571429\n",
       "V  Auto    194.166667\n",
       "   Manual  180.833333"
      ]
     },
     "execution_count": 11,
     "metadata": {},
     "output_type": "execute_result"
    }
   ],
   "source": [
    "mtcar_df.groupby([\"vs\", \"am\"]).agg({\"hp\" : \"mean\"})"
   ]
  },
  {
   "cell_type": "code",
   "execution_count": 12,
   "metadata": {},
   "outputs": [
    {
     "data": {
      "text/html": [
       "<div>\n",
       "<style scoped>\n",
       "    .dataframe tbody tr th:only-of-type {\n",
       "        vertical-align: middle;\n",
       "    }\n",
       "\n",
       "    .dataframe tbody tr th {\n",
       "        vertical-align: top;\n",
       "    }\n",
       "\n",
       "    .dataframe thead th {\n",
       "        text-align: right;\n",
       "    }\n",
       "</style>\n",
       "<table border=\"1\" class=\"dataframe\">\n",
       "  <thead>\n",
       "    <tr style=\"text-align: right;\">\n",
       "      <th></th>\n",
       "      <th>mpg</th>\n",
       "      <th>cyl</th>\n",
       "      <th>disp</th>\n",
       "      <th>hp</th>\n",
       "      <th>drat</th>\n",
       "      <th>wt</th>\n",
       "      <th>qsec</th>\n",
       "      <th>gear</th>\n",
       "      <th>carb</th>\n",
       "    </tr>\n",
       "    <tr>\n",
       "      <th>am</th>\n",
       "      <th></th>\n",
       "      <th></th>\n",
       "      <th></th>\n",
       "      <th></th>\n",
       "      <th></th>\n",
       "      <th></th>\n",
       "      <th></th>\n",
       "      <th></th>\n",
       "      <th></th>\n",
       "    </tr>\n",
       "  </thead>\n",
       "  <tbody>\n",
       "    <tr>\n",
       "      <th>Auto</th>\n",
       "      <td>17.3</td>\n",
       "      <td>8</td>\n",
       "      <td>275.8</td>\n",
       "      <td>175</td>\n",
       "      <td>3.15</td>\n",
       "      <td>3.52</td>\n",
       "      <td>17.82</td>\n",
       "      <td>3</td>\n",
       "      <td>3</td>\n",
       "    </tr>\n",
       "    <tr>\n",
       "      <th>Manual</th>\n",
       "      <td>22.8</td>\n",
       "      <td>4</td>\n",
       "      <td>120.3</td>\n",
       "      <td>109</td>\n",
       "      <td>4.08</td>\n",
       "      <td>2.32</td>\n",
       "      <td>17.02</td>\n",
       "      <td>4</td>\n",
       "      <td>2</td>\n",
       "    </tr>\n",
       "  </tbody>\n",
       "</table>\n",
       "</div>"
      ],
      "text/plain": [
       "         mpg  cyl   disp   hp  drat    wt   qsec  gear  carb\n",
       "am                                                          \n",
       "Auto    17.3    8  275.8  175  3.15  3.52  17.82     3     3\n",
       "Manual  22.8    4  120.3  109  4.08  2.32  17.02     4     2"
      ]
     },
     "execution_count": 12,
     "metadata": {},
     "output_type": "execute_result"
    }
   ],
   "source": [
    "mtcar_df.groupby(\"am\").agg(\"median\")"
   ]
  },
  {
   "cell_type": "code",
   "execution_count": 13,
   "metadata": {},
   "outputs": [
    {
     "data": {
      "text/html": [
       "<div>\n",
       "<style scoped>\n",
       "    .dataframe tbody tr th:only-of-type {\n",
       "        vertical-align: middle;\n",
       "    }\n",
       "\n",
       "    .dataframe tbody tr th {\n",
       "        vertical-align: top;\n",
       "    }\n",
       "\n",
       "    .dataframe thead th {\n",
       "        text-align: right;\n",
       "    }\n",
       "</style>\n",
       "<table border=\"1\" class=\"dataframe\">\n",
       "  <thead>\n",
       "    <tr style=\"text-align: right;\">\n",
       "      <th></th>\n",
       "      <th>mpg</th>\n",
       "      <th>cyl</th>\n",
       "      <th>disp</th>\n",
       "      <th>hp</th>\n",
       "      <th>drat</th>\n",
       "      <th>wt</th>\n",
       "      <th>qsec</th>\n",
       "      <th>gear</th>\n",
       "      <th>carb</th>\n",
       "    </tr>\n",
       "    <tr>\n",
       "      <th>am</th>\n",
       "      <th></th>\n",
       "      <th></th>\n",
       "      <th></th>\n",
       "      <th></th>\n",
       "      <th></th>\n",
       "      <th></th>\n",
       "      <th></th>\n",
       "      <th></th>\n",
       "      <th></th>\n",
       "    </tr>\n",
       "  </thead>\n",
       "  <tbody>\n",
       "    <tr>\n",
       "      <th>Auto</th>\n",
       "      <td>17.3</td>\n",
       "      <td>8</td>\n",
       "      <td>275.8</td>\n",
       "      <td>175</td>\n",
       "      <td>3.15</td>\n",
       "      <td>3.52</td>\n",
       "      <td>17.82</td>\n",
       "      <td>3</td>\n",
       "      <td>3</td>\n",
       "    </tr>\n",
       "    <tr>\n",
       "      <th>Manual</th>\n",
       "      <td>22.8</td>\n",
       "      <td>4</td>\n",
       "      <td>120.3</td>\n",
       "      <td>109</td>\n",
       "      <td>4.08</td>\n",
       "      <td>2.32</td>\n",
       "      <td>17.02</td>\n",
       "      <td>4</td>\n",
       "      <td>2</td>\n",
       "    </tr>\n",
       "  </tbody>\n",
       "</table>\n",
       "</div>"
      ],
      "text/plain": [
       "         mpg  cyl   disp   hp  drat    wt   qsec  gear  carb\n",
       "am                                                          \n",
       "Auto    17.3    8  275.8  175  3.15  3.52  17.82     3     3\n",
       "Manual  22.8    4  120.3  109  4.08  2.32  17.02     4     2"
      ]
     },
     "execution_count": 13,
     "metadata": {},
     "output_type": "execute_result"
    }
   ],
   "source": [
    "mtcar_df.groupby(\"am\").agg(\"median\")"
   ]
  },
  {
   "cell_type": "code",
   "execution_count": 14,
   "metadata": {},
   "outputs": [
    {
     "data": {
      "text/html": [
       "<div>\n",
       "<style scoped>\n",
       "    .dataframe tbody tr th:only-of-type {\n",
       "        vertical-align: middle;\n",
       "    }\n",
       "\n",
       "    .dataframe tbody tr th {\n",
       "        vertical-align: top;\n",
       "    }\n",
       "\n",
       "    .dataframe thead th {\n",
       "        text-align: right;\n",
       "    }\n",
       "</style>\n",
       "<table border=\"1\" class=\"dataframe\">\n",
       "  <thead>\n",
       "    <tr style=\"text-align: right;\">\n",
       "      <th></th>\n",
       "      <th></th>\n",
       "      <th>mpg</th>\n",
       "      <th>disp</th>\n",
       "    </tr>\n",
       "    <tr>\n",
       "      <th>am</th>\n",
       "      <th>vs</th>\n",
       "      <th></th>\n",
       "      <th></th>\n",
       "    </tr>\n",
       "  </thead>\n",
       "  <tbody>\n",
       "    <tr>\n",
       "      <th rowspan=\"2\" valign=\"top\">Auto</th>\n",
       "      <th>S</th>\n",
       "      <td>2.471071</td>\n",
       "      <td>49.130725</td>\n",
       "    </tr>\n",
       "    <tr>\n",
       "      <th>V</th>\n",
       "      <td>2.774396</td>\n",
       "      <td>71.823494</td>\n",
       "    </tr>\n",
       "    <tr>\n",
       "      <th rowspan=\"2\" valign=\"top\">Manual</th>\n",
       "      <th>S</th>\n",
       "      <td>4.757701</td>\n",
       "      <td>18.802128</td>\n",
       "    </tr>\n",
       "    <tr>\n",
       "      <th>V</th>\n",
       "      <td>4.008865</td>\n",
       "      <td>95.233616</td>\n",
       "    </tr>\n",
       "  </tbody>\n",
       "</table>\n",
       "</div>"
      ],
      "text/plain": [
       "                mpg       disp\n",
       "am     vs                     \n",
       "Auto   S   2.471071  49.130725\n",
       "       V   2.774396  71.823494\n",
       "Manual S   4.757701  18.802128\n",
       "       V   4.008865  95.233616"
      ]
     },
     "execution_count": 14,
     "metadata": {},
     "output_type": "execute_result"
    }
   ],
   "source": [
    "mtcar_df.groupby([\"am\", \"vs\"]).agg(\"std\").iloc[:,[0,2]]"
   ]
  },
  {
   "cell_type": "code",
   "execution_count": 15,
   "metadata": {},
   "outputs": [],
   "source": [
    "my_stats = mtcar_df.groupby([\"am\", \"vs\"]).agg(\"std\").iloc[:,[0,2]]"
   ]
  },
  {
   "cell_type": "code",
   "execution_count": 16,
   "metadata": {},
   "outputs": [
    {
     "data": {
      "text/html": [
       "<div>\n",
       "<style scoped>\n",
       "    .dataframe tbody tr th:only-of-type {\n",
       "        vertical-align: middle;\n",
       "    }\n",
       "\n",
       "    .dataframe tbody tr th {\n",
       "        vertical-align: top;\n",
       "    }\n",
       "\n",
       "    .dataframe thead th {\n",
       "        text-align: right;\n",
       "    }\n",
       "</style>\n",
       "<table border=\"1\" class=\"dataframe\">\n",
       "  <thead>\n",
       "    <tr style=\"text-align: right;\">\n",
       "      <th></th>\n",
       "      <th>hp</th>\n",
       "      <th>disp</th>\n",
       "    </tr>\n",
       "    <tr>\n",
       "      <th>am</th>\n",
       "      <th></th>\n",
       "      <th></th>\n",
       "    </tr>\n",
       "  </thead>\n",
       "  <tbody>\n",
       "    <tr>\n",
       "      <th>Auto</th>\n",
       "      <td>53.908196</td>\n",
       "      <td>110.171647</td>\n",
       "    </tr>\n",
       "    <tr>\n",
       "      <th>Manual</th>\n",
       "      <td>84.062324</td>\n",
       "      <td>87.203989</td>\n",
       "    </tr>\n",
       "  </tbody>\n",
       "</table>\n",
       "</div>"
      ],
      "text/plain": [
       "               hp        disp\n",
       "am                           \n",
       "Auto    53.908196  110.171647\n",
       "Manual  84.062324   87.203989"
      ]
     },
     "execution_count": 16,
     "metadata": {},
     "output_type": "execute_result"
    }
   ],
   "source": [
    "descriptions_stat = mtcar_df.groupby([\"am\"]).agg(\"std\").loc[:, [\"hp\", \"disp\"]]\n",
    "descriptions_stat"
   ]
  },
  {
   "cell_type": "code",
   "execution_count": 17,
   "metadata": {},
   "outputs": [
    {
     "data": {
      "text/html": [
       "<div>\n",
       "<style scoped>\n",
       "    .dataframe tbody tr th:only-of-type {\n",
       "        vertical-align: middle;\n",
       "    }\n",
       "\n",
       "    .dataframe tbody tr th {\n",
       "        vertical-align: top;\n",
       "    }\n",
       "\n",
       "    .dataframe thead tr th {\n",
       "        text-align: left;\n",
       "    }\n",
       "\n",
       "    .dataframe thead tr:last-of-type th {\n",
       "        text-align: right;\n",
       "    }\n",
       "</style>\n",
       "<table border=\"1\" class=\"dataframe\">\n",
       "  <thead>\n",
       "    <tr>\n",
       "      <th></th>\n",
       "      <th></th>\n",
       "      <th colspan=\"6\" halign=\"left\">qsec</th>\n",
       "    </tr>\n",
       "    <tr>\n",
       "      <th></th>\n",
       "      <th></th>\n",
       "      <th>count</th>\n",
       "      <th>min</th>\n",
       "      <th>max</th>\n",
       "      <th>mean</th>\n",
       "      <th>std</th>\n",
       "      <th>sem</th>\n",
       "    </tr>\n",
       "    <tr>\n",
       "      <th>am</th>\n",
       "      <th>vs</th>\n",
       "      <th></th>\n",
       "      <th></th>\n",
       "      <th></th>\n",
       "      <th></th>\n",
       "      <th></th>\n",
       "      <th></th>\n",
       "    </tr>\n",
       "  </thead>\n",
       "  <tbody>\n",
       "    <tr>\n",
       "      <th rowspan=\"2\" valign=\"top\">Auto</th>\n",
       "      <th>S</th>\n",
       "      <td>7</td>\n",
       "      <td>18.30</td>\n",
       "      <td>22.90</td>\n",
       "      <td>19.97</td>\n",
       "      <td>1.46</td>\n",
       "      <td>0.55</td>\n",
       "    </tr>\n",
       "    <tr>\n",
       "      <th>V</th>\n",
       "      <td>12</td>\n",
       "      <td>15.41</td>\n",
       "      <td>18.00</td>\n",
       "      <td>17.14</td>\n",
       "      <td>0.80</td>\n",
       "      <td>0.23</td>\n",
       "    </tr>\n",
       "    <tr>\n",
       "      <th rowspan=\"2\" valign=\"top\">Manual</th>\n",
       "      <th>S</th>\n",
       "      <td>7</td>\n",
       "      <td>16.90</td>\n",
       "      <td>19.90</td>\n",
       "      <td>18.70</td>\n",
       "      <td>0.95</td>\n",
       "      <td>0.36</td>\n",
       "    </tr>\n",
       "    <tr>\n",
       "      <th>V</th>\n",
       "      <td>6</td>\n",
       "      <td>14.50</td>\n",
       "      <td>17.02</td>\n",
       "      <td>15.80</td>\n",
       "      <td>1.09</td>\n",
       "      <td>0.45</td>\n",
       "    </tr>\n",
       "  </tbody>\n",
       "</table>\n",
       "</div>"
      ],
      "text/plain": [
       "           qsec                                 \n",
       "          count    min    max   mean   std   sem\n",
       "am     vs                                       \n",
       "Auto   S      7  18.30  22.90  19.97  1.46  0.55\n",
       "       V     12  15.41  18.00  17.14  0.80  0.23\n",
       "Manual S      7  16.90  19.90  18.70  0.95  0.36\n",
       "       V      6  14.50  17.02  15.80  1.09  0.45"
      ]
     },
     "execution_count": 17,
     "metadata": {},
     "output_type": "execute_result"
    }
   ],
   "source": [
    "round(mtcar_df.groupby([\"am\", \"vs\"]).agg({\"qsec\" : [\"count\", \"min\", \"max\", \"mean\", \"std\", \"sem\"]}), 2)"
   ]
  },
  {
   "cell_type": "code",
   "execution_count": 18,
   "metadata": {},
   "outputs": [
    {
     "data": {
      "text/plain": [
       "Car Model    0\n",
       "mpg          0\n",
       "cyl          0\n",
       "disp         0\n",
       "hp           0\n",
       "drat         0\n",
       "wt           0\n",
       "qsec         0\n",
       "vs           0\n",
       "am           0\n",
       "gear         0\n",
       "carb         0\n",
       "dtype: int64"
      ]
     },
     "execution_count": 18,
     "metadata": {},
     "output_type": "execute_result"
    }
   ],
   "source": [
    "mtcar_df.isna().sum()"
   ]
  },
  {
   "cell_type": "markdown",
   "metadata": {},
   "source": [
    "Dealing with NA "
   ]
  },
  {
   "cell_type": "code",
   "execution_count": 19,
   "metadata": {},
   "outputs": [],
   "source": [
    "# mtcar_df.head(15)"
   ]
  },
  {
   "cell_type": "code",
   "execution_count": 20,
   "metadata": {},
   "outputs": [],
   "source": [
    "# mtcar_df[\"mpg\"].mean()"
   ]
  },
  {
   "cell_type": "code",
   "execution_count": 21,
   "metadata": {},
   "outputs": [],
   "source": [
    "# mtcar_df[\"mpg\"].iloc[1:10] = None"
   ]
  },
  {
   "cell_type": "code",
   "execution_count": 22,
   "metadata": {},
   "outputs": [],
   "source": [
    "# mtcar_df.head(15)"
   ]
  },
  {
   "cell_type": "code",
   "execution_count": 23,
   "metadata": {},
   "outputs": [],
   "source": [
    "# mtcar_df[\"mpg\"].mean()"
   ]
  },
  {
   "cell_type": "code",
   "execution_count": 24,
   "metadata": {},
   "outputs": [
    {
     "data": {
      "text/plain": [
       "<AxesSubplot:xlabel='mpg', ylabel='Count'>"
      ]
     },
     "execution_count": 24,
     "metadata": {},
     "output_type": "execute_result"
    },
    {
     "data": {
      "image/png": "[encoded data removed]",
      "text/plain": [
       "<Figure size 432x288 with 1 Axes>"
      ]
     },
     "metadata": {
      "needs_background": "light"
     },
     "output_type": "display_data"
    }
   ],
   "source": [
    "sns.histplot(mtcar_df[\"mpg\"])"
   ]
  },
  {
   "cell_type": "code",
   "execution_count": 25,
   "metadata": {},
   "outputs": [
    {
     "data": {
      "image/png": "[encoded data removed]",
      "text/plain": [
       "<Figure size 432x288 with 1 Axes>"
      ]
     },
     "metadata": {
      "needs_background": "light"
     },
     "output_type": "display_data"
    }
   ],
   "source": [
    "ax = sns.boxplot(x=\"am\", y=\"mpg\", data=mtcar_df)"
   ]
  },
  {
   "cell_type": "code",
   "execution_count": 26,
   "metadata": {},
   "outputs": [
    {
     "data": {
      "text/plain": [
       "<AxesSubplot:xlabel='mpg', ylabel='hp'>"
      ]
     },
     "execution_count": 26,
     "metadata": {},
     "output_type": "execute_result"
    },
    {
     "data": {
      "image/png": "[encoded data removed]",
      "text/plain": [
       "<Figure size 432x288 with 1 Axes>"
      ]
     },
     "metadata": {
      "needs_background": "light"
     },
     "output_type": "display_data"
    }
   ],
   "source": [
    "sns.scatterplot(data=mtcar_df, x=\"mpg\", y=\"hp\", hue=\"vs\", size= \"qsec\")"
   ]
  },
  {
   "cell_type": "code",
   "execution_count": 27,
   "metadata": {},
   "outputs": [
    {
     "data": {
      "text/plain": [
       "<AxesSubplot:xlabel='mpg', ylabel='disp'>"
      ]
     },
     "execution_count": 27,
     "metadata": {},
     "output_type": "execute_result"
    },
    {
     "data": {
      "image/png": "[encoded data removed]",
      "text/plain": [
       "<Figure size 432x288 with 1 Axes>"
      ]
     },
     "metadata": {
      "needs_background": "light"
     },
     "output_type": "display_data"
    }
   ],
   "source": [
    "sns.scatterplot(data=mtcar_df, x=\"mpg\", y=\"disp\", hue=\"hp\")"
   ]
  },
  {
   "cell_type": "code",
   "execution_count": 28,
   "metadata": {},
   "outputs": [
    {
     "data": {
      "text/plain": [
       "<seaborn.axisgrid.FacetGrid at 0x7fed5dde2c10>"
      ]
     },
     "execution_count": 28,
     "metadata": {},
     "output_type": "execute_result"
    },
    {
     "data": {
      "image/png": "[encoded data removed]",
      "text/plain": [
       "<Figure size 432.5x360 with 1 Axes>"
      ]
     },
     "metadata": {
      "needs_background": "light"
     },
     "output_type": "display_data"
    }
   ],
   "source": [
    "sns.displot(data=mtcar_df, x=\"mpg\", hue=\"am\", kde=True)"
   ]
  },
  {
   "cell_type": "code",
   "execution_count": 29,
   "metadata": {},
   "outputs": [
    {
     "data": {
      "text/html": [
       "<div>\n",
       "<style scoped>\n",
       "    .dataframe tbody tr th:only-of-type {\n",
       "        vertical-align: middle;\n",
       "    }\n",
       "\n",
       "    .dataframe tbody tr th {\n",
       "        vertical-align: top;\n",
       "    }\n",
       "\n",
       "    .dataframe thead th {\n",
       "        text-align: right;\n",
       "    }\n",
       "</style>\n",
       "<table border=\"1\" class=\"dataframe\">\n",
       "  <thead>\n",
       "    <tr style=\"text-align: right;\">\n",
       "      <th></th>\n",
       "      <th>Car Model</th>\n",
       "      <th>mpg</th>\n",
       "      <th>cyl</th>\n",
       "      <th>disp</th>\n",
       "      <th>hp</th>\n",
       "      <th>drat</th>\n",
       "      <th>wt</th>\n",
       "      <th>qsec</th>\n",
       "      <th>vs</th>\n",
       "      <th>am</th>\n",
       "      <th>gear</th>\n",
       "      <th>carb</th>\n",
       "    </tr>\n",
       "  </thead>\n",
       "  <tbody>\n",
       "    <tr>\n",
       "      <th>0</th>\n",
       "      <td>Mazda RX4</td>\n",
       "      <td>21.0</td>\n",
       "      <td>6</td>\n",
       "      <td>160.0</td>\n",
       "      <td>110</td>\n",
       "      <td>3.90</td>\n",
       "      <td>2.620</td>\n",
       "      <td>16.46</td>\n",
       "      <td>V</td>\n",
       "      <td>Manual</td>\n",
       "      <td>4</td>\n",
       "      <td>4</td>\n",
       "    </tr>\n",
       "    <tr>\n",
       "      <th>1</th>\n",
       "      <td>Mazda RX4 Wag</td>\n",
       "      <td>21.0</td>\n",
       "      <td>6</td>\n",
       "      <td>160.0</td>\n",
       "      <td>110</td>\n",
       "      <td>3.90</td>\n",
       "      <td>2.875</td>\n",
       "      <td>17.02</td>\n",
       "      <td>V</td>\n",
       "      <td>Manual</td>\n",
       "      <td>4</td>\n",
       "      <td>4</td>\n",
       "    </tr>\n",
       "    <tr>\n",
       "      <th>2</th>\n",
       "      <td>Datsun 710</td>\n",
       "      <td>22.8</td>\n",
       "      <td>4</td>\n",
       "      <td>108.0</td>\n",
       "      <td>93</td>\n",
       "      <td>3.85</td>\n",
       "      <td>2.320</td>\n",
       "      <td>18.61</td>\n",
       "      <td>S</td>\n",
       "      <td>Manual</td>\n",
       "      <td>4</td>\n",
       "      <td>1</td>\n",
       "    </tr>\n",
       "    <tr>\n",
       "      <th>3</th>\n",
       "      <td>Hornet 4 Drive</td>\n",
       "      <td>21.4</td>\n",
       "      <td>6</td>\n",
       "      <td>258.0</td>\n",
       "      <td>110</td>\n",
       "      <td>3.08</td>\n",
       "      <td>3.215</td>\n",
       "      <td>19.44</td>\n",
       "      <td>S</td>\n",
       "      <td>Auto</td>\n",
       "      <td>3</td>\n",
       "      <td>1</td>\n",
       "    </tr>\n",
       "    <tr>\n",
       "      <th>4</th>\n",
       "      <td>Hornet Sportabout</td>\n",
       "      <td>18.7</td>\n",
       "      <td>8</td>\n",
       "      <td>360.0</td>\n",
       "      <td>175</td>\n",
       "      <td>3.15</td>\n",
       "      <td>3.440</td>\n",
       "      <td>17.02</td>\n",
       "      <td>V</td>\n",
       "      <td>Auto</td>\n",
       "      <td>3</td>\n",
       "      <td>2</td>\n",
       "    </tr>\n",
       "  </tbody>\n",
       "</table>\n",
       "</div>"
      ],
      "text/plain": [
       "           Car Model   mpg  cyl   disp   hp  drat     wt   qsec vs      am  \\\n",
       "0          Mazda RX4  21.0    6  160.0  110  3.90  2.620  16.46  V  Manual   \n",
       "1      Mazda RX4 Wag  21.0    6  160.0  110  3.90  2.875  17.02  V  Manual   \n",
       "2         Datsun 710  22.8    4  108.0   93  3.85  2.320  18.61  S  Manual   \n",
       "3     Hornet 4 Drive  21.4    6  258.0  110  3.08  3.215  19.44  S    Auto   \n",
       "4  Hornet Sportabout  18.7    8  360.0  175  3.15  3.440  17.02  V    Auto   \n",
       "\n",
       "   gear  carb  \n",
       "0     4     4  \n",
       "1     4     4  \n",
       "2     4     1  \n",
       "3     3     1  \n",
       "4     3     2  "
      ]
     },
     "execution_count": 29,
     "metadata": {},
     "output_type": "execute_result"
    }
   ],
   "source": [
    "mtcar_df.head()"
   ]
  },
  {
   "cell_type": "code",
   "execution_count": 30,
   "metadata": {},
   "outputs": [
    {
     "data": {
      "text/html": [
       "<div>\n",
       "<style scoped>\n",
       "    .dataframe tbody tr th:only-of-type {\n",
       "        vertical-align: middle;\n",
       "    }\n",
       "\n",
       "    .dataframe tbody tr th {\n",
       "        vertical-align: top;\n",
       "    }\n",
       "\n",
       "    .dataframe thead th {\n",
       "        text-align: right;\n",
       "    }\n",
       "</style>\n",
       "<table border=\"1\" class=\"dataframe\">\n",
       "  <thead>\n",
       "    <tr style=\"text-align: right;\">\n",
       "      <th>am</th>\n",
       "      <th>Auto</th>\n",
       "      <th>Manual</th>\n",
       "    </tr>\n",
       "    <tr>\n",
       "      <th>vs</th>\n",
       "      <th></th>\n",
       "      <th></th>\n",
       "    </tr>\n",
       "  </thead>\n",
       "  <tbody>\n",
       "    <tr>\n",
       "      <th>S</th>\n",
       "      <td>7</td>\n",
       "      <td>7</td>\n",
       "    </tr>\n",
       "    <tr>\n",
       "      <th>V</th>\n",
       "      <td>12</td>\n",
       "      <td>6</td>\n",
       "    </tr>\n",
       "  </tbody>\n",
       "</table>\n",
       "</div>"
      ],
      "text/plain": [
       "am  Auto  Manual\n",
       "vs              \n",
       "S      7       7\n",
       "V     12       6"
      ]
     },
     "execution_count": 30,
     "metadata": {},
     "output_type": "execute_result"
    }
   ],
   "source": [
    "d = mtcar_df.groupby([\"vs\", \"am\"])[\"am\"].count().unstack()\n",
    "d"
   ]
  },
  {
   "cell_type": "code",
   "execution_count": 31,
   "metadata": {},
   "outputs": [],
   "source": [
    "p_value = scipy.stats.fisher_exact(d)[1]"
   ]
  },
  {
   "cell_type": "code",
   "execution_count": 32,
   "metadata": {},
   "outputs": [],
   "source": [
    "# Предполагается, что Вы уже скачали необходимый датасет и знаете путь до него\n",
    "# import pandas as pd\n",
    "# import scipy.stats\n",
    "\n",
    "# mtcar_path = PATH_TO_DATA + \"mtcars.csv\"\n",
    "# mtcar = pd.read_csv(mtcar_path)\n",
    "# d = mtcar.groupby([\"vs\", \"am\"])[\"am\"].count().unstack()\n",
    "# p_value = scipy.stats.fisher_exact(d)[1]"
   ]
  },
  {
   "cell_type": "code",
   "execution_count": null,
   "metadata": {},
   "outputs": [],
   "source": []
  },
  {
   "cell_type": "markdown",
   "metadata": {},
   "source": [
    "### NEW DATASET "
   ]
  },
  {
   "cell_type": "code",
   "execution_count": 33,
   "metadata": {},
   "outputs": [],
   "source": [
    "DATA = \"~/PycharmProjects/Datasets/\"\n",
    "airquality_path = DATA + \"airquality.csv\"\n",
    "airquality = pd.read_csv(airquality_path)"
   ]
  },
  {
   "cell_type": "code",
   "execution_count": 34,
   "metadata": {},
   "outputs": [],
   "source": [
    "airquality = airquality.drop(\"Unnamed: 0\", axis=1)"
   ]
  },
  {
   "cell_type": "code",
   "execution_count": 35,
   "metadata": {},
   "outputs": [
    {
     "data": {
      "text/html": [
       "<div>\n",
       "<style scoped>\n",
       "    .dataframe tbody tr th:only-of-type {\n",
       "        vertical-align: middle;\n",
       "    }\n",
       "\n",
       "    .dataframe tbody tr th {\n",
       "        vertical-align: top;\n",
       "    }\n",
       "\n",
       "    .dataframe thead th {\n",
       "        text-align: right;\n",
       "    }\n",
       "</style>\n",
       "<table border=\"1\" class=\"dataframe\">\n",
       "  <thead>\n",
       "    <tr style=\"text-align: right;\">\n",
       "      <th></th>\n",
       "      <th>Ozone</th>\n",
       "      <th>Solar.R</th>\n",
       "      <th>Wind</th>\n",
       "      <th>Temp</th>\n",
       "      <th>Month</th>\n",
       "      <th>Day</th>\n",
       "    </tr>\n",
       "  </thead>\n",
       "  <tbody>\n",
       "    <tr>\n",
       "      <th>0</th>\n",
       "      <td>41.0</td>\n",
       "      <td>190.0</td>\n",
       "      <td>7.4</td>\n",
       "      <td>67</td>\n",
       "      <td>5</td>\n",
       "      <td>1</td>\n",
       "    </tr>\n",
       "    <tr>\n",
       "      <th>1</th>\n",
       "      <td>36.0</td>\n",
       "      <td>118.0</td>\n",
       "      <td>8.0</td>\n",
       "      <td>72</td>\n",
       "      <td>5</td>\n",
       "      <td>2</td>\n",
       "    </tr>\n",
       "    <tr>\n",
       "      <th>2</th>\n",
       "      <td>12.0</td>\n",
       "      <td>149.0</td>\n",
       "      <td>12.6</td>\n",
       "      <td>74</td>\n",
       "      <td>5</td>\n",
       "      <td>3</td>\n",
       "    </tr>\n",
       "    <tr>\n",
       "      <th>3</th>\n",
       "      <td>18.0</td>\n",
       "      <td>313.0</td>\n",
       "      <td>11.5</td>\n",
       "      <td>62</td>\n",
       "      <td>5</td>\n",
       "      <td>4</td>\n",
       "    </tr>\n",
       "    <tr>\n",
       "      <th>4</th>\n",
       "      <td>NaN</td>\n",
       "      <td>NaN</td>\n",
       "      <td>14.3</td>\n",
       "      <td>56</td>\n",
       "      <td>5</td>\n",
       "      <td>5</td>\n",
       "    </tr>\n",
       "    <tr>\n",
       "      <th>5</th>\n",
       "      <td>28.0</td>\n",
       "      <td>NaN</td>\n",
       "      <td>14.9</td>\n",
       "      <td>66</td>\n",
       "      <td>5</td>\n",
       "      <td>6</td>\n",
       "    </tr>\n",
       "    <tr>\n",
       "      <th>6</th>\n",
       "      <td>23.0</td>\n",
       "      <td>299.0</td>\n",
       "      <td>8.6</td>\n",
       "      <td>65</td>\n",
       "      <td>5</td>\n",
       "      <td>7</td>\n",
       "    </tr>\n",
       "    <tr>\n",
       "      <th>7</th>\n",
       "      <td>19.0</td>\n",
       "      <td>99.0</td>\n",
       "      <td>13.8</td>\n",
       "      <td>59</td>\n",
       "      <td>5</td>\n",
       "      <td>8</td>\n",
       "    </tr>\n",
       "    <tr>\n",
       "      <th>8</th>\n",
       "      <td>8.0</td>\n",
       "      <td>19.0</td>\n",
       "      <td>20.1</td>\n",
       "      <td>61</td>\n",
       "      <td>5</td>\n",
       "      <td>9</td>\n",
       "    </tr>\n",
       "    <tr>\n",
       "      <th>9</th>\n",
       "      <td>NaN</td>\n",
       "      <td>194.0</td>\n",
       "      <td>8.6</td>\n",
       "      <td>69</td>\n",
       "      <td>5</td>\n",
       "      <td>10</td>\n",
       "    </tr>\n",
       "  </tbody>\n",
       "</table>\n",
       "</div>"
      ],
      "text/plain": [
       "   Ozone  Solar.R  Wind  Temp  Month  Day\n",
       "0   41.0    190.0   7.4    67      5    1\n",
       "1   36.0    118.0   8.0    72      5    2\n",
       "2   12.0    149.0  12.6    74      5    3\n",
       "3   18.0    313.0  11.5    62      5    4\n",
       "4    NaN      NaN  14.3    56      5    5\n",
       "5   28.0      NaN  14.9    66      5    6\n",
       "6   23.0    299.0   8.6    65      5    7\n",
       "7   19.0     99.0  13.8    59      5    8\n",
       "8    8.0     19.0  20.1    61      5    9\n",
       "9    NaN    194.0   8.6    69      5   10"
      ]
     },
     "execution_count": 35,
     "metadata": {},
     "output_type": "execute_result"
    }
   ],
   "source": [
    "airquality.head(10)"
   ]
  },
  {
   "cell_type": "code",
   "execution_count": 36,
   "metadata": {},
   "outputs": [],
   "source": [
    "airquality_df = airquality.copy()"
   ]
  },
  {
   "cell_type": "code",
   "execution_count": 37,
   "metadata": {},
   "outputs": [
    {
     "data": {
      "text/html": [
       "<div>\n",
       "<style scoped>\n",
       "    .dataframe tbody tr th:only-of-type {\n",
       "        vertical-align: middle;\n",
       "    }\n",
       "\n",
       "    .dataframe tbody tr th {\n",
       "        vertical-align: top;\n",
       "    }\n",
       "\n",
       "    .dataframe thead th {\n",
       "        text-align: right;\n",
       "    }\n",
       "</style>\n",
       "<table border=\"1\" class=\"dataframe\">\n",
       "  <thead>\n",
       "    <tr style=\"text-align: right;\">\n",
       "      <th></th>\n",
       "      <th>Ozone</th>\n",
       "      <th>Solar.R</th>\n",
       "      <th>Wind</th>\n",
       "      <th>Temp</th>\n",
       "      <th>Month</th>\n",
       "      <th>Day</th>\n",
       "    </tr>\n",
       "  </thead>\n",
       "  <tbody>\n",
       "    <tr>\n",
       "      <th>61</th>\n",
       "      <td>135.0</td>\n",
       "      <td>269.0</td>\n",
       "      <td>4.1</td>\n",
       "      <td>84</td>\n",
       "      <td>7</td>\n",
       "      <td>1</td>\n",
       "    </tr>\n",
       "    <tr>\n",
       "      <th>62</th>\n",
       "      <td>49.0</td>\n",
       "      <td>248.0</td>\n",
       "      <td>9.2</td>\n",
       "      <td>85</td>\n",
       "      <td>7</td>\n",
       "      <td>2</td>\n",
       "    </tr>\n",
       "    <tr>\n",
       "      <th>63</th>\n",
       "      <td>32.0</td>\n",
       "      <td>236.0</td>\n",
       "      <td>9.2</td>\n",
       "      <td>81</td>\n",
       "      <td>7</td>\n",
       "      <td>3</td>\n",
       "    </tr>\n",
       "    <tr>\n",
       "      <th>64</th>\n",
       "      <td>NaN</td>\n",
       "      <td>101.0</td>\n",
       "      <td>10.9</td>\n",
       "      <td>84</td>\n",
       "      <td>7</td>\n",
       "      <td>4</td>\n",
       "    </tr>\n",
       "    <tr>\n",
       "      <th>65</th>\n",
       "      <td>64.0</td>\n",
       "      <td>175.0</td>\n",
       "      <td>4.6</td>\n",
       "      <td>83</td>\n",
       "      <td>7</td>\n",
       "      <td>5</td>\n",
       "    </tr>\n",
       "    <tr>\n",
       "      <th>...</th>\n",
       "      <td>...</td>\n",
       "      <td>...</td>\n",
       "      <td>...</td>\n",
       "      <td>...</td>\n",
       "      <td>...</td>\n",
       "      <td>...</td>\n",
       "    </tr>\n",
       "    <tr>\n",
       "      <th>148</th>\n",
       "      <td>30.0</td>\n",
       "      <td>193.0</td>\n",
       "      <td>6.9</td>\n",
       "      <td>70</td>\n",
       "      <td>9</td>\n",
       "      <td>26</td>\n",
       "    </tr>\n",
       "    <tr>\n",
       "      <th>149</th>\n",
       "      <td>NaN</td>\n",
       "      <td>145.0</td>\n",
       "      <td>13.2</td>\n",
       "      <td>77</td>\n",
       "      <td>9</td>\n",
       "      <td>27</td>\n",
       "    </tr>\n",
       "    <tr>\n",
       "      <th>150</th>\n",
       "      <td>14.0</td>\n",
       "      <td>191.0</td>\n",
       "      <td>14.3</td>\n",
       "      <td>75</td>\n",
       "      <td>9</td>\n",
       "      <td>28</td>\n",
       "    </tr>\n",
       "    <tr>\n",
       "      <th>151</th>\n",
       "      <td>18.0</td>\n",
       "      <td>131.0</td>\n",
       "      <td>8.0</td>\n",
       "      <td>76</td>\n",
       "      <td>9</td>\n",
       "      <td>29</td>\n",
       "    </tr>\n",
       "    <tr>\n",
       "      <th>152</th>\n",
       "      <td>20.0</td>\n",
       "      <td>223.0</td>\n",
       "      <td>11.5</td>\n",
       "      <td>68</td>\n",
       "      <td>9</td>\n",
       "      <td>30</td>\n",
       "    </tr>\n",
       "  </tbody>\n",
       "</table>\n",
       "<p>92 rows × 6 columns</p>\n",
       "</div>"
      ],
      "text/plain": [
       "     Ozone  Solar.R  Wind  Temp  Month  Day\n",
       "61   135.0    269.0   4.1    84      7    1\n",
       "62    49.0    248.0   9.2    85      7    2\n",
       "63    32.0    236.0   9.2    81      7    3\n",
       "64     NaN    101.0  10.9    84      7    4\n",
       "65    64.0    175.0   4.6    83      7    5\n",
       "..     ...      ...   ...   ...    ...  ...\n",
       "148   30.0    193.0   6.9    70      9   26\n",
       "149    NaN    145.0  13.2    77      9   27\n",
       "150   14.0    191.0  14.3    75      9   28\n",
       "151   18.0    131.0   8.0    76      9   29\n",
       "152   20.0    223.0  11.5    68      9   30\n",
       "\n",
       "[92 rows x 6 columns]"
      ]
     },
     "execution_count": 37,
     "metadata": {},
     "output_type": "execute_result"
    }
   ],
   "source": [
    "airquality_df.loc[airquality_df.Month >= 7]\n",
    "# ИЛИ\n",
    "airquality_df.query(\"Month >= 7\")"
   ]
  },
  {
   "cell_type": "code",
   "execution_count": 38,
   "metadata": {},
   "outputs": [],
   "source": [
    "aq_ss = airquality_df.query(\"Month >= 7\")"
   ]
  },
  {
   "cell_type": "code",
   "execution_count": 39,
   "metadata": {},
   "outputs": [
    {
     "data": {
      "text/html": [
       "<div>\n",
       "<style scoped>\n",
       "    .dataframe tbody tr th:only-of-type {\n",
       "        vertical-align: middle;\n",
       "    }\n",
       "\n",
       "    .dataframe tbody tr th {\n",
       "        vertical-align: top;\n",
       "    }\n",
       "\n",
       "    .dataframe thead th {\n",
       "        text-align: right;\n",
       "    }\n",
       "</style>\n",
       "<table border=\"1\" class=\"dataframe\">\n",
       "  <thead>\n",
       "    <tr style=\"text-align: right;\">\n",
       "      <th></th>\n",
       "      <th>Ozone</th>\n",
       "    </tr>\n",
       "    <tr>\n",
       "      <th>Month</th>\n",
       "      <th></th>\n",
       "    </tr>\n",
       "  </thead>\n",
       "  <tbody>\n",
       "    <tr>\n",
       "      <th>7</th>\n",
       "      <td>26</td>\n",
       "    </tr>\n",
       "    <tr>\n",
       "      <th>8</th>\n",
       "      <td>26</td>\n",
       "    </tr>\n",
       "    <tr>\n",
       "      <th>9</th>\n",
       "      <td>29</td>\n",
       "    </tr>\n",
       "  </tbody>\n",
       "</table>\n",
       "</div>"
      ],
      "text/plain": [
       "       Ozone\n",
       "Month       \n",
       "7         26\n",
       "8         26\n",
       "9         29"
      ]
     },
     "execution_count": 39,
     "metadata": {},
     "output_type": "execute_result"
    }
   ],
   "source": [
    "aq_ss.groupby(\"Month\").agg({\"Ozone\" : \"count\"})\n",
    "# ИЛИ \n",
    "# airquality_df.query(\"Month >= 7\").groupby(\"Month\").agg({\"Ozone\" : \"count\"})"
   ]
  },
  {
   "cell_type": "code",
   "execution_count": 40,
   "metadata": {},
   "outputs": [
    {
     "data": {
      "text/plain": [
       "<AxesSubplot:xlabel='Month', ylabel='Ozone'>"
      ]
     },
     "execution_count": 40,
     "metadata": {},
     "output_type": "execute_result"
    },
    {
     "data": {
      "image/png": "[encoded data removed]",
      "text/plain": [
       "<Figure size 432x288 with 1 Axes>"
      ]
     },
     "metadata": {
      "needs_background": "light"
     },
     "output_type": "display_data"
    }
   ],
   "source": [
    "sns.boxplot(x=\"Month\", y=\"Ozone\", data=airquality_df)"
   ]
  },
  {
   "cell_type": "markdown",
   "metadata": {},
   "source": [
    "### NEW DATASET"
   ]
  },
  {
   "cell_type": "code",
   "execution_count": 41,
   "metadata": {},
   "outputs": [],
   "source": [
    "DATA = \"~/PycharmProjects/Datasets/\"\n",
    "iris_path = DATA + \"iris.csv\"\n",
    "iris = pd.read_csv(iris_path, index_col=0)"
   ]
  },
  {
   "cell_type": "code",
   "execution_count": 42,
   "metadata": {},
   "outputs": [
    {
     "data": {
      "text/html": [
       "<div>\n",
       "<style scoped>\n",
       "    .dataframe tbody tr th:only-of-type {\n",
       "        vertical-align: middle;\n",
       "    }\n",
       "\n",
       "    .dataframe tbody tr th {\n",
       "        vertical-align: top;\n",
       "    }\n",
       "\n",
       "    .dataframe thead th {\n",
       "        text-align: right;\n",
       "    }\n",
       "</style>\n",
       "<table border=\"1\" class=\"dataframe\">\n",
       "  <thead>\n",
       "    <tr style=\"text-align: right;\">\n",
       "      <th></th>\n",
       "      <th>Sepal.Length</th>\n",
       "      <th>Sepal.Width</th>\n",
       "      <th>Petal.Length</th>\n",
       "      <th>Petal.Width</th>\n",
       "      <th>Species</th>\n",
       "    </tr>\n",
       "  </thead>\n",
       "  <tbody>\n",
       "    <tr>\n",
       "      <th>1</th>\n",
       "      <td>5.1</td>\n",
       "      <td>3.5</td>\n",
       "      <td>1.4</td>\n",
       "      <td>0.2</td>\n",
       "      <td>setosa</td>\n",
       "    </tr>\n",
       "    <tr>\n",
       "      <th>2</th>\n",
       "      <td>4.9</td>\n",
       "      <td>3.0</td>\n",
       "      <td>1.4</td>\n",
       "      <td>0.2</td>\n",
       "      <td>setosa</td>\n",
       "    </tr>\n",
       "    <tr>\n",
       "      <th>3</th>\n",
       "      <td>4.7</td>\n",
       "      <td>3.2</td>\n",
       "      <td>1.3</td>\n",
       "      <td>0.2</td>\n",
       "      <td>setosa</td>\n",
       "    </tr>\n",
       "    <tr>\n",
       "      <th>4</th>\n",
       "      <td>4.6</td>\n",
       "      <td>3.1</td>\n",
       "      <td>1.5</td>\n",
       "      <td>0.2</td>\n",
       "      <td>setosa</td>\n",
       "    </tr>\n",
       "    <tr>\n",
       "      <th>5</th>\n",
       "      <td>5.0</td>\n",
       "      <td>3.6</td>\n",
       "      <td>1.4</td>\n",
       "      <td>0.2</td>\n",
       "      <td>setosa</td>\n",
       "    </tr>\n",
       "    <tr>\n",
       "      <th>6</th>\n",
       "      <td>5.4</td>\n",
       "      <td>3.9</td>\n",
       "      <td>1.7</td>\n",
       "      <td>0.4</td>\n",
       "      <td>setosa</td>\n",
       "    </tr>\n",
       "    <tr>\n",
       "      <th>7</th>\n",
       "      <td>4.6</td>\n",
       "      <td>3.4</td>\n",
       "      <td>1.4</td>\n",
       "      <td>0.3</td>\n",
       "      <td>setosa</td>\n",
       "    </tr>\n",
       "    <tr>\n",
       "      <th>8</th>\n",
       "      <td>5.0</td>\n",
       "      <td>3.4</td>\n",
       "      <td>1.5</td>\n",
       "      <td>0.2</td>\n",
       "      <td>setosa</td>\n",
       "    </tr>\n",
       "    <tr>\n",
       "      <th>9</th>\n",
       "      <td>4.4</td>\n",
       "      <td>2.9</td>\n",
       "      <td>1.4</td>\n",
       "      <td>0.2</td>\n",
       "      <td>setosa</td>\n",
       "    </tr>\n",
       "    <tr>\n",
       "      <th>10</th>\n",
       "      <td>4.9</td>\n",
       "      <td>3.1</td>\n",
       "      <td>1.5</td>\n",
       "      <td>0.1</td>\n",
       "      <td>setosa</td>\n",
       "    </tr>\n",
       "  </tbody>\n",
       "</table>\n",
       "</div>"
      ],
      "text/plain": [
       "    Sepal.Length  Sepal.Width  Petal.Length  Petal.Width Species\n",
       "1            5.1          3.5           1.4          0.2  setosa\n",
       "2            4.9          3.0           1.4          0.2  setosa\n",
       "3            4.7          3.2           1.3          0.2  setosa\n",
       "4            4.6          3.1           1.5          0.2  setosa\n",
       "5            5.0          3.6           1.4          0.2  setosa\n",
       "6            5.4          3.9           1.7          0.4  setosa\n",
       "7            4.6          3.4           1.4          0.3  setosa\n",
       "8            5.0          3.4           1.5          0.2  setosa\n",
       "9            4.4          2.9           1.4          0.2  setosa\n",
       "10           4.9          3.1           1.5          0.1  setosa"
      ]
     },
     "execution_count": 42,
     "metadata": {},
     "output_type": "execute_result"
    }
   ],
   "source": [
    "iris.head(10)"
   ]
  },
  {
   "cell_type": "code",
   "execution_count": 43,
   "metadata": {},
   "outputs": [
    {
     "data": {
      "text/html": [
       "<div>\n",
       "<style scoped>\n",
       "    .dataframe tbody tr th:only-of-type {\n",
       "        vertical-align: middle;\n",
       "    }\n",
       "\n",
       "    .dataframe tbody tr th {\n",
       "        vertical-align: top;\n",
       "    }\n",
       "\n",
       "    .dataframe thead th {\n",
       "        text-align: right;\n",
       "    }\n",
       "</style>\n",
       "<table border=\"1\" class=\"dataframe\">\n",
       "  <thead>\n",
       "    <tr style=\"text-align: right;\">\n",
       "      <th></th>\n",
       "      <th>Sepal.Length</th>\n",
       "      <th>Sepal.Width</th>\n",
       "      <th>Petal.Length</th>\n",
       "      <th>Petal.Width</th>\n",
       "    </tr>\n",
       "  </thead>\n",
       "  <tbody>\n",
       "    <tr>\n",
       "      <th>count</th>\n",
       "      <td>150.000000</td>\n",
       "      <td>150.000000</td>\n",
       "      <td>150.000000</td>\n",
       "      <td>150.000000</td>\n",
       "    </tr>\n",
       "    <tr>\n",
       "      <th>mean</th>\n",
       "      <td>5.843333</td>\n",
       "      <td>3.057333</td>\n",
       "      <td>3.758000</td>\n",
       "      <td>1.199333</td>\n",
       "    </tr>\n",
       "    <tr>\n",
       "      <th>std</th>\n",
       "      <td>0.828066</td>\n",
       "      <td>0.435866</td>\n",
       "      <td>1.765298</td>\n",
       "      <td>0.762238</td>\n",
       "    </tr>\n",
       "    <tr>\n",
       "      <th>min</th>\n",
       "      <td>4.300000</td>\n",
       "      <td>2.000000</td>\n",
       "      <td>1.000000</td>\n",
       "      <td>0.100000</td>\n",
       "    </tr>\n",
       "    <tr>\n",
       "      <th>25%</th>\n",
       "      <td>5.100000</td>\n",
       "      <td>2.800000</td>\n",
       "      <td>1.600000</td>\n",
       "      <td>0.300000</td>\n",
       "    </tr>\n",
       "    <tr>\n",
       "      <th>50%</th>\n",
       "      <td>5.800000</td>\n",
       "      <td>3.000000</td>\n",
       "      <td>4.350000</td>\n",
       "      <td>1.300000</td>\n",
       "    </tr>\n",
       "    <tr>\n",
       "      <th>75%</th>\n",
       "      <td>6.400000</td>\n",
       "      <td>3.300000</td>\n",
       "      <td>5.100000</td>\n",
       "      <td>1.800000</td>\n",
       "    </tr>\n",
       "    <tr>\n",
       "      <th>max</th>\n",
       "      <td>7.900000</td>\n",
       "      <td>4.400000</td>\n",
       "      <td>6.900000</td>\n",
       "      <td>2.500000</td>\n",
       "    </tr>\n",
       "  </tbody>\n",
       "</table>\n",
       "</div>"
      ],
      "text/plain": [
       "       Sepal.Length  Sepal.Width  Petal.Length  Petal.Width\n",
       "count    150.000000   150.000000    150.000000   150.000000\n",
       "mean       5.843333     3.057333      3.758000     1.199333\n",
       "std        0.828066     0.435866      1.765298     0.762238\n",
       "min        4.300000     2.000000      1.000000     0.100000\n",
       "25%        5.100000     2.800000      1.600000     0.300000\n",
       "50%        5.800000     3.000000      4.350000     1.300000\n",
       "75%        6.400000     3.300000      5.100000     1.800000\n",
       "max        7.900000     4.400000      6.900000     2.500000"
      ]
     },
     "execution_count": 43,
     "metadata": {},
     "output_type": "execute_result"
    }
   ],
   "source": [
    "iris.describe()"
   ]
  },
  {
   "cell_type": "code",
   "execution_count": 44,
   "metadata": {},
   "outputs": [
    {
     "data": {
      "text/plain": [
       "Sepal.Length    0.828066\n",
       "Sepal.Width     0.435866\n",
       "Petal.Length    1.765298\n",
       "Petal.Width     0.762238\n",
       "dtype: float64"
      ]
     },
     "execution_count": 44,
     "metadata": {},
     "output_type": "execute_result"
    }
   ],
   "source": [
    "iris.agg(\"std\")"
   ]
  },
  {
   "cell_type": "code",
   "execution_count": 45,
   "metadata": {},
   "outputs": [
    {
     "data": {
      "text/plain": [
       "Sepal.Length    6.50\n",
       "Petal.Length    5.55\n",
       "Sepal.Width     3.00\n",
       "Petal.Width     2.00\n",
       "dtype: float64"
      ]
     },
     "execution_count": 45,
     "metadata": {},
     "output_type": "execute_result"
    }
   ],
   "source": [
    "iris[iris.Species == \"virginica\"].median().sort_values(ascending=False)"
   ]
  },
  {
   "cell_type": "code",
   "execution_count": 46,
   "metadata": {},
   "outputs": [
    {
     "data": {
      "text/plain": [
       "<seaborn.axisgrid.FacetGrid at 0x7fed5bc5edf0>"
      ]
     },
     "execution_count": 46,
     "metadata": {},
     "output_type": "execute_result"
    },
    {
     "data": {
      "image/png": "[encoded data removed]",
      "text/plain": [
       "<Figure size 444.75x360 with 1 Axes>"
      ]
     },
     "metadata": {
      "needs_background": "light"
     },
     "output_type": "display_data"
    }
   ],
   "source": [
    "sns.displot(data=iris, x=\"Sepal.Length\", hue=\"Species\", multiple=\"stack\")"
   ]
  },
  {
   "cell_type": "code",
   "execution_count": 47,
   "metadata": {},
   "outputs": [],
   "source": [
    "iris_df = iris[iris.Species != \"setosa\"]"
   ]
  },
  {
   "cell_type": "code",
   "execution_count": 48,
   "metadata": {},
   "outputs": [
    {
     "data": {
      "text/plain": [
       "<AxesSubplot:xlabel='Sepal.Length', ylabel='Count'>"
      ]
     },
     "execution_count": 48,
     "metadata": {},
     "output_type": "execute_result"
    },
    {
     "data": {
      "image/png": "[encoded data removed]",
      "text/plain": [
       "<Figure size 432x288 with 1 Axes>"
      ]
     },
     "metadata": {
      "needs_background": "light"
     },
     "output_type": "display_data"
    }
   ],
   "source": [
    "sns.histplot(iris_df, x=\"Sepal.Length\", kde=True, hue=\"Species\")"
   ]
  },
  {
   "cell_type": "code",
   "execution_count": 49,
   "metadata": {},
   "outputs": [
    {
     "data": {
      "text/plain": [
       "<seaborn.axisgrid.FacetGrid at 0x7fed5babdc40>"
      ]
     },
     "execution_count": 49,
     "metadata": {},
     "output_type": "execute_result"
    },
    {
     "data": {
      "image/png": "[encoded data removed]",
      "text/plain": [
       "<Figure size 440x216 with 2 Axes>"
      ]
     },
     "metadata": {
      "needs_background": "light"
     },
     "output_type": "display_data"
    }
   ],
   "source": [
    "g = sns.FacetGrid(iris_df, col=\"Species\")\n",
    "g.map(sns.histplot, \"Sepal.Length\", kde=True, bins=5)\n",
    "g.add_legend()"
   ]
  },
  {
   "cell_type": "markdown",
   "metadata": {},
   "source": [
    "https://seaborn.pydata.org/generated/seaborn.FacetGrid.html#seaborn.FacetGrid - IMBA"
   ]
  },
  {
   "cell_type": "code",
   "execution_count": 50,
   "metadata": {},
   "outputs": [
    {
     "data": {
      "text/plain": [
       "<AxesSubplot:xlabel='Sepal.Length', ylabel='Count'>"
      ]
     },
     "execution_count": 50,
     "metadata": {},
     "output_type": "execute_result"
    },
    {
     "data": {
      "image/png": "[encoded data removed]",
      "text/plain": [
       "<Figure size 432x288 with 1 Axes>"
      ]
     },
     "metadata": {
      "needs_background": "light"
     },
     "output_type": "display_data"
    }
   ],
   "source": [
    "sns.histplot(iris_df, x=\"Sepal.Length\", hue=\"Species\", element=\"poly\") "
   ]
  },
  {
   "cell_type": "code",
   "execution_count": 51,
   "metadata": {},
   "outputs": [
    {
     "data": {
      "text/plain": [
       "<seaborn.axisgrid.FacetGrid at 0x7fed5bd2e0a0>"
      ]
     },
     "execution_count": 51,
     "metadata": {},
     "output_type": "execute_result"
    },
    {
     "data": {
      "image/png": "[encoded data removed]",
      "text/plain": [
       "<Figure size 444.75x360 with 1 Axes>"
      ]
     },
     "metadata": {
      "needs_background": "light"
     },
     "output_type": "display_data"
    }
   ],
   "source": [
    "sns.displot(iris_df, x=\"Sepal.Length\", hue=\"Species\", kind=\"kde\")"
   ]
  },
  {
   "cell_type": "code",
   "execution_count": 52,
   "metadata": {},
   "outputs": [
    {
     "data": {
      "text/plain": [
       "<AxesSubplot:xlabel='Sepal.Length', ylabel='Density'>"
      ]
     },
     "execution_count": 52,
     "metadata": {},
     "output_type": "execute_result"
    },
    {
     "data": {
      "image/png": "[encoded data removed]",
      "text/plain": [
       "<Figure size 432x288 with 1 Axes>"
      ]
     },
     "metadata": {
      "needs_background": "light"
     },
     "output_type": "display_data"
    }
   ],
   "source": [
    "sns.kdeplot(data=iris_df, x=\"Sepal.Length\", hue=\"Species\", fill=True, common_norm=False, alpha=.5, linewidth=1)"
   ]
  },
  {
   "cell_type": "code",
   "execution_count": 53,
   "metadata": {},
   "outputs": [
    {
     "data": {
      "text/plain": [
       "<AxesSubplot:xlabel='Species', ylabel='Sepal.Length'>"
      ]
     },
     "execution_count": 53,
     "metadata": {},
     "output_type": "execute_result"
    },
    {
     "data": {
      "image/png": "[encoded data removed]",
      "text/plain": [
       "<Figure size 432x288 with 1 Axes>"
      ]
     },
     "metadata": {},
     "output_type": "display_data"
    }
   ],
   "source": [
    "sns.set_theme(style=\"darkgrid\")\n",
    "sns.boxplot(y=\"Sepal.Length\", x=\"Species\", data=iris_df)"
   ]
  },
  {
   "cell_type": "code",
   "execution_count": 54,
   "metadata": {},
   "outputs": [
    {
     "data": {
      "text/plain": [
       "ShapiroResult(statistic=0.9805403351783752, pvalue=0.1464301496744156)"
      ]
     },
     "execution_count": 54,
     "metadata": {},
     "output_type": "execute_result"
    }
   ],
   "source": [
    "# Perform the Shapiro-Wilk test for normality.\n",
    "shapiro_test = stats.shapiro(iris_df[\"Sepal.Length\"])\n",
    "shapiro_test"
   ]
  },
  {
   "cell_type": "code",
   "execution_count": 55,
   "metadata": {},
   "outputs": [
    {
     "data": {
      "text/plain": [
       "[ShapiroResult(statistic=0.9778355956077576, pvalue=0.46473264694213867),\n",
       " ShapiroResult(statistic=0.9711798429489136, pvalue=0.25832483172416687)]"
      ]
     },
     "execution_count": 55,
     "metadata": {},
     "output_type": "execute_result"
    }
   ],
   "source": [
    "shapiro_test_1 = stats.shapiro(iris_df[iris_df.Species == \"versicolor\"][\"Sepal.Length\"])\n",
    "shapiro_test_2 = stats.shapiro(iris_df[iris_df.Species == \"virginica\"][\"Sepal.Length\"])\n",
    "[shapiro_test_1, shapiro_test_2]"
   ]
  },
  {
   "cell_type": "code",
   "execution_count": 56,
   "metadata": {},
   "outputs": [
    {
     "name": "stdout",
     "output_type": "stream",
     "text": [
      "The test statistic is 2.094933311010139. \n",
      "The p-value of the test is 0.14778816016231236.\n"
     ]
    }
   ],
   "source": [
    "# Perform Bartlett’s test for equal variances.\n",
    "# Гомогенность дисперсии проверяем, короче.\n",
    "stat, p = scipy.stats.bartlett(iris_df[iris_df.Species == \"virginica\"][\"Sepal.Length\"], \n",
    "                               iris_df[iris_df.Species == \"versicolor\"][\"Sepal.Length\"])\n",
    "print(\"The test statistic is {}. \\nThe p-value of the test is {}.\".format(stat, p))"
   ]
  },
  {
   "cell_type": "code",
   "execution_count": 57,
   "metadata": {},
   "outputs": [
    {
     "data": {
      "text/plain": [
       "Ttest_indResult(statistic=5.629165259719801, pvalue=1.7248563024547942e-07)"
      ]
     },
     "execution_count": 57,
     "metadata": {},
     "output_type": "execute_result"
    }
   ],
   "source": [
    "# Calculate the T-test for the means of two independent samples of scores.\n",
    "t_test = scipy.stats.ttest_ind(iris_df[iris_df.Species == \"virginica\"][\"Sepal.Length\"], \n",
    "                               iris_df[iris_df.Species == \"versicolor\"][\"Sepal.Length\"]) #, equal_var=True\n",
    "t_test"
   ]
  },
  {
   "cell_type": "code",
   "execution_count": 58,
   "metadata": {},
   "outputs": [
    {
     "data": {
      "text/plain": [
       "Ttest_1sampResult(statistic=-26.22072564309469, pvalue=2.3864526432268e-46)"
      ]
     },
     "execution_count": 58,
     "metadata": {},
     "output_type": "execute_result"
    }
   ],
   "source": [
    "# Проверяем гипотезу о том, что среднее значение длины чашелистика в генеральной совокупности (датасете) равно 8.\n",
    "# Для этого используем одновыборочный Т-тест. \n",
    "t_test = scipy.stats.ttest_1samp(iris_df[\"Sepal.Length\"], 8) \n",
    "t_test"
   ]
  },
  {
   "cell_type": "markdown",
   "metadata": {},
   "source": [
    "Как и следовало ожидать - нет, среднее значение \"Sepal.Length\" не равно 8."
   ]
  },
  {
   "cell_type": "code",
   "execution_count": 59,
   "metadata": {},
   "outputs": [],
   "source": [
    "import numpy as np\n",
    "import scipy.stats\n",
    "\n",
    "# Самописная фукнция с просторов интернета, которая вычисляет доверительный интервал. Полезно!\n",
    "def mean_confidence_interval(data, confidence=0.95):\n",
    "    a = 1.0 * np.array(data)\n",
    "    n = len(a)\n",
    "    m, se = np.mean(a), scipy.stats.sem(a)\n",
    "    h = se * scipy.stats.t.ppf((1 + confidence) / 2., n-1)\n",
    "    return m, m-h, m+h"
   ]
  },
  {
   "cell_type": "code",
   "execution_count": 60,
   "metadata": {},
   "outputs": [
    {
     "data": {
      "text/plain": [
       "(6.2620000000000005, 6.130479266795949, 6.393520733204052)"
      ]
     },
     "execution_count": 60,
     "metadata": {},
     "output_type": "execute_result"
    }
   ],
   "source": [
    "mean_confidence_interval(iris_df[\"Sepal.Length\"])"
   ]
  },
  {
   "cell_type": "code",
   "execution_count": 61,
   "metadata": {},
   "outputs": [
    {
     "name": "stdout",
     "output_type": "stream",
     "text": [
      "(5.789305783299542, 6.082694216700458) (6.4072850193549105, 6.768714980645086)\n"
     ]
    }
   ],
   "source": [
    "# Расчёт доверительных интервалов\n",
    "import numpy as np, scipy.stats as st\n",
    "\n",
    "a = iris_df[iris_df.Species == \"versicolor\"][\"Sepal.Length\"]\n",
    "b = iris_df[iris_df.Species == \"virginica\"][\"Sepal.Length\"]\n",
    "\n",
    "print(st.t.interval(0.95, len(a)-1, loc=np.mean(a), scale=st.sem(a)),\n",
    "      st.t.interval(0.95, len(b)-1, loc=np.mean(b), scale=st.sem(b)))\n",
    "# https://docs.scipy.org/doc/scipy/reference/generated/scipy.stats.t.html?highlight=scipy%20stats%20t#scipy.stats.t"
   ]
  },
  {
   "cell_type": "code",
   "execution_count": 62,
   "metadata": {},
   "outputs": [
    {
     "name": "stdout",
     "output_type": "stream",
     "text": [
      "(5.936, 5.789305783299542, 6.082694216700458) (6.587999999999998, 6.4072850193549105, 6.768714980645086)\n"
     ]
    }
   ],
   "source": [
    "print(mean_confidence_interval(a),\n",
    "      mean_confidence_interval(b))"
   ]
  },
  {
   "cell_type": "markdown",
   "metadata": {},
   "source": [
    "Вывод - самописная функция повторяет метод .interval из библиотеки scipy.\n",
    "\n",
    "Отлично!"
   ]
  },
  {
   "cell_type": "code",
   "execution_count": 63,
   "metadata": {},
   "outputs": [
    {
     "name": "stdout",
     "output_type": "stream",
     "text": [
      "0.05    5.045\n",
      "0.95    6.755\n",
      "Name: Sepal.Length, dtype: float64 \n",
      "\n",
      " 0.05    5.745\n",
      "0.95    7.700\n",
      "Name: Sepal.Length, dtype: float64\n",
      "\n",
      "\n",
      "\n",
      "0.05    5.195\n",
      "0.95    7.605\n",
      "Name: Sepal.Length, dtype: float64\n"
     ]
    }
   ],
   "source": [
    "print(a.quantile([0.05, 0.95]), \"\\n\\n\",\n",
    "      b.quantile([0.05, 0.95]))\n",
    "print(\"\\n\\n\")\n",
    "print(iris_df[\"Sepal.Length\"].quantile([0.05, 0.95]))"
   ]
  },
  {
   "cell_type": "markdown",
   "metadata": {},
   "source": [
    "Итого - метод квантиль какой-то странный. Что-то тут не так, очевидно. Лучше его не использовать. \n",
    "\n",
    "Надо бы разобраться, почему такая разница."
   ]
  },
  {
   "cell_type": "code",
   "execution_count": 64,
   "metadata": {},
   "outputs": [
    {
     "data": {
      "image/png": "[encoded data removed]",
      "text/plain": [
       "<Figure size 288x288 with 1 Axes>"
      ]
     },
     "metadata": {},
     "output_type": "display_data"
    }
   ],
   "source": [
    "fig, ax = plt.subplots(figsize=(4, 4))\n",
    "\n",
    "stats.probplot(iris_df[\"Sepal.Length\"], plot=ax)\n",
    "\n",
    "plt.tight_layout()\n",
    "plt.show()"
   ]
  },
  {
   "cell_type": "code",
   "execution_count": 65,
   "metadata": {},
   "outputs": [
    {
     "data": {
      "text/plain": [
       "Ttest_relResult(statistic=61.30714401143194, pvalue=1.4790717979416083e-80)"
      ]
     },
     "execution_count": 65,
     "metadata": {},
     "output_type": "execute_result"
    }
   ],
   "source": [
    "# Парный Т-тест\n",
    "pt_test = scipy.stats.ttest_rel(iris_df[\"Sepal.Length\"], iris_df[\"Sepal.Width\"])\n",
    "pt_test"
   ]
  },
  {
   "cell_type": "markdown",
   "metadata": {},
   "source": [
    "Для визуализации \"планок погрешностей\" можно использовать:\n",
    "\n",
    "- matplotlib, а именно matplotlib.pyplot.errorbar: https://matplotlib.org/3.1.1/api/_as_gen/matplotlib.pyplot.errorbar.html\n",
    "\n",
    "- seaborn.pointplot: https://seaborn.pydata.org/generated/seaborn.pointplot.html"
   ]
  },
  {
   "cell_type": "code",
   "execution_count": 66,
   "metadata": {},
   "outputs": [
    {
     "data": {
      "text/plain": [
       "array(['versicolor', 'virginica'], dtype=object)"
      ]
     },
     "execution_count": 66,
     "metadata": {},
     "output_type": "execute_result"
    }
   ],
   "source": [
    "iris_df.Species.unique()"
   ]
  },
  {
   "cell_type": "code",
   "execution_count": 67,
   "metadata": {},
   "outputs": [
    {
     "data": {
      "text/plain": [
       "5.936"
      ]
     },
     "execution_count": 67,
     "metadata": {},
     "output_type": "execute_result"
    }
   ],
   "source": [
    "a = iris_df[iris_df.Species == \"versicolor\"][\"Sepal.Length\"].mean()\n",
    "a"
   ]
  },
  {
   "cell_type": "code",
   "execution_count": 68,
   "metadata": {},
   "outputs": [
    {
     "data": {
      "text/plain": [
       "<ErrorbarContainer object of 3 artists>"
      ]
     },
     "execution_count": 68,
     "metadata": {},
     "output_type": "execute_result"
    },
    {
     "data": {
      "image/png": "[encoded data removed]",
      "text/plain": [
       "<Figure size 432x288 with 1 Axes>"
      ]
     },
     "metadata": {},
     "output_type": "display_data"
    }
   ],
   "source": [
    "# Хехе, получилось!\n",
    "a_origin = iris_df[iris_df.Species == \"versicolor\"][\"Sepal.Length\"]\n",
    "a = iris_df[iris_df.Species == \"versicolor\"][\"Sepal.Length\"].mean()\n",
    "b_origin = iris_df[iris_df.Species == \"virginica\"][\"Sepal.Length\"]\n",
    "b = iris_df[iris_df.Species == \"virginica\"][\"Sepal.Length\"].mean()\n",
    "\n",
    "plt.errorbar(x=iris_df.Species.unique(), y=[a, b], \n",
    "             yerr=[a-st.t.interval(0.95, len(a_origin)-1, loc=np.mean(a_origin), scale=st.sem(a_origin)), \n",
    "                  b-st.t.interval(0.95, len(b_origin)-1, loc=np.mean(b_origin), scale=st.sem(b_origin))],\n",
    "             data=iris_df, fmt=\"o\", markersize=8, capsize=10) # fmt=\"-o\", \"--o\", \".k\""
   ]
  },
  {
   "cell_type": "code",
   "execution_count": 69,
   "metadata": {},
   "outputs": [
    {
     "data": {
      "image/png": "[encoded data removed]",
      "text/plain": [
       "<Figure size 432x288 with 1 Axes>"
      ]
     },
     "metadata": {},
     "output_type": "display_data"
    }
   ],
   "source": [
    "sns.set_theme(style=\"darkgrid\")\n",
    "ax = sns.pointplot(x=\"Species\", y=\"Sepal.Length\", data=iris_df, join=False, capsize=.1)"
   ]
  },
  {
   "cell_type": "code",
   "execution_count": 70,
   "metadata": {},
   "outputs": [
    {
     "name": "stdout",
     "output_type": "stream",
     "text": [
      "WilcoxonResult(statistic=171.0, pvalue=1.883485656410222e-05)\n",
      "MannwhitneyuResult(statistic=526.0, pvalue=2.9345032053320985e-07)\n"
     ]
    }
   ],
   "source": [
    "# Непараметрический тест на нормальность (Манна-Уитни), в англоязычной литературе - Уилкоксона\n",
    "wtest = scipy.stats.wilcoxon(iris_df[iris_df.Species == \"virginica\"][\"Sepal.Length\"], \n",
    "                            iris_df[iris_df.Species == \"versicolor\"][\"Sepal.Length\"])\n",
    "print(wtest)\n",
    "mw_test = scipy.stats.mannwhitneyu(iris_df[iris_df.Species == \"virginica\"][\"Sepal.Length\"], \n",
    "                                   iris_df[iris_df.Species == \"versicolor\"][\"Sepal.Length\"])\n",
    "print(mw_test)\n",
    "# Получается, что реализации этих тестов различаются в R и Python. Подробности по ссылке:\n",
    "# https://stackoverflow.com/questions/33579785/difference-between-wilcoxon-test-in-r-and-python\n",
    "# Вывод - Можно использовать и Python, но если p-value различаются, то лучше полагаться на R.\n",
    "# Однако, немаловажно отметить, что тест Бартлетта и Т-тест совпадают. "
   ]
  },
  {
   "cell_type": "code",
   "execution_count": null,
   "metadata": {},
   "outputs": [],
   "source": []
  },
  {
   "cell_type": "code",
   "execution_count": 151,
   "metadata": {},
   "outputs": [],
   "source": [
    "# DATA =  \"~/Downloads/\"\n",
    "# path = DATA + \"dataset_11504_15 (1).txt\"\n",
    "# df = pd.read_csv(path, sep=\" \", header=None)\n",
    "# df.columns = [\"V1\", \"V2\"]\n",
    "# df.head()"
   ]
  },
  {
   "cell_type": "code",
   "execution_count": 152,
   "metadata": {},
   "outputs": [],
   "source": [
    "# stat, p = scipy.stats.bartlett(df[df.V2 == 1][\"V1\"], \n",
    "#                                df[df.V2 == 2][\"V1\"])\n",
    "# print(\"The test statistic is {}. \\nThe p-value of the test is {}.\".format(stat, p))"
   ]
  },
  {
   "cell_type": "code",
   "execution_count": null,
   "metadata": {},
   "outputs": [],
   "source": [
    "# wtest = scipy.stats.wilcoxon(df[df.V2 == 1][\"V1\"], \n",
    "#                              df[df.V2 == 2][\"V1\"], mode='approx')\n",
    "# wtest"
   ]
  },
  {
   "cell_type": "code",
   "execution_count": null,
   "metadata": {},
   "outputs": [],
   "source": [
    "# scipy.stats.wilcoxon(df[df.V2 == 1][\"V1\"], df[df.V2 == 2][\"V1\"])[1]"
   ]
  },
  {
   "cell_type": "code",
   "execution_count": null,
   "metadata": {},
   "outputs": [],
   "source": [
    "# # Предполагается, что Вы уже скачали необходимый датасет и знаете путь до него\n",
    "# import pandas as pd\n",
    "# import scipy.stats\n",
    "\n",
    "# DATA =  \"~/Downloads/\"\n",
    "# path = DATA + \"dataset_11504_15.txt\"\n",
    "# df = pd.read_csv(path, sep=\" \", header=None)\n",
    "# df.columns = [\"V1\", \"V2\"]\n",
    "# print(scipy.stats.wilcoxon(df[df.V2 == 1][\"V1\"], df[df.V2 == 2][\"V1\"])[1]) if (scipy.stats.bartlett(df[df.V2 == 1][\"V1\"], df[df.V2 == 2][\"V1\"])[1] < 0.05) else print(scipy.stats.ttest_ind(df[df.V2 == 1][\"V1\"], df[df.V2 == 2][\"V1\"])[1])"
   ]
  },
  {
   "cell_type": "code",
   "execution_count": 74,
   "metadata": {},
   "outputs": [],
   "source": [
    "# # Предполагается, что Вы уже скачали необходимый датасет и знаете путь до него\n",
    "# import pandas as pd\n",
    "# import scipy.stats\n",
    "\n",
    "# DATA =  \"~/Downloads/\"\n",
    "# path = DATA + \"dataset_11504_16.txt\"\n",
    "# df = pd.read_csv(path, sep=\" \", header=None)\n",
    "# df.columns = [\"V1\", \"V2\"]\n",
    "# print(\"{} {} {}\".format(df.V1.mean(),df.V2.mean(),scipy.stats.ttest_ind(df.V1, df.V2)[1])) if (scipy.stats.ttest_ind(df.V1, df.V2)[1] < 0.05) else print(\"The difference is not significant\")"
   ]
  },
  {
   "cell_type": "markdown",
   "metadata": {},
   "source": [
    "### NEW DATASET"
   ]
  },
  {
   "cell_type": "code",
   "execution_count": 75,
   "metadata": {},
   "outputs": [],
   "source": [
    "DATA = \"~/PycharmProjects/Datasets/\"\n",
    "tooth_path = DATA + \"ToothGrowth.csv\"\n",
    "toothgrowth = pd.read_csv(tooth_path, index_col=0)"
   ]
  },
  {
   "cell_type": "code",
   "execution_count": 76,
   "metadata": {},
   "outputs": [
    {
     "data": {
      "text/html": [
       "<div>\n",
       "<style scoped>\n",
       "    .dataframe tbody tr th:only-of-type {\n",
       "        vertical-align: middle;\n",
       "    }\n",
       "\n",
       "    .dataframe tbody tr th {\n",
       "        vertical-align: top;\n",
       "    }\n",
       "\n",
       "    .dataframe thead th {\n",
       "        text-align: right;\n",
       "    }\n",
       "</style>\n",
       "<table border=\"1\" class=\"dataframe\">\n",
       "  <thead>\n",
       "    <tr style=\"text-align: right;\">\n",
       "      <th></th>\n",
       "      <th>len</th>\n",
       "      <th>supp</th>\n",
       "      <th>dose</th>\n",
       "    </tr>\n",
       "  </thead>\n",
       "  <tbody>\n",
       "    <tr>\n",
       "      <th>1</th>\n",
       "      <td>4.2</td>\n",
       "      <td>VC</td>\n",
       "      <td>0.5</td>\n",
       "    </tr>\n",
       "    <tr>\n",
       "      <th>2</th>\n",
       "      <td>11.5</td>\n",
       "      <td>VC</td>\n",
       "      <td>0.5</td>\n",
       "    </tr>\n",
       "    <tr>\n",
       "      <th>3</th>\n",
       "      <td>7.3</td>\n",
       "      <td>VC</td>\n",
       "      <td>0.5</td>\n",
       "    </tr>\n",
       "    <tr>\n",
       "      <th>4</th>\n",
       "      <td>5.8</td>\n",
       "      <td>VC</td>\n",
       "      <td>0.5</td>\n",
       "    </tr>\n",
       "    <tr>\n",
       "      <th>5</th>\n",
       "      <td>6.4</td>\n",
       "      <td>VC</td>\n",
       "      <td>0.5</td>\n",
       "    </tr>\n",
       "    <tr>\n",
       "      <th>6</th>\n",
       "      <td>10.0</td>\n",
       "      <td>VC</td>\n",
       "      <td>0.5</td>\n",
       "    </tr>\n",
       "    <tr>\n",
       "      <th>7</th>\n",
       "      <td>11.2</td>\n",
       "      <td>VC</td>\n",
       "      <td>0.5</td>\n",
       "    </tr>\n",
       "    <tr>\n",
       "      <th>8</th>\n",
       "      <td>11.2</td>\n",
       "      <td>VC</td>\n",
       "      <td>0.5</td>\n",
       "    </tr>\n",
       "    <tr>\n",
       "      <th>9</th>\n",
       "      <td>5.2</td>\n",
       "      <td>VC</td>\n",
       "      <td>0.5</td>\n",
       "    </tr>\n",
       "    <tr>\n",
       "      <th>10</th>\n",
       "      <td>7.0</td>\n",
       "      <td>VC</td>\n",
       "      <td>0.5</td>\n",
       "    </tr>\n",
       "  </tbody>\n",
       "</table>\n",
       "</div>"
      ],
      "text/plain": [
       "     len supp  dose\n",
       "1    4.2   VC   0.5\n",
       "2   11.5   VC   0.5\n",
       "3    7.3   VC   0.5\n",
       "4    5.8   VC   0.5\n",
       "5    6.4   VC   0.5\n",
       "6   10.0   VC   0.5\n",
       "7   11.2   VC   0.5\n",
       "8   11.2   VC   0.5\n",
       "9    5.2   VC   0.5\n",
       "10   7.0   VC   0.5"
      ]
     },
     "execution_count": 76,
     "metadata": {},
     "output_type": "execute_result"
    }
   ],
   "source": [
    "toothgrowth.head(10)"
   ]
  },
  {
   "cell_type": "code",
   "execution_count": 77,
   "metadata": {},
   "outputs": [
    {
     "data": {
      "text/plain": [
       "(60, 3)"
      ]
     },
     "execution_count": 77,
     "metadata": {},
     "output_type": "execute_result"
    }
   ],
   "source": [
    "toothgrowth.shape"
   ]
  },
  {
   "cell_type": "code",
   "execution_count": 78,
   "metadata": {},
   "outputs": [
    {
     "data": {
      "text/html": [
       "<div>\n",
       "<style scoped>\n",
       "    .dataframe tbody tr th:only-of-type {\n",
       "        vertical-align: middle;\n",
       "    }\n",
       "\n",
       "    .dataframe tbody tr th {\n",
       "        vertical-align: top;\n",
       "    }\n",
       "\n",
       "    .dataframe thead th {\n",
       "        text-align: right;\n",
       "    }\n",
       "</style>\n",
       "<table border=\"1\" class=\"dataframe\">\n",
       "  <thead>\n",
       "    <tr style=\"text-align: right;\">\n",
       "      <th></th>\n",
       "      <th>len</th>\n",
       "      <th>dose</th>\n",
       "    </tr>\n",
       "  </thead>\n",
       "  <tbody>\n",
       "    <tr>\n",
       "      <th>count</th>\n",
       "      <td>60.000000</td>\n",
       "      <td>60.000000</td>\n",
       "    </tr>\n",
       "    <tr>\n",
       "      <th>mean</th>\n",
       "      <td>18.813333</td>\n",
       "      <td>1.166667</td>\n",
       "    </tr>\n",
       "    <tr>\n",
       "      <th>std</th>\n",
       "      <td>7.649315</td>\n",
       "      <td>0.628872</td>\n",
       "    </tr>\n",
       "    <tr>\n",
       "      <th>min</th>\n",
       "      <td>4.200000</td>\n",
       "      <td>0.500000</td>\n",
       "    </tr>\n",
       "    <tr>\n",
       "      <th>25%</th>\n",
       "      <td>13.075000</td>\n",
       "      <td>0.500000</td>\n",
       "    </tr>\n",
       "    <tr>\n",
       "      <th>50%</th>\n",
       "      <td>19.250000</td>\n",
       "      <td>1.000000</td>\n",
       "    </tr>\n",
       "    <tr>\n",
       "      <th>75%</th>\n",
       "      <td>25.275000</td>\n",
       "      <td>2.000000</td>\n",
       "    </tr>\n",
       "    <tr>\n",
       "      <th>max</th>\n",
       "      <td>33.900000</td>\n",
       "      <td>2.000000</td>\n",
       "    </tr>\n",
       "  </tbody>\n",
       "</table>\n",
       "</div>"
      ],
      "text/plain": [
       "             len       dose\n",
       "count  60.000000  60.000000\n",
       "mean   18.813333   1.166667\n",
       "std     7.649315   0.628872\n",
       "min     4.200000   0.500000\n",
       "25%    13.075000   0.500000\n",
       "50%    19.250000   1.000000\n",
       "75%    25.275000   2.000000\n",
       "max    33.900000   2.000000"
      ]
     },
     "execution_count": 78,
     "metadata": {},
     "output_type": "execute_result"
    }
   ],
   "source": [
    "toothgrowth.describe()"
   ]
  },
  {
   "cell_type": "code",
   "execution_count": 79,
   "metadata": {},
   "outputs": [],
   "source": [
    "subset_oj = toothgrowth[(toothgrowth.supp == \"OJ\") & (toothgrowth.dose == 0.5)]\n",
    "subset_vc = toothgrowth[(toothgrowth.supp == \"VC\") & (toothgrowth.dose == 2.0)]"
   ]
  },
  {
   "cell_type": "code",
   "execution_count": 80,
   "metadata": {},
   "outputs": [
    {
     "data": {
      "text/plain": [
       "-6.232482137515355"
      ]
     },
     "execution_count": 80,
     "metadata": {},
     "output_type": "execute_result"
    }
   ],
   "source": [
    "t_test = scipy.stats.ttest_ind(subset_oj.len, subset_vc.len) \n",
    "t_test.statistic"
   ]
  },
  {
   "cell_type": "code",
   "execution_count": 81,
   "metadata": {},
   "outputs": [],
   "source": [
    "# # Предполагается, что Вы уже скачали необходимый датасет и знаете путь до него\n",
    "# import pandas as pd\n",
    "# import scipy.stats\n",
    "\n",
    "# tooth_path = PATH_TO_DATA + \"ToothGrowth.csv\"\n",
    "# toothgrowth = pd.read_csv(tooth_path, index_col=0)\n",
    "# t_test = scipy.stats.ttest_ind(toothgrowth[(toothgrowth.supp == \"OJ\") & (toothgrowth.dose == 0.5)].len, \n",
    "#                                toothgrowth[(toothgrowth.supp == \"VC\") & (toothgrowth.dose == 2.0)].len) \n",
    "# print(t_test.statistic)"
   ]
  },
  {
   "cell_type": "markdown",
   "metadata": {},
   "source": [
    "### NEW DATASET"
   ]
  },
  {
   "cell_type": "code",
   "execution_count": 82,
   "metadata": {},
   "outputs": [],
   "source": [
    "DATA = \"~/PycharmProjects/Datasets/\"\n",
    "lec_path = DATA + \"lekarstva.csv\"\n",
    "lekarstva = pd.read_csv(lec_path, index_col=0)"
   ]
  },
  {
   "cell_type": "code",
   "execution_count": 83,
   "metadata": {},
   "outputs": [
    {
     "name": "stdout",
     "output_type": "stream",
     "text": [
      "(174, 5)\n"
     ]
    },
    {
     "data": {
      "text/html": [
       "<div>\n",
       "<style scoped>\n",
       "    .dataframe tbody tr th:only-of-type {\n",
       "        vertical-align: middle;\n",
       "    }\n",
       "\n",
       "    .dataframe tbody tr th {\n",
       "        vertical-align: top;\n",
       "    }\n",
       "\n",
       "    .dataframe thead th {\n",
       "        text-align: right;\n",
       "    }\n",
       "</style>\n",
       "<table border=\"1\" class=\"dataframe\">\n",
       "  <thead>\n",
       "    <tr style=\"text-align: right;\">\n",
       "      <th></th>\n",
       "      <th>Uroven_sahara_v_krovi</th>\n",
       "      <th>Pressure_before</th>\n",
       "      <th>Pressure_after</th>\n",
       "      <th>Holesterin (Aprel)</th>\n",
       "      <th>Holesterin (Mart)</th>\n",
       "    </tr>\n",
       "    <tr>\n",
       "      <th>Group</th>\n",
       "      <th></th>\n",
       "      <th></th>\n",
       "      <th></th>\n",
       "      <th></th>\n",
       "      <th></th>\n",
       "    </tr>\n",
       "  </thead>\n",
       "  <tbody>\n",
       "    <tr>\n",
       "      <th>2</th>\n",
       "      <td>90</td>\n",
       "      <td>170</td>\n",
       "      <td>135</td>\n",
       "      <td>235</td>\n",
       "      <td>205</td>\n",
       "    </tr>\n",
       "    <tr>\n",
       "      <th>2</th>\n",
       "      <td>85</td>\n",
       "      <td>160</td>\n",
       "      <td>155</td>\n",
       "      <td>185</td>\n",
       "      <td>195</td>\n",
       "    </tr>\n",
       "    <tr>\n",
       "      <th>1</th>\n",
       "      <td>95</td>\n",
       "      <td>165</td>\n",
       "      <td>155</td>\n",
       "      <td>235</td>\n",
       "      <td>260</td>\n",
       "    </tr>\n",
       "    <tr>\n",
       "      <th>1</th>\n",
       "      <td>86</td>\n",
       "      <td>170</td>\n",
       "      <td>165</td>\n",
       "      <td>155</td>\n",
       "      <td>136</td>\n",
       "    </tr>\n",
       "    <tr>\n",
       "      <th>2</th>\n",
       "      <td>104</td>\n",
       "      <td>170</td>\n",
       "      <td>165</td>\n",
       "      <td>260</td>\n",
       "      <td>250</td>\n",
       "    </tr>\n",
       "  </tbody>\n",
       "</table>\n",
       "</div>"
      ],
      "text/plain": [
       "       Uroven_sahara_v_krovi  Pressure_before  Pressure_after  \\\n",
       "Group                                                           \n",
       "2                         90              170             135   \n",
       "2                         85              160             155   \n",
       "1                         95              165             155   \n",
       "1                         86              170             165   \n",
       "2                        104              170             165   \n",
       "\n",
       "       Holesterin (Aprel)  Holesterin (Mart)  \n",
       "Group                                         \n",
       "2                     235                205  \n",
       "2                     185                195  \n",
       "1                     235                260  \n",
       "1                     155                136  \n",
       "2                     260                250  "
      ]
     },
     "execution_count": 83,
     "metadata": {},
     "output_type": "execute_result"
    }
   ],
   "source": [
    "print(lekarstva.shape)\n",
    "lekarstva.head()"
   ]
  },
  {
   "cell_type": "code",
   "execution_count": 84,
   "metadata": {},
   "outputs": [
    {
     "data": {
      "text/html": [
       "<div>\n",
       "<style scoped>\n",
       "    .dataframe tbody tr th:only-of-type {\n",
       "        vertical-align: middle;\n",
       "    }\n",
       "\n",
       "    .dataframe tbody tr th {\n",
       "        vertical-align: top;\n",
       "    }\n",
       "\n",
       "    .dataframe thead th {\n",
       "        text-align: right;\n",
       "    }\n",
       "</style>\n",
       "<table border=\"1\" class=\"dataframe\">\n",
       "  <thead>\n",
       "    <tr style=\"text-align: right;\">\n",
       "      <th></th>\n",
       "      <th>Uroven_sahara_v_krovi</th>\n",
       "      <th>Pressure_before</th>\n",
       "      <th>Pressure_after</th>\n",
       "      <th>Holesterin (Aprel)</th>\n",
       "      <th>Holesterin (Mart)</th>\n",
       "    </tr>\n",
       "  </thead>\n",
       "  <tbody>\n",
       "    <tr>\n",
       "      <th>count</th>\n",
       "      <td>174.000000</td>\n",
       "      <td>174.000000</td>\n",
       "      <td>174.000000</td>\n",
       "      <td>174.000000</td>\n",
       "      <td>174.000000</td>\n",
       "    </tr>\n",
       "    <tr>\n",
       "      <th>mean</th>\n",
       "      <td>103.988506</td>\n",
       "      <td>172.097701</td>\n",
       "      <td>156.724138</td>\n",
       "      <td>239.195402</td>\n",
       "      <td>233.097701</td>\n",
       "    </tr>\n",
       "    <tr>\n",
       "      <th>std</th>\n",
       "      <td>35.608499</td>\n",
       "      <td>13.855017</td>\n",
       "      <td>15.183418</td>\n",
       "      <td>49.510165</td>\n",
       "      <td>51.975057</td>\n",
       "    </tr>\n",
       "    <tr>\n",
       "      <th>min</th>\n",
       "      <td>68.000000</td>\n",
       "      <td>140.000000</td>\n",
       "      <td>125.000000</td>\n",
       "      <td>120.000000</td>\n",
       "      <td>113.000000</td>\n",
       "    </tr>\n",
       "    <tr>\n",
       "      <th>25%</th>\n",
       "      <td>86.000000</td>\n",
       "      <td>160.000000</td>\n",
       "      <td>150.000000</td>\n",
       "      <td>202.000000</td>\n",
       "      <td>196.250000</td>\n",
       "    </tr>\n",
       "    <tr>\n",
       "      <th>50%</th>\n",
       "      <td>95.500000</td>\n",
       "      <td>170.000000</td>\n",
       "      <td>155.000000</td>\n",
       "      <td>235.000000</td>\n",
       "      <td>228.000000</td>\n",
       "    </tr>\n",
       "    <tr>\n",
       "      <th>75%</th>\n",
       "      <td>110.000000</td>\n",
       "      <td>180.000000</td>\n",
       "      <td>163.750000</td>\n",
       "      <td>271.000000</td>\n",
       "      <td>261.000000</td>\n",
       "    </tr>\n",
       "    <tr>\n",
       "      <th>max</th>\n",
       "      <td>352.000000</td>\n",
       "      <td>220.000000</td>\n",
       "      <td>210.000000</td>\n",
       "      <td>381.000000</td>\n",
       "      <td>401.000000</td>\n",
       "    </tr>\n",
       "  </tbody>\n",
       "</table>\n",
       "</div>"
      ],
      "text/plain": [
       "       Uroven_sahara_v_krovi  Pressure_before  Pressure_after  \\\n",
       "count             174.000000       174.000000      174.000000   \n",
       "mean              103.988506       172.097701      156.724138   \n",
       "std                35.608499        13.855017       15.183418   \n",
       "min                68.000000       140.000000      125.000000   \n",
       "25%                86.000000       160.000000      150.000000   \n",
       "50%                95.500000       170.000000      155.000000   \n",
       "75%               110.000000       180.000000      163.750000   \n",
       "max               352.000000       220.000000      210.000000   \n",
       "\n",
       "       Holesterin (Aprel)  Holesterin (Mart)  \n",
       "count          174.000000         174.000000  \n",
       "mean           239.195402         233.097701  \n",
       "std             49.510165          51.975057  \n",
       "min            120.000000         113.000000  \n",
       "25%            202.000000         196.250000  \n",
       "50%            235.000000         228.000000  \n",
       "75%            271.000000         261.000000  \n",
       "max            381.000000         401.000000  "
      ]
     },
     "execution_count": 84,
     "metadata": {},
     "output_type": "execute_result"
    }
   ],
   "source": [
    "lekarstva.describe()"
   ]
  },
  {
   "cell_type": "code",
   "execution_count": 85,
   "metadata": {},
   "outputs": [
    {
     "data": {
      "text/plain": [
       "-14.226730711863198"
      ]
     },
     "execution_count": 85,
     "metadata": {},
     "output_type": "execute_result"
    }
   ],
   "source": [
    "lec_pair_t_test = scipy.stats.ttest_rel(lekarstva.Pressure_after, lekarstva.Pressure_before) \n",
    "lec_pair_t_test.statistic"
   ]
  },
  {
   "cell_type": "code",
   "execution_count": 88,
   "metadata": {},
   "outputs": [],
   "source": [
    "# # Предполагается, что Вы уже скачали необходимый датасет и знаете путь до него\n",
    "# import pandas as pd\n",
    "# import scipy.stats\n",
    "\n",
    "# lec_path = PATH_TO_DATA + \"lekarstva.csv\"\n",
    "# lekarstva = pd.read_csv(lec_path, index_col=0)\n",
    "# lec_pair_t_test = scipy.stats.ttest_rel(lekarstva.Pressure_before, lekarstva.Pressure_after) \n",
    "# print(lec_pair_t_test.statistic)"
   ]
  },
  {
   "cell_type": "code",
   "execution_count": null,
   "metadata": {},
   "outputs": [],
   "source": []
  },
  {
   "cell_type": "code",
   "execution_count": null,
   "metadata": {},
   "outputs": [],
   "source": []
  },
  {
   "cell_type": "markdown",
   "metadata": {},
   "source": [
    "## NEW CHAPTER AND NEW DATASET"
   ]
  },
  {
   "cell_type": "code",
   "execution_count": 89,
   "metadata": {},
   "outputs": [],
   "source": [
    "DATA = \"~/PycharmProjects/Datasets/\"\n",
    "grants_path = DATA + \"grants.csv\"\n",
    "grants = pd.read_csv(grants_path)"
   ]
  },
  {
   "cell_type": "code",
   "execution_count": 90,
   "metadata": {},
   "outputs": [
    {
     "data": {
      "text/html": [
       "<div>\n",
       "<style scoped>\n",
       "    .dataframe tbody tr th:only-of-type {\n",
       "        vertical-align: middle;\n",
       "    }\n",
       "\n",
       "    .dataframe tbody tr th {\n",
       "        vertical-align: top;\n",
       "    }\n",
       "\n",
       "    .dataframe thead th {\n",
       "        text-align: right;\n",
       "    }\n",
       "</style>\n",
       "<table border=\"1\" class=\"dataframe\">\n",
       "  <thead>\n",
       "    <tr style=\"text-align: right;\">\n",
       "      <th></th>\n",
       "      <th>npersons</th>\n",
       "      <th>years_in_uni</th>\n",
       "      <th>oldest_age</th>\n",
       "      <th>field</th>\n",
       "      <th>RFCD.Code.1</th>\n",
       "      <th>midpoint</th>\n",
       "      <th>status</th>\n",
       "    </tr>\n",
       "  </thead>\n",
       "  <tbody>\n",
       "    <tr>\n",
       "      <th>0</th>\n",
       "      <td>2.0</td>\n",
       "      <td>&lt; 5</td>\n",
       "      <td>66.0</td>\n",
       "      <td>bio</td>\n",
       "      <td>270799</td>\n",
       "      <td>24999.5</td>\n",
       "      <td>1</td>\n",
       "    </tr>\n",
       "    <tr>\n",
       "      <th>1</th>\n",
       "      <td>1.0</td>\n",
       "      <td>&lt; 5</td>\n",
       "      <td>51.0</td>\n",
       "      <td>bio</td>\n",
       "      <td>270106</td>\n",
       "      <td>24999.5</td>\n",
       "      <td>0</td>\n",
       "    </tr>\n",
       "    <tr>\n",
       "      <th>2</th>\n",
       "      <td>1.0</td>\n",
       "      <td>&lt; 5</td>\n",
       "      <td>36.0</td>\n",
       "      <td>bio</td>\n",
       "      <td>270708</td>\n",
       "      <td>24999.5</td>\n",
       "      <td>0</td>\n",
       "    </tr>\n",
       "    <tr>\n",
       "      <th>3</th>\n",
       "      <td>1.0</td>\n",
       "      <td>5-10</td>\n",
       "      <td>46.0</td>\n",
       "      <td>bio</td>\n",
       "      <td>270603</td>\n",
       "      <td>24999.5</td>\n",
       "      <td>0</td>\n",
       "    </tr>\n",
       "    <tr>\n",
       "      <th>4</th>\n",
       "      <td>4.0</td>\n",
       "      <td>&gt; 10</td>\n",
       "      <td>46.0</td>\n",
       "      <td>physics</td>\n",
       "      <td>240402</td>\n",
       "      <td>24999.5</td>\n",
       "      <td>1</td>\n",
       "    </tr>\n",
       "  </tbody>\n",
       "</table>\n",
       "</div>"
      ],
      "text/plain": [
       "   npersons years_in_uni  oldest_age    field  RFCD.Code.1  midpoint  status\n",
       "0       2.0          < 5        66.0      bio       270799   24999.5       1\n",
       "1       1.0          < 5        51.0      bio       270106   24999.5       0\n",
       "2       1.0          < 5        36.0      bio       270708   24999.5       0\n",
       "3       1.0         5-10        46.0      bio       270603   24999.5       0\n",
       "4       4.0         > 10        46.0  physics       240402   24999.5       1"
      ]
     },
     "execution_count": 90,
     "metadata": {},
     "output_type": "execute_result"
    }
   ],
   "source": [
    "grants.head()"
   ]
  },
  {
   "cell_type": "code",
   "execution_count": 91,
   "metadata": {},
   "outputs": [
    {
     "data": {
      "text/plain": [
       "(1420, 7)"
      ]
     },
     "execution_count": 91,
     "metadata": {},
     "output_type": "execute_result"
    }
   ],
   "source": [
    "grants.shape"
   ]
  },
  {
   "cell_type": "code",
   "execution_count": 92,
   "metadata": {},
   "outputs": [
    {
     "data": {
      "text/plain": [
       "npersons          7\n",
       "years_in_uni      0\n",
       "oldest_age       57\n",
       "field             0\n",
       "RFCD.Code.1       0\n",
       "midpoint        586\n",
       "status            0\n",
       "dtype: int64"
      ]
     },
     "execution_count": 92,
     "metadata": {},
     "output_type": "execute_result"
    }
   ],
   "source": [
    "grants.isna().sum()"
   ]
  },
  {
   "cell_type": "code",
   "execution_count": 93,
   "metadata": {},
   "outputs": [
    {
     "data": {
      "text/html": [
       "<div>\n",
       "<style scoped>\n",
       "    .dataframe tbody tr th:only-of-type {\n",
       "        vertical-align: middle;\n",
       "    }\n",
       "\n",
       "    .dataframe tbody tr th {\n",
       "        vertical-align: top;\n",
       "    }\n",
       "\n",
       "    .dataframe thead th {\n",
       "        text-align: right;\n",
       "    }\n",
       "</style>\n",
       "<table border=\"1\" class=\"dataframe\">\n",
       "  <thead>\n",
       "    <tr style=\"text-align: right;\">\n",
       "      <th></th>\n",
       "      <th>npersons</th>\n",
       "      <th>oldest_age</th>\n",
       "      <th>RFCD.Code.1</th>\n",
       "      <th>midpoint</th>\n",
       "      <th>status</th>\n",
       "    </tr>\n",
       "  </thead>\n",
       "  <tbody>\n",
       "    <tr>\n",
       "      <th>count</th>\n",
       "      <td>1413.000000</td>\n",
       "      <td>1363.000000</td>\n",
       "      <td>1420.000000</td>\n",
       "      <td>834.000000</td>\n",
       "      <td>1420.000000</td>\n",
       "    </tr>\n",
       "    <tr>\n",
       "      <th>mean</th>\n",
       "      <td>1.991507</td>\n",
       "      <td>46.220103</td>\n",
       "      <td>283534.757746</td>\n",
       "      <td>56534.272182</td>\n",
       "      <td>0.473944</td>\n",
       "    </tr>\n",
       "    <tr>\n",
       "      <th>std</th>\n",
       "      <td>1.402623</td>\n",
       "      <td>10.049217</td>\n",
       "      <td>43515.351061</td>\n",
       "      <td>84821.226389</td>\n",
       "      <td>0.499497</td>\n",
       "    </tr>\n",
       "    <tr>\n",
       "      <th>min</th>\n",
       "      <td>1.000000</td>\n",
       "      <td>25.000000</td>\n",
       "      <td>240100.000000</td>\n",
       "      <td>24999.500000</td>\n",
       "      <td>0.000000</td>\n",
       "    </tr>\n",
       "    <tr>\n",
       "      <th>25%</th>\n",
       "      <td>1.000000</td>\n",
       "      <td>38.000000</td>\n",
       "      <td>270103.000000</td>\n",
       "      <td>24999.500000</td>\n",
       "      <td>0.000000</td>\n",
       "    </tr>\n",
       "    <tr>\n",
       "      <th>50%</th>\n",
       "      <td>2.000000</td>\n",
       "      <td>46.000000</td>\n",
       "      <td>270210.000000</td>\n",
       "      <td>24999.500000</td>\n",
       "      <td>0.000000</td>\n",
       "    </tr>\n",
       "    <tr>\n",
       "      <th>75%</th>\n",
       "      <td>2.000000</td>\n",
       "      <td>53.000000</td>\n",
       "      <td>270702.000000</td>\n",
       "      <td>49999.500000</td>\n",
       "      <td>1.000000</td>\n",
       "    </tr>\n",
       "    <tr>\n",
       "      <th>max</th>\n",
       "      <td>15.000000</td>\n",
       "      <td>77.000000</td>\n",
       "      <td>380399.000000</td>\n",
       "      <td>499999.500000</td>\n",
       "      <td>1.000000</td>\n",
       "    </tr>\n",
       "  </tbody>\n",
       "</table>\n",
       "</div>"
      ],
      "text/plain": [
       "          npersons   oldest_age    RFCD.Code.1       midpoint       status\n",
       "count  1413.000000  1363.000000    1420.000000     834.000000  1420.000000\n",
       "mean      1.991507    46.220103  283534.757746   56534.272182     0.473944\n",
       "std       1.402623    10.049217   43515.351061   84821.226389     0.499497\n",
       "min       1.000000    25.000000  240100.000000   24999.500000     0.000000\n",
       "25%       1.000000    38.000000  270103.000000   24999.500000     0.000000\n",
       "50%       2.000000    46.000000  270210.000000   24999.500000     0.000000\n",
       "75%       2.000000    53.000000  270702.000000   49999.500000     1.000000\n",
       "max      15.000000    77.000000  380399.000000  499999.500000     1.000000"
      ]
     },
     "execution_count": 93,
     "metadata": {},
     "output_type": "execute_result"
    }
   ],
   "source": [
    "grants.describe()"
   ]
  },
  {
   "cell_type": "code",
   "execution_count": 94,
   "metadata": {},
   "outputs": [],
   "source": [
    "grants_df = grants.copy()"
   ]
  },
  {
   "cell_type": "code",
   "execution_count": 95,
   "metadata": {},
   "outputs": [],
   "source": [
    "grants_df[\"status\"] = grants_df[\"status\"].replace({0 : \"Not funded\", 1 : \"Funded\"})"
   ]
  },
  {
   "cell_type": "code",
   "execution_count": 96,
   "metadata": {},
   "outputs": [
    {
     "data": {
      "text/plain": [
       "array(['Funded', 'Not funded'], dtype=object)"
      ]
     },
     "execution_count": 96,
     "metadata": {},
     "output_type": "execute_result"
    }
   ],
   "source": [
    "grants_df[\"status\"].unique()"
   ]
  },
  {
   "cell_type": "code",
   "execution_count": 97,
   "metadata": {},
   "outputs": [
    {
     "data": {
      "text/html": [
       "<div>\n",
       "<style scoped>\n",
       "    .dataframe tbody tr th:only-of-type {\n",
       "        vertical-align: middle;\n",
       "    }\n",
       "\n",
       "    .dataframe tbody tr th {\n",
       "        vertical-align: top;\n",
       "    }\n",
       "\n",
       "    .dataframe thead th {\n",
       "        text-align: right;\n",
       "    }\n",
       "</style>\n",
       "<table border=\"1\" class=\"dataframe\">\n",
       "  <thead>\n",
       "    <tr style=\"text-align: right;\">\n",
       "      <th></th>\n",
       "      <th>npersons</th>\n",
       "      <th>years_in_uni</th>\n",
       "      <th>oldest_age</th>\n",
       "      <th>field</th>\n",
       "      <th>RFCD.Code.1</th>\n",
       "      <th>midpoint</th>\n",
       "      <th>status</th>\n",
       "    </tr>\n",
       "  </thead>\n",
       "  <tbody>\n",
       "    <tr>\n",
       "      <th>0</th>\n",
       "      <td>2.0</td>\n",
       "      <td>&lt; 5</td>\n",
       "      <td>66.0</td>\n",
       "      <td>bio</td>\n",
       "      <td>270799</td>\n",
       "      <td>24999.5</td>\n",
       "      <td>Funded</td>\n",
       "    </tr>\n",
       "    <tr>\n",
       "      <th>1</th>\n",
       "      <td>1.0</td>\n",
       "      <td>&lt; 5</td>\n",
       "      <td>51.0</td>\n",
       "      <td>bio</td>\n",
       "      <td>270106</td>\n",
       "      <td>24999.5</td>\n",
       "      <td>Not funded</td>\n",
       "    </tr>\n",
       "    <tr>\n",
       "      <th>2</th>\n",
       "      <td>1.0</td>\n",
       "      <td>&lt; 5</td>\n",
       "      <td>36.0</td>\n",
       "      <td>bio</td>\n",
       "      <td>270708</td>\n",
       "      <td>24999.5</td>\n",
       "      <td>Not funded</td>\n",
       "    </tr>\n",
       "  </tbody>\n",
       "</table>\n",
       "</div>"
      ],
      "text/plain": [
       "   npersons years_in_uni  oldest_age field  RFCD.Code.1  midpoint      status\n",
       "0       2.0          < 5        66.0   bio       270799   24999.5      Funded\n",
       "1       1.0          < 5        51.0   bio       270106   24999.5  Not funded\n",
       "2       1.0          < 5        36.0   bio       270708   24999.5  Not funded"
      ]
     },
     "execution_count": 97,
     "metadata": {},
     "output_type": "execute_result"
    }
   ],
   "source": [
    "grants_df.head(3)"
   ]
  },
  {
   "cell_type": "code",
   "execution_count": 98,
   "metadata": {},
   "outputs": [
    {
     "data": {
      "text/html": [
       "<div>\n",
       "<style scoped>\n",
       "    .dataframe tbody tr th:only-of-type {\n",
       "        vertical-align: middle;\n",
       "    }\n",
       "\n",
       "    .dataframe tbody tr th {\n",
       "        vertical-align: top;\n",
       "    }\n",
       "\n",
       "    .dataframe thead th {\n",
       "        text-align: right;\n",
       "    }\n",
       "</style>\n",
       "<table border=\"1\" class=\"dataframe\">\n",
       "  <thead>\n",
       "    <tr style=\"text-align: right;\">\n",
       "      <th></th>\n",
       "      <th>field</th>\n",
       "    </tr>\n",
       "    <tr>\n",
       "      <th>status</th>\n",
       "      <th></th>\n",
       "    </tr>\n",
       "  </thead>\n",
       "  <tbody>\n",
       "    <tr>\n",
       "      <th>Funded</th>\n",
       "      <td>673</td>\n",
       "    </tr>\n",
       "    <tr>\n",
       "      <th>Not funded</th>\n",
       "      <td>747</td>\n",
       "    </tr>\n",
       "  </tbody>\n",
       "</table>\n",
       "</div>"
      ],
      "text/plain": [
       "            field\n",
       "status           \n",
       "Funded        673\n",
       "Not funded    747"
      ]
     },
     "execution_count": 98,
     "metadata": {},
     "output_type": "execute_result"
    }
   ],
   "source": [
    "table_1 = pd.pivot_table(grants_df, index=\"status\", values=\"field\", aggfunc=\"count\")\n",
    "table_1"
   ]
  },
  {
   "cell_type": "code",
   "execution_count": 99,
   "metadata": {},
   "outputs": [
    {
     "data": {
      "text/html": [
       "<div>\n",
       "<style scoped>\n",
       "    .dataframe tbody tr th:only-of-type {\n",
       "        vertical-align: middle;\n",
       "    }\n",
       "\n",
       "    .dataframe tbody tr th {\n",
       "        vertical-align: top;\n",
       "    }\n",
       "\n",
       "    .dataframe thead tr th {\n",
       "        text-align: left;\n",
       "    }\n",
       "\n",
       "    .dataframe thead tr:last-of-type th {\n",
       "        text-align: right;\n",
       "    }\n",
       "</style>\n",
       "<table border=\"1\" class=\"dataframe\">\n",
       "  <thead>\n",
       "    <tr>\n",
       "      <th></th>\n",
       "      <th colspan=\"2\" halign=\"left\">RFCD.Code.1</th>\n",
       "      <th colspan=\"2\" halign=\"left\">midpoint</th>\n",
       "      <th colspan=\"2\" halign=\"left\">npersons</th>\n",
       "      <th colspan=\"2\" halign=\"left\">oldest_age</th>\n",
       "      <th colspan=\"2\" halign=\"left\">years_in_uni</th>\n",
       "    </tr>\n",
       "    <tr>\n",
       "      <th>status</th>\n",
       "      <th>Funded</th>\n",
       "      <th>Not funded</th>\n",
       "      <th>Funded</th>\n",
       "      <th>Not funded</th>\n",
       "      <th>Funded</th>\n",
       "      <th>Not funded</th>\n",
       "      <th>Funded</th>\n",
       "      <th>Not funded</th>\n",
       "      <th>Funded</th>\n",
       "      <th>Not funded</th>\n",
       "    </tr>\n",
       "    <tr>\n",
       "      <th>field</th>\n",
       "      <th></th>\n",
       "      <th></th>\n",
       "      <th></th>\n",
       "      <th></th>\n",
       "      <th></th>\n",
       "      <th></th>\n",
       "      <th></th>\n",
       "      <th></th>\n",
       "      <th></th>\n",
       "      <th></th>\n",
       "    </tr>\n",
       "  </thead>\n",
       "  <tbody>\n",
       "    <tr>\n",
       "      <th>beh_cog</th>\n",
       "      <td>65</td>\n",
       "      <td>100</td>\n",
       "      <td>52</td>\n",
       "      <td>25</td>\n",
       "      <td>65</td>\n",
       "      <td>99</td>\n",
       "      <td>61</td>\n",
       "      <td>97</td>\n",
       "      <td>65</td>\n",
       "      <td>100</td>\n",
       "    </tr>\n",
       "    <tr>\n",
       "      <th>bio</th>\n",
       "      <td>432</td>\n",
       "      <td>473</td>\n",
       "      <td>374</td>\n",
       "      <td>192</td>\n",
       "      <td>431</td>\n",
       "      <td>470</td>\n",
       "      <td>423</td>\n",
       "      <td>450</td>\n",
       "      <td>432</td>\n",
       "      <td>473</td>\n",
       "    </tr>\n",
       "    <tr>\n",
       "      <th>chem</th>\n",
       "      <td>66</td>\n",
       "      <td>60</td>\n",
       "      <td>58</td>\n",
       "      <td>18</td>\n",
       "      <td>66</td>\n",
       "      <td>60</td>\n",
       "      <td>64</td>\n",
       "      <td>58</td>\n",
       "      <td>66</td>\n",
       "      <td>60</td>\n",
       "    </tr>\n",
       "    <tr>\n",
       "      <th>physics</th>\n",
       "      <td>78</td>\n",
       "      <td>70</td>\n",
       "      <td>60</td>\n",
       "      <td>15</td>\n",
       "      <td>77</td>\n",
       "      <td>70</td>\n",
       "      <td>76</td>\n",
       "      <td>62</td>\n",
       "      <td>78</td>\n",
       "      <td>70</td>\n",
       "    </tr>\n",
       "    <tr>\n",
       "      <th>soc</th>\n",
       "      <td>32</td>\n",
       "      <td>44</td>\n",
       "      <td>30</td>\n",
       "      <td>10</td>\n",
       "      <td>32</td>\n",
       "      <td>43</td>\n",
       "      <td>32</td>\n",
       "      <td>40</td>\n",
       "      <td>32</td>\n",
       "      <td>44</td>\n",
       "    </tr>\n",
       "  </tbody>\n",
       "</table>\n",
       "</div>"
      ],
      "text/plain": [
       "        RFCD.Code.1            midpoint            npersons             \\\n",
       "status       Funded Not funded   Funded Not funded   Funded Not funded   \n",
       "field                                                                    \n",
       "beh_cog          65        100       52         25       65         99   \n",
       "bio             432        473      374        192      431        470   \n",
       "chem             66         60       58         18       66         60   \n",
       "physics          78         70       60         15       77         70   \n",
       "soc              32         44       30         10       32         43   \n",
       "\n",
       "        oldest_age            years_in_uni             \n",
       "status      Funded Not funded       Funded Not funded  \n",
       "field                                                  \n",
       "beh_cog         61         97           65        100  \n",
       "bio            423        450          432        473  \n",
       "chem            64         58           66         60  \n",
       "physics         76         62           78         70  \n",
       "soc             32         40           32         44  "
      ]
     },
     "execution_count": 99,
     "metadata": {},
     "output_type": "execute_result"
    }
   ],
   "source": [
    "table_2 = pd.pivot_table(grants_df, index=[\"field\"], columns=[\"status\"], aggfunc=\"count\")\n",
    "table_2"
   ]
  },
  {
   "cell_type": "code",
   "execution_count": 100,
   "metadata": {},
   "outputs": [],
   "source": [
    "# Неудачные попытки\n",
    "# -----------------------------\n",
    "# grants_df.groupby([\"field\", \"status\"]).agg({\"status\" : \"count\"}).unstack()\n",
    "# -----------------------------\n",
    "# table_2 = grants_df.pivot_table(index=\"status\", columns=[\"field\"], aggfunc=\"count\")\n",
    "# table_2"
   ]
  },
  {
   "cell_type": "code",
   "execution_count": 101,
   "metadata": {},
   "outputs": [
    {
     "data": {
      "text/html": [
       "<div>\n",
       "<style scoped>\n",
       "    .dataframe tbody tr th:only-of-type {\n",
       "        vertical-align: middle;\n",
       "    }\n",
       "\n",
       "    .dataframe tbody tr th {\n",
       "        vertical-align: top;\n",
       "    }\n",
       "\n",
       "    .dataframe thead th {\n",
       "        text-align: right;\n",
       "    }\n",
       "</style>\n",
       "<table border=\"1\" class=\"dataframe\">\n",
       "  <thead>\n",
       "    <tr style=\"text-align: right;\">\n",
       "      <th>status</th>\n",
       "      <th>Funded</th>\n",
       "      <th>Not funded</th>\n",
       "    </tr>\n",
       "    <tr>\n",
       "      <th>field</th>\n",
       "      <th></th>\n",
       "      <th></th>\n",
       "    </tr>\n",
       "  </thead>\n",
       "  <tbody>\n",
       "    <tr>\n",
       "      <th>beh_cog</th>\n",
       "      <td>65</td>\n",
       "      <td>100</td>\n",
       "    </tr>\n",
       "    <tr>\n",
       "      <th>bio</th>\n",
       "      <td>432</td>\n",
       "      <td>473</td>\n",
       "    </tr>\n",
       "    <tr>\n",
       "      <th>chem</th>\n",
       "      <td>66</td>\n",
       "      <td>60</td>\n",
       "    </tr>\n",
       "    <tr>\n",
       "      <th>physics</th>\n",
       "      <td>78</td>\n",
       "      <td>70</td>\n",
       "    </tr>\n",
       "    <tr>\n",
       "      <th>soc</th>\n",
       "      <td>32</td>\n",
       "      <td>44</td>\n",
       "    </tr>\n",
       "  </tbody>\n",
       "</table>\n",
       "</div>"
      ],
      "text/plain": [
       "status   Funded  Not funded\n",
       "field                      \n",
       "beh_cog      65         100\n",
       "bio         432         473\n",
       "chem         66          60\n",
       "physics      78          70\n",
       "soc          32          44"
      ]
     },
     "execution_count": 101,
     "metadata": {},
     "output_type": "execute_result"
    }
   ],
   "source": [
    "dist = grants_df.groupby([\"field\", \"status\"])[\"status\"].count().unstack()\n",
    "dist"
   ]
  },
  {
   "cell_type": "code",
   "execution_count": 102,
   "metadata": {},
   "outputs": [
    {
     "data": {
      "text/plain": [
       "array([0.05268034])"
      ]
     },
     "execution_count": 102,
     "metadata": {},
     "output_type": "execute_result"
    }
   ],
   "source": [
    "# Binom test\n",
    "p_value_1 = scipy.stats.binom_test(table_1)\n",
    "p_value_1"
   ]
  },
  {
   "cell_type": "code",
   "execution_count": 103,
   "metadata": {},
   "outputs": [
    {
     "name": "stdout",
     "output_type": "stream",
     "text": [
      "Power_divergenceResult(statistic=array([3.85633803]), pvalue=array([0.04955838]))\n",
      "The chi-squared test statistic is [3.85633803]; \n",
      "The p-value of the test is [0.04955838].\n"
     ]
    }
   ],
   "source": [
    "# ChiSquare test\n",
    "cs_res_1 = scipy.stats.chisquare(table_1)\n",
    "print(cs_res_1)\n",
    "print(\"The chi-squared test statistic is {}; \\nThe p-value of the test is {}.\".format(cs_res_1[0], cs_res_1[1]))"
   ]
  },
  {
   "cell_type": "code",
   "execution_count": 104,
   "metadata": {},
   "outputs": [
    {
     "data": {
      "text/plain": [
       "Power_divergenceResult(statistic=array([7.42424242, 1.85745856, 0.28571429, 0.43243243, 1.89473684]), pvalue=array([0.00643509, 0.17291841, 0.5929801 , 0.5107978 , 0.16866862]))"
      ]
     },
     "execution_count": 104,
     "metadata": {},
     "output_type": "execute_result"
    }
   ],
   "source": [
    "cs_res_2 = scipy.stats.chisquare(dist.T)\n",
    "cs_res_2"
   ]
  },
  {
   "cell_type": "code",
   "execution_count": null,
   "metadata": {},
   "outputs": [],
   "source": []
  },
  {
   "cell_type": "code",
   "execution_count": null,
   "metadata": {},
   "outputs": [],
   "source": []
  },
  {
   "cell_type": "code",
   "execution_count": null,
   "metadata": {},
   "outputs": [],
   "source": []
  },
  {
   "cell_type": "code",
   "execution_count": null,
   "metadata": {},
   "outputs": [],
   "source": []
  },
  {
   "cell_type": "code",
   "execution_count": null,
   "metadata": {},
   "outputs": [],
   "source": []
  },
  {
   "cell_type": "markdown",
   "metadata": {},
   "source": [
    "### New Dataset"
   ]
  },
  {
   "cell_type": "code",
   "execution_count": 105,
   "metadata": {},
   "outputs": [],
   "source": [
    "DATA = \"~/PycharmProjects/Datasets/\"\n",
    "hec_path = DATA + \"HairEyeColor.csv\"\n",
    "hec = pd.read_csv(hec_path)"
   ]
  },
  {
   "cell_type": "code",
   "execution_count": 106,
   "metadata": {},
   "outputs": [],
   "source": [
    "hec = hec.drop(\"Unnamed: 0\", axis=1)"
   ]
  },
  {
   "cell_type": "code",
   "execution_count": 107,
   "metadata": {},
   "outputs": [
    {
     "data": {
      "text/html": [
       "<div>\n",
       "<style scoped>\n",
       "    .dataframe tbody tr th:only-of-type {\n",
       "        vertical-align: middle;\n",
       "    }\n",
       "\n",
       "    .dataframe tbody tr th {\n",
       "        vertical-align: top;\n",
       "    }\n",
       "\n",
       "    .dataframe thead th {\n",
       "        text-align: right;\n",
       "    }\n",
       "</style>\n",
       "<table border=\"1\" class=\"dataframe\">\n",
       "  <thead>\n",
       "    <tr style=\"text-align: right;\">\n",
       "      <th></th>\n",
       "      <th>Hair</th>\n",
       "      <th>Eye</th>\n",
       "      <th>Sex</th>\n",
       "      <th>Freq</th>\n",
       "    </tr>\n",
       "  </thead>\n",
       "  <tbody>\n",
       "    <tr>\n",
       "      <th>0</th>\n",
       "      <td>Black</td>\n",
       "      <td>Brown</td>\n",
       "      <td>Male</td>\n",
       "      <td>32</td>\n",
       "    </tr>\n",
       "    <tr>\n",
       "      <th>1</th>\n",
       "      <td>Brown</td>\n",
       "      <td>Brown</td>\n",
       "      <td>Male</td>\n",
       "      <td>53</td>\n",
       "    </tr>\n",
       "    <tr>\n",
       "      <th>2</th>\n",
       "      <td>Red</td>\n",
       "      <td>Brown</td>\n",
       "      <td>Male</td>\n",
       "      <td>10</td>\n",
       "    </tr>\n",
       "    <tr>\n",
       "      <th>3</th>\n",
       "      <td>Blond</td>\n",
       "      <td>Brown</td>\n",
       "      <td>Male</td>\n",
       "      <td>3</td>\n",
       "    </tr>\n",
       "    <tr>\n",
       "      <th>4</th>\n",
       "      <td>Black</td>\n",
       "      <td>Blue</td>\n",
       "      <td>Male</td>\n",
       "      <td>11</td>\n",
       "    </tr>\n",
       "  </tbody>\n",
       "</table>\n",
       "</div>"
      ],
      "text/plain": [
       "    Hair    Eye   Sex  Freq\n",
       "0  Black  Brown  Male    32\n",
       "1  Brown  Brown  Male    53\n",
       "2    Red  Brown  Male    10\n",
       "3  Blond  Brown  Male     3\n",
       "4  Black   Blue  Male    11"
      ]
     },
     "execution_count": 107,
     "metadata": {},
     "output_type": "execute_result"
    }
   ],
   "source": [
    "hec.head()"
   ]
  },
  {
   "cell_type": "code",
   "execution_count": 108,
   "metadata": {},
   "outputs": [
    {
     "data": {
      "text/html": [
       "<div>\n",
       "<style scoped>\n",
       "    .dataframe tbody tr th:only-of-type {\n",
       "        vertical-align: middle;\n",
       "    }\n",
       "\n",
       "    .dataframe tbody tr th {\n",
       "        vertical-align: top;\n",
       "    }\n",
       "\n",
       "    .dataframe thead th {\n",
       "        text-align: right;\n",
       "    }\n",
       "</style>\n",
       "<table border=\"1\" class=\"dataframe\">\n",
       "  <thead>\n",
       "    <tr style=\"text-align: right;\">\n",
       "      <th></th>\n",
       "      <th>Hair</th>\n",
       "      <th>Eye</th>\n",
       "      <th>Sex</th>\n",
       "      <th>Freq</th>\n",
       "    </tr>\n",
       "  </thead>\n",
       "  <tbody>\n",
       "    <tr>\n",
       "      <th>16</th>\n",
       "      <td>Black</td>\n",
       "      <td>Brown</td>\n",
       "      <td>Female</td>\n",
       "      <td>36</td>\n",
       "    </tr>\n",
       "    <tr>\n",
       "      <th>17</th>\n",
       "      <td>Brown</td>\n",
       "      <td>Brown</td>\n",
       "      <td>Female</td>\n",
       "      <td>66</td>\n",
       "    </tr>\n",
       "    <tr>\n",
       "      <th>18</th>\n",
       "      <td>Red</td>\n",
       "      <td>Brown</td>\n",
       "      <td>Female</td>\n",
       "      <td>16</td>\n",
       "    </tr>\n",
       "    <tr>\n",
       "      <th>19</th>\n",
       "      <td>Blond</td>\n",
       "      <td>Brown</td>\n",
       "      <td>Female</td>\n",
       "      <td>4</td>\n",
       "    </tr>\n",
       "    <tr>\n",
       "      <th>20</th>\n",
       "      <td>Black</td>\n",
       "      <td>Blue</td>\n",
       "      <td>Female</td>\n",
       "      <td>9</td>\n",
       "    </tr>\n",
       "    <tr>\n",
       "      <th>21</th>\n",
       "      <td>Brown</td>\n",
       "      <td>Blue</td>\n",
       "      <td>Female</td>\n",
       "      <td>34</td>\n",
       "    </tr>\n",
       "    <tr>\n",
       "      <th>22</th>\n",
       "      <td>Red</td>\n",
       "      <td>Blue</td>\n",
       "      <td>Female</td>\n",
       "      <td>7</td>\n",
       "    </tr>\n",
       "    <tr>\n",
       "      <th>23</th>\n",
       "      <td>Blond</td>\n",
       "      <td>Blue</td>\n",
       "      <td>Female</td>\n",
       "      <td>64</td>\n",
       "    </tr>\n",
       "    <tr>\n",
       "      <th>24</th>\n",
       "      <td>Black</td>\n",
       "      <td>Hazel</td>\n",
       "      <td>Female</td>\n",
       "      <td>5</td>\n",
       "    </tr>\n",
       "    <tr>\n",
       "      <th>25</th>\n",
       "      <td>Brown</td>\n",
       "      <td>Hazel</td>\n",
       "      <td>Female</td>\n",
       "      <td>29</td>\n",
       "    </tr>\n",
       "    <tr>\n",
       "      <th>26</th>\n",
       "      <td>Red</td>\n",
       "      <td>Hazel</td>\n",
       "      <td>Female</td>\n",
       "      <td>7</td>\n",
       "    </tr>\n",
       "    <tr>\n",
       "      <th>27</th>\n",
       "      <td>Blond</td>\n",
       "      <td>Hazel</td>\n",
       "      <td>Female</td>\n",
       "      <td>5</td>\n",
       "    </tr>\n",
       "    <tr>\n",
       "      <th>28</th>\n",
       "      <td>Black</td>\n",
       "      <td>Green</td>\n",
       "      <td>Female</td>\n",
       "      <td>2</td>\n",
       "    </tr>\n",
       "    <tr>\n",
       "      <th>29</th>\n",
       "      <td>Brown</td>\n",
       "      <td>Green</td>\n",
       "      <td>Female</td>\n",
       "      <td>14</td>\n",
       "    </tr>\n",
       "    <tr>\n",
       "      <th>30</th>\n",
       "      <td>Red</td>\n",
       "      <td>Green</td>\n",
       "      <td>Female</td>\n",
       "      <td>7</td>\n",
       "    </tr>\n",
       "    <tr>\n",
       "      <th>31</th>\n",
       "      <td>Blond</td>\n",
       "      <td>Green</td>\n",
       "      <td>Female</td>\n",
       "      <td>8</td>\n",
       "    </tr>\n",
       "  </tbody>\n",
       "</table>\n",
       "</div>"
      ],
      "text/plain": [
       "     Hair    Eye     Sex  Freq\n",
       "16  Black  Brown  Female    36\n",
       "17  Brown  Brown  Female    66\n",
       "18    Red  Brown  Female    16\n",
       "19  Blond  Brown  Female     4\n",
       "20  Black   Blue  Female     9\n",
       "21  Brown   Blue  Female    34\n",
       "22    Red   Blue  Female     7\n",
       "23  Blond   Blue  Female    64\n",
       "24  Black  Hazel  Female     5\n",
       "25  Brown  Hazel  Female    29\n",
       "26    Red  Hazel  Female     7\n",
       "27  Blond  Hazel  Female     5\n",
       "28  Black  Green  Female     2\n",
       "29  Brown  Green  Female    14\n",
       "30    Red  Green  Female     7\n",
       "31  Blond  Green  Female     8"
      ]
     },
     "execution_count": 108,
     "metadata": {},
     "output_type": "execute_result"
    }
   ],
   "source": [
    "hec_fem = hec[hec.Sex == \"Female\"]\n",
    "hec_fem"
   ]
  },
  {
   "cell_type": "code",
   "execution_count": 109,
   "metadata": {},
   "outputs": [],
   "source": [
    "# Неудачные попытки\n",
    "# sns.histplot(data=hec_fem, x=\"Hair\", y=\"Freq\")"
   ]
  },
  {
   "cell_type": "code",
   "execution_count": 110,
   "metadata": {},
   "outputs": [
    {
     "data": {
      "text/plain": [
       "<seaborn.axisgrid.FacetGrid at 0x7fed5b68e160>"
      ]
     },
     "execution_count": 110,
     "metadata": {},
     "output_type": "execute_result"
    },
    {
     "data": {
      "image/png": "[encoded data removed]",
      "text/plain": [
       "<Figure size 434.225x360 with 1 Axes>"
      ]
     },
     "metadata": {},
     "output_type": "display_data"
    }
   ],
   "source": [
    "sns.catplot(data=hec_fem, x=\"Hair\", y=\"Freq\", hue=\"Eye\", kind=\"bar\")"
   ]
  },
  {
   "cell_type": "code",
   "execution_count": 111,
   "metadata": {},
   "outputs": [],
   "source": [
    "# Как сделать хорошо и правильно? - Посмотри туториалы.\n",
    "# titanic = sns.load_dataset(\"titanic\")\n",
    "# sns.catplot(x=\"sex\", y=\"survived\", hue=\"class\", kind=\"bar\", data=titanic)"
   ]
  },
  {
   "cell_type": "code",
   "execution_count": 112,
   "metadata": {},
   "outputs": [
    {
     "data": {
      "text/html": [
       "<div>\n",
       "<style scoped>\n",
       "    .dataframe tbody tr th:only-of-type {\n",
       "        vertical-align: middle;\n",
       "    }\n",
       "\n",
       "    .dataframe tbody tr th {\n",
       "        vertical-align: top;\n",
       "    }\n",
       "\n",
       "    .dataframe thead th {\n",
       "        text-align: right;\n",
       "    }\n",
       "</style>\n",
       "<table border=\"1\" class=\"dataframe\">\n",
       "  <thead>\n",
       "    <tr style=\"text-align: right;\">\n",
       "      <th></th>\n",
       "      <th>Eye</th>\n",
       "      <th>Freq</th>\n",
       "    </tr>\n",
       "  </thead>\n",
       "  <tbody>\n",
       "    <tr>\n",
       "      <th>17</th>\n",
       "      <td>Brown</td>\n",
       "      <td>66</td>\n",
       "    </tr>\n",
       "    <tr>\n",
       "      <th>21</th>\n",
       "      <td>Blue</td>\n",
       "      <td>34</td>\n",
       "    </tr>\n",
       "    <tr>\n",
       "      <th>25</th>\n",
       "      <td>Hazel</td>\n",
       "      <td>29</td>\n",
       "    </tr>\n",
       "    <tr>\n",
       "      <th>29</th>\n",
       "      <td>Green</td>\n",
       "      <td>14</td>\n",
       "    </tr>\n",
       "  </tbody>\n",
       "</table>\n",
       "</div>"
      ],
      "text/plain": [
       "      Eye  Freq\n",
       "17  Brown    66\n",
       "21   Blue    34\n",
       "25  Hazel    29\n",
       "29  Green    14"
      ]
     },
     "execution_count": 112,
     "metadata": {},
     "output_type": "execute_result"
    }
   ],
   "source": [
    "hec_fem[hec_fem.Hair == \"Brown\"].iloc[:,[1, 3]]"
   ]
  },
  {
   "cell_type": "code",
   "execution_count": 113,
   "metadata": {},
   "outputs": [
    {
     "data": {
      "text/html": [
       "<div>\n",
       "<style scoped>\n",
       "    .dataframe tbody tr th:only-of-type {\n",
       "        vertical-align: middle;\n",
       "    }\n",
       "\n",
       "    .dataframe tbody tr th {\n",
       "        vertical-align: top;\n",
       "    }\n",
       "\n",
       "    .dataframe thead th {\n",
       "        text-align: right;\n",
       "    }\n",
       "</style>\n",
       "<table border=\"1\" class=\"dataframe\">\n",
       "  <thead>\n",
       "    <tr style=\"text-align: right;\">\n",
       "      <th></th>\n",
       "      <th>Freq</th>\n",
       "    </tr>\n",
       "    <tr>\n",
       "      <th>Eye</th>\n",
       "      <th></th>\n",
       "    </tr>\n",
       "  </thead>\n",
       "  <tbody>\n",
       "    <tr>\n",
       "      <th>Brown</th>\n",
       "      <td>66</td>\n",
       "    </tr>\n",
       "    <tr>\n",
       "      <th>Blue</th>\n",
       "      <td>34</td>\n",
       "    </tr>\n",
       "    <tr>\n",
       "      <th>Hazel</th>\n",
       "      <td>29</td>\n",
       "    </tr>\n",
       "    <tr>\n",
       "      <th>Green</th>\n",
       "      <td>14</td>\n",
       "    </tr>\n",
       "  </tbody>\n",
       "</table>\n",
       "</div>"
      ],
      "text/plain": [
       "       Freq\n",
       "Eye        \n",
       "Brown    66\n",
       "Blue     34\n",
       "Hazel    29\n",
       "Green    14"
      ]
     },
     "execution_count": 113,
     "metadata": {},
     "output_type": "execute_result"
    }
   ],
   "source": [
    "brown_haired_ladies = hec_fem[hec_fem.Hair == \"Brown\"].iloc[:,[1, 3]].set_index(\"Eye\")\n",
    "brown_haired_ladies"
   ]
  },
  {
   "cell_type": "code",
   "execution_count": 114,
   "metadata": {},
   "outputs": [
    {
     "name": "stdout",
     "output_type": "stream",
     "text": [
      "Power_divergenceResult(statistic=array([40.18881119]), pvalue=array([9.71700305e-09]))\n",
      "The chi-squared test statistic is [40.18881119]; \n",
      "The p-value of the test is [9.71700305e-09].\n"
     ]
    }
   ],
   "source": [
    "cs_res_3 = scipy.stats.chisquare(brown_haired_ladies)\n",
    "print(cs_res_3)\n",
    "print(\"The chi-squared test statistic is {}; \\nThe p-value of the test is {}.\".format(cs_res_3[0], cs_res_3[1]))"
   ]
  },
  {
   "cell_type": "code",
   "execution_count": 115,
   "metadata": {},
   "outputs": [
    {
     "name": "stdout",
     "output_type": "stream",
     "text": [
      "The chi-squared test statistic is [40.18881119]; \n",
      "The p-value of the test is [9.71700305e-09].\n"
     ]
    }
   ],
   "source": [
    "DATA = \"~/PycharmProjects/Datasets/\"\n",
    "hec_path = DATA + \"HairEyeColor.csv\"\n",
    "hec = pd.read_csv(hec_path, index_col=0)\n",
    "brown_haired_ladies = hec.query(\"Sex == 'Female' and Hair == 'Brown'\").iloc[:,[1, 3]].set_index(\"Eye\")\n",
    "chisquare_result = scipy.stats.chisquare(brown_haired_ladies)\n",
    "print(\"The chi-squared test statistic is {}; \\nThe p-value of the test is {}.\".format(chisquare_result[0], chisquare_result[1]))"
   ]
  },
  {
   "cell_type": "code",
   "execution_count": null,
   "metadata": {},
   "outputs": [],
   "source": []
  },
  {
   "cell_type": "code",
   "execution_count": null,
   "metadata": {},
   "outputs": [],
   "source": []
  },
  {
   "cell_type": "code",
   "execution_count": null,
   "metadata": {},
   "outputs": [],
   "source": []
  },
  {
   "cell_type": "code",
   "execution_count": null,
   "metadata": {},
   "outputs": [],
   "source": []
  },
  {
   "cell_type": "code",
   "execution_count": null,
   "metadata": {},
   "outputs": [],
   "source": []
  },
  {
   "cell_type": "markdown",
   "metadata": {},
   "source": [
    "### New Dataset"
   ]
  },
  {
   "cell_type": "code",
   "execution_count": 116,
   "metadata": {},
   "outputs": [
    {
     "data": {
      "text/html": [
       "<div>\n",
       "<style scoped>\n",
       "    .dataframe tbody tr th:only-of-type {\n",
       "        vertical-align: middle;\n",
       "    }\n",
       "\n",
       "    .dataframe tbody tr th {\n",
       "        vertical-align: top;\n",
       "    }\n",
       "\n",
       "    .dataframe thead th {\n",
       "        text-align: right;\n",
       "    }\n",
       "</style>\n",
       "<table border=\"1\" class=\"dataframe\">\n",
       "  <thead>\n",
       "    <tr style=\"text-align: right;\">\n",
       "      <th></th>\n",
       "      <th>carat</th>\n",
       "      <th>cut</th>\n",
       "      <th>color</th>\n",
       "      <th>clarity</th>\n",
       "      <th>depth</th>\n",
       "      <th>table</th>\n",
       "      <th>price</th>\n",
       "      <th>x</th>\n",
       "      <th>y</th>\n",
       "      <th>z</th>\n",
       "    </tr>\n",
       "  </thead>\n",
       "  <tbody>\n",
       "    <tr>\n",
       "      <th>0</th>\n",
       "      <td>0.23</td>\n",
       "      <td>Ideal</td>\n",
       "      <td>E</td>\n",
       "      <td>SI2</td>\n",
       "      <td>61.5</td>\n",
       "      <td>55.0</td>\n",
       "      <td>326</td>\n",
       "      <td>3.95</td>\n",
       "      <td>3.98</td>\n",
       "      <td>2.43</td>\n",
       "    </tr>\n",
       "    <tr>\n",
       "      <th>1</th>\n",
       "      <td>0.21</td>\n",
       "      <td>Premium</td>\n",
       "      <td>E</td>\n",
       "      <td>SI1</td>\n",
       "      <td>59.8</td>\n",
       "      <td>61.0</td>\n",
       "      <td>326</td>\n",
       "      <td>3.89</td>\n",
       "      <td>3.84</td>\n",
       "      <td>2.31</td>\n",
       "    </tr>\n",
       "    <tr>\n",
       "      <th>2</th>\n",
       "      <td>0.23</td>\n",
       "      <td>Good</td>\n",
       "      <td>E</td>\n",
       "      <td>VS1</td>\n",
       "      <td>56.9</td>\n",
       "      <td>65.0</td>\n",
       "      <td>327</td>\n",
       "      <td>4.05</td>\n",
       "      <td>4.07</td>\n",
       "      <td>2.31</td>\n",
       "    </tr>\n",
       "    <tr>\n",
       "      <th>3</th>\n",
       "      <td>0.29</td>\n",
       "      <td>Premium</td>\n",
       "      <td>I</td>\n",
       "      <td>VS2</td>\n",
       "      <td>62.4</td>\n",
       "      <td>58.0</td>\n",
       "      <td>334</td>\n",
       "      <td>4.20</td>\n",
       "      <td>4.23</td>\n",
       "      <td>2.63</td>\n",
       "    </tr>\n",
       "    <tr>\n",
       "      <th>4</th>\n",
       "      <td>0.31</td>\n",
       "      <td>Good</td>\n",
       "      <td>J</td>\n",
       "      <td>SI2</td>\n",
       "      <td>63.3</td>\n",
       "      <td>58.0</td>\n",
       "      <td>335</td>\n",
       "      <td>4.34</td>\n",
       "      <td>4.35</td>\n",
       "      <td>2.75</td>\n",
       "    </tr>\n",
       "  </tbody>\n",
       "</table>\n",
       "</div>"
      ],
      "text/plain": [
       "   carat      cut color clarity  depth  table  price     x     y     z\n",
       "0   0.23    Ideal     E     SI2   61.5   55.0    326  3.95  3.98  2.43\n",
       "1   0.21  Premium     E     SI1   59.8   61.0    326  3.89  3.84  2.31\n",
       "2   0.23     Good     E     VS1   56.9   65.0    327  4.05  4.07  2.31\n",
       "3   0.29  Premium     I     VS2   62.4   58.0    334  4.20  4.23  2.63\n",
       "4   0.31     Good     J     SI2   63.3   58.0    335  4.34  4.35  2.75"
      ]
     },
     "execution_count": 116,
     "metadata": {},
     "output_type": "execute_result"
    }
   ],
   "source": [
    "diamonds = sns.load_dataset('diamonds')\n",
    "diamonds.head()"
   ]
  },
  {
   "cell_type": "code",
   "execution_count": 117,
   "metadata": {},
   "outputs": [],
   "source": [
    "diamonds = diamonds.sort_values(by=['color', 'cut'])"
   ]
  },
  {
   "cell_type": "code",
   "execution_count": 118,
   "metadata": {},
   "outputs": [
    {
     "data": {
      "text/plain": [
       "<AxesSubplot:xlabel='color', ylabel='Count'>"
      ]
     },
     "execution_count": 118,
     "metadata": {},
     "output_type": "execute_result"
    },
    {
     "data": {
      "image/png": "[encoded data removed]",
      "text/plain": [
       "<Figure size 432x288 with 1 Axes>"
      ]
     },
     "metadata": {},
     "output_type": "display_data"
    }
   ],
   "source": [
    "sns.histplot(data=diamonds, x=\"color\", hue=\"cut\", multiple=\"dodge\", shrink=.8)"
   ]
  },
  {
   "cell_type": "code",
   "execution_count": 119,
   "metadata": {},
   "outputs": [],
   "source": [
    "# import seaborn as sns\n",
    "\n",
    "# diamonds = sns.load_dataset('diamonds')\n",
    "# diamonds = diamonds.sort_values(by=['color', 'cut'])\n",
    "# sns.histplot(data=diamonds, x=\"color\", hue=\"cut\", multiple=\"dodge\", shrink=.7)"
   ]
  },
  {
   "cell_type": "code",
   "execution_count": 120,
   "metadata": {},
   "outputs": [
    {
     "name": "stdout",
     "output_type": "stream",
     "text": [
      "(5, 7)\n"
     ]
    },
    {
     "data": {
      "text/html": [
       "<div>\n",
       "<style scoped>\n",
       "    .dataframe tbody tr th:only-of-type {\n",
       "        vertical-align: middle;\n",
       "    }\n",
       "\n",
       "    .dataframe tbody tr th {\n",
       "        vertical-align: top;\n",
       "    }\n",
       "\n",
       "    .dataframe thead th {\n",
       "        text-align: right;\n",
       "    }\n",
       "</style>\n",
       "<table border=\"1\" class=\"dataframe\">\n",
       "  <thead>\n",
       "    <tr style=\"text-align: right;\">\n",
       "      <th>color</th>\n",
       "      <th>D</th>\n",
       "      <th>E</th>\n",
       "      <th>F</th>\n",
       "      <th>G</th>\n",
       "      <th>H</th>\n",
       "      <th>I</th>\n",
       "      <th>J</th>\n",
       "    </tr>\n",
       "    <tr>\n",
       "      <th>cut</th>\n",
       "      <th></th>\n",
       "      <th></th>\n",
       "      <th></th>\n",
       "      <th></th>\n",
       "      <th></th>\n",
       "      <th></th>\n",
       "      <th></th>\n",
       "    </tr>\n",
       "  </thead>\n",
       "  <tbody>\n",
       "    <tr>\n",
       "      <th>Ideal</th>\n",
       "      <td>2834</td>\n",
       "      <td>3903</td>\n",
       "      <td>3826</td>\n",
       "      <td>4884</td>\n",
       "      <td>3115</td>\n",
       "      <td>2093</td>\n",
       "      <td>896</td>\n",
       "    </tr>\n",
       "    <tr>\n",
       "      <th>Premium</th>\n",
       "      <td>1603</td>\n",
       "      <td>2337</td>\n",
       "      <td>2331</td>\n",
       "      <td>2924</td>\n",
       "      <td>2360</td>\n",
       "      <td>1428</td>\n",
       "      <td>808</td>\n",
       "    </tr>\n",
       "    <tr>\n",
       "      <th>Very Good</th>\n",
       "      <td>1513</td>\n",
       "      <td>2400</td>\n",
       "      <td>2164</td>\n",
       "      <td>2299</td>\n",
       "      <td>1824</td>\n",
       "      <td>1204</td>\n",
       "      <td>678</td>\n",
       "    </tr>\n",
       "    <tr>\n",
       "      <th>Good</th>\n",
       "      <td>662</td>\n",
       "      <td>933</td>\n",
       "      <td>909</td>\n",
       "      <td>871</td>\n",
       "      <td>702</td>\n",
       "      <td>522</td>\n",
       "      <td>307</td>\n",
       "    </tr>\n",
       "    <tr>\n",
       "      <th>Fair</th>\n",
       "      <td>163</td>\n",
       "      <td>224</td>\n",
       "      <td>312</td>\n",
       "      <td>314</td>\n",
       "      <td>303</td>\n",
       "      <td>175</td>\n",
       "      <td>119</td>\n",
       "    </tr>\n",
       "  </tbody>\n",
       "</table>\n",
       "</div>"
      ],
      "text/plain": [
       "color         D     E     F     G     H     I    J\n",
       "cut                                               \n",
       "Ideal      2834  3903  3826  4884  3115  2093  896\n",
       "Premium    1603  2337  2331  2924  2360  1428  808\n",
       "Very Good  1513  2400  2164  2299  1824  1204  678\n",
       "Good        662   933   909   871   702   522  307\n",
       "Fair        163   224   312   314   303   175  119"
      ]
     },
     "execution_count": 120,
     "metadata": {},
     "output_type": "execute_result"
    }
   ],
   "source": [
    "diamonds = sns.load_dataset('diamonds')\n",
    "diamonds = pd.DataFrame(diamonds)\n",
    "# d = diamonds.groupby(['cut', 'color']).agg({\"color\" : \"count\"}).unstack()\n",
    "d = diamonds.groupby(['cut', 'color'])['cut'].count().unstack()\n",
    "print(d.shape)\n",
    "d"
   ]
  },
  {
   "cell_type": "code",
   "execution_count": 121,
   "metadata": {},
   "outputs": [
    {
     "data": {
      "text/plain": [
       "(310.3179005211542,\n",
       " 1.3945120919852248e-51,\n",
       " 24,\n",
       " array([[2706.85993697, 3914.25930664, 3812.37749351, 4511.56640712,\n",
       "         3317.7512792 , 2166.28702262, 1121.89855395],\n",
       "        [1732.18437152, 2504.82808676, 2439.63147942, 2887.05917686,\n",
       "         2123.1083426 , 1386.25884316,  717.92969967],\n",
       "        [1517.52966259, 2194.42628847, 2137.30893585, 2529.29076752,\n",
       "         1860.00978865, 1214.47170931,  628.96284761],\n",
       "        [ 616.2059696 ,  891.06566555,  867.87267334, 1027.04026696,\n",
       "          755.27296997,  493.1466815 ,  255.39577308],\n",
       "        [ 202.22005933,  292.42065258,  284.80941787,  337.04338154,\n",
       "          247.85761958,  161.83574342,   83.8131257 ]]))"
      ]
     },
     "execution_count": 121,
     "metadata": {},
     "output_type": "execute_result"
    }
   ],
   "source": [
    "# НЕПРАВИЛЬНО!\n",
    "\n",
    "# chisquare_result = scipy.stats.chisquare(d, axis=None)\n",
    "# chisquare_result\n",
    "# -------------------------------------------------------------\n",
    "# ПРАВИЛЬНО!\n",
    "chisquare_result = scipy.stats.chi2_contingency(d)\n",
    "chisquare_result"
   ]
  },
  {
   "cell_type": "code",
   "execution_count": 122,
   "metadata": {},
   "outputs": [],
   "source": [
    "# # Предполагается, что Вы уже скачали необходимый датасет и знаете путь до него\n",
    "# import pandas as pd\n",
    "# import scipy.stats\n",
    "# import seaborn as sns\n",
    "\n",
    "# diamonds = sns.load_dataset('diamonds')\n",
    "# diamonds = pd.DataFrame(diamonds)\n",
    "# d = diamonds.groupby(['cut', 'color'])['cut'].count().unstack()\n",
    "# chisquare_result = scipy.stats.chi2_contingency(d)\n",
    "# chisquare_result"
   ]
  },
  {
   "cell_type": "code",
   "execution_count": 123,
   "metadata": {},
   "outputs": [],
   "source": [
    "# table_diamonds = pd.pivot_table(diamonds, index=[\"cut\"], columns=[\"color\"], aggfunc=\"count\")\n",
    "# table_diamonds"
   ]
  },
  {
   "cell_type": "code",
   "execution_count": 124,
   "metadata": {},
   "outputs": [],
   "source": [
    "diamonds[\"factor_price\"] = np.where(diamonds['price'] >= diamonds.price.mean(), 1, 0)\n",
    "diamonds[\"factor_carat\"] = np.where(diamonds['carat'] >= diamonds.carat.mean(), 1, 0)"
   ]
  },
  {
   "cell_type": "code",
   "execution_count": 125,
   "metadata": {},
   "outputs": [
    {
     "data": {
      "text/html": [
       "<div>\n",
       "<style scoped>\n",
       "    .dataframe tbody tr th:only-of-type {\n",
       "        vertical-align: middle;\n",
       "    }\n",
       "\n",
       "    .dataframe tbody tr th {\n",
       "        vertical-align: top;\n",
       "    }\n",
       "\n",
       "    .dataframe thead th {\n",
       "        text-align: right;\n",
       "    }\n",
       "</style>\n",
       "<table border=\"1\" class=\"dataframe\">\n",
       "  <thead>\n",
       "    <tr style=\"text-align: right;\">\n",
       "      <th>factor_price</th>\n",
       "      <th>0</th>\n",
       "      <th>1</th>\n",
       "    </tr>\n",
       "    <tr>\n",
       "      <th>factor_carat</th>\n",
       "      <th></th>\n",
       "      <th></th>\n",
       "    </tr>\n",
       "  </thead>\n",
       "  <tbody>\n",
       "    <tr>\n",
       "      <th>0</th>\n",
       "      <td>30929</td>\n",
       "      <td>198</td>\n",
       "    </tr>\n",
       "    <tr>\n",
       "      <th>1</th>\n",
       "      <td>3354</td>\n",
       "      <td>19459</td>\n",
       "    </tr>\n",
       "  </tbody>\n",
       "</table>\n",
       "</div>"
      ],
      "text/plain": [
       "factor_price      0      1\n",
       "factor_carat              \n",
       "0             30929    198\n",
       "1              3354  19459"
      ]
     },
     "execution_count": 125,
     "metadata": {},
     "output_type": "execute_result"
    }
   ],
   "source": [
    "d = diamonds.groupby(['factor_carat', 'factor_price'])['factor_price'].count().unstack()\n",
    "d"
   ]
  },
  {
   "cell_type": "code",
   "execution_count": 126,
   "metadata": {},
   "outputs": [
    {
     "data": {
      "text/plain": [
       "40735.2227968624"
      ]
     },
     "execution_count": 126,
     "metadata": {},
     "output_type": "execute_result"
    }
   ],
   "source": [
    "chisquare_result = scipy.stats.chi2_contingency(d)\n",
    "chisquare_result[0]"
   ]
  },
  {
   "cell_type": "code",
   "execution_count": 127,
   "metadata": {},
   "outputs": [],
   "source": [
    "# # Предполагается, что Вы уже скачали необходимый датасет и знаете путь до него\n",
    "# import pandas as pd\n",
    "# import numpy as np\n",
    "# import scipy.stats\n",
    "# import seaborn as sns\n",
    "\n",
    "# diamonds = sns.load_dataset('diamonds')\n",
    "# diamonds = pd.DataFrame(diamonds)\n",
    "# diamonds[\"factor_price\"] = np.where(diamonds['price'] >= diamonds.price.mean(), 1, 0)\n",
    "# diamonds[\"factor_carat\"] = np.where(diamonds['carat'] >= diamonds.carat.mean(), 1, 0)\n",
    "# d = diamonds.groupby(['factor_carat', 'factor_price'])['factor_price'].count().unstack()\n",
    "# chisquare_result = scipy.stats.chi2_contingency(d)\n",
    "# chisquare_result[0]"
   ]
  },
  {
   "cell_type": "markdown",
   "metadata": {},
   "source": [
    "### Game: Megafon and N+1\n",
    "#### https://nplus1.ru/material/2020/10/27/megafon"
   ]
  },
  {
   "cell_type": "code",
   "execution_count": 128,
   "metadata": {},
   "outputs": [],
   "source": [
    "import re"
   ]
  },
  {
   "cell_type": "code",
   "execution_count": 129,
   "metadata": {},
   "outputs": [
    {
     "data": {
      "text/html": [
       "<div>\n",
       "<style scoped>\n",
       "    .dataframe tbody tr th:only-of-type {\n",
       "        vertical-align: middle;\n",
       "    }\n",
       "\n",
       "    .dataframe tbody tr th {\n",
       "        vertical-align: top;\n",
       "    }\n",
       "\n",
       "    .dataframe thead th {\n",
       "        text-align: right;\n",
       "    }\n",
       "</style>\n",
       "<table border=\"1\" class=\"dataframe\">\n",
       "  <thead>\n",
       "    <tr style=\"text-align: right;\">\n",
       "      <th></th>\n",
       "      <th>0</th>\n",
       "      <th>1</th>\n",
       "      <th>2</th>\n",
       "      <th>3</th>\n",
       "    </tr>\n",
       "  </thead>\n",
       "  <tbody>\n",
       "    <tr>\n",
       "      <th>0</th>\n",
       "      <td>h0yp8</td>\n",
       "      <td>87d6c39e-ffeb-49db-a699-71bb5c294c0b</td>\n",
       "      <td>5405.00</td>\n",
       "      <td>выменял шило на правокрыла</td>\n",
       "    </tr>\n",
       "    <tr>\n",
       "      <th>1</th>\n",
       "      <td>3403080000</td>\n",
       "      <td>861100907</td>\n",
       "      <td>пожертвование Фонду спасения кубических черепах</td>\n",
       "      <td>NaN</td>\n",
       "    </tr>\n",
       "    <tr>\n",
       "      <th>2</th>\n",
       "      <td>a8a8f4f8-6b19-4cb3-b7ef-368e39353105</td>\n",
       "      <td>КРПОТП</td>\n",
       "      <td>добрая пословица не в бровь, а прямо в пятимер...</td>\n",
       "      <td>NaN</td>\n",
       "    </tr>\n",
       "    <tr>\n",
       "      <th>3</th>\n",
       "      <td>h6iok</td>\n",
       "      <td>478000457</td>\n",
       "      <td>3105.00</td>\n",
       "      <td>NaN</td>\n",
       "    </tr>\n",
       "    <tr>\n",
       "      <th>4</th>\n",
       "      <td>3403339200</td>\n",
       "      <td>ГДПВК</td>\n",
       "      <td>пожертвование Гильдии добровольной поддержки в...</td>\n",
       "      <td>NaN</td>\n",
       "    </tr>\n",
       "    <tr>\n",
       "      <th>5</th>\n",
       "      <td>3403598400</td>\n",
       "      <td>696600277</td>\n",
       "      <td>пожертвование Ассоциации поддержки леворуких п...</td>\n",
       "      <td>NaN</td>\n",
       "    </tr>\n",
       "    <tr>\n",
       "      <th>6</th>\n",
       "      <td>e9d8805a-7ff4-4cf9-a9dc-30bd805fcbd4</td>\n",
       "      <td>ФСКЧ</td>\n",
       "      <td>кубической черепахи в мешке не утаишь</td>\n",
       "      <td>NaN</td>\n",
       "    </tr>\n",
       "    <tr>\n",
       "      <th>7</th>\n",
       "      <td>hhmor</td>\n",
       "      <td>451800503</td>\n",
       "      <td>5290.00</td>\n",
       "      <td>NaN</td>\n",
       "    </tr>\n",
       "    <tr>\n",
       "      <th>8</th>\n",
       "      <td>3403857600</td>\n",
       "      <td>МАЗП</td>\n",
       "      <td>пожертвование Международной академии задиванны...</td>\n",
       "      <td>NaN</td>\n",
       "    </tr>\n",
       "    <tr>\n",
       "      <th>9</th>\n",
       "      <td>hlc2n</td>\n",
       "      <td>ed99959b-5161-48b2-9bc4-ee5e21d5cd03</td>\n",
       "      <td>5175.00</td>\n",
       "      <td>без вампира-короеда не вынешь рыбку из пруда</td>\n",
       "    </tr>\n",
       "  </tbody>\n",
       "</table>\n",
       "</div>"
      ],
      "text/plain": [
       "                                      0                                     1  \\\n",
       "0                                 h0yp8  87d6c39e-ffeb-49db-a699-71bb5c294c0b   \n",
       "1                            3403080000                             861100907   \n",
       "2  a8a8f4f8-6b19-4cb3-b7ef-368e39353105                                КРПОТП   \n",
       "3                                 h6iok                             478000457   \n",
       "4                            3403339200                                 ГДПВК   \n",
       "5                            3403598400                             696600277   \n",
       "6  e9d8805a-7ff4-4cf9-a9dc-30bd805fcbd4                                  ФСКЧ   \n",
       "7                                 hhmor                             451800503   \n",
       "8                            3403857600                                  МАЗП   \n",
       "9                                 hlc2n  ed99959b-5161-48b2-9bc4-ee5e21d5cd03   \n",
       "\n",
       "                                                   2  \\\n",
       "0                                            5405.00   \n",
       "1    пожертвование Фонду спасения кубических черепах   \n",
       "2  добрая пословица не в бровь, а прямо в пятимер...   \n",
       "3                                            3105.00   \n",
       "4  пожертвование Гильдии добровольной поддержки в...   \n",
       "5  пожертвование Ассоциации поддержки леворуких п...   \n",
       "6              кубической черепахи в мешке не утаишь   \n",
       "7                                            5290.00   \n",
       "8  пожертвование Международной академии задиванны...   \n",
       "9                                            5175.00   \n",
       "\n",
       "                                              3  \n",
       "0                    выменял шило на правокрыла  \n",
       "1                                           NaN  \n",
       "2                                           NaN  \n",
       "3                                           NaN  \n",
       "4                                           NaN  \n",
       "5                                           NaN  \n",
       "6                                           NaN  \n",
       "7                                           NaN  \n",
       "8                                           NaN  \n",
       "9  без вампира-короеда не вынешь рыбку из пруда  "
      ]
     },
     "execution_count": 129,
     "metadata": {},
     "output_type": "execute_result"
    }
   ],
   "source": [
    "PATH_TO_DATA = \"~/Downloads/Megafon_and_Nplus1_Game/\"\n",
    "game_df_1 = pd.read_csv(PATH_TO_DATA + \"first.csv\", sep=\";\", header=None)\n",
    "game_df_1.head(10)"
   ]
  },
  {
   "cell_type": "code",
   "execution_count": 130,
   "metadata": {},
   "outputs": [
    {
     "data": {
      "text/html": [
       "<div>\n",
       "<style scoped>\n",
       "    .dataframe tbody tr th:only-of-type {\n",
       "        vertical-align: middle;\n",
       "    }\n",
       "\n",
       "    .dataframe tbody tr th {\n",
       "        vertical-align: top;\n",
       "    }\n",
       "\n",
       "    .dataframe thead th {\n",
       "        text-align: right;\n",
       "    }\n",
       "</style>\n",
       "<table border=\"1\" class=\"dataframe\">\n",
       "  <thead>\n",
       "    <tr style=\"text-align: right;\">\n",
       "      <th></th>\n",
       "      <th>transaction_id</th>\n",
       "      <th>company_name</th>\n",
       "      <th>transaction_amount</th>\n",
       "      <th>comment</th>\n",
       "    </tr>\n",
       "  </thead>\n",
       "  <tbody>\n",
       "    <tr>\n",
       "      <th>0</th>\n",
       "      <td>h0yp8</td>\n",
       "      <td>87d6c39e-ffeb-49db-a699-71bb5c294c0b</td>\n",
       "      <td>5405.00</td>\n",
       "      <td>выменял шило на правокрыла</td>\n",
       "    </tr>\n",
       "    <tr>\n",
       "      <th>1</th>\n",
       "      <td>3403080000</td>\n",
       "      <td>861100907</td>\n",
       "      <td>пожертвование Фонду спасения кубических черепах</td>\n",
       "      <td>NaN</td>\n",
       "    </tr>\n",
       "    <tr>\n",
       "      <th>2</th>\n",
       "      <td>a8a8f4f8-6b19-4cb3-b7ef-368e39353105</td>\n",
       "      <td>КРПОТП</td>\n",
       "      <td>добрая пословица не в бровь, а прямо в пятимер...</td>\n",
       "      <td>NaN</td>\n",
       "    </tr>\n",
       "    <tr>\n",
       "      <th>3</th>\n",
       "      <td>h6iok</td>\n",
       "      <td>478000457</td>\n",
       "      <td>3105.00</td>\n",
       "      <td>NaN</td>\n",
       "    </tr>\n",
       "    <tr>\n",
       "      <th>4</th>\n",
       "      <td>3403339200</td>\n",
       "      <td>ГДПВК</td>\n",
       "      <td>пожертвование Гильдии добровольной поддержки в...</td>\n",
       "      <td>NaN</td>\n",
       "    </tr>\n",
       "    <tr>\n",
       "      <th>5</th>\n",
       "      <td>3403598400</td>\n",
       "      <td>696600277</td>\n",
       "      <td>пожертвование Ассоциации поддержки леворуких п...</td>\n",
       "      <td>NaN</td>\n",
       "    </tr>\n",
       "    <tr>\n",
       "      <th>6</th>\n",
       "      <td>e9d8805a-7ff4-4cf9-a9dc-30bd805fcbd4</td>\n",
       "      <td>ФСКЧ</td>\n",
       "      <td>кубической черепахи в мешке не утаишь</td>\n",
       "      <td>NaN</td>\n",
       "    </tr>\n",
       "    <tr>\n",
       "      <th>7</th>\n",
       "      <td>hhmor</td>\n",
       "      <td>451800503</td>\n",
       "      <td>5290.00</td>\n",
       "      <td>NaN</td>\n",
       "    </tr>\n",
       "    <tr>\n",
       "      <th>8</th>\n",
       "      <td>3403857600</td>\n",
       "      <td>МАЗП</td>\n",
       "      <td>пожертвование Международной академии задиванны...</td>\n",
       "      <td>NaN</td>\n",
       "    </tr>\n",
       "    <tr>\n",
       "      <th>9</th>\n",
       "      <td>hlc2n</td>\n",
       "      <td>ed99959b-5161-48b2-9bc4-ee5e21d5cd03</td>\n",
       "      <td>5175.00</td>\n",
       "      <td>без вампира-короеда не вынешь рыбку из пруда</td>\n",
       "    </tr>\n",
       "    <tr>\n",
       "      <th>10</th>\n",
       "      <td>87d6c39e-ffeb-49db-a699-71bb5c294c0b</td>\n",
       "      <td>АПЛП</td>\n",
       "      <td>правокрыл хвоста не ждёт</td>\n",
       "      <td>NaN</td>\n",
       "    </tr>\n",
       "    <tr>\n",
       "      <th>11</th>\n",
       "      <td>hsqqf</td>\n",
       "      <td>861100907</td>\n",
       "      <td>3335.00</td>\n",
       "      <td>NaN</td>\n",
       "    </tr>\n",
       "    <tr>\n",
       "      <th>12</th>\n",
       "      <td>3404376000</td>\n",
       "      <td>КРПОТП</td>\n",
       "      <td>пожертвование Кружку разведения пятимерных одн...</td>\n",
       "      <td>NaN</td>\n",
       "    </tr>\n",
       "    <tr>\n",
       "      <th>13</th>\n",
       "      <td>hwg0y</td>\n",
       "      <td>9904c0e7-9ad6-403c-ab7b-9e31ac21487a</td>\n",
       "      <td>4830.00</td>\n",
       "      <td>красавица без ума что кошелек без пылееда</td>\n",
       "    </tr>\n",
       "    <tr>\n",
       "      <th>14</th>\n",
       "      <td>3404548800</td>\n",
       "      <td>411700659</td>\n",
       "      <td>пожертвование Гильдии добровольной поддержки в...</td>\n",
       "      <td>NaN</td>\n",
       "    </tr>\n",
       "    <tr>\n",
       "      <th>15</th>\n",
       "      <td>i3upf</td>\n",
       "      <td>696600277</td>\n",
       "      <td>1955.00</td>\n",
       "      <td>NaN</td>\n",
       "    </tr>\n",
       "    <tr>\n",
       "      <th>16</th>\n",
       "      <td>3404894400</td>\n",
       "      <td>ФСКЧ</td>\n",
       "      <td>пожертвование Фонду спасения кубических черепах</td>\n",
       "      <td>NaN</td>\n",
       "    </tr>\n",
       "    <tr>\n",
       "      <th>17</th>\n",
       "      <td>i7k1y</td>\n",
       "      <td>a8a8f4f8-6b19-4cb3-b7ef-368e39353105</td>\n",
       "      <td>2530.00</td>\n",
       "      <td>добрая слава до порога, а худая за одноглаза</td>\n",
       "    </tr>\n",
       "    <tr>\n",
       "      <th>18</th>\n",
       "      <td>3405067200</td>\n",
       "      <td>478000457</td>\n",
       "      <td>пожертвование Международной академии задиванны...</td>\n",
       "      <td>NaN</td>\n",
       "    </tr>\n",
       "    <tr>\n",
       "      <th>19</th>\n",
       "      <td>ed99959b-5161-48b2-9bc4-ee5e21d5cd03</td>\n",
       "      <td>ГДПВК</td>\n",
       "      <td>муравей не вампир-короед, а горы копает</td>\n",
       "      <td>NaN</td>\n",
       "    </tr>\n",
       "    <tr>\n",
       "      <th>20</th>\n",
       "      <td>3405412800</td>\n",
       "      <td>АПЛП</td>\n",
       "      <td>пожертвование Ассоциации поддержки леворуких п...</td>\n",
       "      <td>NaN</td>\n",
       "    </tr>\n",
       "    <tr>\n",
       "      <th>21</th>\n",
       "      <td>iio2q</td>\n",
       "      <td>e9d8805a-7ff4-4cf9-a9dc-30bd805fcbd4</td>\n",
       "      <td>4370.00</td>\n",
       "      <td>на всякого егорку есть кубическая черепаха</td>\n",
       "    </tr>\n",
       "    <tr>\n",
       "      <th>22</th>\n",
       "      <td>3405585600</td>\n",
       "      <td>451800503</td>\n",
       "      <td>пожертвование Кружку разведения пятимерных одн...</td>\n",
       "      <td>NaN</td>\n",
       "    </tr>\n",
       "    <tr>\n",
       "      <th>23</th>\n",
       "      <td>9904c0e7-9ad6-403c-ab7b-9e31ac21487a</td>\n",
       "      <td>МАЗП</td>\n",
       "      <td>тише едешь, дальше пылеед</td>\n",
       "      <td>NaN</td>\n",
       "    </tr>\n",
       "    <tr>\n",
       "      <th>24</th>\n",
       "      <td>io81o</td>\n",
       "      <td>411700659</td>\n",
       "      <td>1610.00</td>\n",
       "      <td>NaN</td>\n",
       "    </tr>\n",
       "    <tr>\n",
       "      <th>25</th>\n",
       "      <td>1upt</td>\n",
       "      <td>87d6c39e-ffeb-49db-a699-71bb5c294c0b</td>\n",
       "      <td>3105.00</td>\n",
       "      <td>от правокрыла добра не ищут</td>\n",
       "    </tr>\n",
       "    <tr>\n",
       "      <th>26</th>\n",
       "      <td>3406104000</td>\n",
       "      <td>861100907</td>\n",
       "      <td>пожертвование Фонду спасения кубических черепах</td>\n",
       "      <td>NaN</td>\n",
       "    </tr>\n",
       "    <tr>\n",
       "      <th>27</th>\n",
       "      <td>a8a8f4f8-6b19-4cb3-b7ef-368e39353105</td>\n",
       "      <td>КРПОТП</td>\n",
       "      <td>в тихом омуте одноглазы водятся</td>\n",
       "      <td>NaN</td>\n",
       "    </tr>\n",
       "    <tr>\n",
       "      <th>28</th>\n",
       "      <td>7eqj</td>\n",
       "      <td>478000457</td>\n",
       "      <td>1955.00</td>\n",
       "      <td>NaN</td>\n",
       "    </tr>\n",
       "    <tr>\n",
       "      <th>29</th>\n",
       "      <td>3406363200</td>\n",
       "      <td>ГДПВК</td>\n",
       "      <td>пожертвование Гильдии добровольной поддержки в...</td>\n",
       "      <td>NaN</td>\n",
       "    </tr>\n",
       "    <tr>\n",
       "      <th>30</th>\n",
       "      <td>3406622400</td>\n",
       "      <td>696600277</td>\n",
       "      <td>пожертвование Ассоциации поддержки леворуких п...</td>\n",
       "      <td>NaN</td>\n",
       "    </tr>\n",
       "    <tr>\n",
       "      <th>31</th>\n",
       "      <td>e9d8805a-7ff4-4cf9-a9dc-30bd805fcbd4</td>\n",
       "      <td>ФСКЧ</td>\n",
       "      <td>доброе братство милее кубической черепахи</td>\n",
       "      <td>NaN</td>\n",
       "    </tr>\n",
       "    <tr>\n",
       "      <th>32</th>\n",
       "      <td>iiqn</td>\n",
       "      <td>451800503</td>\n",
       "      <td>4025.00</td>\n",
       "      <td>NaN</td>\n",
       "    </tr>\n",
       "    <tr>\n",
       "      <th>33</th>\n",
       "      <td>3406881600</td>\n",
       "      <td>МАЗП</td>\n",
       "      <td>пожертвование Международной академии задиванны...</td>\n",
       "      <td>NaN</td>\n",
       "    </tr>\n",
       "    <tr>\n",
       "      <th>34</th>\n",
       "      <td>m82b</td>\n",
       "      <td>ed99959b-5161-48b2-9bc4-ee5e21d5cd03</td>\n",
       "      <td>3565.00</td>\n",
       "      <td>лучше один раз увидеть, чем вампира-короеда ус...</td>\n",
       "    </tr>\n",
       "    <tr>\n",
       "      <th>35</th>\n",
       "      <td>87d6c39e-ffeb-49db-a699-71bb5c294c0b</td>\n",
       "      <td>АПЛП</td>\n",
       "      <td>век живи – век правокрыл</td>\n",
       "      <td>NaN</td>\n",
       "    </tr>\n",
       "    <tr>\n",
       "      <th>36</th>\n",
       "      <td>tmp8</td>\n",
       "      <td>861100907</td>\n",
       "      <td>5290.00</td>\n",
       "      <td>NaN</td>\n",
       "    </tr>\n",
       "    <tr>\n",
       "      <th>37</th>\n",
       "      <td>3407400000</td>\n",
       "      <td>КРПОТП</td>\n",
       "      <td>пожертвование Кружку разведения пятимерных одн...</td>\n",
       "      <td>NaN</td>\n",
       "    </tr>\n",
       "    <tr>\n",
       "      <th>38</th>\n",
       "      <td>xc1j</td>\n",
       "      <td>9904c0e7-9ad6-403c-ab7b-9e31ac21487a</td>\n",
       "      <td>4485.00</td>\n",
       "      <td>после пылееда кулаками не машут</td>\n",
       "    </tr>\n",
       "    <tr>\n",
       "      <th>39</th>\n",
       "      <td>3407572800</td>\n",
       "      <td>411700659</td>\n",
       "      <td>пожертвование Гильдии добровольной поддержки в...</td>\n",
       "      <td>NaN</td>\n",
       "    </tr>\n",
       "  </tbody>\n",
       "</table>\n",
       "</div>"
      ],
      "text/plain": [
       "                          transaction_id  \\\n",
       "0                                  h0yp8   \n",
       "1                             3403080000   \n",
       "2   a8a8f4f8-6b19-4cb3-b7ef-368e39353105   \n",
       "3                                  h6iok   \n",
       "4                             3403339200   \n",
       "5                             3403598400   \n",
       "6   e9d8805a-7ff4-4cf9-a9dc-30bd805fcbd4   \n",
       "7                                  hhmor   \n",
       "8                             3403857600   \n",
       "9                                  hlc2n   \n",
       "10  87d6c39e-ffeb-49db-a699-71bb5c294c0b   \n",
       "11                                 hsqqf   \n",
       "12                            3404376000   \n",
       "13                                 hwg0y   \n",
       "14                            3404548800   \n",
       "15                                 i3upf   \n",
       "16                            3404894400   \n",
       "17                                 i7k1y   \n",
       "18                            3405067200   \n",
       "19  ed99959b-5161-48b2-9bc4-ee5e21d5cd03   \n",
       "20                            3405412800   \n",
       "21                                 iio2q   \n",
       "22                            3405585600   \n",
       "23  9904c0e7-9ad6-403c-ab7b-9e31ac21487a   \n",
       "24                                 io81o   \n",
       "25                                  1upt   \n",
       "26                            3406104000   \n",
       "27  a8a8f4f8-6b19-4cb3-b7ef-368e39353105   \n",
       "28                                  7eqj   \n",
       "29                            3406363200   \n",
       "30                            3406622400   \n",
       "31  e9d8805a-7ff4-4cf9-a9dc-30bd805fcbd4   \n",
       "32                                  iiqn   \n",
       "33                            3406881600   \n",
       "34                                  m82b   \n",
       "35  87d6c39e-ffeb-49db-a699-71bb5c294c0b   \n",
       "36                                  tmp8   \n",
       "37                            3407400000   \n",
       "38                                  xc1j   \n",
       "39                            3407572800   \n",
       "\n",
       "                            company_name  \\\n",
       "0   87d6c39e-ffeb-49db-a699-71bb5c294c0b   \n",
       "1                              861100907   \n",
       "2                                 КРПОТП   \n",
       "3                              478000457   \n",
       "4                                  ГДПВК   \n",
       "5                              696600277   \n",
       "6                                   ФСКЧ   \n",
       "7                              451800503   \n",
       "8                                   МАЗП   \n",
       "9   ed99959b-5161-48b2-9bc4-ee5e21d5cd03   \n",
       "10                                  АПЛП   \n",
       "11                             861100907   \n",
       "12                                КРПОТП   \n",
       "13  9904c0e7-9ad6-403c-ab7b-9e31ac21487a   \n",
       "14                             411700659   \n",
       "15                             696600277   \n",
       "16                                  ФСКЧ   \n",
       "17  a8a8f4f8-6b19-4cb3-b7ef-368e39353105   \n",
       "18                             478000457   \n",
       "19                                 ГДПВК   \n",
       "20                                  АПЛП   \n",
       "21  e9d8805a-7ff4-4cf9-a9dc-30bd805fcbd4   \n",
       "22                             451800503   \n",
       "23                                  МАЗП   \n",
       "24                             411700659   \n",
       "25  87d6c39e-ffeb-49db-a699-71bb5c294c0b   \n",
       "26                             861100907   \n",
       "27                                КРПОТП   \n",
       "28                             478000457   \n",
       "29                                 ГДПВК   \n",
       "30                             696600277   \n",
       "31                                  ФСКЧ   \n",
       "32                             451800503   \n",
       "33                                  МАЗП   \n",
       "34  ed99959b-5161-48b2-9bc4-ee5e21d5cd03   \n",
       "35                                  АПЛП   \n",
       "36                             861100907   \n",
       "37                                КРПОТП   \n",
       "38  9904c0e7-9ad6-403c-ab7b-9e31ac21487a   \n",
       "39                             411700659   \n",
       "\n",
       "                                   transaction_amount  \\\n",
       "0                                             5405.00   \n",
       "1     пожертвование Фонду спасения кубических черепах   \n",
       "2   добрая пословица не в бровь, а прямо в пятимер...   \n",
       "3                                             3105.00   \n",
       "4   пожертвование Гильдии добровольной поддержки в...   \n",
       "5   пожертвование Ассоциации поддержки леворуких п...   \n",
       "6               кубической черепахи в мешке не утаишь   \n",
       "7                                             5290.00   \n",
       "8   пожертвование Международной академии задиванны...   \n",
       "9                                             5175.00   \n",
       "10                           правокрыл хвоста не ждёт   \n",
       "11                                            3335.00   \n",
       "12  пожертвование Кружку разведения пятимерных одн...   \n",
       "13                                            4830.00   \n",
       "14  пожертвование Гильдии добровольной поддержки в...   \n",
       "15                                            1955.00   \n",
       "16    пожертвование Фонду спасения кубических черепах   \n",
       "17                                            2530.00   \n",
       "18  пожертвование Международной академии задиванны...   \n",
       "19            муравей не вампир-короед, а горы копает   \n",
       "20  пожертвование Ассоциации поддержки леворуких п...   \n",
       "21                                            4370.00   \n",
       "22  пожертвование Кружку разведения пятимерных одн...   \n",
       "23                          тише едешь, дальше пылеед   \n",
       "24                                            1610.00   \n",
       "25                                            3105.00   \n",
       "26    пожертвование Фонду спасения кубических черепах   \n",
       "27                    в тихом омуте одноглазы водятся   \n",
       "28                                            1955.00   \n",
       "29  пожертвование Гильдии добровольной поддержки в...   \n",
       "30  пожертвование Ассоциации поддержки леворуких п...   \n",
       "31          доброе братство милее кубической черепахи   \n",
       "32                                            4025.00   \n",
       "33  пожертвование Международной академии задиванны...   \n",
       "34                                            3565.00   \n",
       "35                           век живи – век правокрыл   \n",
       "36                                            5290.00   \n",
       "37  пожертвование Кружку разведения пятимерных одн...   \n",
       "38                                            4485.00   \n",
       "39  пожертвование Гильдии добровольной поддержки в...   \n",
       "\n",
       "                                              comment  \n",
       "0                          выменял шило на правокрыла  \n",
       "1                                                 NaN  \n",
       "2                                                 NaN  \n",
       "3                                                 NaN  \n",
       "4                                                 NaN  \n",
       "5                                                 NaN  \n",
       "6                                                 NaN  \n",
       "7                                                 NaN  \n",
       "8                                                 NaN  \n",
       "9        без вампира-короеда не вынешь рыбку из пруда  \n",
       "10                                                NaN  \n",
       "11                                                NaN  \n",
       "12                                                NaN  \n",
       "13          красавица без ума что кошелек без пылееда  \n",
       "14                                                NaN  \n",
       "15                                                NaN  \n",
       "16                                                NaN  \n",
       "17       добрая слава до порога, а худая за одноглаза  \n",
       "18                                                NaN  \n",
       "19                                                NaN  \n",
       "20                                                NaN  \n",
       "21         на всякого егорку есть кубическая черепаха  \n",
       "22                                                NaN  \n",
       "23                                                NaN  \n",
       "24                                                NaN  \n",
       "25                        от правокрыла добра не ищут  \n",
       "26                                                NaN  \n",
       "27                                                NaN  \n",
       "28                                                NaN  \n",
       "29                                                NaN  \n",
       "30                                                NaN  \n",
       "31                                                NaN  \n",
       "32                                                NaN  \n",
       "33                                                NaN  \n",
       "34  лучше один раз увидеть, чем вампира-короеда ус...  \n",
       "35                                                NaN  \n",
       "36                                                NaN  \n",
       "37                                                NaN  \n",
       "38                    после пылееда кулаками не машут  \n",
       "39                                                NaN  "
      ]
     },
     "execution_count": 130,
     "metadata": {},
     "output_type": "execute_result"
    }
   ],
   "source": [
    "game_df_1.columns = [\"transaction_id\", \"company_name\", \"transaction_amount\", \"comment\"]\n",
    "game_df_1"
   ]
  },
  {
   "cell_type": "code",
   "execution_count": 131,
   "metadata": {},
   "outputs": [
    {
     "data": {
      "text/plain": [
       "pandas.core.series.Series"
      ]
     },
     "execution_count": 131,
     "metadata": {},
     "output_type": "execute_result"
    }
   ],
   "source": [
    "type(game_df_1.iloc[:,1])"
   ]
  },
  {
   "cell_type": "code",
   "execution_count": 132,
   "metadata": {},
   "outputs": [
    {
     "name": "stderr",
     "output_type": "stream",
     "text": [
      "/home/aleksey/PycharmProjects/Practical_Statistics/lib/python3.8/site-packages/pandas/core/strings.py:2001: UserWarning: This pattern has match groups. To actually get the groups, use str.extract.\n",
      "  return func(self, *args, **kwargs)\n"
     ]
    },
    {
     "data": {
      "text/html": [
       "<div>\n",
       "<style scoped>\n",
       "    .dataframe tbody tr th:only-of-type {\n",
       "        vertical-align: middle;\n",
       "    }\n",
       "\n",
       "    .dataframe tbody tr th {\n",
       "        vertical-align: top;\n",
       "    }\n",
       "\n",
       "    .dataframe thead th {\n",
       "        text-align: right;\n",
       "    }\n",
       "</style>\n",
       "<table border=\"1\" class=\"dataframe\">\n",
       "  <thead>\n",
       "    <tr style=\"text-align: right;\">\n",
       "      <th></th>\n",
       "      <th>transaction_id</th>\n",
       "      <th>company_name</th>\n",
       "      <th>transaction_amount</th>\n",
       "      <th>comment</th>\n",
       "    </tr>\n",
       "  </thead>\n",
       "  <tbody>\n",
       "    <tr>\n",
       "      <th>0</th>\n",
       "      <td>h0yp8</td>\n",
       "      <td>87d6c39e-ffeb-49db-a699-71bb5c294c0b</td>\n",
       "      <td>5405.00</td>\n",
       "      <td>выменял шило на правокрыла</td>\n",
       "    </tr>\n",
       "    <tr>\n",
       "      <th>9</th>\n",
       "      <td>hlc2n</td>\n",
       "      <td>ed99959b-5161-48b2-9bc4-ee5e21d5cd03</td>\n",
       "      <td>5175.00</td>\n",
       "      <td>без вампира-короеда не вынешь рыбку из пруда</td>\n",
       "    </tr>\n",
       "    <tr>\n",
       "      <th>13</th>\n",
       "      <td>hwg0y</td>\n",
       "      <td>9904c0e7-9ad6-403c-ab7b-9e31ac21487a</td>\n",
       "      <td>4830.00</td>\n",
       "      <td>красавица без ума что кошелек без пылееда</td>\n",
       "    </tr>\n",
       "    <tr>\n",
       "      <th>17</th>\n",
       "      <td>i7k1y</td>\n",
       "      <td>a8a8f4f8-6b19-4cb3-b7ef-368e39353105</td>\n",
       "      <td>2530.00</td>\n",
       "      <td>добрая слава до порога, а худая за одноглаза</td>\n",
       "    </tr>\n",
       "    <tr>\n",
       "      <th>21</th>\n",
       "      <td>iio2q</td>\n",
       "      <td>e9d8805a-7ff4-4cf9-a9dc-30bd805fcbd4</td>\n",
       "      <td>4370.00</td>\n",
       "      <td>на всякого егорку есть кубическая черепаха</td>\n",
       "    </tr>\n",
       "    <tr>\n",
       "      <th>25</th>\n",
       "      <td>1upt</td>\n",
       "      <td>87d6c39e-ffeb-49db-a699-71bb5c294c0b</td>\n",
       "      <td>3105.00</td>\n",
       "      <td>от правокрыла добра не ищут</td>\n",
       "    </tr>\n",
       "    <tr>\n",
       "      <th>34</th>\n",
       "      <td>m82b</td>\n",
       "      <td>ed99959b-5161-48b2-9bc4-ee5e21d5cd03</td>\n",
       "      <td>3565.00</td>\n",
       "      <td>лучше один раз увидеть, чем вампира-короеда ус...</td>\n",
       "    </tr>\n",
       "    <tr>\n",
       "      <th>38</th>\n",
       "      <td>xc1j</td>\n",
       "      <td>9904c0e7-9ad6-403c-ab7b-9e31ac21487a</td>\n",
       "      <td>4485.00</td>\n",
       "      <td>после пылееда кулаками не машут</td>\n",
       "    </tr>\n",
       "  </tbody>\n",
       "</table>\n",
       "</div>"
      ],
      "text/plain": [
       "   transaction_id                          company_name transaction_amount  \\\n",
       "0           h0yp8  87d6c39e-ffeb-49db-a699-71bb5c294c0b            5405.00   \n",
       "9           hlc2n  ed99959b-5161-48b2-9bc4-ee5e21d5cd03            5175.00   \n",
       "13          hwg0y  9904c0e7-9ad6-403c-ab7b-9e31ac21487a            4830.00   \n",
       "17          i7k1y  a8a8f4f8-6b19-4cb3-b7ef-368e39353105            2530.00   \n",
       "21          iio2q  e9d8805a-7ff4-4cf9-a9dc-30bd805fcbd4            4370.00   \n",
       "25           1upt  87d6c39e-ffeb-49db-a699-71bb5c294c0b            3105.00   \n",
       "34           m82b  ed99959b-5161-48b2-9bc4-ee5e21d5cd03            3565.00   \n",
       "38           xc1j  9904c0e7-9ad6-403c-ab7b-9e31ac21487a            4485.00   \n",
       "\n",
       "                                              comment  \n",
       "0                          выменял шило на правокрыла  \n",
       "9        без вампира-короеда не вынешь рыбку из пруда  \n",
       "13          красавица без ума что кошелек без пылееда  \n",
       "17       добрая слава до порога, а худая за одноглаза  \n",
       "21         на всякого егорку есть кубическая черепаха  \n",
       "25                        от правокрыла добра не ищут  \n",
       "34  лучше один раз увидеть, чем вампира-короеда ус...  \n",
       "38                    после пылееда кулаками не машут  "
      ]
     },
     "execution_count": 132,
     "metadata": {},
     "output_type": "execute_result"
    }
   ],
   "source": [
    "game_df_1[game_df_1.iloc[:,1].str.contains(r'([a-z|0-9]{8})(-[a-z|0-9]{4}){3}(-[a-z|0-9]{12})', regex=True)]"
   ]
  },
  {
   "cell_type": "code",
   "execution_count": 133,
   "metadata": {},
   "outputs": [
    {
     "name": "stdout",
     "output_type": "stream",
     "text": [
      "Tokenization took: 0.03 ms\n",
      "Type conversion took: 0.27 ms\n",
      "Parser memory cleanup took: 0.00 ms\n"
     ]
    },
    {
     "data": {
      "text/html": [
       "<div>\n",
       "<style scoped>\n",
       "    .dataframe tbody tr th:only-of-type {\n",
       "        vertical-align: middle;\n",
       "    }\n",
       "\n",
       "    .dataframe tbody tr th {\n",
       "        vertical-align: top;\n",
       "    }\n",
       "\n",
       "    .dataframe thead th {\n",
       "        text-align: right;\n",
       "    }\n",
       "</style>\n",
       "<table border=\"1\" class=\"dataframe\">\n",
       "  <thead>\n",
       "    <tr style=\"text-align: right;\">\n",
       "      <th></th>\n",
       "      <th>3402993600</th>\n",
       "      <th>АПЛП</th>\n",
       "      <th>пожертвование Ассоциации поддержки леворуких правокрылов</th>\n",
       "    </tr>\n",
       "  </thead>\n",
       "  <tbody>\n",
       "    <tr>\n",
       "      <th>h2tdq</th>\n",
       "      <td>e9d8805a-7ff4-4cf9-a9dc-30bd805fcbd4</td>\n",
       "      <td>5060.00</td>\n",
       "      <td>ни рыба, ни мясо, ни кафтан, ни кубическая чер...</td>\n",
       "    </tr>\n",
       "    <tr>\n",
       "      <th>3403166400</th>\n",
       "      <td>451800503</td>\n",
       "      <td>пожертвование Кружку разведения пятимерных одн...</td>\n",
       "      <td>NaN</td>\n",
       "    </tr>\n",
       "    <tr>\n",
       "      <th>9904c0e7-9ad6-403c-ab7b-9e31ac21487a</th>\n",
       "      <td>МАЗП</td>\n",
       "      <td>у кого что болит, тот задиванный пылеед</td>\n",
       "      <td>NaN</td>\n",
       "    </tr>\n",
       "    <tr>\n",
       "      <th>h8dcl</th>\n",
       "      <td>411700659</td>\n",
       "      <td>3450.00</td>\n",
       "      <td>NaN</td>\n",
       "    </tr>\n",
       "    <tr>\n",
       "      <th>hdxek</th>\n",
       "      <td>87d6c39e-ffeb-49db-a699-71bb5c294c0b</td>\n",
       "      <td>5635.00</td>\n",
       "      <td>правокрыл греет, позор жжет</td>\n",
       "    </tr>\n",
       "    <tr>\n",
       "      <th>3403684800</th>\n",
       "      <td>861100907</td>\n",
       "      <td>пожертвование Фонду спасения кубических черепах</td>\n",
       "      <td>NaN</td>\n",
       "    </tr>\n",
       "    <tr>\n",
       "      <th>a8a8f4f8-6b19-4cb3-b7ef-368e39353105</th>\n",
       "      <td>КРПОТП</td>\n",
       "      <td>учёный водит, одноглаз следом ходит</td>\n",
       "      <td>NaN</td>\n",
       "    </tr>\n",
       "    <tr>\n",
       "      <th>hjhd0</th>\n",
       "      <td>478000457</td>\n",
       "      <td>3565.00</td>\n",
       "      <td>NaN</td>\n",
       "    </tr>\n",
       "    <tr>\n",
       "      <th>3403944000</th>\n",
       "      <td>ГДПВК</td>\n",
       "      <td>пожертвование Гильдии добровольной поддержки в...</td>\n",
       "      <td>NaN</td>\n",
       "    </tr>\n",
       "    <tr>\n",
       "      <th>3404203200</th>\n",
       "      <td>696600277</td>\n",
       "      <td>пожертвование Ассоциации поддержки леворуких п...</td>\n",
       "      <td>NaN</td>\n",
       "    </tr>\n",
       "  </tbody>\n",
       "</table>\n",
       "</div>"
      ],
      "text/plain": [
       "                                                                3402993600  \\\n",
       "h2tdq                                 e9d8805a-7ff4-4cf9-a9dc-30bd805fcbd4   \n",
       "3403166400                                                       451800503   \n",
       "9904c0e7-9ad6-403c-ab7b-9e31ac21487a                                  МАЗП   \n",
       "h8dcl                                                            411700659   \n",
       "hdxek                                 87d6c39e-ffeb-49db-a699-71bb5c294c0b   \n",
       "3403684800                                                       861100907   \n",
       "a8a8f4f8-6b19-4cb3-b7ef-368e39353105                                КРПОТП   \n",
       "hjhd0                                                            478000457   \n",
       "3403944000                                                           ГДПВК   \n",
       "3404203200                                                       696600277   \n",
       "\n",
       "                                                                                   АПЛП  \\\n",
       "h2tdq                                                                           5060.00   \n",
       "3403166400                            пожертвование Кружку разведения пятимерных одн...   \n",
       "9904c0e7-9ad6-403c-ab7b-9e31ac21487a            у кого что болит, тот задиванный пылеед   \n",
       "h8dcl                                                                           3450.00   \n",
       "hdxek                                                                           5635.00   \n",
       "3403684800                              пожертвование Фонду спасения кубических черепах   \n",
       "a8a8f4f8-6b19-4cb3-b7ef-368e39353105                учёный водит, одноглаз следом ходит   \n",
       "hjhd0                                                                           3565.00   \n",
       "3403944000                            пожертвование Гильдии добровольной поддержки в...   \n",
       "3404203200                            пожертвование Ассоциации поддержки леворуких п...   \n",
       "\n",
       "                                     пожертвование Ассоциации поддержки леворуких правокрылов  \n",
       "h2tdq                                 ни рыба, ни мясо, ни кафтан, ни кубическая чер...        \n",
       "3403166400                                                                          NaN        \n",
       "9904c0e7-9ad6-403c-ab7b-9e31ac21487a                                                NaN        \n",
       "h8dcl                                                                               NaN        \n",
       "hdxek                                                       правокрыл греет, позор жжет        \n",
       "3403684800                                                                          NaN        \n",
       "a8a8f4f8-6b19-4cb3-b7ef-368e39353105                                                NaN        \n",
       "hjhd0                                                                               NaN        \n",
       "3403944000                                                                          NaN        \n",
       "3404203200                                                                          NaN        "
      ]
     },
     "execution_count": 133,
     "metadata": {},
     "output_type": "execute_result"
    }
   ],
   "source": [
    "# PATH_TO_DATA = \"~/Downloads/Megafon_and_Nplus1_Game/\"\n",
    "\n",
    "game_df_2 = pd.read_csv(PATH_TO_DATA + \"dva.csv\", sep=\";\", verbose=True)\n",
    "game_df_2.head(10)"
   ]
  },
  {
   "cell_type": "markdown",
   "metadata": {},
   "source": [
    "# NEW CHAPTER\n",
    "# ANOVA"
   ]
  },
  {
   "cell_type": "markdown",
   "metadata": {},
   "source": [
    "Он же - дисперсионный анализ: однофакторный и многофакторный."
   ]
  },
  {
   "cell_type": "code",
   "execution_count": 134,
   "metadata": {},
   "outputs": [],
   "source": [
    "import sys\n",
    "\n",
    "from scipy import stats\n",
    "import statsmodels.api as sm\n",
    "import statsmodels.formula.api as smf\n",
    "from statsmodels.stats import power"
   ]
  },
  {
   "cell_type": "code",
   "execution_count": 135,
   "metadata": {},
   "outputs": [
    {
     "data": {
      "text/html": [
       "<div>\n",
       "<style scoped>\n",
       "    .dataframe tbody tr th:only-of-type {\n",
       "        vertical-align: middle;\n",
       "    }\n",
       "\n",
       "    .dataframe tbody tr th {\n",
       "        vertical-align: top;\n",
       "    }\n",
       "\n",
       "    .dataframe thead th {\n",
       "        text-align: right;\n",
       "    }\n",
       "</style>\n",
       "<table border=\"1\" class=\"dataframe\">\n",
       "  <thead>\n",
       "    <tr style=\"text-align: right;\">\n",
       "      <th></th>\n",
       "      <th>price</th>\n",
       "      <th>store</th>\n",
       "      <th>origin</th>\n",
       "    </tr>\n",
       "    <tr>\n",
       "      <th>food</th>\n",
       "      <th></th>\n",
       "      <th></th>\n",
       "      <th></th>\n",
       "    </tr>\n",
       "  </thead>\n",
       "  <tbody>\n",
       "    <tr>\n",
       "      <th>chocolate</th>\n",
       "      <td>100.30</td>\n",
       "      <td>supermarket</td>\n",
       "      <td>russia</td>\n",
       "    </tr>\n",
       "    <tr>\n",
       "      <th>chocolate</th>\n",
       "      <td>55.57</td>\n",
       "      <td>minimarket</td>\n",
       "      <td>russia</td>\n",
       "    </tr>\n",
       "    <tr>\n",
       "      <th>chocolate</th>\n",
       "      <td>268.62</td>\n",
       "      <td>minimarket</td>\n",
       "      <td>import</td>\n",
       "    </tr>\n",
       "    <tr>\n",
       "      <th>chocolate</th>\n",
       "      <td>196.81</td>\n",
       "      <td>supermarket</td>\n",
       "      <td>import</td>\n",
       "    </tr>\n",
       "    <tr>\n",
       "      <th>bread</th>\n",
       "      <td>10.91</td>\n",
       "      <td>minimarket</td>\n",
       "      <td>russia</td>\n",
       "    </tr>\n",
       "  </tbody>\n",
       "</table>\n",
       "</div>"
      ],
      "text/plain": [
       "            price        store  origin\n",
       "food                                  \n",
       "chocolate  100.30  supermarket  russia\n",
       "chocolate   55.57   minimarket  russia\n",
       "chocolate  268.62   minimarket  import\n",
       "chocolate  196.81  supermarket  import\n",
       "bread       10.91   minimarket  russia"
      ]
     },
     "execution_count": 135,
     "metadata": {},
     "output_type": "execute_result"
    }
   ],
   "source": [
    "DATA = \"~/PycharmProjects/Datasets/\"\n",
    "shops_path = DATA + \"shops.csv\"\n",
    "shops = pd.read_csv(shops_path, index_col=0)\n",
    "shops.head()"
   ]
  },
  {
   "cell_type": "code",
   "execution_count": 136,
   "metadata": {},
   "outputs": [
    {
     "data": {
      "text/plain": [
       "Index(['chocolate', 'bread', 'vegetables', 'fruits', 'cheese'], dtype='object', name='food')"
      ]
     },
     "execution_count": 136,
     "metadata": {},
     "output_type": "execute_result"
    }
   ],
   "source": [
    "shops.index.unique()"
   ]
  },
  {
   "cell_type": "code",
   "execution_count": 137,
   "metadata": {},
   "outputs": [
    {
     "data": {
      "image/png": "[encoded data removed]",
      "text/plain": [
       "<Figure size 360x360 with 1 Axes>"
      ]
     },
     "metadata": {},
     "output_type": "display_data"
    }
   ],
   "source": [
    "sns.set_theme(style=\"darkgrid\")\n",
    "g = sns.catplot(x=\"origin\", y=\"price\", data=shops, kind=\"box\")"
   ]
  },
  {
   "cell_type": "code",
   "execution_count": 138,
   "metadata": {},
   "outputs": [
    {
     "name": "stdout",
     "output_type": "stream",
     "text": [
      "1\n"
     ]
    },
    {
     "data": {
      "text/html": [
       "<table class=\"simpletable\">\n",
       "<caption>OLS Regression Results</caption>\n",
       "<tr>\n",
       "  <th>Dep. Variable:</th>          <td>price</td>      <th>  R-squared:         </th> <td>   0.270</td>\n",
       "</tr>\n",
       "<tr>\n",
       "  <th>Model:</th>                   <td>OLS</td>       <th>  Adj. R-squared:    </th> <td>   0.229</td>\n",
       "</tr>\n",
       "<tr>\n",
       "  <th>Method:</th>             <td>Least Squares</td>  <th>  F-statistic:       </th> <td>   6.650</td>\n",
       "</tr>\n",
       "<tr>\n",
       "  <th>Date:</th>             <td>Sun, 01 Nov 2020</td> <th>  Prob (F-statistic):</th>  <td>0.0189</td> \n",
       "</tr>\n",
       "<tr>\n",
       "  <th>Time:</th>                 <td>20:17:15</td>     <th>  Log-Likelihood:    </th> <td> -122.90</td>\n",
       "</tr>\n",
       "<tr>\n",
       "  <th>No. Observations:</th>      <td>    20</td>      <th>  AIC:               </th> <td>   249.8</td>\n",
       "</tr>\n",
       "<tr>\n",
       "  <th>Df Residuals:</th>          <td>    18</td>      <th>  BIC:               </th> <td>   251.8</td>\n",
       "</tr>\n",
       "<tr>\n",
       "  <th>Df Model:</th>              <td>     1</td>      <th>                     </th>     <td> </td>   \n",
       "</tr>\n",
       "<tr>\n",
       "  <th>Covariance Type:</th>      <td>nonrobust</td>    <th>                     </th>     <td> </td>   \n",
       "</tr>\n",
       "</table>\n",
       "<table class=\"simpletable\">\n",
       "<tr>\n",
       "          <td></td>            <th>coef</th>     <th>std err</th>      <th>t</th>      <th>P>|t|</th>  <th>[0.025</th>    <th>0.975]</th>  \n",
       "</tr>\n",
       "<tr>\n",
       "  <th>Intercept</th>        <td>  261.3700</td> <td>   37.619</td> <td>    6.948</td> <td> 0.000</td> <td>  182.336</td> <td>  340.404</td>\n",
       "</tr>\n",
       "<tr>\n",
       "  <th>origin[T.russia]</th> <td> -137.1910</td> <td>   53.201</td> <td>   -2.579</td> <td> 0.019</td> <td> -248.962</td> <td>  -25.420</td>\n",
       "</tr>\n",
       "</table>\n",
       "<table class=\"simpletable\">\n",
       "<tr>\n",
       "  <th>Omnibus:</th>       <td> 0.194</td> <th>  Durbin-Watson:     </th> <td>   1.067</td>\n",
       "</tr>\n",
       "<tr>\n",
       "  <th>Prob(Omnibus):</th> <td> 0.907</td> <th>  Jarque-Bera (JB):  </th> <td>   0.335</td>\n",
       "</tr>\n",
       "<tr>\n",
       "  <th>Skew:</th>          <td> 0.191</td> <th>  Prob(JB):          </th> <td>   0.846</td>\n",
       "</tr>\n",
       "<tr>\n",
       "  <th>Kurtosis:</th>      <td> 2.495</td> <th>  Cond. No.          </th> <td>    2.62</td>\n",
       "</tr>\n",
       "</table><br/><br/>Notes:<br/>[1] Standard Errors assume that the covariance matrix of the errors is correctly specified."
      ],
      "text/plain": [
       "<class 'statsmodels.iolib.summary.Summary'>\n",
       "\"\"\"\n",
       "                            OLS Regression Results                            \n",
       "==============================================================================\n",
       "Dep. Variable:                  price   R-squared:                       0.270\n",
       "Model:                            OLS   Adj. R-squared:                  0.229\n",
       "Method:                 Least Squares   F-statistic:                     6.650\n",
       "Date:                Sun, 01 Nov 2020   Prob (F-statistic):             0.0189\n",
       "Time:                        20:17:15   Log-Likelihood:                -122.90\n",
       "No. Observations:                  20   AIC:                             249.8\n",
       "Df Residuals:                      18   BIC:                             251.8\n",
       "Df Model:                           1                                         \n",
       "Covariance Type:            nonrobust                                         \n",
       "====================================================================================\n",
       "                       coef    std err          t      P>|t|      [0.025      0.975]\n",
       "------------------------------------------------------------------------------------\n",
       "Intercept          261.3700     37.619      6.948      0.000     182.336     340.404\n",
       "origin[T.russia]  -137.1910     53.201     -2.579      0.019    -248.962     -25.420\n",
       "==============================================================================\n",
       "Omnibus:                        0.194   Durbin-Watson:                   1.067\n",
       "Prob(Omnibus):                  0.907   Jarque-Bera (JB):                0.335\n",
       "Skew:                           0.191   Prob(JB):                        0.846\n",
       "Kurtosis:                       2.495   Cond. No.                         2.62\n",
       "==============================================================================\n",
       "\n",
       "Notes:\n",
       "[1] Standard Errors assume that the covariance matrix of the errors is correctly specified.\n",
       "\"\"\""
      ]
     },
     "execution_count": 138,
     "metadata": {},
     "output_type": "execute_result"
    }
   ],
   "source": [
    "model = smf.ols('price ~ origin', data=shops).fit()\n",
    "model.summary() if str(input()) == \"1\" else print(model.summary())"
   ]
  },
  {
   "cell_type": "code",
   "execution_count": 139,
   "metadata": {},
   "outputs": [
    {
     "data": {
      "text/html": [
       "<div>\n",
       "<style scoped>\n",
       "    .dataframe tbody tr th:only-of-type {\n",
       "        vertical-align: middle;\n",
       "    }\n",
       "\n",
       "    .dataframe tbody tr th {\n",
       "        vertical-align: top;\n",
       "    }\n",
       "\n",
       "    .dataframe thead th {\n",
       "        text-align: right;\n",
       "    }\n",
       "</style>\n",
       "<table border=\"1\" class=\"dataframe\">\n",
       "  <thead>\n",
       "    <tr style=\"text-align: right;\">\n",
       "      <th></th>\n",
       "      <th>df</th>\n",
       "      <th>sum_sq</th>\n",
       "      <th>mean_sq</th>\n",
       "      <th>F</th>\n",
       "      <th>PR(&gt;F)</th>\n",
       "    </tr>\n",
       "  </thead>\n",
       "  <tbody>\n",
       "    <tr>\n",
       "      <th>origin</th>\n",
       "      <td>1.0</td>\n",
       "      <td>94106.852405</td>\n",
       "      <td>94106.852405</td>\n",
       "      <td>6.649892</td>\n",
       "      <td>0.018926</td>\n",
       "    </tr>\n",
       "    <tr>\n",
       "      <th>Residual</th>\n",
       "      <td>18.0</td>\n",
       "      <td>254729.450490</td>\n",
       "      <td>14151.636138</td>\n",
       "      <td>NaN</td>\n",
       "      <td>NaN</td>\n",
       "    </tr>\n",
       "  </tbody>\n",
       "</table>\n",
       "</div>"
      ],
      "text/plain": [
       "            df         sum_sq       mean_sq         F    PR(>F)\n",
       "origin     1.0   94106.852405  94106.852405  6.649892  0.018926\n",
       "Residual  18.0  254729.450490  14151.636138       NaN       NaN"
      ]
     },
     "execution_count": 139,
     "metadata": {},
     "output_type": "execute_result"
    }
   ],
   "source": [
    "aov_table = sm.stats.anova_lm(model)\n",
    "aov_table"
   ]
  },
  {
   "cell_type": "code",
   "execution_count": 140,
   "metadata": {},
   "outputs": [
    {
     "name": "stdout",
     "output_type": "stream",
     "text": [
      "2\n",
      "                            OLS Regression Results                            \n",
      "==============================================================================\n",
      "Dep. Variable:                  price   R-squared:                       0.278\n",
      "Model:                            OLS   Adj. R-squared:                  0.193\n",
      "Method:                 Least Squares   F-statistic:                     3.278\n",
      "Date:                Sun, 01 Nov 2020   Prob (F-statistic):             0.0625\n",
      "Time:                        20:17:18   Log-Likelihood:                -122.78\n",
      "No. Observations:                  20   AIC:                             251.6\n",
      "Df Residuals:                      17   BIC:                             254.6\n",
      "Df Model:                           2                                         \n",
      "Covariance Type:            nonrobust                                         \n",
      "========================================================================================\n",
      "                           coef    std err          t      P>|t|      [0.025      0.975]\n",
      "----------------------------------------------------------------------------------------\n",
      "Intercept              273.5785     47.131      5.805      0.000     174.141     373.016\n",
      "origin[T.russia]      -137.1910     54.422     -2.521      0.022    -252.011     -22.371\n",
      "store[T.supermarket]   -24.4170     54.422     -0.449      0.659    -139.237      90.403\n",
      "==============================================================================\n",
      "Omnibus:                        0.345   Durbin-Watson:                   1.068\n",
      "Prob(Omnibus):                  0.842   Jarque-Bera (JB):                0.500\n",
      "Skew:                           0.175   Prob(JB):                        0.779\n",
      "Kurtosis:                       2.309   Cond. No.                         3.19\n",
      "==============================================================================\n",
      "\n",
      "Notes:\n",
      "[1] Standard Errors assume that the covariance matrix of the errors is correctly specified.\n"
     ]
    }
   ],
   "source": [
    "model_2 = smf.ols('price ~ origin + store', data=shops).fit()\n",
    "model_2.summary() if str(input()) == \"1\" else print(model_2.summary())"
   ]
  },
  {
   "cell_type": "code",
   "execution_count": 141,
   "metadata": {},
   "outputs": [
    {
     "data": {
      "text/html": [
       "<div>\n",
       "<style scoped>\n",
       "    .dataframe tbody tr th:only-of-type {\n",
       "        vertical-align: middle;\n",
       "    }\n",
       "\n",
       "    .dataframe tbody tr th {\n",
       "        vertical-align: top;\n",
       "    }\n",
       "\n",
       "    .dataframe thead th {\n",
       "        text-align: right;\n",
       "    }\n",
       "</style>\n",
       "<table border=\"1\" class=\"dataframe\">\n",
       "  <thead>\n",
       "    <tr style=\"text-align: right;\">\n",
       "      <th></th>\n",
       "      <th>df</th>\n",
       "      <th>sum_sq</th>\n",
       "      <th>mean_sq</th>\n",
       "      <th>F</th>\n",
       "      <th>PR(&gt;F)</th>\n",
       "    </tr>\n",
       "  </thead>\n",
       "  <tbody>\n",
       "    <tr>\n",
       "      <th>origin</th>\n",
       "      <td>1.0</td>\n",
       "      <td>94106.852405</td>\n",
       "      <td>94106.852405</td>\n",
       "      <td>6.354820</td>\n",
       "      <td>0.021987</td>\n",
       "    </tr>\n",
       "    <tr>\n",
       "      <th>store</th>\n",
       "      <td>1.0</td>\n",
       "      <td>2980.949445</td>\n",
       "      <td>2980.949445</td>\n",
       "      <td>0.201297</td>\n",
       "      <td>0.659342</td>\n",
       "    </tr>\n",
       "    <tr>\n",
       "      <th>Residual</th>\n",
       "      <td>17.0</td>\n",
       "      <td>251748.501045</td>\n",
       "      <td>14808.735356</td>\n",
       "      <td>NaN</td>\n",
       "      <td>NaN</td>\n",
       "    </tr>\n",
       "  </tbody>\n",
       "</table>\n",
       "</div>"
      ],
      "text/plain": [
       "            df         sum_sq       mean_sq         F    PR(>F)\n",
       "origin     1.0   94106.852405  94106.852405  6.354820  0.021987\n",
       "store      1.0    2980.949445   2980.949445  0.201297  0.659342\n",
       "Residual  17.0  251748.501045  14808.735356       NaN       NaN"
      ]
     },
     "execution_count": 141,
     "metadata": {},
     "output_type": "execute_result"
    }
   ],
   "source": [
    "aov_table_2 = sm.stats.anova_lm(model_2)\n",
    "aov_table_2"
   ]
  },
  {
   "cell_type": "code",
   "execution_count": 142,
   "metadata": {},
   "outputs": [
    {
     "data": {
      "image/png": "[encoded data removed]",
      "text/plain": [
       "<Figure size 432x288 with 1 Axes>"
      ]
     },
     "metadata": {},
     "output_type": "display_data"
    }
   ],
   "source": [
    "sns.set_theme(style=\"darkgrid\")\n",
    "ax = sns.pointplot(x=\"store\", y=\"price\", hue=\"origin\", data=shops, join=True, capsize=.1, dodge=True)"
   ]
  },
  {
   "cell_type": "code",
   "execution_count": 143,
   "metadata": {},
   "outputs": [
    {
     "name": "stdout",
     "output_type": "stream",
     "text": [
      "2\n",
      "                            OLS Regression Results                            \n",
      "==============================================================================\n",
      "Dep. Variable:                  price   R-squared:                       0.458\n",
      "Model:                            OLS   Adj. R-squared:                  0.357\n",
      "Method:                 Least Squares   F-statistic:                     4.512\n",
      "Date:                Sun, 01 Nov 2020   Prob (F-statistic):             0.0178\n",
      "Time:                        20:17:20   Log-Likelihood:                -119.91\n",
      "No. Observations:                  20   AIC:                             247.8\n",
      "Df Residuals:                      16   BIC:                             251.8\n",
      "Df Model:                           3                                         \n",
      "Covariance Type:            nonrobust                                         \n",
      "=========================================================================================================\n",
      "                                            coef    std err          t      P>|t|      [0.025      0.975]\n",
      "---------------------------------------------------------------------------------------------------------\n",
      "Intercept                               329.6040     48.602      6.782      0.000     226.573     432.635\n",
      "origin[T.russia]                       -249.2420     68.733     -3.626      0.002    -394.950    -103.534\n",
      "store[T.supermarket]                   -136.4680     68.733     -1.985      0.065    -282.176       9.240\n",
      "origin[T.russia]:store[T.supermarket]   224.1020     97.204      2.305      0.035      18.039     430.165\n",
      "==============================================================================\n",
      "Omnibus:                        0.595   Durbin-Watson:                   0.847\n",
      "Prob(Omnibus):                  0.743   Jarque-Bera (JB):                0.468\n",
      "Skew:                          -0.338   Prob(JB):                        0.791\n",
      "Kurtosis:                       2.675   Cond. No.                         6.85\n",
      "==============================================================================\n",
      "\n",
      "Notes:\n",
      "[1] Standard Errors assume that the covariance matrix of the errors is correctly specified.\n"
     ]
    }
   ],
   "source": [
    "model_3 = smf.ols('price ~ origin + store + origin:store', data=shops).fit() # same result: 'price ~ origin * store' \n",
    "model_3.summary() if str(input()) == \"1\" else print(model_3.summary())"
   ]
  },
  {
   "cell_type": "code",
   "execution_count": 144,
   "metadata": {},
   "outputs": [
    {
     "data": {
      "text/html": [
       "<div>\n",
       "<style scoped>\n",
       "    .dataframe tbody tr th:only-of-type {\n",
       "        vertical-align: middle;\n",
       "    }\n",
       "\n",
       "    .dataframe tbody tr th {\n",
       "        vertical-align: top;\n",
       "    }\n",
       "\n",
       "    .dataframe thead th {\n",
       "        text-align: right;\n",
       "    }\n",
       "</style>\n",
       "<table border=\"1\" class=\"dataframe\">\n",
       "  <thead>\n",
       "    <tr style=\"text-align: right;\">\n",
       "      <th></th>\n",
       "      <th>df</th>\n",
       "      <th>sum_sq</th>\n",
       "      <th>mean_sq</th>\n",
       "      <th>F</th>\n",
       "      <th>PR(&gt;F)</th>\n",
       "    </tr>\n",
       "  </thead>\n",
       "  <tbody>\n",
       "    <tr>\n",
       "      <th>origin</th>\n",
       "      <td>1.0</td>\n",
       "      <td>94106.852405</td>\n",
       "      <td>94106.852405</td>\n",
       "      <td>7.967925</td>\n",
       "      <td>0.012252</td>\n",
       "    </tr>\n",
       "    <tr>\n",
       "      <th>store</th>\n",
       "      <td>1.0</td>\n",
       "      <td>2980.949445</td>\n",
       "      <td>2980.949445</td>\n",
       "      <td>0.252394</td>\n",
       "      <td>0.622238</td>\n",
       "    </tr>\n",
       "    <tr>\n",
       "      <th>origin:store</th>\n",
       "      <td>1.0</td>\n",
       "      <td>62777.133005</td>\n",
       "      <td>62777.133005</td>\n",
       "      <td>5.315272</td>\n",
       "      <td>0.034867</td>\n",
       "    </tr>\n",
       "    <tr>\n",
       "      <th>Residual</th>\n",
       "      <td>16.0</td>\n",
       "      <td>188971.368040</td>\n",
       "      <td>11810.710503</td>\n",
       "      <td>NaN</td>\n",
       "      <td>NaN</td>\n",
       "    </tr>\n",
       "  </tbody>\n",
       "</table>\n",
       "</div>"
      ],
      "text/plain": [
       "                df         sum_sq       mean_sq         F    PR(>F)\n",
       "origin         1.0   94106.852405  94106.852405  7.967925  0.012252\n",
       "store          1.0    2980.949445   2980.949445  0.252394  0.622238\n",
       "origin:store   1.0   62777.133005  62777.133005  5.315272  0.034867\n",
       "Residual      16.0  188971.368040  11810.710503       NaN       NaN"
      ]
     },
     "execution_count": 144,
     "metadata": {},
     "output_type": "execute_result"
    }
   ],
   "source": [
    "aov_table_3 = sm.stats.anova_lm(model_3)\n",
    "aov_table_3"
   ]
  },
  {
   "cell_type": "code",
   "execution_count": 145,
   "metadata": {},
   "outputs": [
    {
     "data": {
      "text/html": [
       "<div>\n",
       "<style scoped>\n",
       "    .dataframe tbody tr th:only-of-type {\n",
       "        vertical-align: middle;\n",
       "    }\n",
       "\n",
       "    .dataframe tbody tr th {\n",
       "        vertical-align: top;\n",
       "    }\n",
       "\n",
       "    .dataframe thead th {\n",
       "        text-align: right;\n",
       "    }\n",
       "</style>\n",
       "<table border=\"1\" class=\"dataframe\">\n",
       "  <thead>\n",
       "    <tr style=\"text-align: right;\">\n",
       "      <th></th>\n",
       "      <th>block</th>\n",
       "      <th>N</th>\n",
       "      <th>P</th>\n",
       "      <th>K</th>\n",
       "      <th>growth</th>\n",
       "    </tr>\n",
       "  </thead>\n",
       "  <tbody>\n",
       "    <tr>\n",
       "      <th>1</th>\n",
       "      <td>1</td>\n",
       "      <td>0</td>\n",
       "      <td>1</td>\n",
       "      <td>1</td>\n",
       "      <td>49.5</td>\n",
       "    </tr>\n",
       "    <tr>\n",
       "      <th>2</th>\n",
       "      <td>1</td>\n",
       "      <td>1</td>\n",
       "      <td>1</td>\n",
       "      <td>0</td>\n",
       "      <td>62.8</td>\n",
       "    </tr>\n",
       "    <tr>\n",
       "      <th>3</th>\n",
       "      <td>1</td>\n",
       "      <td>0</td>\n",
       "      <td>0</td>\n",
       "      <td>0</td>\n",
       "      <td>46.8</td>\n",
       "    </tr>\n",
       "    <tr>\n",
       "      <th>4</th>\n",
       "      <td>1</td>\n",
       "      <td>1</td>\n",
       "      <td>0</td>\n",
       "      <td>1</td>\n",
       "      <td>57.0</td>\n",
       "    </tr>\n",
       "    <tr>\n",
       "      <th>5</th>\n",
       "      <td>2</td>\n",
       "      <td>1</td>\n",
       "      <td>0</td>\n",
       "      <td>0</td>\n",
       "      <td>59.8</td>\n",
       "    </tr>\n",
       "  </tbody>\n",
       "</table>\n",
       "</div>"
      ],
      "text/plain": [
       "   block  N  P  K  growth\n",
       "1      1  0  1  1    49.5\n",
       "2      1  1  1  0    62.8\n",
       "3      1  0  0  0    46.8\n",
       "4      1  1  0  1    57.0\n",
       "5      2  1  0  0    59.8"
      ]
     },
     "execution_count": 145,
     "metadata": {},
     "output_type": "execute_result"
    }
   ],
   "source": [
    "DATA = \"~/PycharmProjects/Datasets/\"\n",
    "npk_path = DATA + \"npk.csv\"\n",
    "npk = pd.read_csv(npk_path, index_col=0)\n",
    "npk = npk.rename(columns={\"yield\" : \"growth\"})\n",
    "npk.head()"
   ]
  },
  {
   "cell_type": "code",
   "execution_count": 146,
   "metadata": {},
   "outputs": [
    {
     "name": "stdout",
     "output_type": "stream",
     "text": [
      "2\n",
      "                            OLS Regression Results                            \n",
      "==============================================================================\n",
      "Dep. Variable:                 growth   R-squared:                       0.250\n",
      "Model:                            OLS   Adj. R-squared:                  0.137\n",
      "Method:                 Least Squares   F-statistic:                     2.221\n",
      "Date:                Sun, 01 Nov 2020   Prob (F-statistic):              0.117\n",
      "Time:                        20:17:22   Log-Likelihood:                -73.777\n",
      "No. Observations:                  24   AIC:                             155.6\n",
      "Df Residuals:                      20   BIC:                             160.3\n",
      "Df Model:                           3                                         \n",
      "Covariance Type:            nonrobust                                         \n",
      "==============================================================================\n",
      "                 coef    std err          t      P>|t|      [0.025      0.975]\n",
      "------------------------------------------------------------------------------\n",
      "Intercept     51.7167      2.341     22.096      0.000      46.834      56.599\n",
      "N              7.5000      3.310      2.266      0.035       0.595      14.405\n",
      "P              0.7000      3.310      0.211      0.835      -6.205       7.605\n",
      "N:P           -3.7667      4.681     -0.805      0.430     -13.531       5.998\n",
      "==============================================================================\n",
      "Omnibus:                        0.206   Durbin-Watson:                   1.324\n",
      "Prob(Omnibus):                  0.902   Jarque-Bera (JB):                0.399\n",
      "Skew:                           0.135   Prob(JB):                        0.819\n",
      "Kurtosis:                       2.429   Cond. No.                         6.85\n",
      "==============================================================================\n",
      "\n",
      "Notes:\n",
      "[1] Standard Errors assume that the covariance matrix of the errors is correctly specified.\n"
     ]
    }
   ],
   "source": [
    "model_npk = smf.ols('growth ~ N * P', data=npk).fit()\n",
    "model_npk.summary() if str(input()) == \"1\" else print(model_npk.summary())"
   ]
  },
  {
   "cell_type": "code",
   "execution_count": 147,
   "metadata": {},
   "outputs": [
    {
     "data": {
      "text/plain": [
       "0.4304878274077424"
      ]
     },
     "execution_count": 147,
     "metadata": {},
     "output_type": "execute_result"
    }
   ],
   "source": [
    "aov_table_npk = sm.stats.anova_lm(model_npk)\n",
    "aov_table_npk.unstack()[\"PR(>F)\"][\"N:P\"]"
   ]
  },
  {
   "cell_type": "code",
   "execution_count": 148,
   "metadata": {},
   "outputs": [],
   "source": [
    "# # Предполагается, что Вы уже скачали необходимый датасет и знаете путь до него\n",
    "# import pandas as pd\n",
    "# import statsmodels.api as sm\n",
    "# import statsmodels.formula.api as smf\n",
    "\n",
    "# DATA = \"~/PycharmProjects/Datasets/\"\n",
    "# npk_path = DATA + \"npk.csv\"\n",
    "# npk = pd.read_csv(npk_path, index_col=0)\n",
    "# npk = npk.rename(columns={\"yield\" : \"growth\"}) # Пришлось переименовать столбец, иначе функция из библиотеки statsmodels.formula.api \"спотыкается\" о формулу\n",
    "# model_npk = smf.ols('growth ~ N * P', data=npk).fit()\n",
    "# aov_table_npk = sm.stats.anova_lm(model_npk)\n",
    "# aov_table_npk.unstack()[\"PR(>F)\"][\"N:P\"]"
   ]
  },
  {
   "cell_type": "code",
   "execution_count": null,
   "metadata": {},
   "outputs": [],
   "source": []
  },
  {
   "cell_type": "code",
   "execution_count": null,
   "metadata": {},
   "outputs": [],
   "source": []
  },
  {
   "cell_type": "code",
   "execution_count": null,
   "metadata": {},
   "outputs": [],
   "source": []
  }
 ],
 "metadata": {
  "kernelspec": {
   "display_name": "Python 3",
   "language": "python",
   "name": "python3"
  },
  "language_info": {
   "codemirror_mode": {
    "name": "ipython",
    "version": 3
   },
   "file_extension": ".py",
   "mimetype": "text/x-python",
   "name": "python",
   "nbconvert_exporter": "python",
   "pygments_lexer": "ipython3",
   "version": "3.8.5"
  }
 },
 "nbformat": 4,
 "nbformat_minor": 4
}
