{
 "cells": [
  {
   "cell_type": "markdown",
   "metadata": {},
   "source": [
    "# Practical Statistics for Data Scientists (Python)\n",
    "# Chapter 1. Exploratory Data Analysis"
   ]
  },
  {
   "cell_type": "markdown",
   "metadata": {},
   "source": [
    "Import required Python packages."
   ]
  },
  {
   "cell_type": "code",
   "execution_count": null,
   "metadata": {},
   "outputs": [],
   "source": [
    "%matplotlib inline\n",
    "\n",
    "from pathlib import Path\n",
    "\n",
    "import pandas as pd\n",
    "import numpy as np\n",
    "import scipy.stats\n",
    "import scipy.stats\n",
    "from scipy.stats import trim_mean\n",
    "from scipy import stats\n",
    "from statsmodels import robust\n",
    "import wquantiles\n",
    "\n",
    "import seaborn as sns\n",
    "import matplotlib.pylab as plt\n",
    "\n",
    "print(\"Imports Done!\")"
   ]
  },
  {
   "cell_type": "markdown",
   "metadata": {},
   "source": [
    "Define paths to data sets. If you don't keep your data in the same directory as the code, adapt the path names."
   ]
  },
  {
   "cell_type": "code",
   "execution_count": null,
   "metadata": {},
   "outputs": [],
   "source": [
    "DATA = \"~/PycharmProjects/Datasets/\"\n",
    "mtcar_path = DATA + \"mtcars.csv\"\n",
    "mtcar = pd.read_csv(mtcar_path)"
   ]
  },
  {
   "cell_type": "code",
   "execution_count": null,
   "metadata": {},
   "outputs": [],
   "source": [
    "mtcar.head()"
   ]
  },
  {
   "cell_type": "code",
   "execution_count": null,
   "metadata": {},
   "outputs": [],
   "source": [
    "mtcar.shape"
   ]
  },
  {
   "cell_type": "code",
   "execution_count": null,
   "metadata": {},
   "outputs": [],
   "source": [
    "mtcar.describe()"
   ]
  },
  {
   "cell_type": "code",
   "execution_count": null,
   "metadata": {},
   "outputs": [],
   "source": [
    "mtcar_df = mtcar.copy()"
   ]
  },
  {
   "cell_type": "code",
   "execution_count": null,
   "metadata": {},
   "outputs": [],
   "source": [
    "mtcar_df = mtcar_df.rename(columns={\"Unnamed: 0\" : \"Car Model\"})"
   ]
  },
  {
   "cell_type": "code",
   "execution_count": null,
   "metadata": {},
   "outputs": [],
   "source": [
    "mtcar_df[\"vs\"] = mtcar_df[\"vs\"].replace({0 : \"V\", 1 : \"S\"})"
   ]
  },
  {
   "cell_type": "code",
   "execution_count": null,
   "metadata": {},
   "outputs": [],
   "source": [
    "mtcar_df[\"am\"] = mtcar_df[\"am\"].replace({0 : \"Auto\", 1 : \"Manual\"})"
   ]
  },
  {
   "cell_type": "code",
   "execution_count": null,
   "metadata": {},
   "outputs": [],
   "source": [
    "result = mtcar_df[\"qsec\"][(mtcar_df[\"cyl\"] != 3) & (mtcar_df[\"mpg\"] > 20)].mean()\n",
    "result"
   ]
  },
  {
   "cell_type": "code",
   "execution_count": null,
   "metadata": {},
   "outputs": [],
   "source": [
    "mtcar_df.groupby([\"vs\", \"am\"]).agg({\"hp\" : \"mean\"})"
   ]
  },
  {
   "cell_type": "code",
   "execution_count": null,
   "metadata": {},
   "outputs": [],
   "source": [
    "mtcar_df.groupby(\"am\").agg(\"median\")"
   ]
  },
  {
   "cell_type": "code",
   "execution_count": null,
   "metadata": {},
   "outputs": [],
   "source": [
    "mtcar_df.groupby(\"am\").agg(\"median\")"
   ]
  },
  {
   "cell_type": "code",
   "execution_count": null,
   "metadata": {},
   "outputs": [],
   "source": [
    "mtcar_df.groupby([\"am\", \"vs\"]).agg(\"std\").iloc[:,[0,2]]"
   ]
  },
  {
   "cell_type": "code",
   "execution_count": null,
   "metadata": {},
   "outputs": [],
   "source": [
    "my_stats = mtcar_df.groupby([\"am\", \"vs\"]).agg(\"std\").iloc[:,[0,2]]"
   ]
  },
  {
   "cell_type": "code",
   "execution_count": null,
   "metadata": {},
   "outputs": [],
   "source": [
    "descriptions_stat = mtcar_df.groupby([\"am\"]).agg(\"std\").loc[:, [\"hp\", \"disp\"]]\n",
    "descriptions_stat"
   ]
  },
  {
   "cell_type": "code",
   "execution_count": null,
   "metadata": {},
   "outputs": [],
   "source": [
    "round(mtcar_df.groupby([\"am\", \"vs\"]).agg({\"qsec\" : [\"count\", \"min\", \"max\", \"mean\", \"std\", \"sem\"]}), 2)"
   ]
  },
  {
   "cell_type": "code",
   "execution_count": null,
   "metadata": {},
   "outputs": [],
   "source": [
    "mtcar_df.isna().sum()"
   ]
  },
  {
   "cell_type": "markdown",
   "metadata": {},
   "source": [
    "Dealing with NA "
   ]
  },
  {
   "cell_type": "code",
   "execution_count": null,
   "metadata": {},
   "outputs": [],
   "source": [
    "# mtcar_df.head(15)"
   ]
  },
  {
   "cell_type": "code",
   "execution_count": null,
   "metadata": {},
   "outputs": [],
   "source": [
    "# mtcar_df[\"mpg\"].mean()"
   ]
  },
  {
   "cell_type": "code",
   "execution_count": null,
   "metadata": {},
   "outputs": [],
   "source": [
    "# mtcar_df[\"mpg\"].iloc[1:10] = None"
   ]
  },
  {
   "cell_type": "code",
   "execution_count": null,
   "metadata": {},
   "outputs": [],
   "source": [
    "# mtcar_df.head(15)"
   ]
  },
  {
   "cell_type": "code",
   "execution_count": null,
   "metadata": {},
   "outputs": [],
   "source": [
    "# mtcar_df[\"mpg\"].mean()"
   ]
  },
  {
   "cell_type": "code",
   "execution_count": null,
   "metadata": {},
   "outputs": [],
   "source": [
    "sns.histplot(mtcar_df[\"mpg\"])"
   ]
  },
  {
   "cell_type": "code",
   "execution_count": null,
   "metadata": {},
   "outputs": [],
   "source": [
    "ax = sns.boxplot(x=\"am\", y=\"mpg\", data=mtcar_df)"
   ]
  },
  {
   "cell_type": "code",
   "execution_count": null,
   "metadata": {},
   "outputs": [],
   "source": [
    "sns.scatterplot(data=mtcar_df, x=\"mpg\", y=\"hp\", hue=\"vs\", size= \"qsec\")"
   ]
  },
  {
   "cell_type": "code",
   "execution_count": null,
   "metadata": {},
   "outputs": [],
   "source": [
    "sns.scatterplot(data=mtcar_df, x=\"mpg\", y=\"disp\", hue=\"hp\")"
   ]
  },
  {
   "cell_type": "code",
   "execution_count": null,
   "metadata": {},
   "outputs": [],
   "source": [
    "sns.displot(data=mtcar_df, x=\"mpg\", hue=\"am\", kde=True)"
   ]
  },
  {
   "cell_type": "code",
   "execution_count": null,
   "metadata": {},
   "outputs": [],
   "source": [
    "mtcar_df.head()"
   ]
  },
  {
   "cell_type": "code",
   "execution_count": null,
   "metadata": {},
   "outputs": [],
   "source": [
    "d = mtcar_df.groupby([\"vs\", \"am\"])[\"am\"].count().unstack()\n",
    "d"
   ]
  },
  {
   "cell_type": "code",
   "execution_count": null,
   "metadata": {},
   "outputs": [],
   "source": [
    "p_value = scipy.stats.fisher_exact(d)[1]"
   ]
  },
  {
   "cell_type": "code",
   "execution_count": null,
   "metadata": {},
   "outputs": [],
   "source": [
    "# Предполагается, что Вы уже скачали необходимый датасет и знаете путь до него\n",
    "# import pandas as pd\n",
    "# import scipy.stats\n",
    "\n",
    "# mtcar_path = PATH_TO_DATA + \"mtcars.csv\"\n",
    "# mtcar = pd.read_csv(mtcar_path)\n",
    "# d = mtcar.groupby([\"vs\", \"am\"])[\"am\"].count().unstack()\n",
    "# p_value = scipy.stats.fisher_exact(d)[1]"
   ]
  },
  {
   "cell_type": "code",
   "execution_count": null,
   "metadata": {},
   "outputs": [],
   "source": []
  },
  {
   "cell_type": "markdown",
   "metadata": {},
   "source": [
    "### NEW DATASET "
   ]
  },
  {
   "cell_type": "code",
   "execution_count": null,
   "metadata": {},
   "outputs": [],
   "source": [
    "DATA = \"~/PycharmProjects/Datasets/\"\n",
    "airquality_path = DATA + \"airquality.csv\"\n",
    "airquality = pd.read_csv(airquality_path)"
   ]
  },
  {
   "cell_type": "code",
   "execution_count": null,
   "metadata": {},
   "outputs": [],
   "source": [
    "airquality = airquality.drop(\"Unnamed: 0\", axis=1)"
   ]
  },
  {
   "cell_type": "code",
   "execution_count": null,
   "metadata": {},
   "outputs": [],
   "source": [
    "airquality.head(10)"
   ]
  },
  {
   "cell_type": "code",
   "execution_count": null,
   "metadata": {},
   "outputs": [],
   "source": [
    "airquality_df = airquality.copy()"
   ]
  },
  {
   "cell_type": "code",
   "execution_count": null,
   "metadata": {},
   "outputs": [],
   "source": [
    "airquality_df.loc[airquality_df.Month >= 7]\n",
    "# ИЛИ\n",
    "airquality_df.query(\"Month >= 7\")"
   ]
  },
  {
   "cell_type": "code",
   "execution_count": null,
   "metadata": {},
   "outputs": [],
   "source": [
    "aq_ss = airquality_df.query(\"Month >= 7\")"
   ]
  },
  {
   "cell_type": "code",
   "execution_count": null,
   "metadata": {},
   "outputs": [],
   "source": [
    "aq_ss.groupby(\"Month\").agg({\"Ozone\" : \"count\"})\n",
    "# ИЛИ \n",
    "# airquality_df.query(\"Month >= 7\").groupby(\"Month\").agg({\"Ozone\" : \"count\"})"
   ]
  },
  {
   "cell_type": "code",
   "execution_count": null,
   "metadata": {},
   "outputs": [],
   "source": [
    "sns.boxplot(x=\"Month\", y=\"Ozone\", data=airquality_df)"
   ]
  },
  {
   "cell_type": "markdown",
   "metadata": {},
   "source": [
    "### NEW DATASET"
   ]
  },
  {
   "cell_type": "code",
   "execution_count": null,
   "metadata": {},
   "outputs": [],
   "source": [
    "DATA = \"~/PycharmProjects/Datasets/\"\n",
    "iris_path = DATA + \"iris.csv\"\n",
    "iris = pd.read_csv(iris_path, index_col=0)"
   ]
  },
  {
   "cell_type": "code",
   "execution_count": null,
   "metadata": {},
   "outputs": [],
   "source": [
    "iris.head(10)"
   ]
  },
  {
   "cell_type": "code",
   "execution_count": null,
   "metadata": {},
   "outputs": [],
   "source": [
    "iris.describe()"
   ]
  },
  {
   "cell_type": "code",
   "execution_count": null,
   "metadata": {},
   "outputs": [],
   "source": [
    "iris.agg(\"std\")"
   ]
  },
  {
   "cell_type": "code",
   "execution_count": null,
   "metadata": {},
   "outputs": [],
   "source": [
    "iris[iris.Species == \"virginica\"].median().sort_values(ascending=False)"
   ]
  },
  {
   "cell_type": "code",
   "execution_count": null,
   "metadata": {},
   "outputs": [],
   "source": [
    "sns.displot(data=iris, x=\"Sepal.Length\", hue=\"Species\", multiple=\"stack\")"
   ]
  },
  {
   "cell_type": "code",
   "execution_count": null,
   "metadata": {},
   "outputs": [],
   "source": [
    "iris_df = iris[iris.Species != \"setosa\"]"
   ]
  },
  {
   "cell_type": "code",
   "execution_count": null,
   "metadata": {},
   "outputs": [],
   "source": [
    "sns.histplot(iris_df, x=\"Sepal.Length\", kde=True, hue=\"Species\")"
   ]
  },
  {
   "cell_type": "code",
   "execution_count": null,
   "metadata": {},
   "outputs": [],
   "source": [
    "g = sns.FacetGrid(iris_df, col=\"Species\")\n",
    "g.map(sns.histplot, \"Sepal.Length\", kde=True, bins=5)\n",
    "g.add_legend()"
   ]
  },
  {
   "cell_type": "markdown",
   "metadata": {},
   "source": [
    "https://seaborn.pydata.org/generated/seaborn.FacetGrid.html#seaborn.FacetGrid - IMBA"
   ]
  },
  {
   "cell_type": "code",
   "execution_count": null,
   "metadata": {},
   "outputs": [],
   "source": [
    "sns.histplot(iris_df, x=\"Sepal.Length\", hue=\"Species\", element=\"poly\") "
   ]
  },
  {
   "cell_type": "code",
   "execution_count": null,
   "metadata": {},
   "outputs": [],
   "source": [
    "sns.displot(iris_df, x=\"Sepal.Length\", hue=\"Species\", kind=\"kde\")"
   ]
  },
  {
   "cell_type": "code",
   "execution_count": null,
   "metadata": {},
   "outputs": [],
   "source": [
    "sns.kdeplot(data=iris_df, x=\"Sepal.Length\", hue=\"Species\", fill=True, common_norm=False, alpha=.5, linewidth=1)"
   ]
  },
  {
   "cell_type": "code",
   "execution_count": null,
   "metadata": {},
   "outputs": [],
   "source": [
    "sns.set_theme(style=\"darkgrid\")\n",
    "sns.boxplot(y=\"Sepal.Length\", x=\"Species\", data=iris_df)"
   ]
  },
  {
   "cell_type": "code",
   "execution_count": null,
   "metadata": {},
   "outputs": [],
   "source": [
    "# Perform the Shapiro-Wilk test for normality.\n",
    "shapiro_test = stats.shapiro(iris_df[\"Sepal.Length\"])\n",
    "shapiro_test"
   ]
  },
  {
   "cell_type": "code",
   "execution_count": null,
   "metadata": {},
   "outputs": [],
   "source": [
    "shapiro_test_1 = stats.shapiro(iris_df[iris_df.Species == \"versicolor\"][\"Sepal.Length\"])\n",
    "shapiro_test_2 = stats.shapiro(iris_df[iris_df.Species == \"virginica\"][\"Sepal.Length\"])\n",
    "[shapiro_test_1, shapiro_test_2]"
   ]
  },
  {
   "cell_type": "code",
   "execution_count": null,
   "metadata": {},
   "outputs": [],
   "source": [
    "# Perform Bartlett’s test for equal variances.\n",
    "# Гомогенность дисперсии проверяем, короче.\n",
    "stat, p = scipy.stats.bartlett(iris_df[iris_df.Species == \"virginica\"][\"Sepal.Length\"], \n",
    "                               iris_df[iris_df.Species == \"versicolor\"][\"Sepal.Length\"])\n",
    "print(\"The test statistic is {}. \\nThe p-value of the test is {}.\".format(stat, p))"
   ]
  },
  {
   "cell_type": "code",
   "execution_count": null,
   "metadata": {},
   "outputs": [],
   "source": [
    "# Calculate the T-test for the means of two independent samples of scores.\n",
    "t_test = scipy.stats.ttest_ind(iris_df[iris_df.Species == \"virginica\"][\"Sepal.Length\"], \n",
    "                               iris_df[iris_df.Species == \"versicolor\"][\"Sepal.Length\"]) #, equal_var=True\n",
    "t_test"
   ]
  },
  {
   "cell_type": "code",
   "execution_count": null,
   "metadata": {},
   "outputs": [],
   "source": [
    "# Проверяем гипотезу о том, что среднее значение длины чашелистика в генеральной совокупности (датасете) равно 8.\n",
    "# Для этого используем одновыборочный Т-тест. \n",
    "t_test = scipy.stats.ttest_1samp(iris_df[\"Sepal.Length\"], 8) \n",
    "t_test"
   ]
  },
  {
   "cell_type": "markdown",
   "metadata": {},
   "source": [
    "Как и следовало ожидать - нет, среднее значение \"Sepal.Length\" не равно 8."
   ]
  },
  {
   "cell_type": "code",
   "execution_count": null,
   "metadata": {},
   "outputs": [],
   "source": [
    "import numpy as np\n",
    "import scipy.stats\n",
    "\n",
    "# Самописная фукнция с просторов интернета, которая вычисляет доверительный интервал. Полезно!\n",
    "def mean_confidence_interval(data, confidence=0.95):\n",
    "    a = 1.0 * np.array(data)\n",
    "    n = len(a)\n",
    "    m, se = np.mean(a), scipy.stats.sem(a)\n",
    "    h = se * scipy.stats.t.ppf((1 + confidence) / 2., n-1)\n",
    "    return m, m-h, m+h"
   ]
  },
  {
   "cell_type": "code",
   "execution_count": null,
   "metadata": {},
   "outputs": [],
   "source": [
    "mean_confidence_interval(iris_df[\"Sepal.Length\"])"
   ]
  },
  {
   "cell_type": "code",
   "execution_count": null,
   "metadata": {},
   "outputs": [],
   "source": [
    "# Расчёт доверительных интервалов\n",
    "import numpy as np, scipy.stats as st\n",
    "\n",
    "a = iris_df[iris_df.Species == \"versicolor\"][\"Sepal.Length\"]\n",
    "b = iris_df[iris_df.Species == \"virginica\"][\"Sepal.Length\"]\n",
    "\n",
    "print(st.t.interval(0.95, len(a)-1, loc=np.mean(a), scale=st.sem(a)),\n",
    "      st.t.interval(0.95, len(b)-1, loc=np.mean(b), scale=st.sem(b)))\n",
    "# https://docs.scipy.org/doc/scipy/reference/generated/scipy.stats.t.html?highlight=scipy%20stats%20t#scipy.stats.t"
   ]
  },
  {
   "cell_type": "code",
   "execution_count": null,
   "metadata": {},
   "outputs": [],
   "source": [
    "print(mean_confidence_interval(a),\n",
    "      mean_confidence_interval(b))"
   ]
  },
  {
   "cell_type": "markdown",
   "metadata": {},
   "source": [
    "Вывод - самописная функция повторяет метод .interval из библиотеки scipy.\n",
    "\n",
    "Отлично!"
   ]
  },
  {
   "cell_type": "code",
   "execution_count": null,
   "metadata": {},
   "outputs": [],
   "source": [
    "print(a.quantile([0.05, 0.95]), \"\\n\\n\",\n",
    "      b.quantile([0.05, 0.95]))\n",
    "print(\"\\n\\n\")\n",
    "print(iris_df[\"Sepal.Length\"].quantile([0.05, 0.95]))"
   ]
  },
  {
   "cell_type": "markdown",
   "metadata": {},
   "source": [
    "Итого - метод квантиль какой-то странный. Что-то тут не так, очевидно. Лучше его не использовать. \n",
    "\n",
    "Надо бы разобраться, почему такая разница."
   ]
  },
  {
   "cell_type": "code",
   "execution_count": null,
   "metadata": {},
   "outputs": [],
   "source": [
    "fig, ax = plt.subplots(figsize=(4, 4))\n",
    "\n",
    "stats.probplot(iris_df[\"Sepal.Length\"], plot=ax)\n",
    "\n",
    "plt.tight_layout()\n",
    "plt.show()"
   ]
  },
  {
   "cell_type": "code",
   "execution_count": null,
   "metadata": {},
   "outputs": [],
   "source": [
    "# Парный Т-тест\n",
    "pt_test = scipy.stats.ttest_rel(iris_df[\"Sepal.Length\"], iris_df[\"Sepal.Width\"])\n",
    "pt_test"
   ]
  },
  {
   "cell_type": "markdown",
   "metadata": {},
   "source": [
    "### NEW DATASET"
   ]
  },
  {
   "cell_type": "code",
   "execution_count": null,
   "metadata": {},
   "outputs": [],
   "source": [
    "DATA = \"~/PycharmProjects/Datasets/\"\n",
    "tooth_path = DATA + \"ToothGrowth.csv\"\n",
    "toothgrowth = pd.read_csv(tooth_path, index_col=0)"
   ]
  },
  {
   "cell_type": "code",
   "execution_count": null,
   "metadata": {},
   "outputs": [],
   "source": [
    "toothgrowth.head(10)"
   ]
  },
  {
   "cell_type": "code",
   "execution_count": null,
   "metadata": {},
   "outputs": [],
   "source": [
    "toothgrowth.shape"
   ]
  },
  {
   "cell_type": "code",
   "execution_count": null,
   "metadata": {},
   "outputs": [],
   "source": [
    "toothgrowth.describe()"
   ]
  },
  {
   "cell_type": "code",
   "execution_count": null,
   "metadata": {},
   "outputs": [],
   "source": [
    "subset_oj = toothgrowth[(toothgrowth.supp == \"OJ\") & (toothgrowth.dose == 0.5)]\n",
    "subset_vc = toothgrowth[(toothgrowth.supp == \"VC\") & (toothgrowth.dose == 2.0)]"
   ]
  },
  {
   "cell_type": "code",
   "execution_count": null,
   "metadata": {},
   "outputs": [],
   "source": [
    "t_test = scipy.stats.ttest_ind(subset_oj.len, subset_vc.len) \n",
    "t_test.statistic"
   ]
  },
  {
   "cell_type": "code",
   "execution_count": null,
   "metadata": {},
   "outputs": [],
   "source": [
    "# # Предполагается, что Вы уже скачали необходимый датасет и знаете путь до него\n",
    "# import pandas as pd\n",
    "# import scipy.stats\n",
    "\n",
    "# tooth_path = PATH_TO_DATA + \"ToothGrowth.csv\"\n",
    "# toothgrowth = pd.read_csv(tooth_path, index_col=0)\n",
    "# t_test = scipy.stats.ttest_ind(toothgrowth[(toothgrowth.supp == \"OJ\") & (toothgrowth.dose == 0.5)].len, \n",
    "#                                toothgrowth[(toothgrowth.supp == \"VC\") & (toothgrowth.dose == 2.0)].len) \n",
    "# print(t_test.statistic)"
   ]
  },
  {
   "cell_type": "markdown",
   "metadata": {},
   "source": [
    "### NEW DATASET"
   ]
  },
  {
   "cell_type": "code",
   "execution_count": null,
   "metadata": {},
   "outputs": [],
   "source": [
    "DATA = \"~/PycharmProjects/Datasets/\"\n",
    "lec_path = DATA + \"lekarstva.csv\"\n",
    "lekarstva = pd.read_csv(lec_path, index_col=0)"
   ]
  },
  {
   "cell_type": "code",
   "execution_count": null,
   "metadata": {},
   "outputs": [],
   "source": [
    "print(lekarstva.shape)\n",
    "lekarstva.head()"
   ]
  },
  {
   "cell_type": "code",
   "execution_count": null,
   "metadata": {},
   "outputs": [],
   "source": [
    "lekarstva.describe()"
   ]
  },
  {
   "cell_type": "code",
   "execution_count": null,
   "metadata": {},
   "outputs": [],
   "source": [
    "lec_pair_t_test = scipy.stats.ttest_rel(lekarstva.Pressure_after, lekarstva.Pressure_before) \n",
    "lec_pair_t_test.statistic"
   ]
  },
  {
   "cell_type": "code",
   "execution_count": 1,
   "metadata": {},
   "outputs": [
    {
     "name": "stdout",
     "output_type": "stream",
     "text": [
      "14.226730711863198\n"
     ]
    }
   ],
   "source": [
    "# Предполагается, что Вы уже скачали необходимый датасет и знаете путь до него\n",
    "import pandas as pd\n",
    "import scipy.stats\n",
    "\n",
    "lec_path = PATH_TO_DATA + \"lekarstva.csv\"\n",
    "lekarstva = pd.read_csv(lec_path, index_col=0)\n",
    "lec_pair_t_test = scipy.stats.ttest_rel(lekarstva.Pressure_before, lekarstva.Pressure_after) \n",
    "print(lec_pair_t_test.statistic)"
   ]
  },
  {
   "cell_type": "code",
   "execution_count": null,
   "metadata": {},
   "outputs": [],
   "source": []
  },
  {
   "cell_type": "code",
   "execution_count": null,
   "metadata": {},
   "outputs": [],
   "source": []
  },
  {
   "cell_type": "markdown",
   "metadata": {},
   "source": [
    "## NEW CHAPTER AND NEW DATASET"
   ]
  },
  {
   "cell_type": "code",
   "execution_count": null,
   "metadata": {},
   "outputs": [],
   "source": [
    "DATA = \"~/PycharmProjects/Datasets/\"\n",
    "grants_path = DATA + \"grants.csv\"\n",
    "grants = pd.read_csv(grants_path)"
   ]
  },
  {
   "cell_type": "code",
   "execution_count": null,
   "metadata": {},
   "outputs": [],
   "source": [
    "grants.head()"
   ]
  },
  {
   "cell_type": "code",
   "execution_count": null,
   "metadata": {},
   "outputs": [],
   "source": [
    "grants.shape"
   ]
  },
  {
   "cell_type": "code",
   "execution_count": null,
   "metadata": {},
   "outputs": [],
   "source": [
    "grants.isna().sum()"
   ]
  },
  {
   "cell_type": "code",
   "execution_count": null,
   "metadata": {},
   "outputs": [],
   "source": [
    "grants.describe()"
   ]
  },
  {
   "cell_type": "code",
   "execution_count": null,
   "metadata": {},
   "outputs": [],
   "source": [
    "grants_df = grants.copy()"
   ]
  },
  {
   "cell_type": "code",
   "execution_count": null,
   "metadata": {},
   "outputs": [],
   "source": [
    "grants_df[\"status\"] = grants_df[\"status\"].replace({0 : \"Not funded\", 1 : \"Funded\"})"
   ]
  },
  {
   "cell_type": "code",
   "execution_count": null,
   "metadata": {},
   "outputs": [],
   "source": [
    "grants_df[\"status\"].unique()"
   ]
  },
  {
   "cell_type": "code",
   "execution_count": null,
   "metadata": {},
   "outputs": [],
   "source": [
    "grants_df.head(3)"
   ]
  },
  {
   "cell_type": "code",
   "execution_count": null,
   "metadata": {},
   "outputs": [],
   "source": [
    "table_1 = pd.pivot_table(grants_df, index=\"status\", values=\"field\", aggfunc=\"count\")\n",
    "table_1"
   ]
  },
  {
   "cell_type": "code",
   "execution_count": null,
   "metadata": {},
   "outputs": [],
   "source": [
    "table_2 = pd.pivot_table(grants_df, index=[\"field\"], columns=[\"status\"], aggfunc=\"count\")\n",
    "table_2"
   ]
  },
  {
   "cell_type": "code",
   "execution_count": null,
   "metadata": {},
   "outputs": [],
   "source": [
    "# Неудачные попытки\n",
    "# -----------------------------\n",
    "# grants_df.groupby([\"field\", \"status\"]).agg({\"status\" : \"count\"}).unstack()\n",
    "# -----------------------------\n",
    "# table_2 = grants_df.pivot_table(index=\"status\", columns=[\"field\"], aggfunc=\"count\")\n",
    "# table_2"
   ]
  },
  {
   "cell_type": "code",
   "execution_count": null,
   "metadata": {},
   "outputs": [],
   "source": [
    "dist = grants_df.groupby([\"field\", \"status\"])[\"status\"].count().unstack()\n",
    "dist"
   ]
  },
  {
   "cell_type": "code",
   "execution_count": null,
   "metadata": {},
   "outputs": [],
   "source": [
    "# Binom test\n",
    "p_value_1 = scipy.stats.binom_test(table_1)\n",
    "p_value_1"
   ]
  },
  {
   "cell_type": "code",
   "execution_count": null,
   "metadata": {},
   "outputs": [],
   "source": [
    "# ChiSquare test\n",
    "cs_res_1 = scipy.stats.chisquare(table_1)\n",
    "print(cs_res_1)\n",
    "print(\"The chi-squared test statistic is {}; \\nThe p-value of the test is {}.\".format(cs_res_1[0], cs_res_1[1]))"
   ]
  },
  {
   "cell_type": "code",
   "execution_count": null,
   "metadata": {},
   "outputs": [],
   "source": [
    "cs_res_2 = scipy.stats.chisquare(dist.T)\n",
    "cs_res_2"
   ]
  },
  {
   "cell_type": "code",
   "execution_count": null,
   "metadata": {},
   "outputs": [],
   "source": []
  },
  {
   "cell_type": "code",
   "execution_count": null,
   "metadata": {},
   "outputs": [],
   "source": []
  },
  {
   "cell_type": "code",
   "execution_count": null,
   "metadata": {},
   "outputs": [],
   "source": []
  },
  {
   "cell_type": "code",
   "execution_count": null,
   "metadata": {},
   "outputs": [],
   "source": []
  },
  {
   "cell_type": "code",
   "execution_count": null,
   "metadata": {},
   "outputs": [],
   "source": []
  },
  {
   "cell_type": "markdown",
   "metadata": {},
   "source": [
    "### New Dataset"
   ]
  },
  {
   "cell_type": "code",
   "execution_count": null,
   "metadata": {},
   "outputs": [],
   "source": [
    "DATA = \"~/PycharmProjects/Datasets/\"\n",
    "hec_path = DATA + \"HairEyeColor.csv\"\n",
    "hec = pd.read_csv(hec_path)"
   ]
  },
  {
   "cell_type": "code",
   "execution_count": null,
   "metadata": {},
   "outputs": [],
   "source": [
    "hec = hec.drop(\"Unnamed: 0\", axis=1)"
   ]
  },
  {
   "cell_type": "code",
   "execution_count": null,
   "metadata": {},
   "outputs": [],
   "source": [
    "hec.head()"
   ]
  },
  {
   "cell_type": "code",
   "execution_count": null,
   "metadata": {},
   "outputs": [],
   "source": [
    "hec_fem = hec[hec.Sex == \"Female\"]\n",
    "hec_fem"
   ]
  },
  {
   "cell_type": "code",
   "execution_count": null,
   "metadata": {},
   "outputs": [],
   "source": [
    "# Неудачные попытки\n",
    "# sns.histplot(data=hec_fem, x=\"Hair\", y=\"Freq\")"
   ]
  },
  {
   "cell_type": "code",
   "execution_count": null,
   "metadata": {},
   "outputs": [],
   "source": [
    "sns.catplot(data=hec_fem, x=\"Hair\", y=\"Freq\", hue=\"Eye\", kind=\"bar\")"
   ]
  },
  {
   "cell_type": "code",
   "execution_count": null,
   "metadata": {},
   "outputs": [],
   "source": [
    "# Как сделать хорошо и правильно? - Посмотри туториалы.\n",
    "# titanic = sns.load_dataset(\"titanic\")\n",
    "# sns.catplot(x=\"sex\", y=\"survived\", hue=\"class\", kind=\"bar\", data=titanic)"
   ]
  },
  {
   "cell_type": "code",
   "execution_count": null,
   "metadata": {},
   "outputs": [],
   "source": [
    "hec_fem[hec_fem.Hair == \"Brown\"].iloc[:,[1, 3]]"
   ]
  },
  {
   "cell_type": "code",
   "execution_count": null,
   "metadata": {},
   "outputs": [],
   "source": [
    "brown_haired_ladies = hec_fem[hec_fem.Hair == \"Brown\"].iloc[:,[1, 3]].set_index(\"Eye\")\n",
    "brown_haired_ladies"
   ]
  },
  {
   "cell_type": "code",
   "execution_count": null,
   "metadata": {},
   "outputs": [],
   "source": [
    "cs_res_3 = scipy.stats.chisquare(brown_haired_ladies)\n",
    "print(cs_res_3)\n",
    "print(\"The chi-squared test statistic is {}; \\nThe p-value of the test is {}.\".format(cs_res_3[0], cs_res_3[1]))"
   ]
  },
  {
   "cell_type": "code",
   "execution_count": null,
   "metadata": {},
   "outputs": [],
   "source": [
    "DATA = \"~/PycharmProjects/Datasets/\"\n",
    "hec_path = DATA + \"HairEyeColor.csv\"\n",
    "hec = pd.read_csv(hec_path, index_col=0)\n",
    "brown_haired_ladies = hec.query(\"Sex == 'Female' and Hair == 'Brown'\").iloc[:,[1, 3]].set_index(\"Eye\")\n",
    "chisquare_result = scipy.stats.chisquare(brown_haired_ladies)\n",
    "print(\"The chi-squared test statistic is {}; \\nThe p-value of the test is {}.\".format(chisquare_result[0], chisquare_result[1]))"
   ]
  },
  {
   "cell_type": "code",
   "execution_count": null,
   "metadata": {},
   "outputs": [],
   "source": []
  },
  {
   "cell_type": "code",
   "execution_count": null,
   "metadata": {},
   "outputs": [],
   "source": []
  },
  {
   "cell_type": "code",
   "execution_count": null,
   "metadata": {},
   "outputs": [],
   "source": []
  },
  {
   "cell_type": "code",
   "execution_count": null,
   "metadata": {},
   "outputs": [],
   "source": []
  },
  {
   "cell_type": "code",
   "execution_count": null,
   "metadata": {},
   "outputs": [],
   "source": []
  },
  {
   "cell_type": "markdown",
   "metadata": {},
   "source": [
    "### New Dataset"
   ]
  },
  {
   "cell_type": "code",
   "execution_count": null,
   "metadata": {},
   "outputs": [],
   "source": [
    "diamonds = sns.load_dataset('diamonds')\n",
    "diamonds.head()"
   ]
  },
  {
   "cell_type": "code",
   "execution_count": null,
   "metadata": {},
   "outputs": [],
   "source": [
    "diamonds = diamonds.sort_values(by=['color', 'cut'])"
   ]
  },
  {
   "cell_type": "code",
   "execution_count": null,
   "metadata": {},
   "outputs": [],
   "source": [
    "sns.histplot(data=diamonds, x=\"color\", hue=\"cut\", multiple=\"dodge\", shrink=.8)"
   ]
  },
  {
   "cell_type": "code",
   "execution_count": null,
   "metadata": {},
   "outputs": [],
   "source": [
    "# import seaborn as sns\n",
    "\n",
    "# diamonds = sns.load_dataset('diamonds')\n",
    "# diamonds = diamonds.sort_values(by=['color', 'cut'])\n",
    "# sns.histplot(data=diamonds, x=\"color\", hue=\"cut\", multiple=\"dodge\", shrink=.7)"
   ]
  },
  {
   "cell_type": "code",
   "execution_count": null,
   "metadata": {},
   "outputs": [],
   "source": [
    "diamonds = sns.load_dataset('diamonds')\n",
    "diamonds = pd.DataFrame(diamonds)\n",
    "# d = diamonds.groupby(['cut', 'color']).agg({\"color\" : \"count\"}).unstack()\n",
    "d = diamonds.groupby(['cut', 'color'])['cut'].count().unstack()\n",
    "print(d.shape)\n",
    "d"
   ]
  },
  {
   "cell_type": "code",
   "execution_count": null,
   "metadata": {},
   "outputs": [],
   "source": [
    "# НЕПРАВИЛЬНО!\n",
    "\n",
    "# chisquare_result = scipy.stats.chisquare(d, axis=None)\n",
    "# chisquare_result\n",
    "# -------------------------------------------------------------\n",
    "# ПРАВИЛЬНО!\n",
    "chisquare_result = scipy.stats.chi2_contingency(d)\n",
    "chisquare_result"
   ]
  },
  {
   "cell_type": "code",
   "execution_count": null,
   "metadata": {},
   "outputs": [],
   "source": [
    "# # Предполагается, что Вы уже скачали необходимый датасет и знаете путь до него\n",
    "# import pandas as pd\n",
    "# import scipy.stats\n",
    "# import seaborn as sns\n",
    "\n",
    "# diamonds = sns.load_dataset('diamonds')\n",
    "# diamonds = pd.DataFrame(diamonds)\n",
    "# d = diamonds.groupby(['cut', 'color'])['cut'].count().unstack()\n",
    "# chisquare_result = scipy.stats.chi2_contingency(d)\n",
    "# chisquare_result"
   ]
  },
  {
   "cell_type": "code",
   "execution_count": null,
   "metadata": {},
   "outputs": [],
   "source": [
    "# table_diamonds = pd.pivot_table(diamonds, index=[\"cut\"], columns=[\"color\"], aggfunc=\"count\")\n",
    "# table_diamonds"
   ]
  },
  {
   "cell_type": "code",
   "execution_count": null,
   "metadata": {},
   "outputs": [],
   "source": [
    "diamonds[\"factor_price\"] = np.where(diamonds['price'] >= diamonds.price.mean(), 1, 0)\n",
    "diamonds[\"factor_carat\"] = np.where(diamonds['carat'] >= diamonds.carat.mean(), 1, 0)"
   ]
  },
  {
   "cell_type": "code",
   "execution_count": null,
   "metadata": {},
   "outputs": [],
   "source": [
    "d = diamonds.groupby(['factor_carat', 'factor_price'])['factor_price'].count().unstack()\n",
    "d"
   ]
  },
  {
   "cell_type": "code",
   "execution_count": null,
   "metadata": {},
   "outputs": [],
   "source": [
    "chisquare_result = scipy.stats.chi2_contingency(d)\n",
    "chisquare_result[0]"
   ]
  },
  {
   "cell_type": "code",
   "execution_count": null,
   "metadata": {},
   "outputs": [],
   "source": [
    "# # Предполагается, что Вы уже скачали необходимый датасет и знаете путь до него\n",
    "# import pandas as pd\n",
    "# import numpy as np\n",
    "# import scipy.stats\n",
    "# import seaborn as sns\n",
    "\n",
    "# diamonds = sns.load_dataset('diamonds')\n",
    "# diamonds = pd.DataFrame(diamonds)\n",
    "# diamonds[\"factor_price\"] = np.where(diamonds['price'] >= diamonds.price.mean(), 1, 0)\n",
    "# diamonds[\"factor_carat\"] = np.where(diamonds['carat'] >= diamonds.carat.mean(), 1, 0)\n",
    "# d = diamonds.groupby(['factor_carat', 'factor_price'])['factor_price'].count().unstack()\n",
    "# chisquare_result = scipy.stats.chi2_contingency(d)\n",
    "# chisquare_result[0]"
   ]
  },
  {
   "cell_type": "markdown",
   "metadata": {},
   "source": [
    "### Game: Megafon and N+1\n",
    "#### https://nplus1.ru/material/2020/10/27/megafon"
   ]
  },
  {
   "cell_type": "code",
   "execution_count": null,
   "metadata": {},
   "outputs": [],
   "source": [
    "import re"
   ]
  },
  {
   "cell_type": "code",
   "execution_count": null,
   "metadata": {},
   "outputs": [],
   "source": [
    "PATH_TO_DATA = \"~/Downloads/Megafon_and_Nplus1_Game/\"\n",
    "game_df_1 = pd.read_csv(PATH_TO_DATA + \"first.csv\", sep=\";\", header=None)\n",
    "game_df_1.head(10)"
   ]
  },
  {
   "cell_type": "code",
   "execution_count": null,
   "metadata": {},
   "outputs": [],
   "source": [
    "game_df_1.columns = [\"transaction_id\", \"company_name\", \"transaction_amount\", \"comment\"]\n",
    "game_df_1"
   ]
  },
  {
   "cell_type": "code",
   "execution_count": null,
   "metadata": {},
   "outputs": [],
   "source": [
    "type(game_df_1.iloc[:,1])"
   ]
  },
  {
   "cell_type": "code",
   "execution_count": null,
   "metadata": {},
   "outputs": [],
   "source": [
    "game_df_1[game_df_1.iloc[:,1].str.contains(r'([a-z|0-9]{8})(-[a-z|0-9]{4}){3}(-[a-z|0-9]{12})', regex=True)]"
   ]
  },
  {
   "cell_type": "code",
   "execution_count": null,
   "metadata": {},
   "outputs": [],
   "source": [
    "# PATH_TO_DATA = \"~/Downloads/Megafon_and_Nplus1_Game/\"\n",
    "\n",
    "game_df_2 = pd.read_csv(PATH_TO_DATA + \"dva.csv\", sep=\";\", verbose=True)\n",
    "game_df_2.head(10)"
   ]
  },
  {
   "cell_type": "code",
   "execution_count": null,
   "metadata": {},
   "outputs": [],
   "source": []
  },
  {
   "cell_type": "code",
   "execution_count": null,
   "metadata": {},
   "outputs": [],
   "source": []
  },
  {
   "cell_type": "code",
   "execution_count": null,
   "metadata": {},
   "outputs": [],
   "source": []
  },
  {
   "cell_type": "code",
   "execution_count": null,
   "metadata": {},
   "outputs": [],
   "source": []
  },
  {
   "cell_type": "code",
   "execution_count": null,
   "metadata": {},
   "outputs": [],
   "source": []
  },
  {
   "cell_type": "code",
   "execution_count": null,
   "metadata": {},
   "outputs": [],
   "source": []
  }
 ],
 "metadata": {
  "kernelspec": {
   "display_name": "Python 3",
   "language": "python",
   "name": "python3"
  },
  "language_info": {
   "codemirror_mode": {
    "name": "ipython",
    "version": 3
   },
   "file_extension": ".py",
   "mimetype": "text/x-python",
   "name": "python",
   "nbconvert_exporter": "python",
   "pygments_lexer": "ipython3",
   "version": "3.8.5"
  }
 },
 "nbformat": 4,
 "nbformat_minor": 4
}
