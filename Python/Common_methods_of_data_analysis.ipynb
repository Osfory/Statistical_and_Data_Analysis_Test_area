{
 "cells": [
  {
   "cell_type": "markdown",
   "metadata": {},
   "source": [
    "# Common methods of Data Analisys \n",
    "## Practical Statistics for Data Scientists (Python + R)\n",
    "### Chapter 1. Exploratory Data Analysis"
   ]
  },
  {
   "cell_type": "markdown",
   "metadata": {},
   "source": [
    "Import required Python packages."
   ]
  },
  {
   "cell_type": "code",
   "execution_count": 1,
   "metadata": {},
   "outputs": [
    {
     "name": "stdout",
     "output_type": "stream",
     "text": [
      "Imports Done!\n"
     ]
    }
   ],
   "source": [
    "from pathlib import Path\n",
    "\n",
    "import math\n",
    "import numpy as np\n",
    "import pandas as pd\n",
    "\n",
    "import rpy2\n",
    "\n",
    "import scipy.stats as st\n",
    "\n",
    "import statsmodels.stats\n",
    "import statsmodels.api as sm\n",
    "import statsmodels.formula.api as smf\n",
    "\n",
    "import wquantiles\n",
    "import sklearn\n",
    "\n",
    "import seaborn as sns\n",
    "import matplotlib.pylab as plt\n",
    "import plotnine \n",
    "\n",
    "%matplotlib inline\n",
    "%load_ext rpy2.ipython\n",
    "\n",
    "print(\"Imports Done!\")"
   ]
  },
  {
   "cell_type": "code",
   "execution_count": 2,
   "metadata": {},
   "outputs": [
    {
     "name": "stderr",
     "output_type": "stream",
     "text": [
      "R[write to console]: \n",
      "Attaching package: ‘dplyr’\n",
      "\n",
      "\n",
      "R[write to console]: The following objects are masked from ‘package:stats’:\n",
      "\n",
      "    filter, lag\n",
      "\n",
      "\n",
      "R[write to console]: The following objects are masked from ‘package:base’:\n",
      "\n",
      "    intersect, setdiff, setequal, union\n",
      "\n",
      "\n",
      "R[write to console]: data.table 1.13.0 using 4 threads (see ?getDTthreads).  Latest news: r-datatable.com\n",
      "\n",
      "R[write to console]: \n",
      "Attaching package: ‘data.table’\n",
      "\n",
      "\n",
      "R[write to console]: The following objects are masked from ‘package:dplyr’:\n",
      "\n",
      "    between, first, last\n",
      "\n",
      "\n"
     ]
    }
   ],
   "source": [
    "%%R\n",
    "library(ggplot2)\n",
    "library(dplyr)\n",
    "library(data.table)"
   ]
  },
  {
   "cell_type": "code",
   "execution_count": null,
   "metadata": {},
   "outputs": [],
   "source": [
    "data_first = pd.Series([1, 5, 2, 7, 1, 9, 3, 8, 5, 9, 1, 2, 8, 9, 8, 5, 8])\n",
    "data_first.value_counts()\n",
    "# print(\"Мода = {}\".format(data_first.mode()[0]))"
   ]
  },
  {
   "cell_type": "code",
   "execution_count": null,
   "metadata": {},
   "outputs": [],
   "source": [
    "DATA = \"~/PycharmProjects/Datasets/\"\n",
    "mtcar_path = DATA + \"mtcars.csv\"\n",
    "mtcar = pd.read_csv(mtcar_path)"
   ]
  },
  {
   "cell_type": "code",
   "execution_count": null,
   "metadata": {},
   "outputs": [],
   "source": [
    "mtcar.head()"
   ]
  },
  {
   "cell_type": "code",
   "execution_count": null,
   "metadata": {},
   "outputs": [],
   "source": [
    "mtcar.shape"
   ]
  },
  {
   "cell_type": "code",
   "execution_count": null,
   "metadata": {},
   "outputs": [],
   "source": [
    "mtcar.describe()"
   ]
  },
  {
   "cell_type": "code",
   "execution_count": null,
   "metadata": {},
   "outputs": [],
   "source": [
    "mtcar_df = mtcar.copy()"
   ]
  },
  {
   "cell_type": "code",
   "execution_count": null,
   "metadata": {},
   "outputs": [],
   "source": [
    "mtcar_df = mtcar_df.rename(columns={\"Unnamed: 0\" : \"Car Model\"})"
   ]
  },
  {
   "cell_type": "code",
   "execution_count": null,
   "metadata": {},
   "outputs": [],
   "source": [
    "mtcar_df[\"vs\"] = mtcar_df[\"vs\"].replace({0 : \"V\", 1 : \"S\"})"
   ]
  },
  {
   "cell_type": "code",
   "execution_count": null,
   "metadata": {},
   "outputs": [],
   "source": [
    "mtcar_df[\"am\"] = mtcar_df[\"am\"].replace({0 : \"Auto\", 1 : \"Manual\"})"
   ]
  },
  {
   "cell_type": "code",
   "execution_count": null,
   "metadata": {},
   "outputs": [],
   "source": [
    "result = mtcar_df[\"qsec\"][(mtcar_df[\"cyl\"] != 3) & (mtcar_df[\"mpg\"] > 20)].mean()\n",
    "result"
   ]
  },
  {
   "cell_type": "code",
   "execution_count": null,
   "metadata": {},
   "outputs": [],
   "source": [
    "mtcar_df.groupby([\"vs\", \"am\"]).agg({\"hp\" : \"mean\"})"
   ]
  },
  {
   "cell_type": "code",
   "execution_count": null,
   "metadata": {},
   "outputs": [],
   "source": [
    "mtcar_df.groupby(\"am\").agg(\"median\")"
   ]
  },
  {
   "cell_type": "code",
   "execution_count": null,
   "metadata": {},
   "outputs": [],
   "source": [
    "mtcar_df.groupby(\"am\").agg(\"median\")"
   ]
  },
  {
   "cell_type": "code",
   "execution_count": null,
   "metadata": {},
   "outputs": [],
   "source": [
    "mtcar_df.groupby([\"am\", \"vs\"]).agg(\"std\").iloc[:,[0,2]]"
   ]
  },
  {
   "cell_type": "code",
   "execution_count": null,
   "metadata": {},
   "outputs": [],
   "source": [
    "my_stats = mtcar_df.groupby([\"am\", \"vs\"]).agg(\"std\").iloc[:,[0,2]]"
   ]
  },
  {
   "cell_type": "code",
   "execution_count": null,
   "metadata": {},
   "outputs": [],
   "source": [
    "descriptions_stat = mtcar_df.groupby([\"am\"]).agg(\"std\").loc[:, [\"hp\", \"disp\"]]\n",
    "descriptions_stat"
   ]
  },
  {
   "cell_type": "code",
   "execution_count": null,
   "metadata": {},
   "outputs": [],
   "source": [
    "round(mtcar_df.groupby([\"am\", \"vs\"]).agg({\"qsec\" : [\"count\", \"min\", \"max\", \"mean\", \"std\", \"sem\"]}), 2)"
   ]
  },
  {
   "cell_type": "code",
   "execution_count": null,
   "metadata": {},
   "outputs": [],
   "source": [
    "mtcar_df.isna().sum()"
   ]
  },
  {
   "cell_type": "markdown",
   "metadata": {},
   "source": [
    "Dealing with NA "
   ]
  },
  {
   "cell_type": "code",
   "execution_count": null,
   "metadata": {},
   "outputs": [],
   "source": [
    "# mtcar_df.head(15)"
   ]
  },
  {
   "cell_type": "code",
   "execution_count": null,
   "metadata": {},
   "outputs": [],
   "source": [
    "# mtcar_df[\"mpg\"].mean()"
   ]
  },
  {
   "cell_type": "code",
   "execution_count": null,
   "metadata": {},
   "outputs": [],
   "source": [
    "# mtcar_df[\"mpg\"].iloc[1:10] = None"
   ]
  },
  {
   "cell_type": "code",
   "execution_count": null,
   "metadata": {},
   "outputs": [],
   "source": [
    "# mtcar_df.head(15)"
   ]
  },
  {
   "cell_type": "code",
   "execution_count": null,
   "metadata": {},
   "outputs": [],
   "source": [
    "# mtcar_df[\"mpg\"].mean()"
   ]
  },
  {
   "cell_type": "code",
   "execution_count": null,
   "metadata": {},
   "outputs": [],
   "source": [
    "sns.histplot(mtcar_df[\"mpg\"])"
   ]
  },
  {
   "cell_type": "code",
   "execution_count": null,
   "metadata": {},
   "outputs": [],
   "source": [
    "ax = sns.boxplot(x=\"am\", y=\"mpg\", data=mtcar_df)"
   ]
  },
  {
   "cell_type": "code",
   "execution_count": null,
   "metadata": {},
   "outputs": [],
   "source": [
    "sns.scatterplot(data=mtcar_df, x=\"mpg\", y=\"hp\", hue=\"vs\", size= \"qsec\")"
   ]
  },
  {
   "cell_type": "code",
   "execution_count": null,
   "metadata": {},
   "outputs": [],
   "source": [
    "sns.scatterplot(data=mtcar_df, x=\"mpg\", y=\"disp\", hue=\"hp\")"
   ]
  },
  {
   "cell_type": "code",
   "execution_count": null,
   "metadata": {},
   "outputs": [],
   "source": [
    "sns.displot(data=mtcar_df, x=\"mpg\", hue=\"am\", kde=True)"
   ]
  },
  {
   "cell_type": "code",
   "execution_count": null,
   "metadata": {},
   "outputs": [],
   "source": [
    "mtcar_df.head()"
   ]
  },
  {
   "cell_type": "code",
   "execution_count": null,
   "metadata": {},
   "outputs": [],
   "source": [
    "d = mtcar_df.groupby([\"vs\", \"am\"])[\"am\"].count().unstack()\n",
    "d"
   ]
  },
  {
   "cell_type": "code",
   "execution_count": null,
   "metadata": {},
   "outputs": [],
   "source": [
    "p_value = st.fisher_exact(d)[1]\n",
    "p_value"
   ]
  },
  {
   "cell_type": "markdown",
   "metadata": {},
   "source": [
    "https://docs.scipy.org/doc/scipy/reference/generated/scipy.stats.pearsonr.html\n",
    "\n",
    "https://docs.scipy.org/doc/scipy/reference/generated/scipy.stats.spearmanr.html#scipy.stats.spearmanr\n",
    "\n",
    "https://docs.scipy.org/doc/scipy/reference/generated/scipy.stats.kendalltau.html#scipy.stats.kendalltau"
   ]
  },
  {
   "cell_type": "code",
   "execution_count": null,
   "metadata": {},
   "outputs": [],
   "source": [
    "st.pearsonr(mtcar_df[\"mpg\"], mtcar_df[\"hp\"])[0]"
   ]
  },
  {
   "cell_type": "code",
   "execution_count": null,
   "metadata": {},
   "outputs": [],
   "source": [
    "# Расчёт степеней свободы для переменных и доверительного интервала для коэффициента корреляции Пирсона\n",
    "\n",
    "def stdev(X):\n",
    "    m = X.mean()\n",
    "    return math.sqrt(sum((x-m)**2 for x in X) / len(X))\n",
    "\n",
    "def degreesOfFreedom(X, Y):\n",
    "    s1 = (stdev(X)**2)\n",
    "    s2 = (stdev(Y)**2)\n",
    "    df = (s1 / len(X) + s2 / len(Y))**2 / ((s1 / len(X))**2 / (len(X) - 1) + (s2 / len(Y))**2 / (len(Y) - 1))\n",
    "    return(df)\n",
    "\n",
    "def r_to_z(r):\n",
    "    return math.log((1 + r) / (1 - r)) / 2.0\n",
    "\n",
    "def z_to_r(z):\n",
    "    e = math.exp(2 * z)\n",
    "    return((e - 1) / (e + 1))\n",
    "\n",
    "def r_confidence_interval(r, alpha, n):\n",
    "    z = r_to_z(r)\n",
    "    se = 1.0 / math.sqrt(n - 3)\n",
    "    z_crit = stats.norm.ppf((1 + alpha)/2)  # 2-tailed z critical value\n",
    "\n",
    "    lo = z - z_crit * se\n",
    "    hi = z + z_crit * se\n",
    "\n",
    "    # Return a sequence\n",
    "    return (z_to_r(lo), z_to_r(hi))"
   ]
  },
  {
   "cell_type": "markdown",
   "metadata": {},
   "source": [
    "https://stackoverflow.com/questions/33176049/how-do-you-compute-the-confidence-interval-for-pearsons-r-in-python\n",
    "\n",
    "https://stackoverflow.com/questions/49473757/python-degrees-of-freedom\n",
    "\n",
    "https://stepik.org/lesson/11508/step/2?unit=2531"
   ]
  },
  {
   "cell_type": "code",
   "execution_count": null,
   "metadata": {},
   "outputs": [],
   "source": [
    "print('Degrees of freedom for Student-t distribution: ' + str(degreesOfFreedom(mtcar_df[\"mpg\"], mtcar_df[\"hp\"])))"
   ]
  },
  {
   "cell_type": "code",
   "execution_count": null,
   "metadata": {},
   "outputs": [],
   "source": [
    "r_confidence_interval(st.pearsonr(mtcar_df[\"mpg\"], mtcar_df[\"hp\"])[0], .95, 31.479)"
   ]
  },
  {
   "cell_type": "code",
   "execution_count": null,
   "metadata": {},
   "outputs": [],
   "source": [
    "sns.set_theme(style=\"darkgrid\")\n",
    "sns.relplot(x=\"mpg\", y=\"hp\", hue=\"cyl\", palette=\"muted\", height=6, data=mtcar_df)"
   ]
  },
  {
   "cell_type": "code",
   "execution_count": null,
   "metadata": {},
   "outputs": [],
   "source": [
    "sns.set_theme(style=\"darkgrid\")\n",
    "sns.relplot(x=\"mpg\", y=\"hp\", hue=\"cyl\", palette=\"muted\", col=\"am\", height=6, data=mtcar_df)"
   ]
  },
  {
   "cell_type": "code",
   "execution_count": null,
   "metadata": {},
   "outputs": [],
   "source": [
    "sns.lmplot(x=\"mpg\", y=\"hp\", palette=\"muted\", height=6, data=mtcar_df)"
   ]
  },
  {
   "cell_type": "code",
   "execution_count": null,
   "metadata": {},
   "outputs": [],
   "source": [
    "sns.lmplot(x=\"mpg\", y=\"hp\", palette=\"muted\", hue=\"vs\", height=6, data=mtcar_df)"
   ]
  },
  {
   "cell_type": "code",
   "execution_count": null,
   "metadata": {},
   "outputs": [],
   "source": [
    "mtcar_df.head()"
   ]
  },
  {
   "cell_type": "code",
   "execution_count": null,
   "metadata": {},
   "outputs": [],
   "source": [
    "pd.plotting.scatter_matrix(mtcar_df[[\"mpg\", \"disp\", \"hp\", \"drat\", \"wt\", \"qsec\"]], alpha=1, figsize=(20,15))"
   ]
  },
  {
   "cell_type": "code",
   "execution_count": null,
   "metadata": {},
   "outputs": [],
   "source": [
    "model_lm = sm.OLS(mtcar_df[\"mpg\"], pd.get_dummies(mtcar_df[\"cyl\"]))\n",
    "# https://pandas.pydata.org/pandas-docs/stable/reference/api/pandas.get_dummies.html\n",
    "\n",
    "res = model_lm.fit()\n",
    "\n",
    "print(res.params)\n",
    "print(res.summary())"
   ]
  },
  {
   "cell_type": "code",
   "execution_count": null,
   "metadata": {},
   "outputs": [],
   "source": [
    "mtcar_df.cyl.factorize()"
   ]
  },
  {
   "cell_type": "code",
   "execution_count": null,
   "metadata": {},
   "outputs": [],
   "source": [
    "mtcar_df.cyl = mtcar_df.cyl.factorize()[0]\n",
    "mtcar_df.head()"
   ]
  },
  {
   "cell_type": "code",
   "execution_count": null,
   "metadata": {},
   "outputs": [],
   "source": [
    "model_lm = smf.ols(\"mpg ~ cyl\", mtcar_df)\n",
    "\n",
    "res = model_lm.fit()\n",
    "\n",
    "print(res.params)\n",
    "print(res.summary())"
   ]
  },
  {
   "cell_type": "code",
   "execution_count": null,
   "metadata": {},
   "outputs": [],
   "source": [
    "model_mtcars = smf.ols(\"mpg ~ wt * am\", mtcar_df)\n",
    "\n",
    "res = model_mtcars.fit()\n",
    "\n",
    "print(res.params)\n",
    "print(\"---------------\")\n",
    "print(res.summary())\n",
    "print(\"---------------\")\n",
    "print(res.conf_int())"
   ]
  },
  {
   "cell_type": "code",
   "execution_count": null,
   "metadata": {},
   "outputs": [],
   "source": [
    "sns.lmplot(x=\"wt\", y=\"mpg\", hue=\"am\", palette=\"muted\", height=6, data=mtcar_df)"
   ]
  },
  {
   "cell_type": "code",
   "execution_count": null,
   "metadata": {},
   "outputs": [],
   "source": [
    "(ggplot(mtcar_df, aes(x='wt', y='mpg', color=\"am\"))\n",
    "    + geom_point()\n",
    "    + geom_smooth(method='lm'))"
   ]
  },
  {
   "cell_type": "code",
   "execution_count": null,
   "metadata": {},
   "outputs": [],
   "source": [
    "(ggplot(mtcar_df, aes(x='wt', y='mpg', color=\"am\"))\n",
    "    + geom_smooth(method='lm'))"
   ]
  },
  {
   "cell_type": "code",
   "execution_count": null,
   "metadata": {},
   "outputs": [],
   "source": [
    "# https://stepik.org/lesson/10226/step/5?unit=2535\n",
    "%%R -i mtcar\n",
    "\n",
    "log_coef <- glm(am ~ disp + vs + mpg, mtcars, family = \"binomial\")$coefficients\n",
    "log_coef"
   ]
  },
  {
   "cell_type": "code",
   "execution_count": null,
   "metadata": {},
   "outputs": [],
   "source": []
  },
  {
   "cell_type": "code",
   "execution_count": null,
   "metadata": {},
   "outputs": [],
   "source": [
    "# https://stepik.org/lesson/11508/step/5?unit=2531\n",
    "# import pandas as pd\n",
    "# import scipy.stats as st\n",
    "\n",
    "# def corr_comp(data_frame: pd.DataFrame) -> tuple:\n",
    "#     \"\"\"Computing Pearson correlation coefficient and p-value for testing non-correlation.\n",
    "#     \"\"\"\n",
    "#     return st.pearsonr(data_frame.iloc[:, 0], data_frame.iloc[:, 1])\n",
    "\n",
    "# test_df = mtcar_df.iloc[:, [1,5]]\n",
    "# corr_comp(test_df)"
   ]
  },
  {
   "cell_type": "markdown",
   "metadata": {},
   "source": [
    "### NEW DATASET"
   ]
  },
  {
   "cell_type": "code",
   "execution_count": null,
   "metadata": {},
   "outputs": [],
   "source": [
    "nucleotides = pd.read_csv(\"https://stepic.org/media/attachments/course/524/test_data.csv\")\n",
    "nucleotides.head()"
   ]
  },
  {
   "cell_type": "code",
   "execution_count": null,
   "metadata": {},
   "outputs": [],
   "source": [
    "nucleotides.describe()"
   ]
  },
  {
   "cell_type": "code",
   "execution_count": null,
   "metadata": {},
   "outputs": [],
   "source": [
    "v1_vc = nucleotides[\"V1\"].value_counts()\n",
    "v2_vc = nucleotides[\"V2\"].value_counts()\n",
    "v3_vc = nucleotides[\"V3\"].value_counts()\n",
    "[v1_vc, v2_vc, v3_vc]"
   ]
  },
  {
   "cell_type": "code",
   "execution_count": null,
   "metadata": {},
   "outputs": [],
   "source": []
  },
  {
   "cell_type": "code",
   "execution_count": null,
   "metadata": {},
   "outputs": [],
   "source": [
    "st.chisquare(v1_vc)"
   ]
  },
  {
   "cell_type": "code",
   "execution_count": null,
   "metadata": {},
   "outputs": [],
   "source": []
  },
  {
   "cell_type": "code",
   "execution_count": null,
   "metadata": {},
   "outputs": [],
   "source": []
  },
  {
   "cell_type": "code",
   "execution_count": null,
   "metadata": {},
   "outputs": [],
   "source": []
  },
  {
   "cell_type": "code",
   "execution_count": null,
   "metadata": {},
   "outputs": [],
   "source": []
  },
  {
   "cell_type": "code",
   "execution_count": null,
   "metadata": {},
   "outputs": [],
   "source": []
  },
  {
   "cell_type": "code",
   "execution_count": null,
   "metadata": {},
   "outputs": [],
   "source": [
    "# import pandas as pd\n",
    "# import scipy.stats as st\n",
    "\n",
    "# def smart_test(x: pd.DataFrame) -> list: \n",
    "#     \"\"\" Performing a Fisher exact test on input contingency table \n",
    "#         if at least one cell contains less than 5 observations. \n",
    "#         Else performing a one-way Chi-square test.\n",
    "    \n",
    "#     Parameters\n",
    "#     ----------\n",
    "#     x: pd.DataFrame\n",
    "#         Input pd.DataFrame with some numeric data.\n",
    "    \n",
    "#     Returns\n",
    "#     -------\n",
    "#         Returns p-value if performing a Fisher exact test. \n",
    "#         If performing a one-way chi-square test returns:\n",
    "#         chi-square test statistic, p-value of the test and degrees of freedom.\n",
    "#     \"\"\"\n",
    "\n",
    "#     return st.fisher_exact(x)[1] if (x < 5).any().any() else [*st.chi2_contingency(x)[0:3]]\n",
    "\n",
    "# # Примеры датафреймов для проведения тестов:\n",
    "# df_1 = pd.DataFrame([[12, 7], [6, 7]])\n",
    "# df_2 = pd.DataFrame([[8, 6], [2, 4]])\n",
    "\n",
    "# # Пример запуска функции с тестовым датафреймом:\n",
    "# smart_test(df_1)"
   ]
  },
  {
   "cell_type": "code",
   "execution_count": null,
   "metadata": {},
   "outputs": [],
   "source": [
    "# pd.pivot_table(data=df_1, columns=df_1.columns)"
   ]
  },
  {
   "cell_type": "code",
   "execution_count": null,
   "metadata": {},
   "outputs": [],
   "source": [
    "# Пытки-попытки!\n",
    "# df_3 = pd.DataFrame([[1, 1, 1, 0, 0, 0, 0, 0, 0, 0, 0, 0, 0, 0, 0, 0, 0, 1, 1, 1, 0, 0, 0, 0, 0, 1, 1, 1, 1, 1, 1, 1], \n",
    "#                      [0, 0, 1, 1, 0, 1, 0, 1, 1, 1, 1, 0, 0, 0, 0, 0, 0, 1, 1, 1, 1, 0, 0, 0, 0, 1, 0, 1, 0, 0, 0, 1]]).T\n",
    "\n",
    "# # df_3\n",
    "# pd.pivot_table(data=df_3, values=df_3.columns)"
   ]
  },
  {
   "cell_type": "code",
   "execution_count": null,
   "metadata": {},
   "outputs": [],
   "source": [
    "# # Примеры датафреймов для проведения тестов:\n",
    "# df_1 = pd.DataFrame([[12, 7], [6, 7]])\n",
    "# df_2 = pd.DataFrame([[8, 6], [2, 4]])\n",
    "\n",
    "# # Пример запуска функции с тестовым датафреймом:\n",
    "# smart_test(df_1)"
   ]
  },
  {
   "cell_type": "code",
   "execution_count": null,
   "metadata": {},
   "outputs": [],
   "source": [
    "# help(smart_test)"
   ]
  },
  {
   "cell_type": "code",
   "execution_count": null,
   "metadata": {},
   "outputs": [],
   "source": [
    "# Предполагается, что Вы уже скачали необходимый датасет и знаете путь до него\n",
    "# import pandas as pd\n",
    "# import scipy.stats\n",
    "\n",
    "# mtcar_path = PATH_TO_DATA + \"mtcars.csv\"\n",
    "# mtcar = pd.read_csv(mtcar_path)\n",
    "# d = mtcar.groupby([\"vs\", \"am\"])[\"am\"].count().unstack()\n",
    "# p_value = scipy.stats.fisher_exact(d)[1]"
   ]
  },
  {
   "cell_type": "code",
   "execution_count": null,
   "metadata": {},
   "outputs": [],
   "source": [
    "%%R\n",
    "\n",
    "# steps 2 - 3 for vs apply \n",
    "library(ggplot2)\n",
    "\n",
    "data(diamonds)\n",
    "str(diamonds)\n",
    "\n",
    "min_size <- numeric(nrow(diamonds))\n",
    "for (i in 1:nrow(diamonds)){\n",
    "  min_size[i] <-  min(diamonds[i, 8:10])\n",
    "}\n",
    "\n",
    "min_size_2 <- apply(diamonds[, 8:10], 1, min)\n",
    "\n",
    "\n",
    "# steps 4 and 7 apply function\n",
    "d <- matrix(rnorm(30), nrow = 5)\n",
    "\n",
    "apply(d, MARGIN = 1, FUN = sd)\n",
    "apply(d, MARGIN = 2, FUN = sd)\n",
    "\n",
    "apply(mtcars, 2, sd)\n",
    "apply(mtcars, 1, sd)\n",
    "\n",
    "s <- apply(d, MARGIN = 2, FUN = sd)\n",
    "range(1:10)\n",
    "\n",
    "my_range <- apply(d, MARGIN = 2, FUN = range)\n",
    "my_range\n",
    "\n",
    "\n",
    "# step 8 apply advanced\n",
    "outliers_count <- function(x){\n",
    "  otliers <- x[abs(x - mean(x)) > 2 * sd(x)]\n",
    "  if (length(otliers) > 0){\n",
    "    return(otliers)\n",
    "  } else {\n",
    "    return(\"There are no otliers\")\n",
    "  }\n",
    "}\n",
    "\n",
    "iris_num <- iris[, 1:4]\n",
    "iris_num_2 <- iris[sapply(iris, (is.numeric))]\n",
    "all(iris_num == iris_num_2)\n",
    "\n",
    "iris_outliers <- apply(iris_num, 2, outliers_count)\n",
    "str(iris_outliers)\n",
    "\n"
   ]
  },
  {
   "cell_type": "code",
   "execution_count": null,
   "metadata": {},
   "outputs": [],
   "source": []
  },
  {
   "cell_type": "code",
   "execution_count": null,
   "metadata": {},
   "outputs": [],
   "source": []
  },
  {
   "cell_type": "code",
   "execution_count": null,
   "metadata": {},
   "outputs": [],
   "source": []
  },
  {
   "cell_type": "code",
   "execution_count": null,
   "metadata": {},
   "outputs": [],
   "source": []
  },
  {
   "cell_type": "code",
   "execution_count": null,
   "metadata": {},
   "outputs": [],
   "source": []
  },
  {
   "cell_type": "code",
   "execution_count": null,
   "metadata": {},
   "outputs": [],
   "source": []
  },
  {
   "cell_type": "markdown",
   "metadata": {},
   "source": [
    "### NEW DATASET "
   ]
  },
  {
   "cell_type": "code",
   "execution_count": null,
   "metadata": {},
   "outputs": [],
   "source": [
    "DATA = \"~/PycharmProjects/Datasets/\"\n",
    "train_path = DATA + \"train.csv\"\n",
    "train = pd.read_csv(train_path, sep=\";\")\n",
    "train.head()"
   ]
  },
  {
   "cell_type": "code",
   "execution_count": null,
   "metadata": {},
   "outputs": [],
   "source": [
    "%%R -i train\n",
    "str(train)"
   ]
  },
  {
   "cell_type": "code",
   "execution_count": null,
   "metadata": {},
   "outputs": [],
   "source": [
    "from plotnine.facets import facet_grid"
   ]
  },
  {
   "cell_type": "code",
   "execution_count": null,
   "metadata": {},
   "outputs": [],
   "source": [
    "(ggplot(train, aes(x = \"read\", y = \"math\", color = \"gender\")) + geom_point(size = 2) + facet_grid(\". ~ hon\"))"
   ]
  },
  {
   "cell_type": "code",
   "execution_count": null,
   "metadata": {},
   "outputs": [],
   "source": [
    "sns.set_theme(style=\"darkgrid\")\n",
    "sns.relplot(x=\"read\", y=\"math\", hue=\"gender\", col=\"hon\", palette=\"muted\", height=6, data=train)"
   ]
  },
  {
   "cell_type": "code",
   "execution_count": null,
   "metadata": {},
   "outputs": [],
   "source": [
    "%%R \n",
    "my_df <- read.csv(\"https://stepik.org/media/attachments/lesson/10226/train.csv\", sep=\";\")\n",
    "fit <- glm(hon ~ read + math + gender, family = \"binomial\", data=my_df)\n",
    "summary(fit)"
   ]
  },
  {
   "cell_type": "code",
   "execution_count": null,
   "metadata": {
    "scrolled": true
   },
   "outputs": [],
   "source": [
    "glm_binom_train = smf.glm(\"hon ~ read + math + gender\", data=train, family=sm.families.Binomial())\n",
    "res_glm_binom_train = glm_binom_train.fit()\n",
    "print(res_glm_binom_train.summary())"
   ]
  },
  {
   "cell_type": "markdown",
   "metadata": {},
   "source": [
    "## Важное замечание! Модель glm из библиотеки statsmodels выше работает без преобразования типов. В отличие от примеров ниже."
   ]
  },
  {
   "cell_type": "markdown",
   "metadata": {},
   "source": [
    "- Для использования моделей логистической регрессии что в sklearn, что в statsmodels необходимо привести категориальные переменные в ранговые.\n",
    "\n",
    "- Также, стоит отметить, что результаты работы моделей различны. \n",
    "https://stats.stackexchange.com/questions/203740/logistic-regression-scikit-learn-vs-statsmodels\n",
    "\n",
    "- ### ВАЖНО! НЕ ПУСТАТЬ GLM и glm - разные модели!"
   ]
  },
  {
   "cell_type": "code",
   "execution_count": null,
   "metadata": {},
   "outputs": [],
   "source": [
    "train[\"gender\"] = pd.get_dummies(train[\"gender\"])\n",
    "train[\"hon\"] = pd.get_dummies(train[\"hon\"])\n",
    "train.head()"
   ]
  },
  {
   "cell_type": "code",
   "execution_count": null,
   "metadata": {},
   "outputs": [],
   "source": [
    "train_model = smf.logit(\"hon ~ read + math + gender\", train)\n",
    "res_train_model = train_model.fit()\n",
    "print(res_train_model.summary())"
   ]
  },
  {
   "cell_type": "code",
   "execution_count": null,
   "metadata": {},
   "outputs": [],
   "source": [
    "# train[\"hon\"] = train[\"hon\"].astype('category')\n",
    "# train[\"gender\"] = train[\"gender\"].astype('category')\n",
    "# X = train.loc[:, [\"read\", \"math\", \"gender\"]]\n",
    "# y = train[\"hon\"]"
   ]
  },
  {
   "cell_type": "code",
   "execution_count": null,
   "metadata": {},
   "outputs": [],
   "source": [
    "from sklearn.linear_model import LogisticRegression\n",
    "\n",
    "X = train.loc[:, [\"read\", \"math\", \"gender\"]]\n",
    "y = train[\"hon\"]\n",
    "clf = LogisticRegression(penalty='l2').fit(X, y)\n",
    "\n",
    "print(clf.intercept_)\n",
    "print(clf.coef_)"
   ]
  },
  {
   "cell_type": "code",
   "execution_count": null,
   "metadata": {},
   "outputs": [],
   "source": [
    "%%R \n",
    "\n",
    "# exp(fit$coefficients)\n",
    "\n",
    "# head(predict(object = fit))\n",
    "\n",
    "head(predict(object = fit, type = \"response\"))"
   ]
  },
  {
   "cell_type": "code",
   "execution_count": null,
   "metadata": {},
   "outputs": [],
   "source": [
    "train[\"probs\"] = 1 - res_glm_binom_train.fittedvalues"
   ]
  },
  {
   "cell_type": "code",
   "execution_count": null,
   "metadata": {},
   "outputs": [],
   "source": [
    "train.head()"
   ]
  },
  {
   "cell_type": "code",
   "execution_count": null,
   "metadata": {},
   "outputs": [],
   "source": [
    "%%R \n",
    "\n",
    "edu <- read.csv(\"https://stepik.org/media/attachments/lesson/11478/data.csv\")\n"
   ]
  },
  {
   "cell_type": "code",
   "execution_count": null,
   "metadata": {},
   "outputs": [],
   "source": [
    "# https://stepik.org/lesson/26559/step/3\n",
    "%%R \n",
    "\n",
    "test_data <- read.csv(\"https://stepic.org/media/attachments/course/524/cen_data.csv\")\n",
    "var_names <- c(\"X4\", \"X2\", \"X1\")\n",
    "\n",
    "centered <- function(test_data, var_names){\n",
    "  test_data[, var_names] <- sapply(test_data[var_names] , function (x) {x - mean(x)})\n",
    "  return(test_data)}\n",
    "\n",
    "centered(test_data, var_names)"
   ]
  },
  {
   "cell_type": "code",
   "execution_count": null,
   "metadata": {},
   "outputs": [],
   "source": [
    "# https://stepik.org/lesson/26559/step/3\n",
    "\n",
    "import pandas as pd\n",
    "\n",
    "def centered(test_data: pd.DataFrame, var_names: list) -> pd.DataFrame:\n",
    "    \"\"\"Function for centring values in input DataFrame\n",
    "\n",
    "    Parameters\n",
    "    ----------\n",
    "    test_data: pd.DataFrame\n",
    "        Input pd.DataFrame with some numeric data.\n",
    "        \n",
    "    var_names: list\n",
    "        List with column names of input DataFrame (test_data).\n",
    "    \n",
    "    Returns\n",
    "    -------\n",
    "        Returns a modified DataFrame with the selected columns centered by formula:\n",
    "        x_centered_i = x_i - mean(x)\n",
    "    \"\"\"\n",
    "    \n",
    "    test_data.loc[:, var_names] = test_data[var_names] - test_data[var_names].mean()\n",
    "    return test_data "
   ]
  },
  {
   "cell_type": "code",
   "execution_count": null,
   "metadata": {},
   "outputs": [],
   "source": [
    "# Пример тестового датафрейма\n",
    "test_data = pd.read_csv(\"https://stepic.org/media/attachments/course/524/cen_data.csv\")\n",
    "var_names = [\"X4\", \"X2\", \"X1\"]\n",
    "\n",
    "# Пример запуска функции с тестовым датафреймом:\n",
    "centered(test_data, var_names)"
   ]
  },
  {
   "cell_type": "code",
   "execution_count": null,
   "metadata": {},
   "outputs": [],
   "source": [
    "%%R \n",
    "\n",
    "test_data <- read.csv(\"https://stepic.org/media/attachments/course/524/test_luggage_1.csv\")\n",
    "str(test_data)"
   ]
  },
  {
   "cell_type": "code",
   "execution_count": null,
   "metadata": {},
   "outputs": [],
   "source": [
    "%%R \n",
    "\n",
    "get_features <- function(dataset){\n",
    "  res <- anova(glm(dataset[,1] ~ dataset[,2] + dataset[,3] + dataset[,4] + dataset[,5], \n",
    "                   dataset, family = \"binomial\"), test = \"Chisq\")$`Pr(>Chi)`\n",
    "  if (is.na(any(res < 0.05))){\n",
    "    return(\"Prediction makes no sense\")\n",
    "  } else return(colnames(dataset)[which(res < 0.05)])}\n",
    "\n",
    "# test_data <- read.csv(\"https://stepic.org/media/attachments/course/524/test_luggage_1.csv\")\n",
    "# str(test_data)\n",
    "# get_features(test_data)\n",
    "\n",
    "test_data <- read.csv(\"https://stepic.org/media/attachments/course/524/test_luggage_2.csv\")\n",
    "# str(test_data)\n",
    "get_features(test_data)"
   ]
  },
  {
   "cell_type": "code",
   "execution_count": null,
   "metadata": {},
   "outputs": [],
   "source": [
    "%%R \n",
    "# https://stepik.org/lesson/26559/step/2?unit=8406\n",
    "test_data <- read.csv(\"https://stepik.org/media/attachments/course/524/test_data_01.csv\")\n",
    "test_data <- transform(test_data, x = factor(x), y = factor(y)) \n",
    "\n",
    "get_coefficients <- function(dataset) {\n",
    "    return(exp(glm(y ~ x, dataset, family = \"binomial\")$coefficients))\n",
    "}\n",
    "get_coefficients(test_data)"
   ]
  },
  {
   "cell_type": "code",
   "execution_count": null,
   "metadata": {},
   "outputs": [],
   "source": [
    "# https://stepik.org/lesson/26559/step/2?unit=8406\n",
    "\n",
    "import numpy as np\n",
    "import pandas as pd\n",
    "import statsmodels.api as sm\n",
    "import statsmodels.formula.api as smf\n",
    "\n",
    "def get_coefficients(dataset: pd.DataFrame) -> list:\n",
    "    \"\"\"Function for performing coefficients of linear regression.\n",
    "    \n",
    "    Parameters\n",
    "    ----------\n",
    "    dataset: pd.DataFrame\n",
    "        Input pd.DataFrame with some categorial data.\n",
    "         \n",
    "    Returns\n",
    "    -------\n",
    "        Returns a list with the exponent value of the model coefficients.\n",
    "    \"\"\"\n",
    "    return np.exp(-smf.glm(\"y ~ x\", data = dataset, family=sm.families.Binomial()).fit().params)\n",
    "\n",
    "# Пример тестового датафрейма:\n",
    "test_data = pd.read_csv(\"https://stepik.org/media/attachments/course/524/test_data_01.csv\", dtype=\"category\")\n",
    "\n",
    "# Пример запуска функции с тестовым датафреймом:\n",
    "get_coefficients(test_data)"
   ]
  },
  {
   "cell_type": "code",
   "execution_count": null,
   "metadata": {},
   "outputs": [],
   "source": [
    "%%R\n",
    "# https://stepik.org/lesson/26559/step/5?unit=8406\n",
    "\n",
    "test_data <- read.csv(\"https://stepic.org/media/attachments/course/524/test_data_passangers.csv\")\n",
    "data_for_predict <-read.csv(\"https://stepic.org/media/attachments/course/524/predict_passangers.csv\")\n",
    "\n",
    "most_suspicious <- function(test_data, data_for_predict){\n",
    "  fit <- predict(glm(is_prohibited ~ ., test_data, family = \"binomial\"), newdata = data_for_predict, type='response')\n",
    "  return(data_for_predict[which(fit == max(fit), arr.ind=T), \"passangers\"])\n",
    "}\n",
    "\n",
    "most_suspicious(test_data, data_for_predict)"
   ]
  },
  {
   "cell_type": "code",
   "execution_count": null,
   "metadata": {},
   "outputs": [],
   "source": []
  },
  {
   "cell_type": "code",
   "execution_count": null,
   "metadata": {},
   "outputs": [],
   "source": []
  },
  {
   "cell_type": "code",
   "execution_count": null,
   "metadata": {},
   "outputs": [],
   "source": []
  },
  {
   "cell_type": "code",
   "execution_count": null,
   "metadata": {},
   "outputs": [],
   "source": []
  },
  {
   "cell_type": "markdown",
   "metadata": {},
   "source": [
    "### NEW DATASET "
   ]
  },
  {
   "cell_type": "code",
   "execution_count": null,
   "metadata": {},
   "outputs": [],
   "source": [
    "n = 10\n",
    "a_bar = 5; a_sd = 1\n",
    "b_bar = 5; b_sd = 1\n",
    "df = pd.DataFrame(dict(a=np.random.normal(a_bar, a_sd, size=n),\n",
    "                       b=np.random.normal(b_bar, b_sd, size=n)),\n",
    "                  columns=['a', 'b'])\n",
    "\n",
    "df"
   ]
  },
  {
   "cell_type": "code",
   "execution_count": null,
   "metadata": {},
   "outputs": [],
   "source": [
    "df.max(axis=1)"
   ]
  },
  {
   "cell_type": "code",
   "execution_count": null,
   "metadata": {},
   "outputs": [],
   "source": []
  },
  {
   "cell_type": "code",
   "execution_count": null,
   "metadata": {},
   "outputs": [],
   "source": []
  },
  {
   "cell_type": "markdown",
   "metadata": {},
   "source": [
    "### NEW DATASET "
   ]
  },
  {
   "cell_type": "code",
   "execution_count": null,
   "metadata": {},
   "outputs": [],
   "source": [
    "DATA = \"~/PycharmProjects/Datasets/\"\n",
    "airquality_path = DATA + \"airquality.csv\"\n",
    "airquality = pd.read_csv(airquality_path)"
   ]
  },
  {
   "cell_type": "code",
   "execution_count": null,
   "metadata": {},
   "outputs": [],
   "source": [
    "airquality = airquality.drop(\"Unnamed: 0\", axis=1)"
   ]
  },
  {
   "cell_type": "code",
   "execution_count": null,
   "metadata": {},
   "outputs": [],
   "source": [
    "airquality.head(10)"
   ]
  },
  {
   "cell_type": "code",
   "execution_count": null,
   "metadata": {},
   "outputs": [],
   "source": [
    "airquality_df = airquality.copy()"
   ]
  },
  {
   "cell_type": "code",
   "execution_count": null,
   "metadata": {},
   "outputs": [],
   "source": [
    "airquality_df.loc[airquality_df.Month >= 7]\n",
    "# ИЛИ\n",
    "airquality_df.query(\"Month >= 7\")"
   ]
  },
  {
   "cell_type": "code",
   "execution_count": null,
   "metadata": {},
   "outputs": [],
   "source": [
    "aq_ss = airquality_df.query(\"Month >= 7\")"
   ]
  },
  {
   "cell_type": "code",
   "execution_count": null,
   "metadata": {},
   "outputs": [],
   "source": [
    "aq_ss.groupby(\"Month\").agg({\"Ozone\" : \"count\"})\n",
    "# ИЛИ \n",
    "# airquality_df.query(\"Month >= 7\").groupby(\"Month\").agg({\"Ozone\" : \"count\"})"
   ]
  },
  {
   "cell_type": "code",
   "execution_count": null,
   "metadata": {},
   "outputs": [],
   "source": [
    "sns.boxplot(x=\"Month\", y=\"Ozone\", data=airquality_df)"
   ]
  },
  {
   "cell_type": "markdown",
   "metadata": {},
   "source": [
    "### NEW DATASET"
   ]
  },
  {
   "cell_type": "code",
   "execution_count": null,
   "metadata": {},
   "outputs": [],
   "source": [
    "DATA = \"~/PycharmProjects/Datasets/\"\n",
    "iris_path = DATA + \"iris.csv\"\n",
    "iris = pd.read_csv(iris_path, index_col=0)"
   ]
  },
  {
   "cell_type": "code",
   "execution_count": null,
   "metadata": {},
   "outputs": [],
   "source": [
    "iris.head(10)"
   ]
  },
  {
   "cell_type": "code",
   "execution_count": null,
   "metadata": {},
   "outputs": [],
   "source": [
    "iris.describe()"
   ]
  },
  {
   "cell_type": "code",
   "execution_count": null,
   "metadata": {},
   "outputs": [],
   "source": [
    "iris.agg(\"std\")"
   ]
  },
  {
   "cell_type": "code",
   "execution_count": null,
   "metadata": {},
   "outputs": [],
   "source": [
    "iris[iris.Species == \"virginica\"].median().sort_values(ascending=False)"
   ]
  },
  {
   "cell_type": "code",
   "execution_count": null,
   "metadata": {},
   "outputs": [],
   "source": [
    "sns.displot(data=iris, x=\"Sepal.Length\", hue=\"Species\", multiple=\"stack\")"
   ]
  },
  {
   "cell_type": "code",
   "execution_count": null,
   "metadata": {},
   "outputs": [],
   "source": [
    "iris_df = iris[iris.Species != \"setosa\"]"
   ]
  },
  {
   "cell_type": "code",
   "execution_count": null,
   "metadata": {},
   "outputs": [],
   "source": [
    "sns.histplot(iris_df, x=\"Sepal.Length\", kde=True, hue=\"Species\")"
   ]
  },
  {
   "cell_type": "code",
   "execution_count": null,
   "metadata": {},
   "outputs": [],
   "source": [
    "g = sns.FacetGrid(iris_df, col=\"Species\")\n",
    "g.map(sns.histplot, \"Sepal.Length\", kde=True, bins=5)\n",
    "g.add_legend()"
   ]
  },
  {
   "cell_type": "markdown",
   "metadata": {},
   "source": [
    "https://seaborn.pydata.org/generated/seaborn.FacetGrid.html#seaborn.FacetGrid - IMBA"
   ]
  },
  {
   "cell_type": "code",
   "execution_count": null,
   "metadata": {},
   "outputs": [],
   "source": [
    "sns.histplot(iris_df, x=\"Sepal.Length\", hue=\"Species\", element=\"poly\") "
   ]
  },
  {
   "cell_type": "code",
   "execution_count": null,
   "metadata": {},
   "outputs": [],
   "source": [
    "sns.displot(iris_df, x=\"Sepal.Length\", hue=\"Species\", kind=\"kde\")"
   ]
  },
  {
   "cell_type": "code",
   "execution_count": null,
   "metadata": {},
   "outputs": [],
   "source": [
    "sns.kdeplot(data=iris_df, x=\"Sepal.Length\", hue=\"Species\", fill=True, common_norm=False, alpha=.5, linewidth=1)"
   ]
  },
  {
   "cell_type": "code",
   "execution_count": null,
   "metadata": {},
   "outputs": [],
   "source": [
    "sns.set_theme(style=\"darkgrid\")\n",
    "sns.boxplot(y=\"Sepal.Length\", x=\"Species\", data=iris_df)"
   ]
  },
  {
   "cell_type": "code",
   "execution_count": null,
   "metadata": {},
   "outputs": [],
   "source": [
    "# Perform the Shapiro-Wilk test for normality.\n",
    "shapiro_test = stats.shapiro(iris_df[\"Sepal.Length\"])\n",
    "shapiro_test"
   ]
  },
  {
   "cell_type": "code",
   "execution_count": null,
   "metadata": {},
   "outputs": [],
   "source": [
    "shapiro_test_1 = stats.shapiro(iris_df[iris_df.Species == \"versicolor\"][\"Sepal.Length\"])\n",
    "shapiro_test_2 = stats.shapiro(iris_df[iris_df.Species == \"virginica\"][\"Sepal.Length\"])\n",
    "[shapiro_test_1, shapiro_test_2]"
   ]
  },
  {
   "cell_type": "code",
   "execution_count": null,
   "metadata": {},
   "outputs": [],
   "source": [
    "# Perform Bartlett’s test for equal variances.\n",
    "# Гомогенность дисперсии проверяем, короче.\n",
    "stat, p = st.bartlett(iris_df[iris_df.Species == \"virginica\"][\"Sepal.Length\"], \n",
    "                               iris_df[iris_df.Species == \"versicolor\"][\"Sepal.Length\"])\n",
    "print(\"The test statistic is {}. \\nThe p-value of the test is {}.\".format(stat, p))"
   ]
  },
  {
   "cell_type": "code",
   "execution_count": null,
   "metadata": {},
   "outputs": [],
   "source": [
    "# Calculate the T-test for the means of two independent samples of scores.\n",
    "t_test = st.ttest_ind(iris_df[iris_df.Species == \"virginica\"][\"Sepal.Length\"], \n",
    "                               iris_df[iris_df.Species == \"versicolor\"][\"Sepal.Length\"]) #, equal_var=True\n",
    "t_test"
   ]
  },
  {
   "cell_type": "code",
   "execution_count": null,
   "metadata": {},
   "outputs": [],
   "source": [
    "# Проверяем гипотезу о том, что среднее значение длины чашелистика в генеральной совокупности (датасете) равно 8.\n",
    "# Для этого используем одновыборочный Т-тест. \n",
    "t_test = st.ttest_1samp(iris_df[\"Sepal.Length\"], 8) \n",
    "t_test"
   ]
  },
  {
   "cell_type": "markdown",
   "metadata": {},
   "source": [
    "Как и следовало ожидать - нет, среднее значение \"Sepal.Length\" не равно 8."
   ]
  },
  {
   "cell_type": "code",
   "execution_count": null,
   "metadata": {},
   "outputs": [],
   "source": [
    "import numpy as np\n",
    "import scipy.stats\n",
    "\n",
    "# Самописная фукнция с просторов интернета, которая вычисляет доверительный интервал. Полезно!\n",
    "def mean_confidence_interval(data, confidence=0.95):\n",
    "    a = 1.0 * np.array(data)\n",
    "    n = len(a)\n",
    "    m, se = np.mean(a), scipy.stats.sem(a)\n",
    "    h = se * scipy.stats.t.ppf((1 + confidence) / 2., n-1)\n",
    "    return m, m-h, m+h"
   ]
  },
  {
   "cell_type": "code",
   "execution_count": null,
   "metadata": {},
   "outputs": [],
   "source": [
    "mean_confidence_interval(iris_df[\"Sepal.Length\"])"
   ]
  },
  {
   "cell_type": "code",
   "execution_count": null,
   "metadata": {},
   "outputs": [],
   "source": [
    "# Расчёт доверительных интервалов\n",
    "import numpy as np, scipy.stats as st\n",
    "\n",
    "a = iris_df[iris_df.Species == \"versicolor\"][\"Sepal.Length\"]\n",
    "b = iris_df[iris_df.Species == \"virginica\"][\"Sepal.Length\"]\n",
    "\n",
    "print(st.t.interval(0.95, len(a)-1, loc=np.mean(a), scale=st.sem(a)),\n",
    "      st.t.interval(0.95, len(b)-1, loc=np.mean(b), scale=st.sem(b)))\n",
    "# https://docs.scipy.org/doc/scipy/reference/generated/scipy.stats.t.html?highlight=scipy%20stats%20t#scipy.stats.t"
   ]
  },
  {
   "cell_type": "code",
   "execution_count": null,
   "metadata": {},
   "outputs": [],
   "source": [
    "print(mean_confidence_interval(a),\n",
    "      mean_confidence_interval(b))"
   ]
  },
  {
   "cell_type": "markdown",
   "metadata": {},
   "source": [
    "Вывод - самописная функция повторяет метод .interval из библиотеки scipy.\n",
    "\n",
    "Отлично!"
   ]
  },
  {
   "cell_type": "code",
   "execution_count": null,
   "metadata": {},
   "outputs": [],
   "source": [
    "print(a.quantile([0.05, 0.95]), \"\\n\\n\",\n",
    "      b.quantile([0.05, 0.95]))\n",
    "print(\"\\n\\n\")\n",
    "print(iris_df[\"Sepal.Length\"].quantile([0.05, 0.95]))"
   ]
  },
  {
   "cell_type": "markdown",
   "metadata": {},
   "source": [
    "Итого - метод квантиль какой-то странный. Что-то тут не так, очевидно. Лучше его не использовать. \n",
    "\n",
    "Надо бы разобраться, почему такая разница."
   ]
  },
  {
   "cell_type": "code",
   "execution_count": null,
   "metadata": {},
   "outputs": [],
   "source": [
    "fig, ax = plt.subplots(figsize=(4, 4))\n",
    "\n",
    "stats.probplot(iris_df[\"Sepal.Length\"], plot=ax)\n",
    "\n",
    "plt.tight_layout()\n",
    "plt.show()"
   ]
  },
  {
   "cell_type": "code",
   "execution_count": null,
   "metadata": {},
   "outputs": [],
   "source": [
    "# Парный Т-тест\n",
    "pt_test = scipy.stats.ttest_rel(iris_df[\"Sepal.Length\"], iris_df[\"Sepal.Width\"])\n",
    "pt_test"
   ]
  },
  {
   "cell_type": "markdown",
   "metadata": {},
   "source": [
    "Для визуализации \"планок погрешностей\" можно использовать:\n",
    "\n",
    "- matplotlib, а именно matplotlib.pyplot.errorbar: https://matplotlib.org/3.1.1/api/_as_gen/matplotlib.pyplot.errorbar.html\n",
    "\n",
    "- seaborn.pointplot: https://seaborn.pydata.org/generated/seaborn.pointplot.html"
   ]
  },
  {
   "cell_type": "code",
   "execution_count": null,
   "metadata": {},
   "outputs": [],
   "source": [
    "iris_df.Species.unique()"
   ]
  },
  {
   "cell_type": "code",
   "execution_count": null,
   "metadata": {},
   "outputs": [],
   "source": [
    "a = iris_df[iris_df.Species == \"versicolor\"][\"Sepal.Length\"].mean()\n",
    "a"
   ]
  },
  {
   "cell_type": "code",
   "execution_count": null,
   "metadata": {},
   "outputs": [],
   "source": [
    "# Хехе, получилось!\n",
    "a_origin = iris_df[iris_df.Species == \"versicolor\"][\"Sepal.Length\"]\n",
    "a = iris_df[iris_df.Species == \"versicolor\"][\"Sepal.Length\"].mean()\n",
    "b_origin = iris_df[iris_df.Species == \"virginica\"][\"Sepal.Length\"]\n",
    "b = iris_df[iris_df.Species == \"virginica\"][\"Sepal.Length\"].mean()\n",
    "\n",
    "plt.errorbar(x=iris_df.Species.unique(), y=[a, b], \n",
    "             yerr=[a-st.t.interval(0.95, len(a_origin)-1, loc=np.mean(a_origin), scale=st.sem(a_origin)), \n",
    "                  b-st.t.interval(0.95, len(b_origin)-1, loc=np.mean(b_origin), scale=st.sem(b_origin))],\n",
    "             data=iris_df, fmt=\"o\", markersize=8, capsize=10) # fmt=\"-o\", \"--o\", \".k\""
   ]
  },
  {
   "cell_type": "code",
   "execution_count": null,
   "metadata": {},
   "outputs": [],
   "source": [
    "sns.set_theme(style=\"darkgrid\")\n",
    "ax = sns.pointplot(x=\"Species\", y=\"Sepal.Length\", data=iris_df, join=False, capsize=.1)"
   ]
  },
  {
   "cell_type": "code",
   "execution_count": null,
   "metadata": {},
   "outputs": [],
   "source": [
    "# Непараметрический тест на нормальность (Манна-Уитни), в англоязычной литературе - Уилкоксона\n",
    "wtest = scipy.stats.wilcoxon(iris_df[iris_df.Species == \"virginica\"][\"Sepal.Length\"], \n",
    "                            iris_df[iris_df.Species == \"versicolor\"][\"Sepal.Length\"])\n",
    "print(wtest)\n",
    "mw_test = scipy.stats.mannwhitneyu(iris_df[iris_df.Species == \"virginica\"][\"Sepal.Length\"], \n",
    "                                   iris_df[iris_df.Species == \"versicolor\"][\"Sepal.Length\"])\n",
    "print(mw_test)\n",
    "# Получается, что реализации этих тестов различаются в R и Python. Подробности по ссылке:\n",
    "# https://stackoverflow.com/questions/33579785/difference-between-wilcoxon-test-in-r-and-python\n",
    "# Вывод - Можно использовать и Python, но если p-value различаются, то лучше полагаться на R.\n",
    "# Однако, немаловажно отметить, что тест Бартлетта и Т-тест совпадают. "
   ]
  },
  {
   "cell_type": "code",
   "execution_count": null,
   "metadata": {},
   "outputs": [],
   "source": [
    "model_iris = smf.ols('iris[\"Sepal.Width\"] ~ Species', data=iris).fit()\n",
    "model_iris.summary() if str(input()) == \"1\" else print(model_iris.summary())"
   ]
  },
  {
   "cell_type": "code",
   "execution_count": null,
   "metadata": {},
   "outputs": [],
   "source": [
    "aov_table_iris = sm.stats.anova_lm(model_iris)\n",
    "aov_table_iris"
   ]
  },
  {
   "cell_type": "code",
   "execution_count": null,
   "metadata": {},
   "outputs": [],
   "source": [
    "tukey_test_result_iris = sm.stats.multicomp.pairwise_tukeyhsd(endog=iris[\"Sepal.Width\"], groups=iris[\"Species\"])\n",
    "print(tukey_test_result_iris)"
   ]
  },
  {
   "cell_type": "code",
   "execution_count": null,
   "metadata": {},
   "outputs": [],
   "source": [
    "# https://stepik.org/lesson/11508/step/15?unit=2531\n",
    "sns.lmplot(x=\"Sepal.Width\", y=\"Petal.Width\", hue=\"Species\", data=iris)"
   ]
  },
  {
   "cell_type": "code",
   "execution_count": null,
   "metadata": {},
   "outputs": [],
   "source": []
  },
  {
   "cell_type": "code",
   "execution_count": null,
   "metadata": {},
   "outputs": [],
   "source": []
  },
  {
   "cell_type": "code",
   "execution_count": null,
   "metadata": {},
   "outputs": [],
   "source": [
    "# import seaborn as sns\n",
    "# import statsmodels.api as sm\n",
    "\n",
    "# iris = sns.load_dataset(\"iris\")\n",
    "# tukey_test_result_iris = sm.stats.multicomp.pairwise_tukeyhsd(endog=iris.sepal_width, groups=iris.species)\n",
    "# print(tukey_test_result_iris)"
   ]
  },
  {
   "cell_type": "code",
   "execution_count": null,
   "metadata": {},
   "outputs": [],
   "source": [
    "# DATA =  \"~/Downloads/\"\n",
    "# path = DATA + \"dataset_11504_15 (1).txt\"\n",
    "# df = pd.read_csv(path, sep=\" \", header=None)\n",
    "# df.columns = [\"V1\", \"V2\"]\n",
    "# df.head()"
   ]
  },
  {
   "cell_type": "code",
   "execution_count": null,
   "metadata": {},
   "outputs": [],
   "source": [
    "# stat, p = scipy.stats.bartlett(df[df.V2 == 1][\"V1\"], \n",
    "#                                df[df.V2 == 2][\"V1\"])\n",
    "# print(\"The test statistic is {}. \\nThe p-value of the test is {}.\".format(stat, p))"
   ]
  },
  {
   "cell_type": "code",
   "execution_count": null,
   "metadata": {},
   "outputs": [],
   "source": [
    "# wtest = scipy.stats.wilcoxon(df[df.V2 == 1][\"V1\"], \n",
    "#                              df[df.V2 == 2][\"V1\"], mode='approx')\n",
    "# wtest"
   ]
  },
  {
   "cell_type": "code",
   "execution_count": null,
   "metadata": {},
   "outputs": [],
   "source": [
    "# scipy.stats.wilcoxon(df[df.V2 == 1][\"V1\"], df[df.V2 == 2][\"V1\"])[1]"
   ]
  },
  {
   "cell_type": "code",
   "execution_count": null,
   "metadata": {},
   "outputs": [],
   "source": [
    "# # Предполагается, что Вы уже скачали необходимый датасет и знаете путь до него\n",
    "# import pandas as pd\n",
    "# import scipy.stats\n",
    "\n",
    "# DATA =  \"~/Downloads/\"\n",
    "# path = DATA + \"dataset_11504_15.txt\"\n",
    "# df = pd.read_csv(path, sep=\" \", header=None)\n",
    "# df.columns = [\"V1\", \"V2\"]\n",
    "# print(scipy.stats.wilcoxon(df[df.V2 == 1][\"V1\"], df[df.V2 == 2][\"V1\"])[1]) if (scipy.stats.bartlett(df[df.V2 == 1][\"V1\"], df[df.V2 == 2][\"V1\"])[1] < 0.05) else print(scipy.stats.ttest_ind(df[df.V2 == 1][\"V1\"], df[df.V2 == 2][\"V1\"])[1])"
   ]
  },
  {
   "cell_type": "code",
   "execution_count": null,
   "metadata": {},
   "outputs": [],
   "source": [
    "# # Предполагается, что Вы уже скачали необходимый датасет и знаете путь до него\n",
    "# import pandas as pd\n",
    "# import scipy.stats\n",
    "\n",
    "# DATA =  \"~/Downloads/\"\n",
    "# path = DATA + \"dataset_11504_16.txt\"\n",
    "# df = pd.read_csv(path, sep=\" \", header=None)\n",
    "# df.columns = [\"V1\", \"V2\"]\n",
    "# print(\"{} {} {}\".format(df.V1.mean(),df.V2.mean(),scipy.stats.ttest_ind(df.V1, df.V2)[1])) if (scipy.stats.ttest_ind(df.V1, df.V2)[1] < 0.05) else print(\"The difference is not significant\")"
   ]
  },
  {
   "cell_type": "markdown",
   "metadata": {},
   "source": [
    "### NEW DATASET"
   ]
  },
  {
   "cell_type": "code",
   "execution_count": null,
   "metadata": {},
   "outputs": [],
   "source": [
    "DATA = \"~/PycharmProjects/Datasets/\"\n",
    "swiss_path = DATA + \"swiss.csv\"\n",
    "swiss = pd.read_csv(swiss_path, index_col=0)\n",
    "swiss.head()"
   ]
  },
  {
   "cell_type": "code",
   "execution_count": null,
   "metadata": {},
   "outputs": [],
   "source": [
    "model_swiss = smf.ols(\"Fertility ~ Examination + Catholic\", swiss)\n",
    "\n",
    "res = model_swiss.fit()\n",
    "\n",
    "print(res.params)\n",
    "print(res.summary())"
   ]
  },
  {
   "cell_type": "code",
   "execution_count": null,
   "metadata": {},
   "outputs": [],
   "source": [
    "model_swiss_2 = smf.ols(\"Fertility ~ Examination * Catholic\", swiss)\n",
    "\n",
    "res_2 = model_swiss_2.fit()\n",
    "\n",
    "print(res_2.params)\n",
    "print(res_2.summary())"
   ]
  },
  {
   "cell_type": "code",
   "execution_count": null,
   "metadata": {},
   "outputs": [],
   "source": [
    "# Доверительные интервалы для оценки коэффициентов: 0 - 2.5%; 1 - 97.5%\n",
    "res_2.conf_int()"
   ]
  },
  {
   "cell_type": "markdown",
   "metadata": {},
   "source": [
    "Только в Examination в доверительный интервал не входит 0 - это означает, что этот параметр надёжно предсказывает результат."
   ]
  },
  {
   "cell_type": "code",
   "execution_count": null,
   "metadata": {},
   "outputs": [],
   "source": [
    "swiss_df = swiss.copy()"
   ]
  },
  {
   "cell_type": "code",
   "execution_count": null,
   "metadata": {},
   "outputs": [],
   "source": [
    "swiss_df[\"religious\"] = np.where(swiss_df[\"Catholic\"] > 60, \"Lots\", \"Few\")"
   ]
  },
  {
   "cell_type": "code",
   "execution_count": null,
   "metadata": {},
   "outputs": [],
   "source": [
    "swiss_df.head()"
   ]
  },
  {
   "cell_type": "code",
   "execution_count": null,
   "metadata": {},
   "outputs": [],
   "source": [
    "model_swiss_3 = smf.ols(\"Fertility ~ Examination + religious\", swiss_df)\n",
    "\n",
    "res_3 = model_swiss_3.fit()\n",
    "\n",
    "print(res_3.params)\n",
    "print(\"---------------\")\n",
    "print(res_3.summary())\n",
    "print(\"---------------\")\n",
    "print(res_3.conf_int())"
   ]
  },
  {
   "cell_type": "code",
   "execution_count": null,
   "metadata": {},
   "outputs": [],
   "source": [
    "model_swiss_4 = smf.ols(\"Fertility ~ Examination * religious\", swiss_df)\n",
    "\n",
    "res_4 = model_swiss_4.fit()\n",
    "\n",
    "print(res_4.params)\n",
    "print(\"---------------\")\n",
    "print(res_4.summary())\n",
    "print(\"---------------\")\n",
    "print(res_4.conf_int())\n",
    "# Все интервалы, которые не пересекают 0 - имеют статистическую значимость. И чем дальше от 0\n",
    "# не важно в какую сторону, тем сильнее. Значение P>|t| до 0.1 представляет собой статистическую тенденцию.\n",
    "# Хоть важность и не велика, но это знак, что нужно обратить внимание на эту переменную."
   ]
  },
  {
   "cell_type": "code",
   "execution_count": null,
   "metadata": {},
   "outputs": [],
   "source": [
    "sns.lmplot(x=\"Examination\", y=\"Fertility\", data=swiss_df)"
   ]
  },
  {
   "cell_type": "code",
   "execution_count": null,
   "metadata": {},
   "outputs": [],
   "source": [
    "sns.regplot(x=\"Examination\", y=\"Fertility\", data=swiss_df, order=5, ci=None)"
   ]
  },
  {
   "cell_type": "code",
   "execution_count": null,
   "metadata": {},
   "outputs": [],
   "source": [
    "from plotnine import ggplot, geom_point, geom_smooth, aes, stat_smooth, facet_wrap\n",
    "\n",
    "ggplot(swiss_df, aes(x = \"Examination\", y = \"Fertility\")) + geom_point() "
   ]
  },
  {
   "cell_type": "code",
   "execution_count": null,
   "metadata": {},
   "outputs": [],
   "source": [
    "ggplot(swiss_df, aes(x = \"Examination\", y = \"Fertility\")) + geom_point() + geom_smooth(span=.4)"
   ]
  },
  {
   "cell_type": "code",
   "execution_count": null,
   "metadata": {},
   "outputs": [],
   "source": [
    "sns.set_theme(style=\"darkgrid\")\n",
    "sns.relplot(x=\"Examination\", y=\"Fertility\", hue=\"religious\", palette=\"muted\", height=6, data=swiss_df)"
   ]
  },
  {
   "cell_type": "code",
   "execution_count": null,
   "metadata": {},
   "outputs": [],
   "source": [
    "ggplot(swiss_df, aes(x = \"Examination\", y = \"Fertility\", color = \"religious\")) + geom_point() "
   ]
  },
  {
   "cell_type": "code",
   "execution_count": null,
   "metadata": {},
   "outputs": [],
   "source": [
    "ggplot(swiss_df, aes(x = \"Examination\", y = \"Fertility\", color = \"religious\")) + geom_point() + geom_smooth(span=.6)"
   ]
  },
  {
   "cell_type": "code",
   "execution_count": null,
   "metadata": {},
   "outputs": [],
   "source": [
    "ggplot(swiss_df, aes(x = \"Examination\", y = \"Fertility\", color = \"religious\")) + \\\n",
    "geom_point() + geom_smooth(span=.6, method='lm')"
   ]
  },
  {
   "cell_type": "code",
   "execution_count": null,
   "metadata": {},
   "outputs": [],
   "source": [
    "sns.lmplot(x=\"Examination\", y=\"Fertility\", hue=\"religious\", palette=\"muted\", height=6, data=swiss_df)"
   ]
  },
  {
   "cell_type": "code",
   "execution_count": null,
   "metadata": {},
   "outputs": [],
   "source": [
    "swiss_df = swiss_df.rename(columns={\"Infant.Mortality\" : \"Infant_Mortality\"})\n",
    "swiss_df.head()"
   ]
  },
  {
   "cell_type": "code",
   "execution_count": null,
   "metadata": {},
   "outputs": [],
   "source": [
    "model_swiss_5 = smf.ols(\"Fertility ~ Examination * religious * Infant_Mortality\", swiss_df)\n",
    "\n",
    "res_5 = model_swiss_5.fit()\n",
    "\n",
    "print(res_5.params)\n",
    "print(\"---------------\")\n",
    "print(res_5.summary())\n",
    "print(\"---------------\")\n",
    "print(res_5.conf_int())"
   ]
  },
  {
   "cell_type": "code",
   "execution_count": null,
   "metadata": {},
   "outputs": [],
   "source": [
    "DATA = \"~/PycharmProjects/Datasets/\"\n",
    "swiss_path = DATA + \"swiss.csv\"\n",
    "swiss = pd.read_csv(swiss_path, index_col=0)\n",
    "swiss = swiss.rename(columns={\"Infant.Mortality\" : \"Infant_Mortality\"})\n",
    "swiss.head()"
   ]
  },
  {
   "cell_type": "code",
   "execution_count": null,
   "metadata": {},
   "outputs": [],
   "source": [
    "model_swiss_full = smf.ols(\"Fertility ~ Infant_Mortality + Education + Catholic + Agriculture + Examination\", swiss)\n",
    "res_full = model_swiss_full.fit()\n",
    "print(res_full.summary())\n",
    "print(\"\\n------------------------------------\\n\")\n",
    "model_swiss_reduced = smf.ols(\"Fertility ~ Infant_Mortality + Education + Catholic + Examination\", swiss)\n",
    "res_reduced = model_swiss_reduced.fit()\n",
    "print(res_reduced.summary())"
   ]
  },
  {
   "cell_type": "code",
   "execution_count": null,
   "metadata": {},
   "outputs": [],
   "source": [
    "import statsmodels.api as sm\n",
    "from statsmodels.formula.api import ols\n",
    "\n",
    "table = sm.stats.anova_lm(res_reduced, res_full) \n",
    "table\n",
    "# РАБОТАЕТ!"
   ]
  },
  {
   "cell_type": "markdown",
   "metadata": {},
   "source": [
    "Результаты таблицы показывают, что так как F-значение высокое, то доля дисперсии, объясняемая полной моделью значимо больше, чем объясняемая неполной. Значит - полная лучше."
   ]
  },
  {
   "cell_type": "code",
   "execution_count": null,
   "metadata": {},
   "outputs": [],
   "source": [
    "table = sm.stats.anova_lm(res_full, res_reduced) \n",
    "table\n",
    "# Неудачный вариант, см. комментарий ниже."
   ]
  },
  {
   "cell_type": "markdown",
   "metadata": {},
   "source": [
    "### Важно отметить, что в Python+statsmodels в ANOVA важен порядок передачи моделей. В R - без разницы. А тут результат может и не посчитаться."
   ]
  },
  {
   "cell_type": "code",
   "execution_count": null,
   "metadata": {},
   "outputs": [],
   "source": [
    "model_swiss_reduced_2 = smf.ols(\"Fertility ~ Infant_Mortality + Education + Catholic + Agriculture\", swiss)\n",
    "res_reduced_2 = model_swiss_reduced_2.fit()\n",
    "print(res_reduced_2.summary())"
   ]
  },
  {
   "cell_type": "code",
   "execution_count": null,
   "metadata": {},
   "outputs": [],
   "source": [
    "table = sm.stats.anova_lm(res_reduced_2, res_full) \n",
    "table\n",
    "# Р-уровень значимости высокий - значит полная модель не лучше, чем урезанная."
   ]
  },
  {
   "cell_type": "markdown",
   "metadata": {},
   "source": [
    "P-уровень значимости высокий - значит полная модель не лучше, чем урезанная и они примерно одинаково объясняют дисперсию в результатах."
   ]
  },
  {
   "cell_type": "code",
   "execution_count": null,
   "metadata": {},
   "outputs": [],
   "source": [
    "pd.plotting.scatter_matrix(swiss, alpha=1, figsize=(20,15))"
   ]
  },
  {
   "cell_type": "code",
   "execution_count": null,
   "metadata": {},
   "outputs": [],
   "source": [
    "sns.scatterplot(x = \"Examination\", y = \"Education\", data = swiss)"
   ]
  },
  {
   "cell_type": "code",
   "execution_count": null,
   "metadata": {},
   "outputs": [],
   "source": [
    "sns.lmplot(x = \"Examination\", y = \"Education\", data = swiss)"
   ]
  },
  {
   "cell_type": "code",
   "execution_count": null,
   "metadata": {},
   "outputs": [],
   "source": [
    "swiss[\"Examination\"].hist(bins=30)"
   ]
  },
  {
   "cell_type": "code",
   "execution_count": null,
   "metadata": {},
   "outputs": [],
   "source": [
    "swiss[\"Education\"].hist(bins=30)"
   ]
  },
  {
   "cell_type": "code",
   "execution_count": null,
   "metadata": {},
   "outputs": [],
   "source": [
    "np.log(swiss[\"Education\"]).hist(bins=30)"
   ]
  },
  {
   "cell_type": "code",
   "execution_count": null,
   "metadata": {},
   "outputs": [],
   "source": [
    "ggplot(swiss_df, aes(x = \"Examination\", y = \"Education\")) + geom_point() + geom_smooth(span=.4)"
   ]
  },
  {
   "cell_type": "code",
   "execution_count": null,
   "metadata": {},
   "outputs": [],
   "source": [
    "model_swiss = smf.ols(\"Education ~ Examination\", swiss)\n",
    "res_model_swiss = model_swiss.fit()\n",
    "print(res_model_swiss.summary())"
   ]
  },
  {
   "cell_type": "code",
   "execution_count": null,
   "metadata": {},
   "outputs": [],
   "source": [
    "swiss[\"Examination_squared\"] = swiss[\"Examination\"] ** 2\n",
    "swiss.head()"
   ]
  },
  {
   "cell_type": "code",
   "execution_count": null,
   "metadata": {},
   "outputs": [],
   "source": [
    "model_swiss_2 = smf.ols(\"Education ~ Examination + Examination_squared\", swiss)\n",
    "res_model_swiss_2 = model_swiss_2.fit()\n",
    "print(res_model_swiss_2.summary())"
   ]
  },
  {
   "cell_type": "code",
   "execution_count": null,
   "metadata": {},
   "outputs": [],
   "source": [
    "table_swiss_anova = sm.stats.anova_lm(res_model_swiss, res_model_swiss_2) \n",
    "table_swiss_anova\n",
    "# Индекс 0 - первая модель; 1 - вторая"
   ]
  },
  {
   "cell_type": "code",
   "execution_count": null,
   "metadata": {},
   "outputs": [],
   "source": [
    "swiss[\"fv_model_1\"] = res_model_swiss.fittedvalues\n",
    "swiss[\"resid_model_1\"] = res_model_swiss.resid\n",
    "\n",
    "swiss[\"fv_model_2\"] = res_model_swiss_2.fittedvalues\n",
    "swiss[\"resid_model_2\"] = res_model_swiss_2.resid\n",
    "swiss[\"obs_number\"] = [i for i in range(1, len(swiss.index)+1)]\n",
    "\n",
    "swiss.head()"
   ]
  },
  {
   "cell_type": "code",
   "execution_count": null,
   "metadata": {},
   "outputs": [],
   "source": [
    "(ggplot(swiss, aes(x = \"Examination\", y = \"Education\")) + geom_point(size = 1) + \\\n",
    " geom_line(aes(x = \"Examination\", y = \"fv_model_1\"), color = 'red'))"
   ]
  },
  {
   "cell_type": "code",
   "execution_count": null,
   "metadata": {},
   "outputs": [],
   "source": [
    "sns.lmplot(x = \"Examination\", y = \"Education\", data = swiss).fig.set_size_inches(10,10)"
   ]
  },
  {
   "cell_type": "markdown",
   "metadata": {},
   "source": [
    "Как строить нелинейную регрессионную прямую.\n",
    "\n",
    "https://stackoverflow.com/questions/52471649/sklearn-polynomial-regression\n",
    "\n",
    "https://stackoverflow.com/questions/46497892/non-linear-regression-in-seaborn-python\n",
    "\n",
    "https://scipy-cookbook.readthedocs.io/items/robust_regression.html"
   ]
  },
  {
   "cell_type": "code",
   "execution_count": null,
   "metadata": {},
   "outputs": [],
   "source": [
    "# Пример построения нескольких регрессионных прямых на графике\n",
    "# https://stackoverflow.com/questions/36026149/plotting-multiple-linear-regressions-on-the-same-seaborn-plot\n",
    "\n",
    "# x1 = np.random.randn(50)\n",
    "# y1 = np.random.randn(50) * 100\n",
    "# x2 = np.random.randn(50)\n",
    "# y2 = np.random.randn(50) * 100\n",
    "\n",
    "# df1 = pd.DataFrame({'x1':x1, 'y1': y1})\n",
    "# df2 = pd.DataFrame({'x2':x2, 'y2': y2})\n",
    "\n",
    "# df = pd.concat([df1.rename(columns={'x1':'x','y1':'y'})\n",
    "#                 .join(pd.Series(['df1']*len(df1), name='df')), \n",
    "#                 df2.rename(columns={'x2':'x','y2':'y'})\n",
    "#                 .join(pd.Series(['df2']*len(df2), name='df'))],\n",
    "#                ignore_index=True)\n",
    "\n",
    "# pal = dict(df1=\"red\", df2=\"blue\")\n",
    "# g = sns.FacetGrid(df, hue='df', palette=pal, height=5);\n",
    "# g.map(plt.scatter, \"x\", \"y\", s=50, alpha=.7, linewidth=.5, edgecolor=\"white\")\n",
    "# g.map(sns.regplot, \"x\", \"y\", ci=None, robust=1)\n",
    "# g.add_legend();"
   ]
  },
  {
   "cell_type": "code",
   "execution_count": null,
   "metadata": {},
   "outputs": [],
   "source": [
    "# g = sns.FacetGrid(swiss, height=5);\n",
    "# g.map(plt.scatter, \"Examination\", \"Education\", s=50, alpha=.7, linewidth=.5, edgecolor=\"white\")\n",
    "# g.map(sns.regplot, \"Examination\", \"fv_model_1\", ci=None, robust=1)\n",
    "# g.add_legend();"
   ]
  },
  {
   "cell_type": "code",
   "execution_count": null,
   "metadata": {},
   "outputs": [],
   "source": [
    "# https://stackoverflow.com/questions/52471649/sklearn-polynomial-regression\n",
    "z = np.polyfit(swiss[\"Examination\"], swiss[\"Education\"], 3)\n",
    "p = np.poly1d(z)\n",
    "xp = np.linspace(swiss[\"Examination\"].min(), swiss[\"Education\"].max(), 100)\n",
    "plt.plot(swiss[\"Examination\"], swiss[\"Education\"], '.', xp, p(xp), '-')\n",
    "plt.plot(swiss[\"Examination\"], swiss[\"fv_model_1\"])"
   ]
  },
  {
   "cell_type": "code",
   "execution_count": null,
   "metadata": {},
   "outputs": [],
   "source": [
    "(ggplot(swiss, aes(x = \"Examination\", y = \"Education\")) + geom_point(size = 1) + \\\n",
    "geom_line(aes(x = \"Examination\", y = \"fv_model_1\"), color = 'red') + \\\n",
    "geom_line(aes(x = \"Examination\", y = \"fv_model_2\"), color = 'blue'))"
   ]
  },
  {
   "cell_type": "code",
   "execution_count": null,
   "metadata": {},
   "outputs": [],
   "source": [
    "# График остатков! Пригодился!\n",
    "sns.residplot(x=\"fv_model_1\", y=\"resid_model_1\", data=swiss)"
   ]
  },
  {
   "cell_type": "code",
   "execution_count": null,
   "metadata": {},
   "outputs": [],
   "source": [
    "sns.residplot(x=\"fv_model_2\", y=\"resid_model_2\", data=swiss)"
   ]
  },
  {
   "cell_type": "code",
   "execution_count": null,
   "metadata": {},
   "outputs": [],
   "source": [
    "swiss.head()"
   ]
  },
  {
   "cell_type": "code",
   "execution_count": null,
   "metadata": {},
   "outputs": [],
   "source": [
    "(ggplot(swiss, aes(x = \"obs_number\", y = \"resid_model_1\")) + geom_point(size = 2) + geom_smooth(span=.40))"
   ]
  },
  {
   "cell_type": "code",
   "execution_count": null,
   "metadata": {},
   "outputs": [],
   "source": [
    "(ggplot(swiss, aes(x = \"obs_number\", y = \"resid_model_2\")) + geom_point(size = 2) + geom_smooth(span=.40))"
   ]
  },
  {
   "cell_type": "code",
   "execution_count": null,
   "metadata": {},
   "outputs": [],
   "source": [
    "sns.histplot(data=swiss, x=\"resid_model_1\", multiple=\"dodge\", shrink=.8)"
   ]
  },
  {
   "cell_type": "code",
   "execution_count": null,
   "metadata": {},
   "outputs": [],
   "source": [
    "fig, ax = plt.subplots(figsize=(8, 8))\n",
    "\n",
    "stats.probplot(swiss[\"resid_model_1\"], plot=ax)\n",
    "\n",
    "plt.tight_layout()\n",
    "plt.show()"
   ]
  },
  {
   "cell_type": "code",
   "execution_count": null,
   "metadata": {},
   "outputs": [],
   "source": [
    "# Perform the Shapiro-Wilk test for normality.\n",
    "shapiro_test = stats.shapiro(swiss[\"resid_model_1\"])\n",
    "shapiro_test\n",
    "# Остатки распределены не нормально! Хотя это и так было понятно по графику."
   ]
  },
  {
   "cell_type": "code",
   "execution_count": null,
   "metadata": {},
   "outputs": [],
   "source": [
    "sns.histplot(data=swiss, x=\"resid_model_2\", multiple=\"dodge\", shrink=.8)"
   ]
  },
  {
   "cell_type": "code",
   "execution_count": null,
   "metadata": {},
   "outputs": [],
   "source": [
    "fig, ax = plt.subplots(figsize=(8, 8))\n",
    "\n",
    "stats.probplot(swiss[\"resid_model_2\"], plot=ax)\n",
    "\n",
    "plt.tight_layout()\n",
    "plt.show()"
   ]
  },
  {
   "cell_type": "code",
   "execution_count": null,
   "metadata": {},
   "outputs": [],
   "source": [
    "# Perform the Shapiro-Wilk test for normality.\n",
    "shapiro_test = stats.shapiro(swiss[\"resid_model_2\"])\n",
    "shapiro_test\n",
    "# Остатки распределены не нормально! Хотя это и так было понятно по графику."
   ]
  },
  {
   "cell_type": "code",
   "execution_count": null,
   "metadata": {},
   "outputs": [],
   "source": [
    "%%R\n",
    "\n",
    "test_data <- as.data.frame(list(V1 = c(0.8, 1.3, -0.2, -0.9, 1.9), \n",
    "                                V2 = c(0.8, 0.1, 0.8, 0.8, 0), \n",
    "                                V3 = c(0.1, 0.6, -0.7, -0.9, -0.2), \n",
    "                                V4 = c(1.3, 0.3, 1.3, -1, 0.5), \n",
    "                                V5 = c(0.9, 0.4, -0.1, -1.2, 0.1), \n",
    "                                V6 = c(-1.9, 1.3, 0.8, -1, 0.2), \n",
    "                                V7 = c(0.7, 1.1, -1.1, 1.6, 0.2), \n",
    "                                V8 = c(1.3, 1.4, -0.4, 0.6, -0.2), \n",
    "                                V9 = c(2.3, -0.7, 0, -0.2, -1.3), \n",
    "                                V10 = c(1, 2.6, 1.1, -1.7, 1.3), \n",
    "                                V11 = c(-0.1, -0.6, 0.7, 0.9, 0.2)))\n",
    "\n",
    "\n",
    "high.corr <- function(x){\n",
    "  corr_matrix <- cor(x[sapply(x, is.numeric)])\n",
    "  diag(corr_matrix) <- 0\n",
    "  rownames(which(corr_matrix == max(abs(corr_matrix)), arr.ind = TRUE))}\n",
    "\n",
    "high.corr(swiss)\n",
    "high.corr(test_data)\n"
   ]
  },
  {
   "cell_type": "markdown",
   "metadata": {},
   "source": [
    "## Homoscedasticity testing"
   ]
  },
  {
   "cell_type": "code",
   "execution_count": null,
   "metadata": {},
   "outputs": [],
   "source": [
    "homosc_test = pd.read_csv(\"https://stepic.org/media/attachments/lesson/12088/homosc.csv\")\n",
    "homosc_test.head()"
   ]
  },
  {
   "cell_type": "code",
   "execution_count": null,
   "metadata": {},
   "outputs": [],
   "source": [
    "model_homosc_test = smf.ols(\"DV ~ IV\", homosc_test)\n",
    "res_homosc_test = model_homosc_test.fit()\n",
    "print(res_homosc_test.summary())"
   ]
  },
  {
   "cell_type": "code",
   "execution_count": null,
   "metadata": {},
   "outputs": [],
   "source": [
    "sns.residplot(x=res_homosc_test.fittedvalues, y=res_homosc_test.resid, data=homosc_test)"
   ]
  },
  {
   "cell_type": "markdown",
   "metadata": {},
   "source": [
    "https://en.wikipedia.org/wiki/Heteroscedasticity#Detection\n",
    "\n",
    "https://stackoverflow.com/questions/35322462/finding-heteroscedasticity-in-time-series\n",
    "\n",
    "--------\n",
    "https://docs.scipy.org/doc/scipy/reference/generated/scipy.stats.levene.html?highlight=levene#scipy.stats.levene\n"
   ]
  },
  {
   "cell_type": "markdown",
   "metadata": {},
   "source": [
    "https://towardsdatascience.com/verifying-the-assumptions-of-linear-regression-in-python-and-r-f4cd2907d4c0"
   ]
  },
  {
   "cell_type": "code",
   "execution_count": null,
   "metadata": {},
   "outputs": [],
   "source": [
    "bp_test = pd.DataFrame(statsmodels.stats.diagnostic.het_breuschpagan(res_homosc_test.resid, model_homosc_test.exog), \n",
    "                           columns=['value'],\n",
    "                           index=['Lagrange multiplier statistic', 'p-value', 'f-value', 'f p-value'])\n",
    "\n",
    "gq_test = pd.DataFrame(statsmodels.stats.diagnostic.het_goldfeldquandt(res_homosc_test.resid, model_homosc_test.exog)[:-1],\n",
    "                           columns=['value'],\n",
    "                           index=['F statistic', 'p-value'])"
   ]
  },
  {
   "cell_type": "code",
   "execution_count": null,
   "metadata": {},
   "outputs": [],
   "source": [
    "# p-value больше 0,05 - следовательно, дисперсия остатков в одной подвыбоборке выше, чем в другой.\n",
    "# Значит, условие гомоскедастичности нарушается и дисперсия модели непостоянна.\n",
    "# Можно наблюдать на графиках выше, как она увеличивается, т. е. точки на графике расходятся \"конусом\" от нуля.\n",
    "print(bp_test)\n",
    "print(\"-------------------\")\n",
    "print(gq_test)"
   ]
  },
  {
   "cell_type": "code",
   "execution_count": null,
   "metadata": {},
   "outputs": [],
   "source": []
  },
  {
   "cell_type": "code",
   "execution_count": null,
   "metadata": {},
   "outputs": [],
   "source": []
  },
  {
   "cell_type": "markdown",
   "metadata": {},
   "source": [
    "## NEW DATASET"
   ]
  },
  {
   "cell_type": "code",
   "execution_count": null,
   "metadata": {},
   "outputs": [],
   "source": [
    "DATA = \"~/PycharmProjects/Datasets/\"\n",
    "attitude_path = DATA + \"attitude.csv\"\n",
    "attitude = pd.read_csv(attitude_path, index_col=0)\n",
    "attitude.head()"
   ]
  },
  {
   "cell_type": "code",
   "execution_count": null,
   "metadata": {},
   "outputs": [],
   "source": [
    "attitude_model_full = smf.ols(\"rating ~ complaints + privileges + learning + raises + critical + advance\", attitude)\n",
    "res_attitude_model_full = attitude_model_full.fit()\n",
    "print(res_attitude_model_full.summary())"
   ]
  },
  {
   "cell_type": "code",
   "execution_count": null,
   "metadata": {},
   "outputs": [],
   "source": [
    "attitude_model_null = smf.ols(\"rating ~ 1\", attitude)\n",
    "res_attitude_model_null = attitude_model_null.fit()\n",
    "print(res_attitude_model_null.summary())"
   ]
  },
  {
   "cell_type": "markdown",
   "metadata": {},
   "source": [
    "https://stackoverflow.com/questions/22428625/does-statsmodels-or-another-python-package-offer-an-equivalent-to-rs-step-f\n",
    "\n",
    "https://stackoverflow.com/questions/49493468/python-equivalent-for-r-stepaic-for-logistic-regression-direction-backwards\n",
    "\n",
    "https://www.reddit.com/r/pystats/comments/68pikh/python_equivalent_for_r_stepwise_regression/"
   ]
  },
  {
   "cell_type": "code",
   "execution_count": null,
   "metadata": {},
   "outputs": [],
   "source": [
    "# print(attitude.columns)\n",
    "# print(len(attitude.columns))"
   ]
  },
  {
   "cell_type": "code",
   "execution_count": null,
   "metadata": {},
   "outputs": [],
   "source": [
    "# Код с просторов stackoverflow для рассчёта \n",
    "import itertools\n",
    "import statsmodels.api as sm\n",
    "\n",
    "# Не работает правильно - надо разобраться почему.\n",
    "# AICs = {}\n",
    "# for k in range(1,len(swiss.columns)+1):\n",
    "#     for variables in itertools.combinations(attitude.columns, k):\n",
    "#         predictors = attitude.loc[:, list(variables)]\n",
    "#         predictors['Intercept'] = 1\n",
    "#         res = sm.OLS(attitude['rating'], predictors).fit()\n",
    "#         AICs[variables] = 2*(k+1) - 2*res.llf\n",
    "# print(pd.Series(AICs).idxmin())\n",
    "# print(pd.Series(AICs))\n",
    "# {k: v for k, v in sorted(AICs.items(), key=lambda item: item[1])}\n",
    "\n",
    "# -------------------------------------------------------------------\n",
    "\n",
    "# AICs = {}\n",
    "# for k in range(1,len(attitude.columns)+1):\n",
    "#     for variables in itertools.combinations(attitude.columns, k):\n",
    "#         predictors = list(variables)\n",
    "#         i = True\n",
    "#         independent =''\n",
    "#         for p in predictors:\n",
    "#             if i:\n",
    "#                 independent = p\n",
    "#                 i = False\n",
    "#             else:\n",
    "#                 independent+='+ {}'.format(p)\n",
    "#         regresion = 'rating ~ {}'.format(independent)\n",
    "#         res = smf.ols(regresion, data=attitude).fit()\n",
    "#         AICs[variables] = 2*(k+1) - 2*res.llf\n",
    "# pd.Series(AICs).idxmin()\n",
    "\n",
    "\n",
    "# Не работает правильно - надо разобраться почему.\n",
    "\n",
    "\n",
    "# ТЕСТ ФУНКЦИИ\n",
    "AICs = {}\n",
    "for k in range(1,len(swiss.columns)+1):\n",
    "    for variables in itertools.combinations(attitude.columns, k):\n",
    "        predictors = attitude.loc[:, list(variables)]\n",
    "        predictors['Intercept'] = 1\n",
    "        res = sm.OLS(attitude['rating'], predictors).fit()\n",
    "        AICs[variables] = res.aic\n",
    "\n",
    "# print(AICs)\n",
    "print({k: v for k, v in sorted(AICs.items(), key=lambda item: -item[1])})\n",
    "\n",
    "# Вроде работает! Правда, не совсем правильно. \n"
   ]
  },
  {
   "cell_type": "code",
   "execution_count": null,
   "metadata": {},
   "outputs": [],
   "source": []
  },
  {
   "cell_type": "code",
   "execution_count": null,
   "metadata": {},
   "outputs": [],
   "source": [
    "# sns.residplot(x=\"Examination\", y=\"Fertility\", data=swiss_df)\n",
    "# График остатков. На будущее. "
   ]
  },
  {
   "cell_type": "code",
   "execution_count": null,
   "metadata": {},
   "outputs": [],
   "source": [
    "# import ggplot\n",
    "\n",
    "# ggplot(swiss, aes(x = Examination, y = Fertility)) + \\\n",
    "#   geom_point() + geom_smooth()"
   ]
  },
  {
   "cell_type": "code",
   "execution_count": null,
   "metadata": {},
   "outputs": [],
   "source": []
  },
  {
   "cell_type": "code",
   "execution_count": null,
   "metadata": {},
   "outputs": [],
   "source": []
  },
  {
   "cell_type": "markdown",
   "metadata": {},
   "source": [
    "### NEW DATASET"
   ]
  },
  {
   "cell_type": "code",
   "execution_count": null,
   "metadata": {},
   "outputs": [],
   "source": [
    "DATA = \"~/PycharmProjects/Datasets/\"\n",
    "tooth_path = DATA + \"ToothGrowth.csv\"\n",
    "toothgrowth = pd.read_csv(tooth_path, index_col=0)"
   ]
  },
  {
   "cell_type": "code",
   "execution_count": null,
   "metadata": {},
   "outputs": [],
   "source": [
    "toothgrowth.head(10)"
   ]
  },
  {
   "cell_type": "code",
   "execution_count": null,
   "metadata": {},
   "outputs": [],
   "source": [
    "toothgrowth.shape"
   ]
  },
  {
   "cell_type": "code",
   "execution_count": null,
   "metadata": {},
   "outputs": [],
   "source": [
    "toothgrowth.describe()"
   ]
  },
  {
   "cell_type": "code",
   "execution_count": null,
   "metadata": {},
   "outputs": [],
   "source": [
    "subset_oj = toothgrowth[(toothgrowth.supp == \"OJ\") & (toothgrowth.dose == 0.5)]\n",
    "subset_vc = toothgrowth[(toothgrowth.supp == \"VC\") & (toothgrowth.dose == 2.0)]"
   ]
  },
  {
   "cell_type": "code",
   "execution_count": null,
   "metadata": {},
   "outputs": [],
   "source": [
    "t_test = st.ttest_ind(subset_oj.len, subset_vc.len) \n",
    "t_test.statistic"
   ]
  },
  {
   "cell_type": "code",
   "execution_count": null,
   "metadata": {},
   "outputs": [],
   "source": [
    "sns.set_theme(style=\"darkgrid\")\n",
    "ax = sns.pointplot(x=\"dose\", y=\"len\", hue=\"supp\", data=toothgrowth, join=True, capsize=.1, dodge=True)"
   ]
  },
  {
   "cell_type": "code",
   "execution_count": null,
   "metadata": {},
   "outputs": [],
   "source": [
    "%%R -i toothgrowth\n",
    "\n",
    "library(\"ggplot2\")\n",
    "\n",
    "ggplot(data = ToothGrowth, aes(x = supp, y = len, fill = as.factor(dose))) + geom_boxplot()"
   ]
  },
  {
   "cell_type": "code",
   "execution_count": null,
   "metadata": {},
   "outputs": [],
   "source": []
  },
  {
   "cell_type": "code",
   "execution_count": null,
   "metadata": {},
   "outputs": [],
   "source": []
  },
  {
   "cell_type": "code",
   "execution_count": null,
   "metadata": {},
   "outputs": [],
   "source": []
  },
  {
   "cell_type": "code",
   "execution_count": null,
   "metadata": {},
   "outputs": [],
   "source": []
  },
  {
   "cell_type": "code",
   "execution_count": null,
   "metadata": {},
   "outputs": [],
   "source": [
    "# # Предполагается, что Вы уже скачали необходимый датасет и знаете путь до него\n",
    "# import pandas as pd\n",
    "# import scipy.stats\n",
    "\n",
    "# tooth_path = PATH_TO_DATA + \"ToothGrowth.csv\"\n",
    "# toothgrowth = pd.read_csv(tooth_path, index_col=0)\n",
    "# t_test = scipy.stats.ttest_ind(toothgrowth[(toothgrowth.supp == \"OJ\") & (toothgrowth.dose == 0.5)].len, \n",
    "#                                toothgrowth[(toothgrowth.supp == \"VC\") & (toothgrowth.dose == 2.0)].len) \n",
    "# print(t_test.statistic)"
   ]
  },
  {
   "cell_type": "code",
   "execution_count": null,
   "metadata": {},
   "outputs": [],
   "source": [
    "# # Предполагается, что Вы уже скачали необходимый датасет и знаете путь до него\n",
    "# import pandas as pd\n",
    "# import seaborn as sns\n",
    "# tooth_path = PATH_TO_DATA + \"ToothGrowth.csv\"\n",
    "# toothgrowth = pd.read_csv(tooth_path, index_col=0)\n",
    "# sns.set_theme(style=\"darkgrid\")\n",
    "# ax = sns.pointplot(x=\"dose\", y=\"len\", hue=\"supp\", data=toothgrowth, join=True, capsize=.1, dodge=True)"
   ]
  },
  {
   "cell_type": "markdown",
   "metadata": {},
   "source": [
    "### NEW DATASET"
   ]
  },
  {
   "cell_type": "code",
   "execution_count": null,
   "metadata": {},
   "outputs": [],
   "source": [
    "DATA = \"~/PycharmProjects/Datasets/\"\n",
    "lec_path = DATA + \"lekarstva.csv\"\n",
    "lekarstva = pd.read_csv(lec_path, index_col=0)"
   ]
  },
  {
   "cell_type": "code",
   "execution_count": null,
   "metadata": {},
   "outputs": [],
   "source": [
    "print(lekarstva.shape)\n",
    "lekarstva.head()"
   ]
  },
  {
   "cell_type": "code",
   "execution_count": null,
   "metadata": {},
   "outputs": [],
   "source": [
    "lekarstva.describe()"
   ]
  },
  {
   "cell_type": "code",
   "execution_count": null,
   "metadata": {},
   "outputs": [],
   "source": [
    "lec_pair_t_test = scipy.stats.ttest_rel(lekarstva.Pressure_after, lekarstva.Pressure_before) \n",
    "lec_pair_t_test.statistic"
   ]
  },
  {
   "cell_type": "code",
   "execution_count": null,
   "metadata": {},
   "outputs": [],
   "source": [
    "# # Предполагается, что Вы уже скачали необходимый датасет и знаете путь до него\n",
    "# import pandas as pd\n",
    "# import scipy.stats\n",
    "\n",
    "# lec_path = PATH_TO_DATA + \"lekarstva.csv\"\n",
    "# lekarstva = pd.read_csv(lec_path, index_col=0)\n",
    "# lec_pair_t_test = scipy.stats.ttest_rel(lekarstva.Pressure_before, lekarstva.Pressure_after) \n",
    "# print(lec_pair_t_test.statistic)"
   ]
  },
  {
   "cell_type": "code",
   "execution_count": null,
   "metadata": {},
   "outputs": [],
   "source": []
  },
  {
   "cell_type": "code",
   "execution_count": null,
   "metadata": {},
   "outputs": [],
   "source": []
  },
  {
   "cell_type": "markdown",
   "metadata": {},
   "source": [
    "## NEW CHAPTER AND NEW DATASET"
   ]
  },
  {
   "cell_type": "code",
   "execution_count": null,
   "metadata": {},
   "outputs": [],
   "source": [
    "DATA = \"~/PycharmProjects/Datasets/\"\n",
    "grants_path = DATA + \"grants.csv\"\n",
    "grants = pd.read_csv(grants_path)"
   ]
  },
  {
   "cell_type": "code",
   "execution_count": null,
   "metadata": {},
   "outputs": [],
   "source": [
    "grants.head()"
   ]
  },
  {
   "cell_type": "code",
   "execution_count": null,
   "metadata": {},
   "outputs": [],
   "source": [
    "grants.shape"
   ]
  },
  {
   "cell_type": "code",
   "execution_count": null,
   "metadata": {},
   "outputs": [],
   "source": [
    "grants.isna().sum()"
   ]
  },
  {
   "cell_type": "code",
   "execution_count": null,
   "metadata": {},
   "outputs": [],
   "source": [
    "grants.describe()"
   ]
  },
  {
   "cell_type": "code",
   "execution_count": null,
   "metadata": {},
   "outputs": [],
   "source": [
    "grants_df = grants.copy()"
   ]
  },
  {
   "cell_type": "code",
   "execution_count": null,
   "metadata": {},
   "outputs": [],
   "source": [
    "grants_df[\"status\"] = grants_df[\"status\"].replace({0 : \"Not funded\", 1 : \"Funded\"})"
   ]
  },
  {
   "cell_type": "code",
   "execution_count": null,
   "metadata": {},
   "outputs": [],
   "source": [
    "grants_df[\"status\"].unique()"
   ]
  },
  {
   "cell_type": "code",
   "execution_count": null,
   "metadata": {},
   "outputs": [],
   "source": [
    "grants_df.head(3)"
   ]
  },
  {
   "cell_type": "code",
   "execution_count": null,
   "metadata": {},
   "outputs": [],
   "source": [
    "table_1 = pd.pivot_table(grants_df, index=\"status\", values=\"field\", aggfunc=\"count\")\n",
    "table_1"
   ]
  },
  {
   "cell_type": "code",
   "execution_count": null,
   "metadata": {},
   "outputs": [],
   "source": [
    "table_2 = pd.pivot_table(grants_df, index=[\"field\"], columns=[\"status\"], aggfunc=\"count\")\n",
    "table_2"
   ]
  },
  {
   "cell_type": "code",
   "execution_count": null,
   "metadata": {},
   "outputs": [],
   "source": [
    "# Неудачные попытки\n",
    "# -----------------------------\n",
    "# grants_df.groupby([\"field\", \"status\"]).agg({\"status\" : \"count\"}).unstack()\n",
    "# -----------------------------\n",
    "# table_2 = grants_df.pivot_table(index=\"status\", columns=[\"field\"], aggfunc=\"count\")\n",
    "# table_2"
   ]
  },
  {
   "cell_type": "code",
   "execution_count": null,
   "metadata": {},
   "outputs": [],
   "source": [
    "dist = grants_df.groupby([\"field\", \"status\"])[\"status\"].count().unstack()\n",
    "dist"
   ]
  },
  {
   "cell_type": "code",
   "execution_count": null,
   "metadata": {},
   "outputs": [],
   "source": [
    "# Binom test\n",
    "p_value_1 = scipy.stats.binom_test(table_1)\n",
    "p_value_1"
   ]
  },
  {
   "cell_type": "code",
   "execution_count": null,
   "metadata": {},
   "outputs": [],
   "source": [
    "# ChiSquare test\n",
    "cs_res_1 = scipy.stats.chisquare(table_1)\n",
    "print(cs_res_1)\n",
    "print(\"The chi-squared test statistic is {}; \\nThe p-value of the test is {}.\".format(cs_res_1[0], cs_res_1[1]))"
   ]
  },
  {
   "cell_type": "code",
   "execution_count": null,
   "metadata": {},
   "outputs": [],
   "source": [
    "cs_res_2 = scipy.stats.chisquare(dist.T)\n",
    "cs_res_2"
   ]
  },
  {
   "cell_type": "code",
   "execution_count": null,
   "metadata": {},
   "outputs": [],
   "source": []
  },
  {
   "cell_type": "code",
   "execution_count": null,
   "metadata": {},
   "outputs": [],
   "source": []
  },
  {
   "cell_type": "code",
   "execution_count": null,
   "metadata": {},
   "outputs": [],
   "source": []
  },
  {
   "cell_type": "code",
   "execution_count": null,
   "metadata": {},
   "outputs": [],
   "source": []
  },
  {
   "cell_type": "code",
   "execution_count": null,
   "metadata": {},
   "outputs": [],
   "source": []
  },
  {
   "cell_type": "markdown",
   "metadata": {},
   "source": [
    "### New Dataset"
   ]
  },
  {
   "cell_type": "code",
   "execution_count": null,
   "metadata": {},
   "outputs": [],
   "source": [
    "DATA = \"~/PycharmProjects/Datasets/\"\n",
    "hec_path = DATA + \"HairEyeColor.csv\"\n",
    "hec = pd.read_csv(hec_path)"
   ]
  },
  {
   "cell_type": "code",
   "execution_count": null,
   "metadata": {},
   "outputs": [],
   "source": [
    "hec = hec.drop(\"Unnamed: 0\", axis=1)"
   ]
  },
  {
   "cell_type": "code",
   "execution_count": null,
   "metadata": {},
   "outputs": [],
   "source": [
    "hec.head()"
   ]
  },
  {
   "cell_type": "code",
   "execution_count": null,
   "metadata": {},
   "outputs": [],
   "source": [
    "hec_fem = hec[hec.Sex == \"Female\"]\n",
    "hec_fem"
   ]
  },
  {
   "cell_type": "code",
   "execution_count": null,
   "metadata": {},
   "outputs": [],
   "source": [
    "# Неудачные попытки\n",
    "# sns.histplot(data=hec_fem, x=\"Hair\", y=\"Freq\")"
   ]
  },
  {
   "cell_type": "code",
   "execution_count": null,
   "metadata": {},
   "outputs": [],
   "source": [
    "sns.catplot(data=hec_fem, x=\"Hair\", y=\"Freq\", hue=\"Eye\", kind=\"bar\")"
   ]
  },
  {
   "cell_type": "code",
   "execution_count": null,
   "metadata": {},
   "outputs": [],
   "source": [
    "# Как сделать хорошо и правильно? - Посмотри туториалы.\n",
    "# titanic = sns.load_dataset(\"titanic\")\n",
    "# sns.catplot(x=\"sex\", y=\"survived\", hue=\"class\", kind=\"bar\", data=titanic)"
   ]
  },
  {
   "cell_type": "code",
   "execution_count": null,
   "metadata": {},
   "outputs": [],
   "source": [
    "hec_fem[hec_fem.Hair == \"Brown\"].iloc[:,[1, 3]]"
   ]
  },
  {
   "cell_type": "code",
   "execution_count": null,
   "metadata": {},
   "outputs": [],
   "source": [
    "brown_haired_ladies = hec_fem[hec_fem.Hair == \"Brown\"].iloc[:,[1, 3]].set_index(\"Eye\")\n",
    "brown_haired_ladies"
   ]
  },
  {
   "cell_type": "code",
   "execution_count": null,
   "metadata": {},
   "outputs": [],
   "source": [
    "cs_res_3 = scipy.stats.chisquare(brown_haired_ladies)\n",
    "print(cs_res_3)\n",
    "print(\"The chi-squared test statistic is {}; \\nThe p-value of the test is {}.\".format(cs_res_3[0], cs_res_3[1]))"
   ]
  },
  {
   "cell_type": "code",
   "execution_count": null,
   "metadata": {},
   "outputs": [],
   "source": [
    "DATA = \"~/PycharmProjects/Datasets/\"\n",
    "hec_path = DATA + \"HairEyeColor.csv\"\n",
    "hec = pd.read_csv(hec_path, index_col=0)\n",
    "brown_haired_ladies = hec.query(\"Sex == 'Female' and Hair == 'Brown'\").iloc[:,[1, 3]].set_index(\"Eye\")\n",
    "chisquare_result = scipy.stats.chisquare(brown_haired_ladies)\n",
    "print(\"The chi-squared test statistic is {}; \\nThe p-value of the test is {}.\".format(chisquare_result[0], chisquare_result[1]))"
   ]
  },
  {
   "cell_type": "code",
   "execution_count": null,
   "metadata": {},
   "outputs": [],
   "source": []
  },
  {
   "cell_type": "code",
   "execution_count": null,
   "metadata": {},
   "outputs": [],
   "source": []
  },
  {
   "cell_type": "code",
   "execution_count": null,
   "metadata": {},
   "outputs": [],
   "source": []
  },
  {
   "cell_type": "code",
   "execution_count": null,
   "metadata": {},
   "outputs": [],
   "source": []
  },
  {
   "cell_type": "code",
   "execution_count": null,
   "metadata": {},
   "outputs": [],
   "source": []
  },
  {
   "cell_type": "markdown",
   "metadata": {},
   "source": [
    "### New Dataset"
   ]
  },
  {
   "cell_type": "code",
   "execution_count": null,
   "metadata": {},
   "outputs": [],
   "source": [
    "diamonds = sns.load_dataset('diamonds')\n",
    "diamonds.head()"
   ]
  },
  {
   "cell_type": "code",
   "execution_count": null,
   "metadata": {},
   "outputs": [],
   "source": [
    "diamonds = diamonds.sort_values(by=['color', 'cut'])"
   ]
  },
  {
   "cell_type": "code",
   "execution_count": null,
   "metadata": {},
   "outputs": [],
   "source": [
    "sns.histplot(data=diamonds, x=\"color\", hue=\"cut\", multiple=\"dodge\", shrink=.8)"
   ]
  },
  {
   "cell_type": "code",
   "execution_count": null,
   "metadata": {},
   "outputs": [],
   "source": [
    "# import seaborn as sns\n",
    "\n",
    "# diamonds = sns.load_dataset('diamonds')\n",
    "# diamonds = diamonds.sort_values(by=['color', 'cut'])\n",
    "# sns.histplot(data=diamonds, x=\"color\", hue=\"cut\", multiple=\"dodge\", shrink=.7)"
   ]
  },
  {
   "cell_type": "code",
   "execution_count": null,
   "metadata": {},
   "outputs": [],
   "source": [
    "diamonds = sns.load_dataset('diamonds')\n",
    "diamonds = pd.DataFrame(diamonds)\n",
    "# d = diamonds.groupby(['cut', 'color']).agg({\"color\" : \"count\"}).unstack()\n",
    "d = diamonds.groupby(['cut', 'color'])['cut'].count().unstack()\n",
    "print(d.shape)\n",
    "d"
   ]
  },
  {
   "cell_type": "code",
   "execution_count": null,
   "metadata": {},
   "outputs": [],
   "source": [
    "# НЕПРАВИЛЬНО!\n",
    "\n",
    "# chisquare_result = scipy.stats.chisquare(d, axis=None)\n",
    "# chisquare_result\n",
    "# -------------------------------------------------------------\n",
    "# ПРАВИЛЬНО!\n",
    "chisquare_result = st.chi2_contingency(d)\n",
    "chisquare_result"
   ]
  },
  {
   "cell_type": "code",
   "execution_count": null,
   "metadata": {},
   "outputs": [],
   "source": [
    "# # Предполагается, что Вы уже скачали необходимый датасет и знаете путь до него\n",
    "# import pandas as pd\n",
    "# import scipy.stats\n",
    "# import seaborn as sns\n",
    "\n",
    "# diamonds = sns.load_dataset('diamonds')\n",
    "# diamonds = pd.DataFrame(diamonds)\n",
    "# d = diamonds.groupby(['cut', 'color'])['cut'].count().unstack()\n",
    "# chisquare_result = scipy.stats.chi2_contingency(d)\n",
    "# chisquare_result"
   ]
  },
  {
   "cell_type": "code",
   "execution_count": null,
   "metadata": {},
   "outputs": [],
   "source": [
    "# table_diamonds = pd.pivot_table(diamonds, index=[\"cut\"], columns=[\"color\"], aggfunc=\"count\")\n",
    "# table_diamonds"
   ]
  },
  {
   "cell_type": "code",
   "execution_count": null,
   "metadata": {},
   "outputs": [],
   "source": [
    "diamonds[\"factor_price\"] = np.where(diamonds['price'] >= diamonds.price.mean(), 1, 0)\n",
    "diamonds[\"factor_carat\"] = np.where(diamonds['carat'] >= diamonds.carat.mean(), 1, 0)"
   ]
  },
  {
   "cell_type": "code",
   "execution_count": null,
   "metadata": {},
   "outputs": [],
   "source": [
    "d = diamonds.groupby(['factor_carat', 'factor_price'])['factor_price'].count().unstack()\n",
    "d"
   ]
  },
  {
   "cell_type": "code",
   "execution_count": null,
   "metadata": {},
   "outputs": [],
   "source": [
    "chisquare_result = st.chi2_contingency(d)\n",
    "chisquare_result[0]"
   ]
  },
  {
   "cell_type": "code",
   "execution_count": null,
   "metadata": {},
   "outputs": [],
   "source": [
    "# # Предполагается, что Вы уже скачали необходимый датасет и знаете путь до него\n",
    "# import pandas as pd\n",
    "# import numpy as np\n",
    "# import scipy.stats\n",
    "# import seaborn as sns\n",
    "\n",
    "# diamonds = sns.load_dataset('diamonds')\n",
    "# diamonds = pd.DataFrame(diamonds)\n",
    "# diamonds[\"factor_price\"] = np.where(diamonds['price'] >= diamonds.price.mean(), 1, 0)\n",
    "# diamonds[\"factor_carat\"] = np.where(diamonds['carat'] >= diamonds.carat.mean(), 1, 0)\n",
    "# d = diamonds.groupby(['factor_carat', 'factor_price'])['factor_price'].count().unstack()\n",
    "# chisquare_result = scipy.stats.chi2_contingency(d)\n",
    "# chisquare_result[0]"
   ]
  },
  {
   "cell_type": "code",
   "execution_count": null,
   "metadata": {},
   "outputs": [],
   "source": [
    "diamonds[(diamonds.carat == 0.46) & (diamonds.cut == \"Ideal\")]"
   ]
  },
  {
   "cell_type": "code",
   "execution_count": null,
   "metadata": {},
   "outputs": [],
   "source": [
    "# https://stepik.org/lesson/11508/step/13?thread=solutions&unit=2531\n",
    "ideal_diamonds_car46 = diamonds[(diamonds.carat == 0.46) & (diamonds.cut == \"Ideal\")]\n",
    "\n",
    "diamonds_model = sm.OLS(ideal_diamonds_car46.price, ideal_diamonds_car46.depth)\n",
    "\n",
    "res = diamonds_model.fit()\n",
    "\n",
    "print(res.params)\n",
    "print(res.summary())"
   ]
  },
  {
   "cell_type": "markdown",
   "metadata": {},
   "source": [
    "#### Результат не впечатляет. Видимо, разные алгоритмы расчёта в R и тут. Надо разобраться.\n",
    "Ответ? https://stackoverflow.com/questions/41765767/different-results-from-lm-in-r-vs-statsmodel-ols-in-python\n",
    "\n",
    "### А вот так - работает!\n"
   ]
  },
  {
   "cell_type": "code",
   "execution_count": null,
   "metadata": {},
   "outputs": [],
   "source": [
    "# https://stepik.org/lesson/11508/step/13?thread=solutions&unit=2531\n",
    "diamonds_model = smf.ols(\"price ~ depth\", diamonds[(diamonds.carat == 0.46) & (diamonds.cut == \"Ideal\")])\n",
    "\n",
    "res = diamonds_model.fit()\n",
    "\n",
    "print(res.summary())"
   ]
  },
  {
   "cell_type": "markdown",
   "metadata": {},
   "source": [
    "### Можно пропробовать sklearn, кстати."
   ]
  },
  {
   "cell_type": "code",
   "execution_count": null,
   "metadata": {},
   "outputs": [],
   "source": [
    "# https://stepik.org/lesson/11508/step/13?thread=solutions&unit=2531\n",
    "# from sklearn.linear_model import LinearRegression\n",
    "\n",
    "# ideal_diamonds_car46 = diamonds[(diamonds.carat == 0.46) & (diamonds.cut == \"Ideal\")]\n",
    "\n",
    "# reg = LinearRegression().fit(ideal_diamonds_car46.depth, ideal_diamonds_car46.price)"
   ]
  },
  {
   "cell_type": "code",
   "execution_count": null,
   "metadata": {},
   "outputs": [],
   "source": [
    "diamonds.head()"
   ]
  },
  {
   "cell_type": "code",
   "execution_count": null,
   "metadata": {},
   "outputs": [],
   "source": [
    "diamonds.max(axis=0)"
   ]
  },
  {
   "cell_type": "code",
   "execution_count": null,
   "metadata": {},
   "outputs": [],
   "source": [
    "diamonds.median(axis=0)"
   ]
  },
  {
   "cell_type": "code",
   "execution_count": null,
   "metadata": {},
   "outputs": [],
   "source": [
    "help(pd.DataFrame.median)"
   ]
  },
  {
   "cell_type": "code",
   "execution_count": null,
   "metadata": {},
   "outputs": [],
   "source": [
    "%%R\n",
    "diamonds <- as_data_frame(diamonds)\n",
    "glimpse(diamonds)"
   ]
  },
  {
   "cell_type": "code",
   "execution_count": null,
   "metadata": {},
   "outputs": [],
   "source": []
  },
  {
   "cell_type": "markdown",
   "metadata": {},
   "source": [
    "### Game: Megafon and N+1\n",
    "#### https://nplus1.ru/material/2020/10/27/megafon"
   ]
  },
  {
   "cell_type": "code",
   "execution_count": null,
   "metadata": {},
   "outputs": [],
   "source": [
    "import re"
   ]
  },
  {
   "cell_type": "code",
   "execution_count": null,
   "metadata": {},
   "outputs": [],
   "source": [
    "PATH_TO_DATA = \"~/Downloads/Megafon_and_Nplus1_Game/\"\n",
    "game_df_1 = pd.read_csv(PATH_TO_DATA + \"first.csv\", sep=\";\", header=None)\n",
    "game_df_1.head(10)"
   ]
  },
  {
   "cell_type": "code",
   "execution_count": null,
   "metadata": {},
   "outputs": [],
   "source": [
    "game_df_1.columns = [\"transaction_id\", \"company_name\", \"transaction_amount\", \"comment\"]\n",
    "game_df_1"
   ]
  },
  {
   "cell_type": "code",
   "execution_count": null,
   "metadata": {},
   "outputs": [],
   "source": [
    "type(game_df_1.iloc[:,1])"
   ]
  },
  {
   "cell_type": "code",
   "execution_count": null,
   "metadata": {},
   "outputs": [],
   "source": [
    "game_df_1[game_df_1.iloc[:,1].str.contains(r'([a-z|0-9]{8})(-[a-z|0-9]{4}){3}(-[a-z|0-9]{12})', regex=True)]"
   ]
  },
  {
   "cell_type": "code",
   "execution_count": null,
   "metadata": {},
   "outputs": [],
   "source": [
    "# PATH_TO_DATA = \"~/Downloads/Megafon_and_Nplus1_Game/\"\n",
    "\n",
    "game_df_2 = pd.read_csv(PATH_TO_DATA + \"dva.csv\", sep=\";\", verbose=True)\n",
    "game_df_2.head(10)"
   ]
  },
  {
   "cell_type": "markdown",
   "metadata": {},
   "source": [
    "# NEW CHAPTER\n",
    "# ANOVA"
   ]
  },
  {
   "cell_type": "markdown",
   "metadata": {},
   "source": [
    "Он же - дисперсионный анализ: однофакторный и многофакторный."
   ]
  },
  {
   "cell_type": "code",
   "execution_count": null,
   "metadata": {},
   "outputs": [],
   "source": [
    "import sys\n",
    "\n",
    "from scipy import stats\n",
    "import statsmodels.api as sm\n",
    "import statsmodels.formula.api as smf\n",
    "from statsmodels.stats import power"
   ]
  },
  {
   "cell_type": "code",
   "execution_count": null,
   "metadata": {},
   "outputs": [],
   "source": [
    "DATA = \"~/PycharmProjects/Datasets/\"\n",
    "shops_path = DATA + \"shops.csv\"\n",
    "shops = pd.read_csv(shops_path, index_col=0)\n",
    "shops.head()"
   ]
  },
  {
   "cell_type": "code",
   "execution_count": null,
   "metadata": {},
   "outputs": [],
   "source": [
    "shops.index.unique()"
   ]
  },
  {
   "cell_type": "code",
   "execution_count": null,
   "metadata": {},
   "outputs": [],
   "source": [
    "sns.set_theme(style=\"darkgrid\")\n",
    "g = sns.catplot(x=\"origin\", y=\"price\", data=shops, kind=\"box\")"
   ]
  },
  {
   "cell_type": "code",
   "execution_count": null,
   "metadata": {},
   "outputs": [],
   "source": [
    "model = smf.ols('price ~ origin', data=shops).fit()\n",
    "model.summary() if str(input()) == \"1\" else print(model.summary())"
   ]
  },
  {
   "cell_type": "code",
   "execution_count": null,
   "metadata": {},
   "outputs": [],
   "source": [
    "aov_table = sm.stats.anova_lm(model)\n",
    "aov_table"
   ]
  },
  {
   "cell_type": "code",
   "execution_count": null,
   "metadata": {},
   "outputs": [],
   "source": [
    "model_2 = smf.ols('price ~ origin + store', data=shops).fit()\n",
    "model_2.summary() if str(input()) == \"1\" else print(model_2.summary())"
   ]
  },
  {
   "cell_type": "code",
   "execution_count": null,
   "metadata": {},
   "outputs": [],
   "source": [
    "aov_table_2 = sm.stats.anova_lm(model_2)\n",
    "aov_table_2"
   ]
  },
  {
   "cell_type": "code",
   "execution_count": null,
   "metadata": {},
   "outputs": [],
   "source": [
    "sns.set_theme(style=\"darkgrid\")\n",
    "ax = sns.pointplot(x=\"store\", y=\"price\", hue=\"origin\", data=shops, join=True, capsize=.1, dodge=True)"
   ]
  },
  {
   "cell_type": "code",
   "execution_count": null,
   "metadata": {},
   "outputs": [],
   "source": [
    "model_3 = smf.ols('price ~ origin + store + origin:store', data=shops).fit() # same result: 'price ~ origin * store' \n",
    "model_3.summary() if str(input()) == \"1\" else print(model_3.summary())"
   ]
  },
  {
   "cell_type": "code",
   "execution_count": null,
   "metadata": {},
   "outputs": [],
   "source": [
    "aov_table_3 = sm.stats.anova_lm(model_3)\n",
    "aov_table_3"
   ]
  },
  {
   "cell_type": "code",
   "execution_count": null,
   "metadata": {},
   "outputs": [],
   "source": [
    "sns.set_theme(style=\"darkgrid\")\n",
    "g = sns.catplot(x=shops.index, y=\"price\", data=shops, kind=\"box\")"
   ]
  },
  {
   "cell_type": "code",
   "execution_count": null,
   "metadata": {},
   "outputs": [],
   "source": [
    "model_4 = smf.ols('price ~ shops.index', data=shops).fit() \n",
    "model_4.summary() if str(input()) == \"1\" else print(model_4.summary())"
   ]
  },
  {
   "cell_type": "code",
   "execution_count": null,
   "metadata": {},
   "outputs": [],
   "source": [
    "aov_table_4 = sm.stats.anova_lm(model_4)\n",
    "aov_table_4"
   ]
  },
  {
   "cell_type": "code",
   "execution_count": null,
   "metadata": {},
   "outputs": [],
   "source": [
    "# Не работает. По причине того, что индекс имеет текстовый формат. Пришлось перезагружать датасет с другим индексом.\n",
    "# tukey_test_result = sm.stats.multicomp.pairwise_tukeyhsd(endog=shops.index.unique(), groups=\"price\")"
   ]
  },
  {
   "cell_type": "code",
   "execution_count": null,
   "metadata": {},
   "outputs": [],
   "source": [
    "DATA = \"~/PycharmProjects/Datasets/\"\n",
    "shops_path = DATA + \"shops.csv\"\n",
    "shops_2 = pd.read_csv(shops_path)\n",
    "shops_2.head()"
   ]
  },
  {
   "cell_type": "code",
   "execution_count": null,
   "metadata": {},
   "outputs": [],
   "source": [
    "tukey_test_result_shops = sm.stats.multicomp.pairwise_tukeyhsd(endog=shops_2[\"price\"], groups=shops_2[\"food\"])\n",
    "print(tukey_test_result_shops)"
   ]
  },
  {
   "cell_type": "code",
   "execution_count": null,
   "metadata": {},
   "outputs": [],
   "source": [
    "# tukey_test_result_shops"
   ]
  },
  {
   "cell_type": "code",
   "execution_count": null,
   "metadata": {},
   "outputs": [],
   "source": []
  },
  {
   "cell_type": "code",
   "execution_count": null,
   "metadata": {},
   "outputs": [],
   "source": []
  },
  {
   "cell_type": "code",
   "execution_count": null,
   "metadata": {},
   "outputs": [],
   "source": []
  },
  {
   "cell_type": "markdown",
   "metadata": {},
   "source": [
    "### NEW DATASET"
   ]
  },
  {
   "cell_type": "code",
   "execution_count": null,
   "metadata": {},
   "outputs": [],
   "source": [
    "DATA = \"~/PycharmProjects/Datasets/\"\n",
    "npk_path = DATA + \"npk.csv\"\n",
    "npk = pd.read_csv(npk_path, index_col=0)\n",
    "npk = npk.rename(columns={\"yield\" : \"growth\"})\n",
    "npk.head()"
   ]
  },
  {
   "cell_type": "code",
   "execution_count": null,
   "metadata": {},
   "outputs": [],
   "source": [
    "model_npk = smf.ols('growth ~ N * P', data=npk).fit()\n",
    "model_npk.summary() if str(input()) == \"1\" else print(model_npk.summary())"
   ]
  },
  {
   "cell_type": "code",
   "execution_count": null,
   "metadata": {},
   "outputs": [],
   "source": [
    "aov_table_npk = sm.stats.anova_lm(model_npk)\n",
    "aov_table_npk.unstack()[\"PR(>F)\"][\"N:P\"]"
   ]
  },
  {
   "cell_type": "code",
   "execution_count": null,
   "metadata": {},
   "outputs": [],
   "source": [
    "# # Предполагается, что Вы уже скачали необходимый датасет и знаете путь до него\n",
    "# import pandas as pd\n",
    "# import statsmodels.api as sm\n",
    "# import statsmodels.formula.api as smf\n",
    "\n",
    "# DATA = \"~/PycharmProjects/Datasets/\"\n",
    "# npk_path = DATA + \"npk.csv\"\n",
    "# npk = pd.read_csv(npk_path, index_col=0)\n",
    "# npk = npk.rename(columns={\"yield\" : \"growth\"}) # Пришлось переименовать столбец, иначе функция из библиотеки statsmodels.formula.api \"спотыкается\" о формулу\n",
    "# model_npk = smf.ols('growth ~ N * P', data=npk).fit()\n",
    "# aov_table_npk = sm.stats.anova_lm(model_npk)\n",
    "# aov_table_npk.unstack()[\"PR(>F)\"][\"N:P\"]"
   ]
  },
  {
   "cell_type": "code",
   "execution_count": null,
   "metadata": {},
   "outputs": [],
   "source": [
    "model_npk_2 = smf.ols('growth ~ N + P + K', data=npk).fit()\n",
    "model_npk_2.summary() if str(input()) == \"1\" else print(model_npk_2.summary())"
   ]
  },
  {
   "cell_type": "code",
   "execution_count": null,
   "metadata": {},
   "outputs": [],
   "source": [
    "aov_table_npk_2 = sm.stats.anova_lm(model_npk_2)\n",
    "aov_table_npk_2.unstack()[\"PR(>F)\"]"
   ]
  },
  {
   "cell_type": "code",
   "execution_count": null,
   "metadata": {},
   "outputs": [],
   "source": [
    "# # Предполагается, что Вы уже скачали необходимый датасет и знаете путь до него\n",
    "# import pandas as pd\n",
    "# import statsmodels.api as sm\n",
    "# import statsmodels.formula.api as smf\n",
    "\n",
    "# DATA = \"~/PycharmProjects/Datasets/\"\n",
    "# npk_path = DATA + \"npk.csv\"\n",
    "# npk = pd.read_csv(npk_path, index_col=0)\n",
    "# npk = npk.rename(columns={\"yield\" : \"growth\"})\n",
    "# model_npk_2 = smf.ols('growth ~ N + P + K', data=npk).fit()\n",
    "# aov_table_npk_2 = sm.stats.anova_lm(model_npk_2)\n",
    "# aov_table_npk_2.unstack()[\"PR(>F)\"]"
   ]
  },
  {
   "cell_type": "markdown",
   "metadata": {},
   "source": [
    "### NEW DATASET"
   ]
  },
  {
   "cell_type": "code",
   "execution_count": null,
   "metadata": {},
   "outputs": [],
   "source": [
    "DATA = \"~/PycharmProjects/Datasets/\"\n",
    "therapy_path = DATA + \"therapy_data.csv\"\n",
    "therapy = pd.read_csv(therapy_path)\n",
    "therapy.head()"
   ]
  },
  {
   "cell_type": "code",
   "execution_count": null,
   "metadata": {},
   "outputs": [],
   "source": [
    "model_therapy = smf.ols('well_being ~ therapy', data=therapy).fit()\n",
    "model_therapy.summary() if str(input()) == \"1\" else print(model_therapy.summary())"
   ]
  },
  {
   "cell_type": "code",
   "execution_count": null,
   "metadata": {},
   "outputs": [],
   "source": [
    "aov_table_therapy = sm.stats.anova_lm(model_therapy)\n",
    "aov_table_therapy"
   ]
  },
  {
   "cell_type": "markdown",
   "metadata": {},
   "source": [
    "#### Оказывается, что на данный момент в statsmodels не реализована ANOVA с повторными наблюдениями! \n",
    "\n",
    "https://www.statsmodels.org/stable/generated/statsmodels.stats.anova.AnovaRM.html#statsmodels.stats.anova.AnovaRM\n",
    "\n",
    "Точнее класс-то есть, а реализации нет. Обидно до слёз! (нет)\n",
    "\n",
    "Придётся использовать что-то другое, либо извращаться с имеющимися формулами."
   ]
  },
  {
   "cell_type": "code",
   "execution_count": null,
   "metadata": {},
   "outputs": [],
   "source": [
    "# Не тот тип взаимодействия\n",
    "model_therapy_2 = smf.ols('well_being ~ therapy + subject:therapy', data=therapy).fit() \n",
    "model_therapy_2.summary() if str(input()) == \"1\" else print(model_therapy_2.summary())"
   ]
  },
  {
   "cell_type": "markdown",
   "metadata": {},
   "source": [
    "Вариант-затычка из statsmodels:"
   ]
  },
  {
   "cell_type": "code",
   "execution_count": null,
   "metadata": {},
   "outputs": [],
   "source": [
    "# Уже ближе к правде, но всё равно не совсем то. \n",
    "# model_therapy_2 = smf.ols('well_being ~ therapy + C(subject)*C(therapy)', data=therapy).fit() \n",
    "# aov_table_therapy_2 = sm.stats.anova_lm(model_therapy_2)\n",
    "# aov_table_therapy_2 "
   ]
  },
  {
   "cell_type": "code",
   "execution_count": null,
   "metadata": {},
   "outputs": [],
   "source": [
    "# Совсем не то!\n",
    "# model_therapy_2 = smf.ols('well_being ~ subject*therapy', data=therapy).fit() \n",
    "# aov_table_therapy_2 = sm.stats.anova_lm(model_therapy_2)\n",
    "# aov_table_therapy_2 "
   ]
  },
  {
   "cell_type": "code",
   "execution_count": null,
   "metadata": {},
   "outputs": [],
   "source": [
    "# АГА, ПОЛУЧИЛОСЬ! \n",
    "model_therapy_2 = smf.ols('well_being ~ C(subject)*C(therapy)', data=therapy).fit() \n",
    "aov_table_therapy_2 = sm.stats.anova_lm(model_therapy_2)\n",
    "aov_table_therapy_2 "
   ]
  },
  {
   "cell_type": "markdown",
   "metadata": {},
   "source": [
    "В данном случае учитывается ошибка, связанная с испытуемым, а именно то, что каждая терапия проводилась с КАЖДЫМ испытуемым (каждый испытуемый проходил все 3 вида психотерапии)."
   ]
  },
  {
   "cell_type": "markdown",
   "metadata": {},
   "source": [
    "Не стоит путать формулы! Необходимо обратить внимание, что формулы разные!"
   ]
  },
  {
   "cell_type": "markdown",
   "metadata": {},
   "source": [
    "### Методом научного тыка и с помощью игр с формулами удалось добиться нужного результата! \n",
    "Решительная победа! "
   ]
  },
  {
   "cell_type": "markdown",
   "metadata": {},
   "source": [
    "#### А почему бы не попробовать пакет, в котором реализована ANOVA с повторными измерениями? \n",
    "Беглый гуглинг помог найти вот такое вот: \n",
    "- https://stackoverflow.com/questions/56744225/which-statsmodels-anova-model-for-within-and-between-subjects-design\n",
    "-https://stackoverflow.com/questions/22534836/two-way-repeated-measures-anova-python-function\n",
    "\n",
    "Ну, раз уж рекомендуют, то почему бы не попробовать? \n",
    "- https://pypi.org/project/pingouin/\n",
    "- https://pingouin-stats.org/index.html"
   ]
  },
  {
   "cell_type": "code",
   "execution_count": null,
   "metadata": {},
   "outputs": [],
   "source": [
    "# therapy.head()"
   ]
  },
  {
   "cell_type": "code",
   "execution_count": null,
   "metadata": {},
   "outputs": [],
   "source": [
    "# import pingouin as pg\n",
    "\n",
    "# aov_1 = pg.rm_anova(dv='well_being', within=['therapy', 'price'], subject=\"subject\", data=therapy, detailed=True)\n",
    "# aov_2 = pg.rm_anova(dv='well_being', within=['therapy', 'subject'], subject=\"sex\", data=therapy, detailed=True)\n",
    "# aov_3 = pg.rm_anova(dv='well_being', within=['price', 'subject'], subject=\"sex\", data=therapy, detailed=True)\n",
    "# aov_4 = pg.rm_anova(dv='well_being', within=['price', 'sex'], subject=\"subject\", data=therapy, detailed=True)\n",
    "# Не работает с 3+ переменными. Прикольно. \n",
    "# Значит, использовать эту штуку незачем, хотя и работает неплохо с 2-мя переменными."
   ]
  },
  {
   "cell_type": "code",
   "execution_count": null,
   "metadata": {},
   "outputs": [],
   "source": [
    "# pd.concat([aov_1, aov_2, aov_3, aov_4])"
   ]
  },
  {
   "cell_type": "code",
   "execution_count": null,
   "metadata": {},
   "outputs": [],
   "source": [
    "# import statsmodels\n",
    "\n",
    "# print(statsmodels.stats.anova.AnovaRM(therapy, 'well_being', \"subject\", within=['therapy', 'price']).fit())"
   ]
  },
  {
   "cell_type": "markdown",
   "metadata": {},
   "source": [
    "Да уж, работает всё это дело непойми как. Печально, видимо всё же придётся использовать R."
   ]
  },
  {
   "cell_type": "markdown",
   "metadata": {},
   "source": [
    "### Вывод - пакет pingouin потенциально интересный, надо бы с ним поиграться и посмотреть на результаты. \n",
    "\n",
    "### Но пока что statsmodels хватает для исследований, несмотря на отсутствие некоторых фич."
   ]
  },
  {
   "cell_type": "code",
   "execution_count": null,
   "metadata": {},
   "outputs": [],
   "source": [
    "model_therapy_3 = smf.ols('well_being ~ therapy * price', data=therapy).fit() \n",
    "aov_table_therapy_3 = sm.stats.anova_lm(model_therapy_3)\n",
    "aov_table_therapy_3 "
   ]
  },
  {
   "cell_type": "code",
   "execution_count": null,
   "metadata": {},
   "outputs": [],
   "source": [
    "sns.set_theme(style=\"darkgrid\")\n",
    "g = sns.catplot(x=\"price\", y=\"well_being\", data=therapy, kind=\"box\")"
   ]
  },
  {
   "cell_type": "markdown",
   "metadata": {},
   "source": [
    "Больше платишь - лучше самочувствие, лол.\n",
    "\n",
    "А теперь учтём дисперсию, связанную с испытуемым!"
   ]
  },
  {
   "cell_type": "code",
   "execution_count": null,
   "metadata": {},
   "outputs": [],
   "source": [
    "# Отлично, работает!\n",
    "model_therapy_4 = smf.ols('well_being ~ C(subject)*C(price) + C(therapy)*C(price) + C(subject)*C(therapy)', \n",
    "                          data=therapy).fit() \n",
    "aov_table_therapy_4 = sm.stats.anova_lm(model_therapy_4)\n",
    "aov_table_therapy_4 "
   ]
  },
  {
   "cell_type": "code",
   "execution_count": null,
   "metadata": {},
   "outputs": [],
   "source": [
    "# Красиво, но неинформативно\n",
    "sns.set_theme(style=\"darkgrid\")\n",
    "g = sns.catplot(x=\"price\", y=\"well_being\", hue=\"subject\", data=therapy, kind=\"box\")"
   ]
  },
  {
   "cell_type": "code",
   "execution_count": null,
   "metadata": {},
   "outputs": [],
   "source": [
    "# А вот так намного лучше!\n",
    "sns.set_theme(style=\"darkgrid\")\n",
    "g = sns.catplot(x=\"price\", y=\"well_being\", col=\"subject\", data=therapy, kind=\"box\")"
   ]
  },
  {
   "cell_type": "code",
   "execution_count": null,
   "metadata": {},
   "outputs": [],
   "source": [
    "sns.set_theme(style=\"darkgrid\")\n",
    "g = sns.catplot(x=\"price\", y=\"well_being\", col=\"sex\", hue=\"subject\", data=therapy, kind=\"box\")"
   ]
  },
  {
   "cell_type": "code",
   "execution_count": null,
   "metadata": {},
   "outputs": [],
   "source": [
    "model_therapy_5 = smf.ols('well_being ~ therapy * price * sex', data=therapy).fit() \n",
    "aov_table_therapy_5 = sm.stats.anova_lm(model_therapy_5)\n",
    "aov_table_therapy_5 "
   ]
  },
  {
   "cell_type": "code",
   "execution_count": null,
   "metadata": {},
   "outputs": [],
   "source": [
    "# model_therapy_6 = smf.ols('well_being ~ C(sex)*C(therapy)*C(price)', \n",
    "#                           data=therapy).fit() # Почти то, что нужно!\n",
    "model_therapy_6 = smf.ols('well_being ~ (sex*price*therapy)', \n",
    "                          data=therapy).fit() \n",
    "aov_table_therapy_6 = sm.stats.anova_lm(model_therapy_6)\n",
    "aov_table_therapy_6\n",
    "# Пока всё ещё не получилось"
   ]
  },
  {
   "cell_type": "code",
   "execution_count": null,
   "metadata": {},
   "outputs": [],
   "source": [
    "therapy.head()"
   ]
  },
  {
   "cell_type": "code",
   "execution_count": null,
   "metadata": {},
   "outputs": [],
   "source": [
    "# А может вот это сработает?\n",
    "import pingouin as pg\n",
    "\n",
    "# aov = pg.rm_anova(dv='well_being', within=['therapy', 'subject'], data=therapy, detailed=True)\n",
    "# aov"
   ]
  },
  {
   "cell_type": "markdown",
   "metadata": {},
   "source": [
    "### NEW DATASET"
   ]
  },
  {
   "cell_type": "code",
   "execution_count": null,
   "metadata": {},
   "outputs": [],
   "source": [
    "DATA = \"~/PycharmProjects/Datasets/\"\n",
    "pills_path = DATA + \"Pillulkin.csv\"\n",
    "pills = pd.read_csv(pills_path)\n",
    "pills.head()"
   ]
  },
  {
   "cell_type": "code",
   "execution_count": null,
   "metadata": {},
   "outputs": [],
   "source": [
    "model_pills = smf.ols('temperature ~ C(pill)*C(patient)', data=pills).fit() \n",
    "aov_table_pills = sm.stats.anova_lm(model_pills)\n",
    "aov_table_pills"
   ]
  },
  {
   "cell_type": "code",
   "execution_count": null,
   "metadata": {},
   "outputs": [],
   "source": [
    "model_pills_2 = smf.ols('temperature ~ C(pill)*C(patient) + C(pill)*C(doctor) + C(patient)*C(doctor)', data=pills).fit() \n",
    "aov_table_pills_2 = sm.stats.anova_lm(model_pills_2)\n",
    "aov_table_pills_2.loc[[\"C(pill):C(doctor)\"], \"F\"]"
   ]
  },
  {
   "cell_type": "code",
   "execution_count": null,
   "metadata": {},
   "outputs": [],
   "source": [
    "# import pandas as pd\n",
    "# import statsmodels.api as sm\n",
    "# import statsmodels.formula.api as smf\n",
    "\n",
    "# pills = pd.read_csv(\"https://stepic.org/media/attachments/lesson/11505/Pillulkin.csv\")\n",
    "# model_pills = smf.ols('temperature ~ C(pill)*C(patient)', data=pills).fit() \n",
    "# aov_table_pills = sm.stats.anova_lm(model_pills)\n",
    "# print(aov_table_pills[\"PR(>F)\"])"
   ]
  },
  {
   "cell_type": "code",
   "execution_count": null,
   "metadata": {},
   "outputs": [],
   "source": [
    "# import pandas as pd\n",
    "# import statsmodels.api as sm\n",
    "# import statsmodels.formula.api as smf\n",
    "\n",
    "# pills = pd.read_csv(\"https://stepic.org/media/attachments/lesson/11505/Pillulkin.csv\")\n",
    "# model_pills = smf.ols('temperature ~ C(pill)*C(patient) + C(pill)*C(doctor) + C(patient)*C(doctor)', data=pills).fit() \n",
    "# aov_table_pills = sm.stats.anova_lm(model_pills)\n",
    "# aov_table_pills.loc[[\"C(pill):C(doctor)\"], \"F\"]"
   ]
  },
  {
   "cell_type": "markdown",
   "metadata": {},
   "source": []
  },
  {
   "cell_type": "code",
   "execution_count": null,
   "metadata": {},
   "outputs": [],
   "source": []
  },
  {
   "cell_type": "markdown",
   "metadata": {},
   "source": [
    "## NEW DATASET"
   ]
  },
  {
   "cell_type": "markdown",
   "metadata": {},
   "source": [
    "https://stepik.org/lesson/28807/step/2?unit=9858"
   ]
  },
  {
   "cell_type": "code",
   "execution_count": 4,
   "metadata": {},
   "outputs": [
    {
     "data": {
      "text/html": [
       "<div>\n",
       "<style scoped>\n",
       "    .dataframe tbody tr th:only-of-type {\n",
       "        vertical-align: middle;\n",
       "    }\n",
       "\n",
       "    .dataframe tbody tr th {\n",
       "        vertical-align: top;\n",
       "    }\n",
       "\n",
       "    .dataframe thead th {\n",
       "        text-align: right;\n",
       "    }\n",
       "</style>\n",
       "<table border=\"1\" class=\"dataframe\">\n",
       "  <thead>\n",
       "    <tr style=\"text-align: right;\">\n",
       "      <th></th>\n",
       "      <th>product_id</th>\n",
       "      <th>name</th>\n",
       "      <th>price</th>\n",
       "      <th>available</th>\n",
       "      <th>brand</th>\n",
       "    </tr>\n",
       "  </thead>\n",
       "  <tbody>\n",
       "    <tr>\n",
       "      <th>0</th>\n",
       "      <td>343572</td>\n",
       "      <td>iutSY lfCRF</td>\n",
       "      <td>4124</td>\n",
       "      <td>True</td>\n",
       "      <td>Lenovo</td>\n",
       "    </tr>\n",
       "    <tr>\n",
       "      <th>1</th>\n",
       "      <td>816682</td>\n",
       "      <td>vepu orLe</td>\n",
       "      <td>2998</td>\n",
       "      <td>True</td>\n",
       "      <td>Gefest</td>\n",
       "    </tr>\n",
       "    <tr>\n",
       "      <th>2</th>\n",
       "      <td>424700</td>\n",
       "      <td>Cusep TigHa</td>\n",
       "      <td>298</td>\n",
       "      <td>False</td>\n",
       "      <td>Фея</td>\n",
       "    </tr>\n",
       "    <tr>\n",
       "      <th>3</th>\n",
       "      <td>858322</td>\n",
       "      <td>BEgDn ailnSk</td>\n",
       "      <td>2574</td>\n",
       "      <td>True</td>\n",
       "      <td>IKEA</td>\n",
       "    </tr>\n",
       "    <tr>\n",
       "      <th>4</th>\n",
       "      <td>746508</td>\n",
       "      <td>crEtmiK oPsqi</td>\n",
       "      <td>3692</td>\n",
       "      <td>True</td>\n",
       "      <td>Electrolux</td>\n",
       "    </tr>\n",
       "  </tbody>\n",
       "</table>\n",
       "</div>"
      ],
      "text/plain": [
       "   product_id           name  price  available       brand\n",
       "0      343572    iutSY lfCRF   4124       True      Lenovo\n",
       "1      816682      vepu orLe   2998       True      Gefest\n",
       "2      424700    Cusep TigHa    298      False         Фея\n",
       "3      858322   BEgDn ailnSk   2574       True        IKEA\n",
       "4      746508  crEtmiK oPsqi   3692       True  Electrolux"
      ]
     },
     "execution_count": 4,
     "metadata": {},
     "output_type": "execute_result"
    }
   ],
   "source": [
    "DATA = \"~/PycharmProjects/Datasets/\"\n",
    "products_path = DATA + \"products.csv\"\n",
    "products = pd.read_csv(products_path, sep=\";\")\n",
    "products.head()"
   ]
  },
  {
   "cell_type": "code",
   "execution_count": 5,
   "metadata": {},
   "outputs": [],
   "source": [
    "products_df = products.copy()"
   ]
  },
  {
   "cell_type": "code",
   "execution_count": 11,
   "metadata": {},
   "outputs": [
    {
     "name": "stdout",
     "output_type": "stream",
     "text": [
      "(79189, 5)\n",
      "395945\n"
     ]
    }
   ],
   "source": [
    "print(products_df.shape)\n",
    "print(products_df.size)"
   ]
  },
  {
   "cell_type": "code",
   "execution_count": 8,
   "metadata": {},
   "outputs": [
    {
     "data": {
      "text/html": [
       "<div>\n",
       "<style scoped>\n",
       "    .dataframe tbody tr th:only-of-type {\n",
       "        vertical-align: middle;\n",
       "    }\n",
       "\n",
       "    .dataframe tbody tr th {\n",
       "        vertical-align: top;\n",
       "    }\n",
       "\n",
       "    .dataframe thead th {\n",
       "        text-align: right;\n",
       "    }\n",
       "</style>\n",
       "<table border=\"1\" class=\"dataframe\">\n",
       "  <thead>\n",
       "    <tr style=\"text-align: right;\">\n",
       "      <th></th>\n",
       "      <th>product_id</th>\n",
       "      <th>price</th>\n",
       "    </tr>\n",
       "  </thead>\n",
       "  <tbody>\n",
       "    <tr>\n",
       "      <th>count</th>\n",
       "      <td>79189.000000</td>\n",
       "      <td>79189.000000</td>\n",
       "    </tr>\n",
       "    <tr>\n",
       "      <th>mean</th>\n",
       "      <td>501642.242016</td>\n",
       "      <td>1064.428330</td>\n",
       "    </tr>\n",
       "    <tr>\n",
       "      <th>std</th>\n",
       "      <td>288221.232624</td>\n",
       "      <td>2414.473432</td>\n",
       "    </tr>\n",
       "    <tr>\n",
       "      <th>min</th>\n",
       "      <td>6.000000</td>\n",
       "      <td>56.000000</td>\n",
       "    </tr>\n",
       "    <tr>\n",
       "      <th>25%</th>\n",
       "      <td>252495.000000</td>\n",
       "      <td>311.000000</td>\n",
       "    </tr>\n",
       "    <tr>\n",
       "      <th>50%</th>\n",
       "      <td>502126.000000</td>\n",
       "      <td>519.000000</td>\n",
       "    </tr>\n",
       "    <tr>\n",
       "      <th>75%</th>\n",
       "      <td>749846.000000</td>\n",
       "      <td>1038.000000</td>\n",
       "    </tr>\n",
       "    <tr>\n",
       "      <th>max</th>\n",
       "      <td>999995.000000</td>\n",
       "      <td>180295.000000</td>\n",
       "    </tr>\n",
       "  </tbody>\n",
       "</table>\n",
       "</div>"
      ],
      "text/plain": [
       "          product_id          price\n",
       "count   79189.000000   79189.000000\n",
       "mean   501642.242016    1064.428330\n",
       "std    288221.232624    2414.473432\n",
       "min         6.000000      56.000000\n",
       "25%    252495.000000     311.000000\n",
       "50%    502126.000000     519.000000\n",
       "75%    749846.000000    1038.000000\n",
       "max    999995.000000  180295.000000"
      ]
     },
     "execution_count": 8,
     "metadata": {},
     "output_type": "execute_result"
    }
   ],
   "source": [
    "products_df.describe()"
   ]
  },
  {
   "cell_type": "code",
   "execution_count": 19,
   "metadata": {},
   "outputs": [
    {
     "data": {
      "text/html": [
       "<div>\n",
       "<style scoped>\n",
       "    .dataframe tbody tr th:only-of-type {\n",
       "        vertical-align: middle;\n",
       "    }\n",
       "\n",
       "    .dataframe tbody tr th {\n",
       "        vertical-align: top;\n",
       "    }\n",
       "\n",
       "    .dataframe thead th {\n",
       "        text-align: right;\n",
       "    }\n",
       "</style>\n",
       "<table border=\"1\" class=\"dataframe\">\n",
       "  <thead>\n",
       "    <tr style=\"text-align: right;\">\n",
       "      <th></th>\n",
       "      <th>product_id</th>\n",
       "      <th>name</th>\n",
       "      <th>price</th>\n",
       "      <th>available</th>\n",
       "      <th>brand</th>\n",
       "    </tr>\n",
       "  </thead>\n",
       "  <tbody>\n",
       "    <tr>\n",
       "      <th>149</th>\n",
       "      <td>23074</td>\n",
       "      <td>iifBT TBpnn</td>\n",
       "      <td>10226</td>\n",
       "      <td>True</td>\n",
       "      <td>Asus</td>\n",
       "    </tr>\n",
       "    <tr>\n",
       "      <th>205</th>\n",
       "      <td>308200</td>\n",
       "      <td>DPeww HrHto</td>\n",
       "      <td>12331</td>\n",
       "      <td>True</td>\n",
       "      <td>Smeg</td>\n",
       "    </tr>\n",
       "    <tr>\n",
       "      <th>215</th>\n",
       "      <td>966389</td>\n",
       "      <td>lmEc tWxG</td>\n",
       "      <td>10156</td>\n",
       "      <td>True</td>\n",
       "      <td>Hotpoint-ariston</td>\n",
       "    </tr>\n",
       "    <tr>\n",
       "      <th>245</th>\n",
       "      <td>378421</td>\n",
       "      <td>selM irAboa</td>\n",
       "      <td>23170</td>\n",
       "      <td>True</td>\n",
       "      <td>Дэфо</td>\n",
       "    </tr>\n",
       "    <tr>\n",
       "      <th>396</th>\n",
       "      <td>416808</td>\n",
       "      <td>cCdx</td>\n",
       "      <td>30362</td>\n",
       "      <td>True</td>\n",
       "      <td>Baxi</td>\n",
       "    </tr>\n",
       "    <tr>\n",
       "      <th>...</th>\n",
       "      <td>...</td>\n",
       "      <td>...</td>\n",
       "      <td>...</td>\n",
       "      <td>...</td>\n",
       "      <td>...</td>\n",
       "    </tr>\n",
       "    <tr>\n",
       "      <th>78740</th>\n",
       "      <td>543836</td>\n",
       "      <td>anotBpMb</td>\n",
       "      <td>11585</td>\n",
       "      <td>False</td>\n",
       "      <td>Fellowes</td>\n",
       "    </tr>\n",
       "    <tr>\n",
       "      <th>78761</th>\n",
       "      <td>105706</td>\n",
       "      <td>xBaaKeL AMdHtsc</td>\n",
       "      <td>180295</td>\n",
       "      <td>False</td>\n",
       "      <td>Asus</td>\n",
       "    </tr>\n",
       "    <tr>\n",
       "      <th>78829</th>\n",
       "      <td>491143</td>\n",
       "      <td>EnKVL oiZXDC</td>\n",
       "      <td>15181</td>\n",
       "      <td>False</td>\n",
       "      <td>Alcatel</td>\n",
       "    </tr>\n",
       "    <tr>\n",
       "      <th>78886</th>\n",
       "      <td>832541</td>\n",
       "      <td>oDeaSCD ablsAa</td>\n",
       "      <td>13682</td>\n",
       "      <td>False</td>\n",
       "      <td>Lenovo</td>\n",
       "    </tr>\n",
       "    <tr>\n",
       "      <th>78964</th>\n",
       "      <td>191815</td>\n",
       "      <td>AaGie egdTP</td>\n",
       "      <td>10297</td>\n",
       "      <td>False</td>\n",
       "      <td>Apple</td>\n",
       "    </tr>\n",
       "  </tbody>\n",
       "</table>\n",
       "<p>502 rows × 5 columns</p>\n",
       "</div>"
      ],
      "text/plain": [
       "       product_id             name   price  available             brand\n",
       "149         23074      iifBT TBpnn   10226       True              Asus\n",
       "205        308200      DPeww HrHto   12331       True              Smeg\n",
       "215        966389        lmEc tWxG   10156       True  Hotpoint-ariston\n",
       "245        378421      selM irAboa   23170       True              Дэфо\n",
       "396        416808             cCdx   30362       True              Baxi\n",
       "...           ...              ...     ...        ...               ...\n",
       "78740      543836         anotBpMb   11585      False          Fellowes\n",
       "78761      105706  xBaaKeL AMdHtsc  180295      False              Asus\n",
       "78829      491143     EnKVL oiZXDC   15181      False           Alcatel\n",
       "78886      832541   oDeaSCD ablsAa   13682      False            Lenovo\n",
       "78964      191815      AaGie egdTP   10297      False             Apple\n",
       "\n",
       "[502 rows x 5 columns]"
      ]
     },
     "execution_count": 19,
     "metadata": {},
     "output_type": "execute_result"
    }
   ],
   "source": [
    "products_df.query(\"price > 10000\")\n",
    "# or \n",
    "# products_df.loc[products_df[\"price\"] > 10000]"
   ]
  },
  {
   "cell_type": "code",
   "execution_count": 45,
   "metadata": {},
   "outputs": [
    {
     "data": {
      "text/html": [
       "<div>\n",
       "<style scoped>\n",
       "    .dataframe tbody tr th:only-of-type {\n",
       "        vertical-align: middle;\n",
       "    }\n",
       "\n",
       "    .dataframe tbody tr th {\n",
       "        vertical-align: top;\n",
       "    }\n",
       "\n",
       "    .dataframe thead th {\n",
       "        text-align: right;\n",
       "    }\n",
       "</style>\n",
       "<table border=\"1\" class=\"dataframe\">\n",
       "  <thead>\n",
       "    <tr style=\"text-align: right;\">\n",
       "      <th></th>\n",
       "      <th>product_id</th>\n",
       "      <th>name</th>\n",
       "      <th>price</th>\n",
       "      <th>available</th>\n",
       "      <th>brand</th>\n",
       "    </tr>\n",
       "  </thead>\n",
       "  <tbody>\n",
       "    <tr>\n",
       "      <th>664</th>\n",
       "      <td>333611</td>\n",
       "      <td>kWed enSWV</td>\n",
       "      <td>2288</td>\n",
       "      <td>True</td>\n",
       "      <td>Epson</td>\n",
       "    </tr>\n",
       "    <tr>\n",
       "      <th>1342</th>\n",
       "      <td>519999</td>\n",
       "      <td>uEBiS oAilel</td>\n",
       "      <td>1323</td>\n",
       "      <td>True</td>\n",
       "      <td>Epson</td>\n",
       "    </tr>\n",
       "    <tr>\n",
       "      <th>1352</th>\n",
       "      <td>812829</td>\n",
       "      <td>XsRiNns nai</td>\n",
       "      <td>22537</td>\n",
       "      <td>True</td>\n",
       "      <td>Apple</td>\n",
       "    </tr>\n",
       "    <tr>\n",
       "      <th>1363</th>\n",
       "      <td>168684</td>\n",
       "      <td>xgrnt rPleaT</td>\n",
       "      <td>4390</td>\n",
       "      <td>True</td>\n",
       "      <td>Apple</td>\n",
       "    </tr>\n",
       "    <tr>\n",
       "      <th>1435</th>\n",
       "      <td>534934</td>\n",
       "      <td>geOAyro vaIL</td>\n",
       "      <td>8192</td>\n",
       "      <td>True</td>\n",
       "      <td>Apple</td>\n",
       "    </tr>\n",
       "    <tr>\n",
       "      <th>...</th>\n",
       "      <td>...</td>\n",
       "      <td>...</td>\n",
       "      <td>...</td>\n",
       "      <td>...</td>\n",
       "      <td>...</td>\n",
       "    </tr>\n",
       "    <tr>\n",
       "      <th>77054</th>\n",
       "      <td>842367</td>\n",
       "      <td>AHMcoer HlhJ</td>\n",
       "      <td>2798</td>\n",
       "      <td>False</td>\n",
       "      <td>Apple</td>\n",
       "    </tr>\n",
       "    <tr>\n",
       "      <th>77085</th>\n",
       "      <td>721178</td>\n",
       "      <td>kTkRraex reCzV</td>\n",
       "      <td>20738</td>\n",
       "      <td>False</td>\n",
       "      <td>Apple</td>\n",
       "    </tr>\n",
       "    <tr>\n",
       "      <th>77905</th>\n",
       "      <td>748858</td>\n",
       "      <td>olCvni ECsl</td>\n",
       "      <td>3019</td>\n",
       "      <td>False</td>\n",
       "      <td>Epson</td>\n",
       "    </tr>\n",
       "    <tr>\n",
       "      <th>78116</th>\n",
       "      <td>99316</td>\n",
       "      <td>lit</td>\n",
       "      <td>2435</td>\n",
       "      <td>False</td>\n",
       "      <td>Apple</td>\n",
       "    </tr>\n",
       "    <tr>\n",
       "      <th>78964</th>\n",
       "      <td>191815</td>\n",
       "      <td>AaGie egdTP</td>\n",
       "      <td>10297</td>\n",
       "      <td>False</td>\n",
       "      <td>Apple</td>\n",
       "    </tr>\n",
       "  </tbody>\n",
       "</table>\n",
       "<p>155 rows × 5 columns</p>\n",
       "</div>"
      ],
      "text/plain": [
       "       product_id            name  price  available  brand\n",
       "664        333611      kWed enSWV   2288       True  Epson\n",
       "1342       519999    uEBiS oAilel   1323       True  Epson\n",
       "1352       812829     XsRiNns nai  22537       True  Apple\n",
       "1363       168684    xgrnt rPleaT   4390       True  Apple\n",
       "1435       534934    geOAyro vaIL   8192       True  Apple\n",
       "...           ...             ...    ...        ...    ...\n",
       "77054      842367    AHMcoer HlhJ   2798      False  Apple\n",
       "77085      721178  kTkRraex reCzV  20738      False  Apple\n",
       "77905      748858     olCvni ECsl   3019      False  Epson\n",
       "78116       99316             lit   2435      False  Apple\n",
       "78964      191815     AaGie egdTP  10297      False  Apple\n",
       "\n",
       "[155 rows x 5 columns]"
      ]
     },
     "execution_count": 45,
     "metadata": {},
     "output_type": "execute_result"
    }
   ],
   "source": [
    "products_df.query(\"(price > 1000) & (brand == ['Epson', 'Apple'])\")\n",
    "# or \n",
    "# products_df.loc[(products_df[\"price\"] > 1000) & (products_df[\"brand\"].isin(['Epson', 'Apple']))]"
   ]
  },
  {
   "cell_type": "code",
   "execution_count": 48,
   "metadata": {},
   "outputs": [
    {
     "data": {
      "text/html": [
       "<div>\n",
       "<style scoped>\n",
       "    .dataframe tbody tr th:only-of-type {\n",
       "        vertical-align: middle;\n",
       "    }\n",
       "\n",
       "    .dataframe tbody tr th {\n",
       "        vertical-align: top;\n",
       "    }\n",
       "\n",
       "    .dataframe thead th {\n",
       "        text-align: right;\n",
       "    }\n",
       "</style>\n",
       "<table border=\"1\" class=\"dataframe\">\n",
       "  <thead>\n",
       "    <tr style=\"text-align: right;\">\n",
       "      <th></th>\n",
       "      <th>product_id</th>\n",
       "      <th>name</th>\n",
       "      <th>price</th>\n",
       "      <th>available</th>\n",
       "      <th>brand</th>\n",
       "    </tr>\n",
       "  </thead>\n",
       "  <tbody>\n",
       "    <tr>\n",
       "      <th>0</th>\n",
       "      <td>343572</td>\n",
       "      <td>iutSY lfCRF</td>\n",
       "      <td>4124</td>\n",
       "      <td>True</td>\n",
       "      <td>Lenovo</td>\n",
       "    </tr>\n",
       "    <tr>\n",
       "      <th>1</th>\n",
       "      <td>816682</td>\n",
       "      <td>vepu orLe</td>\n",
       "      <td>2998</td>\n",
       "      <td>True</td>\n",
       "      <td>Gefest</td>\n",
       "    </tr>\n",
       "    <tr>\n",
       "      <th>3</th>\n",
       "      <td>858322</td>\n",
       "      <td>BEgDn ailnSk</td>\n",
       "      <td>2574</td>\n",
       "      <td>True</td>\n",
       "      <td>IKEA</td>\n",
       "    </tr>\n",
       "    <tr>\n",
       "      <th>4</th>\n",
       "      <td>746508</td>\n",
       "      <td>crEtmiK oPsqi</td>\n",
       "      <td>3692</td>\n",
       "      <td>True</td>\n",
       "      <td>Electrolux</td>\n",
       "    </tr>\n",
       "    <tr>\n",
       "      <th>5</th>\n",
       "      <td>713231</td>\n",
       "      <td>eepnGe GLraD</td>\n",
       "      <td>639</td>\n",
       "      <td>True</td>\n",
       "      <td>Philips</td>\n",
       "    </tr>\n",
       "    <tr>\n",
       "      <th>...</th>\n",
       "      <td>...</td>\n",
       "      <td>...</td>\n",
       "      <td>...</td>\n",
       "      <td>...</td>\n",
       "      <td>...</td>\n",
       "    </tr>\n",
       "    <tr>\n",
       "      <th>73312</th>\n",
       "      <td>987493</td>\n",
       "      <td>MrxG SaiSl</td>\n",
       "      <td>143</td>\n",
       "      <td>True</td>\n",
       "      <td>Matrix</td>\n",
       "    </tr>\n",
       "    <tr>\n",
       "      <th>73313</th>\n",
       "      <td>356978</td>\n",
       "      <td>EGLDPri</td>\n",
       "      <td>1209</td>\n",
       "      <td>True</td>\n",
       "      <td>Focal</td>\n",
       "    </tr>\n",
       "    <tr>\n",
       "      <th>73314</th>\n",
       "      <td>608152</td>\n",
       "      <td>BPdey Dive</td>\n",
       "      <td>572</td>\n",
       "      <td>True</td>\n",
       "      <td>NZ Wheels</td>\n",
       "    </tr>\n",
       "    <tr>\n",
       "      <th>73315</th>\n",
       "      <td>742384</td>\n",
       "      <td>ehpFu eBrA</td>\n",
       "      <td>1038</td>\n",
       "      <td>True</td>\n",
       "      <td>Replica</td>\n",
       "    </tr>\n",
       "    <tr>\n",
       "      <th>73316</th>\n",
       "      <td>187937</td>\n",
       "      <td>Joi eecolI</td>\n",
       "      <td>923</td>\n",
       "      <td>True</td>\n",
       "      <td>Grohe</td>\n",
       "    </tr>\n",
       "  </tbody>\n",
       "</table>\n",
       "<p>50651 rows × 5 columns</p>\n",
       "</div>"
      ],
      "text/plain": [
       "       product_id           name  price  available       brand\n",
       "0          343572    iutSY lfCRF   4124       True      Lenovo\n",
       "1          816682      vepu orLe   2998       True      Gefest\n",
       "3          858322   BEgDn ailnSk   2574       True        IKEA\n",
       "4          746508  crEtmiK oPsqi   3692       True  Electrolux\n",
       "5          713231   eepnGe GLraD    639       True     Philips\n",
       "...           ...            ...    ...        ...         ...\n",
       "73312      987493     MrxG SaiSl    143       True      Matrix\n",
       "73313      356978        EGLDPri   1209       True       Focal\n",
       "73314      608152     BPdey Dive    572       True   NZ Wheels\n",
       "73315      742384     ehpFu eBrA   1038       True     Replica\n",
       "73316      187937     Joi eecolI    923       True       Grohe\n",
       "\n",
       "[50651 rows x 5 columns]"
      ]
     },
     "execution_count": 48,
     "metadata": {},
     "output_type": "execute_result"
    }
   ],
   "source": [
    "products_df.query(\"available == True\")\n",
    "# or\n",
    "# products_df.query(\"available != False\")"
   ]
  },
  {
   "cell_type": "code",
   "execution_count": 50,
   "metadata": {},
   "outputs": [
    {
     "data": {
      "text/html": [
       "<div>\n",
       "<style scoped>\n",
       "    .dataframe tbody tr th:only-of-type {\n",
       "        vertical-align: middle;\n",
       "    }\n",
       "\n",
       "    .dataframe tbody tr th {\n",
       "        vertical-align: top;\n",
       "    }\n",
       "\n",
       "    .dataframe thead th {\n",
       "        text-align: right;\n",
       "    }\n",
       "</style>\n",
       "<table border=\"1\" class=\"dataframe\">\n",
       "  <thead>\n",
       "    <tr style=\"text-align: right;\">\n",
       "      <th></th>\n",
       "      <th>product_id</th>\n",
       "      <th>name</th>\n",
       "      <th>price</th>\n",
       "      <th>available</th>\n",
       "      <th>brand</th>\n",
       "    </tr>\n",
       "  </thead>\n",
       "  <tbody>\n",
       "    <tr>\n",
       "      <th>0</th>\n",
       "      <td>343572</td>\n",
       "      <td>iutSY lfCRF</td>\n",
       "      <td>4124</td>\n",
       "      <td>True</td>\n",
       "      <td>Lenovo</td>\n",
       "    </tr>\n",
       "    <tr>\n",
       "      <th>1</th>\n",
       "      <td>816682</td>\n",
       "      <td>vepu orLe</td>\n",
       "      <td>2998</td>\n",
       "      <td>True</td>\n",
       "      <td>Gefest</td>\n",
       "    </tr>\n",
       "    <tr>\n",
       "      <th>2</th>\n",
       "      <td>424700</td>\n",
       "      <td>Cusep TigHa</td>\n",
       "      <td>298</td>\n",
       "      <td>False</td>\n",
       "      <td>Фея</td>\n",
       "    </tr>\n",
       "    <tr>\n",
       "      <th>3</th>\n",
       "      <td>858322</td>\n",
       "      <td>BEgDn ailnSk</td>\n",
       "      <td>2574</td>\n",
       "      <td>True</td>\n",
       "      <td>IKEA</td>\n",
       "    </tr>\n",
       "    <tr>\n",
       "      <th>4</th>\n",
       "      <td>746508</td>\n",
       "      <td>crEtmiK oPsqi</td>\n",
       "      <td>3692</td>\n",
       "      <td>True</td>\n",
       "      <td>Electrolux</td>\n",
       "    </tr>\n",
       "    <tr>\n",
       "      <th>...</th>\n",
       "      <td>...</td>\n",
       "      <td>...</td>\n",
       "      <td>...</td>\n",
       "      <td>...</td>\n",
       "      <td>...</td>\n",
       "    </tr>\n",
       "    <tr>\n",
       "      <th>79184</th>\n",
       "      <td>16857</td>\n",
       "      <td>PhhGl dtEnO</td>\n",
       "      <td>478</td>\n",
       "      <td>False</td>\n",
       "      <td>Logan</td>\n",
       "    </tr>\n",
       "    <tr>\n",
       "      <th>79185</th>\n",
       "      <td>524169</td>\n",
       "      <td>risPBee QtPHxo</td>\n",
       "      <td>162</td>\n",
       "      <td>False</td>\n",
       "      <td>Park</td>\n",
       "    </tr>\n",
       "    <tr>\n",
       "      <th>79186</th>\n",
       "      <td>392463</td>\n",
       "      <td>pthBP HtoPr</td>\n",
       "      <td>396</td>\n",
       "      <td>False</td>\n",
       "      <td>Mystery</td>\n",
       "    </tr>\n",
       "    <tr>\n",
       "      <th>79187</th>\n",
       "      <td>337496</td>\n",
       "      <td>DSisei Piak</td>\n",
       "      <td>322</td>\n",
       "      <td>False</td>\n",
       "      <td>Весна</td>\n",
       "    </tr>\n",
       "    <tr>\n",
       "      <th>79188</th>\n",
       "      <td>632218</td>\n",
       "      <td>DxeWer</td>\n",
       "      <td>329</td>\n",
       "      <td>False</td>\n",
       "      <td>Greys</td>\n",
       "    </tr>\n",
       "  </tbody>\n",
       "</table>\n",
       "<p>78934 rows × 5 columns</p>\n",
       "</div>"
      ],
      "text/plain": [
       "       product_id            name  price  available       brand\n",
       "0          343572     iutSY lfCRF   4124       True      Lenovo\n",
       "1          816682       vepu orLe   2998       True      Gefest\n",
       "2          424700     Cusep TigHa    298      False         Фея\n",
       "3          858322    BEgDn ailnSk   2574       True        IKEA\n",
       "4          746508   crEtmiK oPsqi   3692       True  Electrolux\n",
       "...           ...             ...    ...        ...         ...\n",
       "79184       16857     PhhGl dtEnO    478      False       Logan\n",
       "79185      524169  risPBee QtPHxo    162      False        Park\n",
       "79186      392463     pthBP HtoPr    396      False     Mystery\n",
       "79187      337496     DSisei Piak    322      False       Весна\n",
       "79188      632218          DxeWer    329      False       Greys\n",
       "\n",
       "[78934 rows x 5 columns]"
      ]
     },
     "execution_count": 50,
     "metadata": {},
     "output_type": "execute_result"
    }
   ],
   "source": [
    "products_df.query(\"brand != ['Epson', 'Apple']\")"
   ]
  },
  {
   "cell_type": "code",
   "execution_count": 59,
   "metadata": {},
   "outputs": [
    {
     "data": {
      "text/html": [
       "<div>\n",
       "<style scoped>\n",
       "    .dataframe tbody tr th:only-of-type {\n",
       "        vertical-align: middle;\n",
       "    }\n",
       "\n",
       "    .dataframe tbody tr th {\n",
       "        vertical-align: top;\n",
       "    }\n",
       "\n",
       "    .dataframe thead th {\n",
       "        text-align: right;\n",
       "    }\n",
       "</style>\n",
       "<table border=\"1\" class=\"dataframe\">\n",
       "  <thead>\n",
       "    <tr style=\"text-align: right;\">\n",
       "      <th></th>\n",
       "      <th>product_id</th>\n",
       "      <th>name</th>\n",
       "      <th>price</th>\n",
       "      <th>available</th>\n",
       "      <th>brand</th>\n",
       "      <th>price_1k</th>\n",
       "    </tr>\n",
       "  </thead>\n",
       "  <tbody>\n",
       "    <tr>\n",
       "      <th>78761</th>\n",
       "      <td>105706</td>\n",
       "      <td>xBaaKeL AMdHtsc</td>\n",
       "      <td>180295</td>\n",
       "      <td>False</td>\n",
       "      <td>Asus</td>\n",
       "      <td>180.295</td>\n",
       "    </tr>\n",
       "    <tr>\n",
       "      <th>21573</th>\n",
       "      <td>520368</td>\n",
       "      <td>IASyea sxPCs</td>\n",
       "      <td>169391</td>\n",
       "      <td>True</td>\n",
       "      <td>Hiltt</td>\n",
       "      <td>169.391</td>\n",
       "    </tr>\n",
       "    <tr>\n",
       "      <th>28599</th>\n",
       "      <td>581891</td>\n",
       "      <td>oGCleUsb tenaPa</td>\n",
       "      <td>110218</td>\n",
       "      <td>True</td>\n",
       "      <td>Kipor</td>\n",
       "      <td>110.218</td>\n",
       "    </tr>\n",
       "    <tr>\n",
       "      <th>76208</th>\n",
       "      <td>86558</td>\n",
       "      <td>LehB risush</td>\n",
       "      <td>104273</td>\n",
       "      <td>False</td>\n",
       "      <td>APC by Schneider Electric</td>\n",
       "      <td>104.273</td>\n",
       "    </tr>\n",
       "    <tr>\n",
       "      <th>18319</th>\n",
       "      <td>33447</td>\n",
       "      <td>nkrMl FeSbl</td>\n",
       "      <td>104273</td>\n",
       "      <td>True</td>\n",
       "      <td>Smeg</td>\n",
       "      <td>104.273</td>\n",
       "    </tr>\n",
       "    <tr>\n",
       "      <th>...</th>\n",
       "      <td>...</td>\n",
       "      <td>...</td>\n",
       "      <td>...</td>\n",
       "      <td>...</td>\n",
       "      <td>...</td>\n",
       "      <td>...</td>\n",
       "    </tr>\n",
       "    <tr>\n",
       "      <th>32165</th>\n",
       "      <td>633703</td>\n",
       "      <td>ksEna eCBaM</td>\n",
       "      <td>56</td>\n",
       "      <td>False</td>\n",
       "      <td>Bosch</td>\n",
       "      <td>0.056</td>\n",
       "    </tr>\n",
       "    <tr>\n",
       "      <th>63829</th>\n",
       "      <td>919010</td>\n",
       "      <td>naKWeTn</td>\n",
       "      <td>56</td>\n",
       "      <td>False</td>\n",
       "      <td>Добрыня</td>\n",
       "      <td>0.056</td>\n",
       "    </tr>\n",
       "    <tr>\n",
       "      <th>10747</th>\n",
       "      <td>920546</td>\n",
       "      <td>ecTTHuio oirREE</td>\n",
       "      <td>56</td>\n",
       "      <td>False</td>\n",
       "      <td>Casio</td>\n",
       "      <td>0.056</td>\n",
       "    </tr>\n",
       "    <tr>\n",
       "      <th>25192</th>\n",
       "      <td>919154</td>\n",
       "      <td>iyoMg PkMlEe</td>\n",
       "      <td>56</td>\n",
       "      <td>False</td>\n",
       "      <td>Redmond</td>\n",
       "      <td>0.056</td>\n",
       "    </tr>\n",
       "    <tr>\n",
       "      <th>3027</th>\n",
       "      <td>655888</td>\n",
       "      <td>irNNfPH oOd</td>\n",
       "      <td>56</td>\n",
       "      <td>False</td>\n",
       "      <td>Lenovo</td>\n",
       "      <td>0.056</td>\n",
       "    </tr>\n",
       "  </tbody>\n",
       "</table>\n",
       "<p>79189 rows × 6 columns</p>\n",
       "</div>"
      ],
      "text/plain": [
       "       product_id             name   price  available  \\\n",
       "78761      105706  xBaaKeL AMdHtsc  180295      False   \n",
       "21573      520368     IASyea sxPCs  169391       True   \n",
       "28599      581891  oGCleUsb tenaPa  110218       True   \n",
       "76208       86558      LehB risush  104273      False   \n",
       "18319       33447      nkrMl FeSbl  104273       True   \n",
       "...           ...              ...     ...        ...   \n",
       "32165      633703      ksEna eCBaM      56      False   \n",
       "63829      919010          naKWeTn      56      False   \n",
       "10747      920546  ecTTHuio oirREE      56      False   \n",
       "25192      919154     iyoMg PkMlEe      56      False   \n",
       "3027       655888      irNNfPH oOd      56      False   \n",
       "\n",
       "                           brand  price_1k  \n",
       "78761                       Asus   180.295  \n",
       "21573                      Hiltt   169.391  \n",
       "28599                      Kipor   110.218  \n",
       "76208  APC by Schneider Electric   104.273  \n",
       "18319                       Smeg   104.273  \n",
       "...                          ...       ...  \n",
       "32165                      Bosch     0.056  \n",
       "63829                    Добрыня     0.056  \n",
       "10747                      Casio     0.056  \n",
       "25192                    Redmond     0.056  \n",
       "3027                      Lenovo     0.056  \n",
       "\n",
       "[79189 rows x 6 columns]"
      ]
     },
     "execution_count": 59,
     "metadata": {},
     "output_type": "execute_result"
    }
   ],
   "source": [
    "products_df[\"price_1k\"] = products_df[\"price\"] / 1000\n",
    "# products_df.head()\n",
    "products_df.sort_values(by=['price_1k'], ascending=False)"
   ]
  },
  {
   "cell_type": "code",
   "execution_count": null,
   "metadata": {},
   "outputs": [],
   "source": []
  },
  {
   "cell_type": "code",
   "execution_count": null,
   "metadata": {},
   "outputs": [],
   "source": []
  },
  {
   "cell_type": "code",
   "execution_count": null,
   "metadata": {},
   "outputs": [],
   "source": []
  },
  {
   "cell_type": "code",
   "execution_count": null,
   "metadata": {},
   "outputs": [],
   "source": []
  },
  {
   "cell_type": "code",
   "execution_count": null,
   "metadata": {},
   "outputs": [],
   "source": []
  },
  {
   "cell_type": "code",
   "execution_count": null,
   "metadata": {},
   "outputs": [],
   "source": []
  },
  {
   "cell_type": "code",
   "execution_count": null,
   "metadata": {},
   "outputs": [],
   "source": []
  },
  {
   "cell_type": "code",
   "execution_count": null,
   "metadata": {},
   "outputs": [],
   "source": []
  },
  {
   "cell_type": "code",
   "execution_count": null,
   "metadata": {},
   "outputs": [],
   "source": []
  },
  {
   "cell_type": "code",
   "execution_count": null,
   "metadata": {},
   "outputs": [],
   "source": []
  },
  {
   "cell_type": "code",
   "execution_count": null,
   "metadata": {},
   "outputs": [],
   "source": []
  }
 ],
 "metadata": {
  "kernelspec": {
   "display_name": "Python 3",
   "language": "python",
   "name": "python3"
  },
  "language_info": {
   "codemirror_mode": {
    "name": "ipython",
    "version": 3
   },
   "file_extension": ".py",
   "mimetype": "text/x-python",
   "name": "python",
   "nbconvert_exporter": "python",
   "pygments_lexer": "ipython3",
   "version": "3.8.5"
  }
 },
 "nbformat": 4,
 "nbformat_minor": 4
}
